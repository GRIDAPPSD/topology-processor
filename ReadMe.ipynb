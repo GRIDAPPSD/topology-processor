{
 "cells": [
  {
   "cell_type": "markdown",
   "id": "4dc06322",
   "metadata": {},
   "source": [
    "# GridAPPS-D Toolbox Topology Processor"
   ]
  },
  {
   "cell_type": "markdown",
   "id": "20a3a28d",
   "metadata": {},
   "source": [
    "The Topology Processor is a lightweight service based on the LinkNet data structure for mapping CIM ConnectivityNodes and Terminals.\n",
    "\n",
    "The Topology Processor generates a series of linked lists that are used to create a spanning tree of nodes. The spanning tree is used to identify islands and substation connectivity.\n",
    "\n"
   ]
  },
  {
   "cell_type": "markdown",
   "id": "03d084fb",
   "metadata": {},
   "source": [
    "## Calling through GridAPPS-D API\n",
    "\n"
   ]
  },
  {
   "cell_type": "markdown",
   "id": "d4e1bfea",
   "metadata": {},
   "source": [
    "### Requesting Distributed API Switch Areas\n",
    "\n",
    "The GridAPPS-D Topology Processor is used to generate the dictionary of switch-delimited areas used by the Distributed API"
   ]
  },
  {
   "cell_type": "code",
   "execution_count": null,
   "id": "51583247",
   "metadata": {},
   "outputs": [],
   "source": [
    "topic = \"goss.gridappsd.request.data.topology\"\n",
    "\n",
    "message = {\n",
    "   \"requestType\": \"GET_SWITCH_AREAS\",\n",
    "   \"model_id\":  '_C1C3E687-6FFD-C753-582B-632A27E28507',\n",
    "   \"resultFormat\": \"JSON\"\n",
    "}\n",
    "\n",
    "dist_api_message = gapps.get_response(topic, message, timeout=30)"
   ]
  },
  {
   "cell_type": "markdown",
   "id": "2898e5aa",
   "metadata": {},
   "source": [
    "### Requesting Base Topology Dictionary\n",
    "\n",
    "This call returns the base topology of the model using the pre-defined normally-open and normally-closed switches in the CIM XML models loaded into the Blazegraph database."
   ]
  },
  {
   "cell_type": "code",
   "execution_count": null,
   "id": "9e019e74",
   "metadata": {},
   "outputs": [],
   "source": [
    "topic = \"goss.gridappsd.request.data.topology\"\n",
    "\n",
    "message = {\n",
    "   \"requestType\": \"GET_BASE_TOPOLOGY\",\n",
    "   \"model_id\": \"_EE71F6C9-56F0-4167-A14E-7F4C71F10EAA\",\n",
    "   \"resultFormat\": \"JSON\"\n",
    "}\n",
    "\n",
    "base_topo = gapps.get_response(topic, message, timeout=30)"
   ]
  },
  {
   "cell_type": "markdown",
   "id": "c1416a0d",
   "metadata": {},
   "source": [
    "### Requesting Snapshot Topology Message"
   ]
  },
  {
   "cell_type": "code",
   "execution_count": null,
   "id": "5d79b404",
   "metadata": {},
   "outputs": [],
   "source": [
    "topic = \"goss.gridappsd.request.data.topology\"\n",
    "\n",
    "message = {\n",
    "   \"requestType\": \"GET_SNAPSHOT_TOPOLOGY\",\n",
    "   \"model_id\": \"_EE71F6C9-56F0-4167-A14E-7F4C71F10EAA\",\n",
    "   \"simulation_id\": \"670574834\",\n",
    "   \"timestamp\": \"1644002615\",\n",
    "   \"resultFormat\": \"JSON\"\n",
    "}\n",
    "\n",
    "service_message = gapps.get_response(topic, message, timeout=90)"
   ]
  },
  {
   "cell_type": "markdown",
   "id": "a6c7487f",
   "metadata": {},
   "source": [
    "## Invoking Python Library Methods\n",
    "\n",
    "The "
   ]
  },
  {
   "cell_type": "markdown",
   "id": "3ae6ea52",
   "metadata": {},
   "source": [
    "### Installation\n",
    "\n"
   ]
  },
  {
   "cell_type": "code",
   "execution_count": null,
   "id": "c74a6601",
   "metadata": {},
   "outputs": [],
   "source": []
  },
  {
   "cell_type": "markdown",
   "id": "6a8607cd",
   "metadata": {},
   "source": [
    "## "
   ]
  }
 ],
 "metadata": {
  "kernelspec": {
   "display_name": "Python 3 (ipykernel)",
   "language": "python",
   "name": "python3"
  },
  "language_info": {
   "codemirror_mode": {
    "name": "ipython",
    "version": 3
   },
   "file_extension": ".py",
   "mimetype": "text/x-python",
   "name": "python",
   "nbconvert_exporter": "python",
   "pygments_lexer": "ipython3",
   "version": "3.8.5"
  }
 },
 "nbformat": 4,
 "nbformat_minor": 5
}
