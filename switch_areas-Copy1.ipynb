{
 "cells": [
  {
   "cell_type": "code",
   "execution_count": null,
   "id": "3532feaa",
   "metadata": {},
   "outputs": [],
   "source": []
  },
  {
   "cell_type": "code",
   "execution_count": 1,
   "id": "cb2ce27a",
   "metadata": {},
   "outputs": [],
   "source": [
    "import argparse\n",
    "from datetime import datetime\n",
    "import json\n",
    "import logging\n",
    "import os\n",
    "import math\n",
    "import sys\n",
    "import time\n",
    "import topologyqueries,linkedlist,update_topology,spanning_tree\n",
    "\n",
    "from gridappsd import GridAPPSD, DifferenceBuilder, utils, topics as t\n",
    "from gridappsd.topics import simulation_input_topic, simulation_log_topic, simulation_output_topic\n",
    "\n",
    "\n",
    "#model_mrid = sim_request[\"power_system_config\"][\"Line_name\"]\n",
    "#model_mrid = \"_C125761E-9C21-4CA9-9271-B168150DE276\" #ieee13training\n",
    "model_mrid = \"_EE71F6C9-56F0-4167-A14E-7F4C71F10EAA\" #final9500node\n",
    "#model_mrid = \"_AAE94E4A-2465-6F5E-37B1-3E72183A4E44\" #test9500\n",
    "#model_mrid = \"_5B816B93-7A5F-B64C-8460-47C17D6E4B0F\" #ieee13assets\n",
    "#model_mrid=\"_C1C3E687-6FFD-C753-582B-632A27E28507\" # IEEE 123\n",
    "\n",
    "requestedTime=1570041125\n",
    "\n",
    "\n",
    "\n",
    "global BaseConnDict,BaseTermDict,TermList, NodeList\n",
    "global XfmrKeys,XfmrDict,SwitchKeys,SwitchDict,DG_query\n",
    "\n",
    "os.environ['GRIDAPPSD_USER'] = 'app_user'\n",
    "os.environ['GRIDAPPSD_PASSWORD'] = '1234App'\n",
    "\n",
    "gapps = GridAPPSD()\n",
    "assert gapps.connected"
   ]
  },
  {
   "cell_type": "code",
   "execution_count": 2,
   "id": "52ed00fb",
   "metadata": {},
   "outputs": [],
   "source": [
    "# Query for ACLineSegment, Transformerend, Switches, Breakers, Reclosers, Fuses, Sectionalisers,SynchronousMachine,TopologicalNode\n",
    "topologyqueries.getallqueries(gapps,model_mrid)\n",
    "Line_query=topologyqueries.Line_query\n",
    "XfmrDict=topologyqueries.XfmrDict\n",
    "XfmrKeys=topologyqueries.XfmrKeys\n",
    "SwitchDict=topologyqueries.SwitchDict\n",
    "SwitchKeys=topologyqueries.SwitchKeys\n",
    "DG_query=topologyqueries.DG_query\n",
    "Cap_query=topologyqueries.Cap_query\n",
    "Node_query=topologyqueries.Node_query"
   ]
  },
  {
   "cell_type": "code",
   "execution_count": 3,
   "id": "d0896070",
   "metadata": {},
   "outputs": [
    {
     "name": "stdout",
     "output_type": "stream",
     "text": [
      "Processed  5294 buses in  0.04273080600000001 seconds\n",
      "Processed  3909 line objects in  0.02323686800000002 seconds\n",
      "Processed  0 transformer objects in  2.924999999986966e-06 seconds\n",
      "Processed  9 generator objects in  2.9913999999964247e-05 seconds\n",
      "Processed  27 missing nodes in  0.0020346910000000884 seconds\n",
      "Processed  5294 buses in  0.01273563099999997 seconds\n",
      "Processed  0 line objects in  3.3629999999229554e-06 seconds\n",
      "Processed  1304 transformer objects in  0.0074680710000000206 seconds\n",
      "Processed  9 generator objects in  2.9222999999967136e-05 seconds\n",
      "Processed  2760 missing nodes in  0.002548097000000027 seconds\n"
     ]
    }
   ],
   "source": [
    "# Build Linknet Lists from ACLineSegment,Transformers,DGs and Nodes\n",
    "[ConnNodeDict,TerminalsDict,TermList,NodeList]=linkedlist.build_linked_list(Line_query,{}, [],DG_query,Node_query)\n",
    "[LVConnNodeDict,LVTerminalsDict,LVTermList,LVNodeList]=linkedlist.build_linked_list({},XfmrDict, XfmrKeys, DG_query,Node_query)\n",
    "\n",
    "# Stash a copy of base dictionary\n",
    "BaseConnDict = json.dumps(ConnNodeDict)\n",
    "BaseTermDict = json.dumps(TerminalsDict)"
   ]
  },
  {
   "cell_type": "code",
   "execution_count": 4,
   "id": "679ebc76",
   "metadata": {},
   "outputs": [],
   "source": [
    "DistAppStruct = {}\n",
    "DistAppStruct['feeders'] = {}\n",
    "DistAppStruct['feeders'][model_mrid] = {}\n",
    "DistAppStruct['feeders'][model_mrid]['addressabe_equipment'] = []\n",
    "DistAppStruct['feeders'][model_mrid]['unaddressabe_equipment'] = []\n",
    "DistAppStruct['feeders'][model_mrid]['switch_areas'] = []\n"
   ]
  },
  {
   "cell_type": "code",
   "execution_count": 11,
   "id": "c1d350ca",
   "metadata": {},
   "outputs": [],
   "source": [
    "def SwitchTree(ConnNodeDict, TerminalsDict, SwitchDict, SwitchKeys):\n",
    "    Tree={}\n",
    "    #ProcessedNodes=[]\n",
    "    TotalNodes=0\n",
    "    StartTime = time.process_time()\n",
    "\n",
    "    # Iterate through all substation transformers\n",
    "    for i6 in range(len(SwitchKeys)):\n",
    "\n",
    "\n",
    "\n",
    "        ConnNodeDict[SwitchDict[SwitchKeys[i6]]['node1']]['switch_id'] = SwitchKeys[i6]\n",
    "        ConnNodeDict[SwitchDict[SwitchKeys[i6]]['node2']]['switch_id'] = SwitchKeys[i6]\n",
    "\n",
    "        FirstNode = 1 \n",
    "        LastNode = 2\n",
    "        # Set switch as rootnode \n",
    "        Tree[SwitchKeys[i6]]=[SwitchDict[SwitchKeys[i6]]['node1'], SwitchDict[SwitchKeys[i6]]['node2']]\n",
    "\n",
    "        while LastNode != FirstNode:\n",
    "            NextTerm = ConnNodeDict[Tree[SwitchKeys[i6]][FirstNode]]['list']\n",
    "            FirstNode = FirstNode + 1\n",
    "            while NextTerm != 0:\n",
    "                # Get next node and terminal for current node\n",
    "                NextNode = TerminalsDict[TermList[NextTerm-1]]['far']\n",
    "                NextTerm = TerminalsDict[TermList[NextTerm-1]]['next']\n",
    "                node = NodeList[NextNode-1]\n",
    "                not_in_tree = True\n",
    "\n",
    "                # Check if node already in another tree\n",
    "                for i7 in range(len(Tree.keys())):\n",
    "                    if node in Tree[SwitchKeys[i7]]:\n",
    "                        not_in_tree = False\n",
    "                        break\n",
    "\n",
    "                # Add node if not in another tree        \n",
    "                if not_in_tree:       \n",
    "                    if ConnNodeDict[node]['nomv']:\n",
    "                        if int(ConnNodeDict[node]['nomv']) < 34000 and int(ConnNodeDict[node]['nomv']) > 1000:\n",
    "                            Tree[SwitchKeys[i6]].append(NodeList[NextNode-1])\n",
    "                            LastNode = LastNode + 1                       \n",
    "                    else:\n",
    "                        Tree[SwitchKeys[i6]].append(NodeList[NextNode-1])\n",
    "                        LastNode = LastNode + 1\n",
    "\n",
    "        NodesInTree=len(Tree[SwitchKeys[i6]])\n",
    "        print(\"Processed topology from  \", SwitchDict[SwitchKeys[i6]]['name'], \" with id \", SwitchKeys[i6], ' with ', NodesInTree, \" buses\")\n",
    "        TotalNodes=TotalNodes+NodesInTree\n",
    "\n",
    "    print(\"Processed \", len(Tree.keys()), \"topology trees containing \", TotalNodes, \" buses in \", time.process_time() - StartTime, \"seconds\")\n",
    "\n",
    "    return Tree, ConnNodeDict\n"
   ]
  },
  {
   "cell_type": "code",
   "execution_count": 13,
   "id": "56d042d0",
   "metadata": {},
   "outputs": [
    {
     "name": "stdout",
     "output_type": "stream",
     "text": [
      "Processed topology from   2002200004641085_sw  with id  _2988C4A4-4F1A-4E2F-8947-E79A582DE021  with  78  buses\n",
      "Processed topology from   2002200004868472_sw  with id  _1CB6F0F5-08B3-456C-9D7D-9BCC866A2FB4  with  17  buses\n",
      "Processed topology from   2002200004991174_sw  with id  _674624BB-C2D9-4402-9A0B-A491066F4CDF  with  18  buses\n",
      "Processed topology from   a333_48332_sw  with id  _E56BC77B-6895-4243-ABFC-EA44A3E8AAE2  with  14  buses\n",
      "Processed topology from   a8611_48332_sw  with id  _AAF94161-A827-463F-B9B6-7E8CCCFC969F  with  64  buses\n",
      "Processed topology from   a8645_48332_sw  with id  _EE49C3F2-1112-4C9C-B7FA-9BFFD48012FC  with  22  buses\n",
      "Processed topology from   a8869_48332_sw  with id  _C2D45253-1D4D-4EEC-90D9-494DB20F3A12  with  41  buses\n",
      "Processed topology from   dg1069mt1_sw  with id  _035FD479-EF61-4311-9658-7EA265034AD2  with  2  buses\n",
      "Processed topology from   dg1089dies_sw  with id  _A50CDB24-727C-48A4-B658-E7C433F371F4  with  2  buses\n",
      "Processed topology from   dg1089lng_sw  with id  _199262EA-6CD4-49B1-AC4C-FC20BA5850B6  with  2  buses\n",
      "Processed topology from   dg1142lng_sw  with id  _2B9AC2D5-43E9-4D76-A130-AA4E655A219A  with  2  buses\n",
      "Processed topology from   dg1209dies_sw  with id  _AEFE76EA-0C3A-4AAD-B7A5-D555E20E5DFC  with  2  buses\n",
      "Processed topology from   g9343_48332_sw  with id  _0405FAAB-007B-4D83-AAD5-F455F52B6E58  with  84  buses\n",
      "Processed topology from   hvmv115b1_sw  with id  _317761D6-BED7-4FD9-957F-30DD36BF0195  with  2  buses\n",
      "Processed topology from   hvmv69s1b1_sw  with id  _E98DA34C-B486-41FD-A16E-E5425F04B131  with  2  buses\n",
      "Processed topology from   hvmv69s1b2_sw  with id  _78F06431-CF1E-4B68-A697-286110E282FD  with  12  buses\n",
      "Processed topology from   hvmv69s1b3_sw  with id  _8BFE26A0-1066-4005-89CD-FE86EBFFDC99  with  11  buses\n",
      "Processed topology from   hvmv69s1b4_sw  with id  _45C4F27C-9A84-40E2-821E-4A8370FC5509  with  2  buses\n",
      "Processed topology from   hvmv69s2b1_sw  with id  _B93039C0-32B5-411D-A0B3-DEB234C43E15  with  2  buses\n",
      "Processed topology from   hvmv69s2b2_sw  with id  _2C4B11E4-0EF3-4ED4-9ECF-66F535AED88B  with  83  buses\n",
      "Processed topology from   hvmv69s2b3_sw  with id  _BFC4DD15-3578-4A42-A1C9-7C4031E88CEF  with  2  buses\n",
      "Processed topology from   hvmv69s2b4_sw  with id  _B94F562E-3942-41FB-B76F-A482D39735AF  with  3  buses\n",
      "Processed topology from   hvmv69s3b1_sw  with id  _AD4EAB63-CFD0-4D08-92DF-B69C4CC7346E  with  2  buses\n",
      "Processed topology from   hvmv69s3b2_sw  with id  _5C22BA00-F37B-4064-BF5E-4609E1F5236A  with  28  buses\n",
      "Processed topology from   l5397_48332_sw  with id  _BCF9AE36-E08D-42A4-B503-4E1912B4B7BA  with  15  buses\n",
      "Processed topology from   l5437_48332_sw  with id  _683BBB21-1474-42B2-8571-3E94D95D2F55  with  64  buses\n",
      "Processed topology from   l5491_48332_sw  with id  _F021E6AD-247C-4AC8-9B10-96D9CFC214EF  with  16  buses\n",
      "Processed topology from   l5523_48332_sw  with id  _E2A4AA42-3173-487C-BC94-F0517E5F5D30  with  2  buses\n",
      "Processed topology from   l5565_48332_sw  with id  _A0A164B4-1AAB-43F0-8F43-F660CAA608F5  with  49  buses\n",
      "Processed topology from   l5659_48332_sw  with id  _CEDDB8BC-C3FB-4304-A94A-B2F862B13E8A  with  39  buses\n",
      "Processed topology from   l9191_48332_sw  with id  _0E52F4F9-FADC-44B9-9E39-56DB1D7D24EC  with  72  buses\n",
      "Processed topology from   l9407_48332_sw  with id  _68B1C28D-D8F0-4127-87A8-040B6AE5C56F  with  13  buses\n",
      "Processed topology from   ln0017295_sw  with id  _3E2AC0CC-0BF4-4B73-BDFA-C163307F8BFF  with  59  buses\n",
      "Processed topology from   ln0017316_sw  with id  _2B5E5BC3-D51D-426C-B641-15A4164B53F9  with  47  buses\n",
      "Processed topology from   ln0048634_sw  with id  _8C8673F5-4EFA-406F-A42E-E7754E45EFCD  with  45  buses\n",
      "Processed topology from   ln0077781_sw  with id  _1DA350C1-D2C3-447B-82E2-5BA0703BA6B4  with  15  buses\n",
      "Processed topology from   ln0108145_sw  with id  _FF666099-44EE-40F4-B9BA-7D01F194A188  with  6  buses\n",
      "Processed topology from   ln0138609_sw  with id  _7CEDF5A8-E9D9-4D23-B928-A77A15A29465  with  55  buses\n",
      "Processed topology from   ln0141147_sw  with id  _C58B3182-4C29-4654-8245-C9EC0B448034  with  68  buses\n",
      "Processed topology from   ln0170302_sw  with id  _7179ECDA-5BEF-416D-A043-1E92F2D30759  with  54  buses\n",
      "Processed topology from   ln0247162_sw  with id  _E6543392-E4FF-468B-98F9-DBE2A35B1B17  with  3  buses\n",
      "Processed topology from   ln0409774_sw  with id  _5A1B8784-F12D-406B-A7A1-37AE5EB79C7F  with  18  buses\n",
      "Processed topology from   ln0440002_sw  with id  _BD68B06A-0654-40ED-B1D2-DC9CF0C9363A  with  32  buses\n",
      "Processed topology from   ln0504019_sw  with id  _3130FED1-7DCF-48D8-807D-CEC02E6F73BA  with  39  buses\n",
      "Processed topology from   ln0504876_sw  with id  _A95D6242-0828-42DE-9A00-013EF475BD7B  with  26  buses\n",
      "Processed topology from   ln05534967_sw  with id  _D15DA6FC-DC66-49AA-B3CB-526862F6230F  with  14  buses\n",
      "Processed topology from   ln0621886_sw  with id  _8709466D-5491-4806-9E9A-A5A8449FC0CC  with  44  buses\n",
      "Processed topology from   ln0623395_sw  with id  _002B40AA-5EDE-4AFC-8BB5-A28A3B8CE5A9  with  53  buses\n",
      "Processed topology from   ln0653457_sw  with id  _7543DE0B-B068-4ABB-BBEF-86F89EA89CC9  with  34  buses\n",
      "Processed topology from   ln0653469_sw  with id  _DB80DCD4-C180-4363-9043-E5073E5CC2D5  with  44  buses\n",
      "Processed topology from   ln0712477_sw  with id  _ECD0A33E-B7FF-406F-B6E7-783B2B4F0547  with  24  buses\n",
      "Processed topology from   ln0712587_sw  with id  _28CCAEEE-1061-484D-BF1E-F4AE7EA59C90  with  50  buses\n",
      "Processed topology from   ln0742811_sw  with id  _C862FEF8-3F5F-4461-B687-A23E51C04DB8  with  99  buses\n",
      "Processed topology from   ln0746703_sw  with id  _08B461A2-891B-4EA8-84FE-1BA27DC970D1  with  52  buses\n",
      "Processed topology from   ln0774458_sw  with id  _93D769CA-3433-45C9-BDD2-457CD9A7D4F8  with  56  buses\n",
      "Processed topology from   ln0774470_sw  with id  _10A6E582-7E15-4440-A654-28E365AEF0F6  with  60  buses\n",
      "Processed topology from   ln0804798_sw  with id  _30524041-67D4-4EB1-B24C-B4529551BD59  with  57  buses\n",
      "Processed topology from   ln0863704_sw  with id  _0123E37C-99F0-4E8B-90D0-201EE800F627  with  105  buses\n",
      "Processed topology from   ln0895780_sw  with id  _303713ED-BAA0-42C4-BC6D-0DBACADAD2EA  with  33  buses\n",
      "Processed topology from   ln0955074_sw  with id  _EE4F6F97-631C-4B88-89E9-E10DF9D6A1F3  with  36  buses\n",
      "Processed topology from   ln0956471_sw  with id  _676BED21-ADAF-4F55-9DA5-8B94CF56C7D2  with  91  buses\n",
      "Processed topology from   ln1047pvfrm_sw  with id  _3D0102AA-CAF2-4B6D-AE76-A4917B67CA28  with  2  buses\n",
      "Processed topology from   ln2000001_sw  with id  _494810CC-1A00-4EE8-8360-484FA7C19D01  with  22  buses\n",
      "Processed topology from   ln2000401_sw  with id  _03971466-5580-4CE1-99C3-A0EAFAE35B2E  with  16  buses\n",
      "Processed topology from   ln2000701_sw  with id  _AE956C4E-F042-44DB-9C59-3B174F194A47  with  16  buses\n",
      "Processed topology from   ln2000901_sw  with id  _549E89B5-674E-4496-8DF2-0FFB51A452E0  with  16  buses\n",
      "Processed topology from   ln2001001_sw  with id  _6DFB0737-A0C3-4CD0-85D0-DED0EAC715BB  with  16  buses\n",
      "Processed topology from   ln2001201_sw  with id  _265930AF-D071-4752-A374-AC14909740D3  with  16  buses\n",
      "Processed topology from   ln2001301_sw  with id  _967A11AC-D773-43F1-BC31-1BB360C78B6C  with  16  buses\n",
      "Processed topology from   ln2001ess1_sw  with id  _181DB05D-2774-4D4E-8EC5-A699F48CD005  with  2  buses\n",
      "Processed topology from   ln2001ess2_sw  with id  _D6DBC8E4-E4E1-41E3-A522-AD746ACFDA9E  with  2  buses\n",
      "Processed topology from   ln2001mt1_sw  with id  _54A14BCF-DEB9-4573-BDC2-2C9AA9B3549A  with  2  buses\n",
      "Processed topology from   ln2001mt2_sw  with id  _F6303741-6084-40C7-B1E1-0F403ED44045  with  2  buses\n",
      "Processed topology from   ln2001mt3_sw  with id  _B8F09530-E487-482F-80FC-DF4ED4F9E599  with  2  buses\n",
      "Processed topology from   ln247160_sw  with id  _B2D03D9F-DEF9-45CE-8C23-18024CDE014F  with  3  buses\n",
      "Processed topology from   ln247171_sw  with id  _B7703FA1-EA69-46A2-85EB-BFC11544F32E  with  3  buses\n",
      "Processed topology from   ln293471_sw  with id  _C1413724-B449-4799-A95F-E5EC4D6A0274  with  3  buses\n",
      "Processed topology from   ln3693186_sw  with id  _2B06862D-FBE0-4668-8D36-3C4735819F6A  with  54  buses\n",
      "Processed topology from   ln4586093_sw  with id  _1E1B2F3C-7B9B-4A98-952C-F246320D3235  with  3  buses\n",
      "Processed topology from   ln4625680_sw  with id  _259C6A1D-5166-4BE5-99AC-340D79FC6594  with  94  buses\n",
      "Processed topology from   ln4625696_sw  with id  _99F21E69-A15E-4BA8-A3E5-2B610EB0B466  with  37  buses\n",
      "Processed topology from   ln4625713_sw  with id  _44DF7774-BB04-4908-BAEE-0281BBB037EB  with  30  buses\n",
      "Processed topology from   ln4625876_sw  with id  _C3E3BDF8-2405-4A76-AAFD-10778D62390B  with  2  buses\n",
      "Processed topology from   ln4641075_sw  with id  _C1854469-74D7-42DD-94B5-158BFA67ED41  with  21  buses\n",
      "Processed topology from   ln4651075_sw  with id  _15F46DE2-7784-44E7-98F9-0E336339751F  with  3  buses\n",
      "Processed topology from   ln5001chp_sw  with id  _60B9C35A-A7B1-4295-AA5B-7E4E21EEB082  with  3  buses\n",
      "Processed topology from   ln5472335_sw  with id  _7E18B7C7-B3EA-4104-9BC6-EC87261573A9  with  9  buses\n",
      "Processed topology from   ln5587300-1  with id  _B152DB39-9994-4E37-A269-421AAD9B8307  with  3  buses\n",
      "Processed topology from   tsw10691069_sw  with id  _6461FC9F-5373-4A7E-95D9-36E81FD735A8  with  2  buses\n",
      "Processed topology from   tsw10891089_sw  with id  _8146E07E-CE1A-4341-9C27-DBCD75FFC7DC  with  2  buses\n",
      "Processed topology from   tsw30473047_sw  with id  _47F6D9B6-1FB8-4857-9C45-A24CA0E1EB47  with  2  buses\n",
      "Processed topology from   tsw320328_sw  with id  _C94B941E-4194-4E8E-A2D3-503E90FF2567  with  5  buses\n",
      "Processed topology from   tsw568613_sw  with id  _0BD423D1-E282-4971-846B-9B31D8F0F74D  with  2  buses\n",
      "Processed topology from   tsw803273_sw  with id  _0BB0C452-543F-4E74-8068-5A7A766CBB83  with  16  buses\n",
      "Processed topology from   v7041_48332_sw  with id  _6F3B6197-D684-47A7-A042-FAEBC41AC18E  with  68  buses\n",
      "Processed topology from   v7173_48332_sw  with id  _92CF2309-C7F2-4DAB-B1C0-43E96B223A6F  with  37  buses\n",
      "Processed topology from   v7313_48332_sw  with id  _CFA56847-7544-4AAA-ADF0-DD79EE079CF0  with  8  buses\n",
      "Processed topology from   v7995_48332_sw  with id  _AE3717DC-9AAA-49C2-AADF-3F02F74528B9  with  2  buses\n",
      "Processed topology from   v9109_48332_sw  with id  _6E02C969-6515-495F-9BA9-721FDC7681DB  with  6  buses\n",
      "Processed topology from   v9111_48332_sw  with id  _1962A006-8FA7-403E-A06F-DCBFE991E771  with  14  buses\n",
      "Processed topology from   v9287_48332_sw  with id  _6C70D76B-4928-4DFA-A05C-66DFDBA1FF79  with  26  buses\n",
      "Processed topology from   wf856_48332_sw  with id  _9ED0C562-5EF0-4510-A31B-7584734534FF  with  2  buses\n",
      "Processed topology from   wg127_48332_sw  with id  _1D4D7438-8C14-42D0-B3A5-E1E229E4D613  with  2  buses\n",
      "Processed topology from   x8223_48332_sw  with id  _0DE3E328-5CF3-4203-ADE1-42F3F6F53ED8  with  76  buses\n",
      "Processed topology from   x8225_48332_sw  with id  _0B05F1B6-A754-4609-9BB6-5CC7BE2B5B44  with  3  buses\n",
      "Processed topology from   x8271_48332_sw  with id  _EB3946A9-DF53-4826-9E9C-BEA935791FC8  with  7  buses\n",
      "Processed topology from   xj171_48332_sw  with id  _97C0E677-FC23-473D-B8B8-9D59445897F9  with  20  buses\n",
      "Processed  107 topology trees containing  2784  buses in  0.244574069 seconds\n"
     ]
    }
   ],
   "source": [
    "[SwitchTrees, SWConnNodeDict] = SwitchTree(ConnNodeDict, TerminalsDict, SwitchDict, SwitchKeys)"
   ]
  },
  {
   "cell_type": "code",
   "execution_count": null,
   "id": "d0fa2e9b",
   "metadata": {},
   "outputs": [],
   "source": [
    "SwitchArea = {}\n",
    "SwitchArea['boundary_switches'] = []\n",
    "SwitchArea['addressable_equipment'] = []\n",
    "SwitchArea['unaddressable_equipment'] = []\n",
    "SwitchArea['connectivity_node'] = []\n",
    "SwitchArea['secondary_areas'] = []"
   ]
  },
  {
   "cell_type": "code",
   "execution_count": null,
   "id": "16de85c7",
   "metadata": {},
   "outputs": [],
   "source": []
  },
  {
   "cell_type": "code",
   "execution_count": null,
   "id": "80cb6872",
   "metadata": {},
   "outputs": [],
   "source": []
  },
  {
   "cell_type": "code",
   "execution_count": 6,
   "id": "50200e3b",
   "metadata": {},
   "outputs": [
    {
     "name": "stdout",
     "output_type": "stream",
     "text": [
      "d6108141-1_int\n",
      "e206209\n",
      "l2897777\n",
      "n1144665\n",
      "m1047515\n",
      "m1047513\n",
      "m1047507\n",
      "p901913\n",
      "l2820531\n",
      "196-35813\n",
      "l3157708\n",
      "n1137991\n",
      "m4113345\n",
      "l3197640\n"
     ]
    }
   ],
   "source": [
    "switch = '_1962A006-8FA7-403E-A06F-DCBFE991E771'\n",
    "for i8 in range(len(Tree[switch])):\n",
    "    print(ConnNodeDict[Tree[switch][i8]]['name'])"
   ]
  },
  {
   "cell_type": "code",
   "execution_count": 7,
   "id": "4a764a41",
   "metadata": {},
   "outputs": [
    {
     "data": {
      "text/plain": [
       "{'name': 'm1047513',\n",
       " 'tpid': '_73DA8CAA-3B16-4288-921F-7DED28B6BF1B',\n",
       " 'nomv': [],\n",
       " 'ACLineSegment.name': ['ln5593236-6', 'ln5773033-1', 'ln6047577-1'],\n",
       " 'ACLineSegment.mRID': ['_6E8D6D63-71D0-4C3C-807A-8E1E176450BF',\n",
       "  '_CA50789D-5E44-47D7-B3D6-6E549027A1A8',\n",
       "  '_BBBD4201-2CFA-4498-AB2C-94E689E61088'],\n",
       " 'TransformerEnd.name': [],\n",
       " 'TransformerEnd.mRID': [],\n",
       " 'switch.name': [],\n",
       " 'switch.mRID': [],\n",
       " 'SynchronousMachine.name': [],\n",
       " 'SynchronousMachine.mRID': [],\n",
       " 'node': 726,\n",
       " 'list': 3077}"
      ]
     },
     "execution_count": 7,
     "metadata": {},
     "output_type": "execute_result"
    }
   ],
   "source": [
    "ConnNodeDict[Tree[switch][5]]"
   ]
  },
  {
   "cell_type": "code",
   "execution_count": 8,
   "id": "3d3b6701",
   "metadata": {},
   "outputs": [
    {
     "data": {
      "text/plain": [
       "5294"
      ]
     },
     "execution_count": 8,
     "metadata": {},
     "output_type": "execute_result"
    }
   ],
   "source": [
    "len(ConnNodeDict.keys())"
   ]
  },
  {
   "cell_type": "code",
   "execution_count": 9,
   "id": "de7631f4",
   "metadata": {},
   "outputs": [
    {
     "data": {
      "text/plain": [
       "5294"
      ]
     },
     "execution_count": 9,
     "metadata": {},
     "output_type": "execute_result"
    }
   ],
   "source": [
    "len(NodeList)"
   ]
  }
 ],
 "metadata": {
  "kernelspec": {
   "display_name": "Python 3 (ipykernel)",
   "language": "python",
   "name": "python3"
  },
  "language_info": {
   "codemirror_mode": {
    "name": "ipython",
    "version": 3
   },
   "file_extension": ".py",
   "mimetype": "text/x-python",
   "name": "python",
   "nbconvert_exporter": "python",
   "pygments_lexer": "ipython3",
   "version": "3.8.5"
  }
 },
 "nbformat": 4,
 "nbformat_minor": 5
}
