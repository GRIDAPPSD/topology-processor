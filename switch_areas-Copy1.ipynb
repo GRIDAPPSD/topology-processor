{
 "cells": [
  {
   "cell_type": "code",
   "execution_count": 1,
   "id": "cb2ce27a",
   "metadata": {},
   "outputs": [],
   "source": [
    "import argparse\n",
    "from datetime import datetime\n",
    "import json\n",
    "import logging\n",
    "import os\n",
    "import math\n",
    "import sys\n",
    "import time\n",
    "import topologyqueries,linkedlist,update_topology,spanning_tree\n",
    "\n",
    "from gridappsd import GridAPPSD, DifferenceBuilder, utils, topics as t\n",
    "from gridappsd.topics import simulation_input_topic, simulation_log_topic, simulation_output_topic\n",
    "\n",
    "\n",
    "#model_mrid = sim_request[\"power_system_config\"][\"Line_name\"]\n",
    "#model_mrid = \"_C125761E-9C21-4CA9-9271-B168150DE276\" #ieee13training\n",
    "model_mrid = \"_EE71F6C9-56F0-4167-A14E-7F4C71F10EAA\" #final9500node\n",
    "#model_mrid = \"_AAE94E4A-2465-6F5E-37B1-3E72183A4E44\" #test9500\n",
    "#model_mrid = \"_5B816B93-7A5F-B64C-8460-47C17D6E4B0F\" #ieee13assets\n",
    "#model_mrid=\"_C1C3E687-6FFD-C753-582B-632A27E28507\" # IEEE 123\n",
    "\n",
    "requestedTime=1570041125\n",
    "\n",
    "\n",
    "\n",
    "global BaseConnDict,BaseTermDict,TermList, NodeList\n",
    "global XfmrKeys,XfmrDict,SwitchKeys,SwitchDict,DG_query\n",
    "\n",
    "os.environ['GRIDAPPSD_USER'] = 'app_user'\n",
    "os.environ['GRIDAPPSD_PASSWORD'] = '1234App'\n",
    "\n",
    "gapps = GridAPPSD()\n",
    "assert gapps.connected"
   ]
  },
  {
   "cell_type": "code",
   "execution_count": 17,
   "id": "52ed00fb",
   "metadata": {},
   "outputs": [
    {
     "name": "stdout",
     "output_type": "stream",
     "text": [
      "0.308232807 seconds\n"
     ]
    }
   ],
   "source": [
    "# Query for ACLineSegment, Transformerend, Switches, Breakers, Reclosers, Fuses, Sectionalisers,SynchronousMachine,TopologicalNode\n",
    "StartTime = time.process_time()\n",
    "\n",
    "topologyqueries.getallqueries(gapps,model_mrid)\n",
    "Line_query=topologyqueries.Line_query\n",
    "XfmrDict=topologyqueries.XfmrDict\n",
    "XfmrKeys=topologyqueries.XfmrKeys\n",
    "SwitchDict=topologyqueries.SwitchDict\n",
    "SwitchKeys=topologyqueries.SwitchKeys\n",
    "DG_query=topologyqueries.DG_query\n",
    "Cap_query=topologyqueries.Cap_query\n",
    "Node_query=topologyqueries.Node_query\n",
    "\n",
    "\n",
    "print( time.process_time() - StartTime, \"seconds\")\n"
   ]
  },
  {
   "cell_type": "code",
   "execution_count": 14,
   "id": "6a782848",
   "metadata": {},
   "outputs": [
    {
     "name": "stdout",
     "output_type": "stream",
     "text": [
      "Processed  5294 nodes in  0.13586511000000012 seconds\n"
     ]
    }
   ],
   "source": [
    "MeasurementQuery = topologyqueries.measurement_query(gapps, model_mrid)\n",
    "\n",
    "ConnNodeEquipDict = {}\n",
    "\n",
    "StartTime = time.process_time()\n",
    "\n",
    "for i0 in range(len( NodeQuery)):\n",
    "    node= NodeQuery[i0]['cnid']['value']\n",
    "\n",
    "    ConnNodeEquipDict[node] = {}\n",
    "    ConnNodeEquipDict[node]['name'] =  NodeQuery[i0]['busname']['value']\n",
    "    ConnNodeEquipDict[node]['TopologicalNode'] =  NodeQuery[i0]['tpnid']['value']\n",
    "    \n",
    "    ConnNodeEquipDict[node]['ACLineSegment'] = []\n",
    "    ConnNodeEquipDict[node]['Breaker'] = []\n",
    "    ConnNodeEquipDict[node]['EnergyConsumer'] = []\n",
    "    ConnNodeEquipDict[node]['Fuse'] = []\n",
    "    ConnNodeEquipDict[node]['LinearShuntCompensator'] = []\n",
    "    ConnNodeEquipDict[node]['LoadBreakSwitch'] = []\n",
    "    ConnNodeEquipDict[node]['PowerTransformer'] = []\n",
    "    ConnNodeEquipDict[node]['RatioTapChanger'] = []\n",
    "    ConnNodeEquipDict[node]['Recloser'] = []\n",
    "    ConnNodeEquipDict[node]['TransformerEnd'] = []    \n",
    "    ConnNodeEquipDict[node]['SynchronousMachine'] = []\n",
    "    ConnNodeEquipDict[node]['PowerElectronicsConnection'] = []\n",
    "    ConnNodeEquipDict[node]['measurements'] = []\n",
    "\n",
    "print('Processed ', i0+1, 'nodes in ', time.process_time() - StartTime, \"seconds\")"
   ]
  },
  {
   "cell_type": "code",
   "execution_count": 15,
   "id": "f93191aa",
   "metadata": {},
   "outputs": [
    {
     "name": "stdout",
     "output_type": "stream",
     "text": [
      "Processed  22278 measurement objects in  0.041748484999999835 seconds\n"
     ]
    }
   ],
   "source": [
    "StartTime = time.process_time()\n",
    "\n",
    "for i1 in range(len(MeasurementQuery)):\n",
    "    node = MeasurementQuery[i1]['cnid']['value']\n",
    "    ConnNodeEquipDict[node]['measurements'].append(MeasurementQuery[i1]['measid']['value'])\n",
    "    if MeasurementQuery[i1]['eqid']['value'] not in ConnNodeEquipDict[node][MeasurementQuery[i1]['meastype']['value']]:\n",
    "        ConnNodeEquipDict[node][MeasurementQuery[i1]['meastype']['value']].append(MeasurementQuery[i1]['eqid']['value'])\n",
    "        \n",
    "print('Processed ', i1+1, 'measurement objects in ', time.process_time() - StartTime, \"seconds\")"
   ]
  },
  {
   "cell_type": "code",
   "execution_count": 18,
   "id": "d0896070",
   "metadata": {},
   "outputs": [
    {
     "name": "stdout",
     "output_type": "stream",
     "text": [
      "Processed  5294 buses in  0.1396288560000003 seconds\n",
      "Processed  3909 line objects in  0.023839805999999797 seconds\n",
      "Processed  1304 transformer objects in  0.007030172000000334 seconds\n",
      "Processed  9 generator objects in  3.096599999974359e-05 seconds\n",
      "Processed  4 missing nodes in  0.0021804819999999836 seconds\n",
      "Processed  5294 buses in  0.01219901599999984 seconds\n",
      "Processed  3909 line objects in  0.020490366000000204 seconds\n",
      "Processed  0 transformer objects in  2.8450000000290743e-06 seconds\n",
      "Processed  9 generator objects in  3.3703000000162575e-05 seconds\n",
      "Processed  19 missing nodes in  0.0015942419999999125 seconds\n"
     ]
    }
   ],
   "source": [
    "# Build LinkNet Lists of entire feeder\n",
    "[ConnNodeDict,TerminalsDict,TermList,NodeList]=linkedlist.build_linked_list(Line_query, XfmrDict, XfmrKeys, DG_query, Node_query)\n",
    "\n",
    "# Build second LinkNet List for only single voltage levels\n",
    "[MVConnNodeDict,MVTerminalsDict,MVTermList,MVNodeList]=linkedlist.build_linked_list(Line_query, {}, [], DG_query, Node_query)"
   ]
  },
  {
   "cell_type": "code",
   "execution_count": 19,
   "id": "de26c523",
   "metadata": {},
   "outputs": [],
   "source": [
    "for i1 in range(len(SwitchKeys)):\n",
    "\n",
    "    ConnNodeEquipDict[SwitchDict[SwitchKeys[i1]]['node1']]['switch.mRID'] = SwitchKeys[i1]\n",
    "    ConnNodeEquipDict[SwitchDict[SwitchKeys[i1]]['node2']]['switch.mRID'] = SwitchKeys[i1]\n",
    "    MVConnNodeDict[SwitchDict[SwitchKeys[i1]]['node1']]['switch.mRID'] = SwitchKeys[i1]\n",
    "    MVConnNodeDict[SwitchDict[SwitchKeys[i1]]['node2']]['switch.mRID'] = SwitchKeys[i1]\n",
    "    \n",
    "    \n",
    "    "
   ]
  },
  {
   "cell_type": "code",
   "execution_count": 20,
   "id": "58dc6497",
   "metadata": {},
   "outputs": [],
   "source": [
    "BaseConnDict = json.dumps(ConnNodeDict)\n",
    "BaseTermDict = json.dumps(TerminalsDict)"
   ]
  },
  {
   "cell_type": "code",
   "execution_count": 30,
   "id": "10c01708",
   "metadata": {},
   "outputs": [
    {
     "name": "stdout",
     "output_type": "stream",
     "text": [
      "Processed  107 switch objects in  0.00031129299999932414 seconds\n",
      "Processed topology from   _49F99DAD-8D58-49CE-979A-382CD0577D78  with  2264  buses\n",
      "Processed topology from   _95DBCED6-E99E-4BB1-9229-899FB890050C  with  1151  buses\n",
      "Processed topology from   _E701C38C-E8A0-4AFB-AC86-2C03158AE33D  with  1859  buses\n",
      "Processed  3 topology trees containing  5274  buses in  0.17085851399999985 seconds\n"
     ]
    }
   ],
   "source": [
    "import update_topology_old\n",
    "[TerminalsDict, ConnNodeDict]=update_topology_old.topology_update(BaseConnDict,BaseTermDict,SwitchDict,SwitchKeys,TermList)\n",
    "\n",
    "SubstationRoots = []\n",
    "# Iterate through all substation transformers\n",
    "for i6 in range(len(XfmrKeys)):\n",
    "\n",
    "    # Identify if distribution substation transformer\n",
    "    if ((int(XfmrDict[XfmrKeys[i6]]['volt1']) >= 34000 and 34000 >= int(XfmrDict[XfmrKeys[i6]]['volt2']) > 1000) or \n",
    "        (int(XfmrDict[XfmrKeys[i6]]['volt2']) >= 34000 and 34000 >= int(XfmrDict[XfmrKeys[i6]]['volt1']) > 1000)):\n",
    "        SubstationRoots.append(XfmrKeys[i6])\n",
    "        \n",
    "[SubTree, ConnNodeDict] = spanning_tree(ConnNodeDict, TerminalsDict, NodeList, XfmrDict, SubstationRoots, 'single')"
   ]
  },
  {
   "cell_type": "code",
   "execution_count": 25,
   "id": "4651e8f0",
   "metadata": {},
   "outputs": [],
   "source": [
    "ConnNodeDict = json.loads(BaseConnDict)\n",
    "TerminalsDict = json.loads(BaseTermDict)"
   ]
  },
  {
   "cell_type": "code",
   "execution_count": 28,
   "id": "b31879b6",
   "metadata": {},
   "outputs": [
    {
     "name": "stdout",
     "output_type": "stream",
     "text": [
      "Processed topology from   _2988C4A4-4F1A-4E2F-8947-E79A582DE021  with  127  buses\n",
      "Processed topology from   _1CB6F0F5-08B3-456C-9D7D-9BCC866A2FB4  with  29  buses\n",
      "Processed topology from   _674624BB-C2D9-4402-9A0B-A491066F4CDF  with  30  buses\n",
      "Processed topology from   _E56BC77B-6895-4243-ABFC-EA44A3E8AAE2  with  27  buses\n",
      "Processed topology from   _AAF94161-A827-463F-B9B6-7E8CCCFC969F  with  130  buses\n",
      "Processed topology from   _EE49C3F2-1112-4C9C-B7FA-9BFFD48012FC  with  34  buses\n",
      "Processed topology from   _C2D45253-1D4D-4EEC-90D9-494DB20F3A12  with  77  buses\n",
      "Processed topology from   _035FD479-EF61-4311-9658-7EA265034AD2  with  2  buses\n",
      "Processed topology from   _A50CDB24-727C-48A4-B658-E7C433F371F4  with  2  buses\n",
      "Processed topology from   _199262EA-6CD4-49B1-AC4C-FC20BA5850B6  with  2  buses\n",
      "Processed topology from   _2B9AC2D5-43E9-4D76-A130-AA4E655A219A  with  2  buses\n",
      "Processed topology from   _AEFE76EA-0C3A-4AAD-B7A5-D555E20E5DFC  with  2  buses\n",
      "Processed topology from   _0405FAAB-007B-4D83-AAD5-F455F52B6E58  with  150  buses\n",
      "Processed topology from   _317761D6-BED7-4FD9-957F-30DD36BF0195  with  3  buses\n",
      "Processed topology from   _E98DA34C-B486-41FD-A16E-E5425F04B131  with  6  buses\n",
      "Processed topology from   _78F06431-CF1E-4B68-A697-286110E282FD  with  16  buses\n",
      "Processed topology from   _8BFE26A0-1066-4005-89CD-FE86EBFFDC99  with  11  buses\n",
      "Processed topology from   _45C4F27C-9A84-40E2-821E-4A8370FC5509  with  2  buses\n",
      "Processed topology from   _B93039C0-32B5-411D-A0B3-DEB234C43E15  with  4  buses\n",
      "Processed topology from   _2C4B11E4-0EF3-4ED4-9ECF-66F535AED88B  with  167  buses\n",
      "Processed topology from   _BFC4DD15-3578-4A42-A1C9-7C4031E88CEF  with  2  buses\n",
      "Processed topology from   _B94F562E-3942-41FB-B76F-A482D39735AF  with  3  buses\n",
      "Processed topology from   _AD4EAB63-CFD0-4D08-92DF-B69C4CC7346E  with  4  buses\n",
      "Processed topology from   _5C22BA00-F37B-4064-BF5E-4609E1F5236A  with  48  buses\n",
      "Processed topology from   _BCF9AE36-E08D-42A4-B503-4E1912B4B7BA  with  33  buses\n",
      "Processed topology from   _683BBB21-1474-42B2-8571-3E94D95D2F55  with  120  buses\n",
      "Processed topology from   _F021E6AD-247C-4AC8-9B10-96D9CFC214EF  with  26  buses\n",
      "Processed topology from   _E2A4AA42-3173-487C-BC94-F0517E5F5D30  with  2  buses\n",
      "Processed topology from   _A0A164B4-1AAB-43F0-8F43-F660CAA608F5  with  107  buses\n",
      "Processed topology from   _CEDDB8BC-C3FB-4304-A94A-B2F862B13E8A  with  81  buses\n",
      "Processed topology from   _0E52F4F9-FADC-44B9-9E39-56DB1D7D24EC  with  146  buses\n",
      "Processed topology from   _68B1C28D-D8F0-4127-87A8-040B6AE5C56F  with  23  buses\n",
      "Processed topology from   _3E2AC0CC-0BF4-4B73-BDFA-C163307F8BFF  with  133  buses\n",
      "Processed topology from   _2B5E5BC3-D51D-426C-B641-15A4164B53F9  with  109  buses\n",
      "Processed topology from   _8C8673F5-4EFA-406F-A42E-E7754E45EFCD  with  79  buses\n",
      "Processed topology from   _1DA350C1-D2C3-447B-82E2-5BA0703BA6B4  with  23  buses\n",
      "Processed topology from   _FF666099-44EE-40F4-B9BA-7D01F194A188  with  8  buses\n",
      "Processed topology from   _7CEDF5A8-E9D9-4D23-B928-A77A15A29465  with  115  buses\n",
      "Processed topology from   _C58B3182-4C29-4654-8245-C9EC0B448034  with  140  buses\n",
      "Processed topology from   _7179ECDA-5BEF-416D-A043-1E92F2D30759  with  118  buses\n",
      "Processed topology from   _E6543392-E4FF-468B-98F9-DBE2A35B1B17  with  5  buses\n",
      "Processed topology from   _5A1B8784-F12D-406B-A7A1-37AE5EB79C7F  with  36  buses\n",
      "Processed topology from   _BD68B06A-0654-40ED-B1D2-DC9CF0C9363A  with  68  buses\n",
      "Processed topology from   _3130FED1-7DCF-48D8-807D-CEC02E6F73BA  with  71  buses\n",
      "Processed topology from   _A95D6242-0828-42DE-9A00-013EF475BD7B  with  46  buses\n",
      "Processed topology from   _D15DA6FC-DC66-49AA-B3CB-526862F6230F  with  22  buses\n",
      "Processed topology from   _8709466D-5491-4806-9E9A-A5A8449FC0CC  with  86  buses\n",
      "Processed topology from   _002B40AA-5EDE-4AFC-8BB5-A28A3B8CE5A9  with  109  buses\n",
      "Processed topology from   _7543DE0B-B068-4ABB-BBEF-86F89EA89CC9  with  62  buses\n",
      "Processed topology from   _DB80DCD4-C180-4363-9043-E5073E5CC2D5  with  82  buses\n",
      "Processed topology from   _ECD0A33E-B7FF-406F-B6E7-783B2B4F0547  with  52  buses\n",
      "Processed topology from   _28CCAEEE-1061-484D-BF1E-F4AE7EA59C90  with  92  buses\n",
      "Processed topology from   _C862FEF8-3F5F-4461-B687-A23E51C04DB8  with  199  buses\n",
      "Processed topology from   _08B461A2-891B-4EA8-84FE-1BA27DC970D1  with  110  buses\n",
      "Processed topology from   _93D769CA-3433-45C9-BDD2-457CD9A7D4F8  with  98  buses\n",
      "Processed topology from   _10A6E582-7E15-4440-A654-28E365AEF0F6  with  110  buses\n",
      "Processed topology from   _30524041-67D4-4EB1-B24C-B4529551BD59  with  117  buses\n",
      "Processed topology from   _0123E37C-99F0-4E8B-90D0-201EE800F627  with  199  buses\n",
      "Processed topology from   _303713ED-BAA0-42C4-BC6D-0DBACADAD2EA  with  55  buses\n",
      "Processed topology from   _EE4F6F97-631C-4B88-89E9-E10DF9D6A1F3  with  58  buses\n",
      "Processed topology from   _676BED21-ADAF-4F55-9DA5-8B94CF56C7D2  with  159  buses\n",
      "Processed topology from   _3D0102AA-CAF2-4B6D-AE76-A4917B67CA28  with  2  buses\n",
      "Processed topology from   _494810CC-1A00-4EE8-8360-484FA7C19D01  with  31  buses\n",
      "Processed topology from   _03971466-5580-4CE1-99C3-A0EAFAE35B2E  with  44  buses\n",
      "Processed topology from   _AE956C4E-F042-44DB-9C59-3B174F194A47  with  44  buses\n",
      "Processed topology from   _549E89B5-674E-4496-8DF2-0FFB51A452E0  with  44  buses\n",
      "Processed topology from   _6DFB0737-A0C3-4CD0-85D0-DED0EAC715BB  with  44  buses\n",
      "Processed topology from   _265930AF-D071-4752-A374-AC14909740D3  with  44  buses\n",
      "Processed topology from   _967A11AC-D773-43F1-BC31-1BB360C78B6C  with  44  buses\n",
      "Processed topology from   _181DB05D-2774-4D4E-8EC5-A699F48CD005  with  2  buses\n",
      "Processed topology from   _D6DBC8E4-E4E1-41E3-A522-AD746ACFDA9E  with  2  buses\n",
      "Processed topology from   _54A14BCF-DEB9-4573-BDC2-2C9AA9B3549A  with  2  buses\n",
      "Processed topology from   _F6303741-6084-40C7-B1E1-0F403ED44045  with  2  buses\n",
      "Processed topology from   _B8F09530-E487-482F-80FC-DF4ED4F9E599  with  2  buses\n",
      "Processed topology from   _B2D03D9F-DEF9-45CE-8C23-18024CDE014F  with  5  buses\n",
      "Processed topology from   _B7703FA1-EA69-46A2-85EB-BFC11544F32E  with  5  buses\n",
      "Processed topology from   _C1413724-B449-4799-A95F-E5EC4D6A0274  with  9  buses\n",
      "Processed topology from   _2B06862D-FBE0-4668-8D36-3C4735819F6A  with  94  buses\n",
      "Processed topology from   _1E1B2F3C-7B9B-4A98-952C-F246320D3235  with  5  buses\n",
      "Processed topology from   _259C6A1D-5166-4BE5-99AC-340D79FC6594  with  152  buses\n",
      "Processed topology from   _99F21E69-A15E-4BA8-A3E5-2B610EB0B466  with  73  buses\n",
      "Processed topology from   _44DF7774-BB04-4908-BAEE-0281BBB037EB  with  48  buses\n",
      "Processed topology from   _C3E3BDF8-2405-4A76-AAFD-10778D62390B  with  2  buses\n",
      "Processed topology from   _C1854469-74D7-42DD-94B5-158BFA67ED41  with  33  buses\n",
      "Processed topology from   _15F46DE2-7784-44E7-98F9-0E336339751F  with  4  buses\n",
      "Processed topology from   _60B9C35A-A7B1-4295-AA5B-7E4E21EEB082  with  3  buses\n",
      "Processed topology from   _7E18B7C7-B3EA-4104-9BC6-EC87261573A9  with  15  buses\n",
      "Processed topology from   _B152DB39-9994-4E37-A269-421AAD9B8307  with  4  buses\n",
      "Processed topology from   _6461FC9F-5373-4A7E-95D9-36E81FD735A8  with  2  buses\n",
      "Processed topology from   _8146E07E-CE1A-4341-9C27-DBCD75FFC7DC  with  2  buses\n",
      "Processed topology from   _47F6D9B6-1FB8-4857-9C45-A24CA0E1EB47  with  2  buses\n",
      "Processed topology from   _C94B941E-4194-4E8E-A2D3-503E90FF2567  with  11  buses\n",
      "Processed topology from   _0BD423D1-E282-4971-846B-9B31D8F0F74D  with  2  buses\n",
      "Processed topology from   _0BB0C452-543F-4E74-8068-5A7A766CBB83  with  30  buses\n",
      "Processed topology from   _6F3B6197-D684-47A7-A042-FAEBC41AC18E  with  162  buses\n",
      "Processed topology from   _92CF2309-C7F2-4DAB-B1C0-43E96B223A6F  with  61  buses\n",
      "Processed topology from   _CFA56847-7544-4AAA-ADF0-DD79EE079CF0  with  16  buses\n",
      "Processed topology from   _AE3717DC-9AAA-49C2-AADF-3F02F74528B9  with  2  buses\n",
      "Processed topology from   _6E02C969-6515-495F-9BA9-721FDC7681DB  with  10  buses\n",
      "Processed topology from   _1962A006-8FA7-403E-A06F-DCBFE991E771  with  22  buses\n",
      "Processed topology from   _6C70D76B-4928-4DFA-A05C-66DFDBA1FF79  with  54  buses\n",
      "Processed topology from   _9ED0C562-5EF0-4510-A31B-7584734534FF  with  2  buses\n",
      "Processed topology from   _1D4D7438-8C14-42D0-B3A5-E1E229E4D613  with  2  buses\n",
      "Processed topology from   _0DE3E328-5CF3-4203-ADE1-42F3F6F53ED8  with  170  buses\n",
      "Processed topology from   _0B05F1B6-A754-4609-9BB6-5CC7BE2B5B44  with  5  buses\n",
      "Processed topology from   _EB3946A9-DF53-4826-9E9C-BEA935791FC8  with  13  buses\n",
      "Processed topology from   _97C0E677-FC23-473D-B8B8-9D59445897F9  with  34  buses\n",
      "Processed  107 topology trees containing  5340  buses in  0.6155039649999994 seconds\n"
     ]
    }
   ],
   "source": [
    "[AllTrees, ConnNodeDict] = spanning_tree(ConnNodeDict, TerminalsDict, NodeList, SwitchDict, SwitchKeys, 'all')\n"
   ]
  },
  {
   "cell_type": "code",
   "execution_count": null,
   "id": "679ebc76",
   "metadata": {},
   "outputs": [],
   "source": [
    "DistAppStruct = {}\n",
    "DistAppStruct['feeders'] = {}\n",
    "DistAppStruct['feeders'][model_mrid] = {}\n",
    "DistAppStruct['feeders'][model_mrid]['addressabe_equipment'] = []\n",
    "DistAppStruct['feeders'][model_mrid]['unaddressabe_equipment'] = []\n",
    "DistAppStruct['feeders'][model_mrid]['switch_areas'] = []\n"
   ]
  },
  {
   "cell_type": "code",
   "execution_count": null,
   "id": "d240d13f",
   "metadata": {},
   "outputs": [],
   "source": [
    "[MVTrees, MVConnNodeDict] = spanning_tree(MVConnNodeDict, TerminalsDict, MVNodeList, SwitchDict, SwitchKeys, 'all')\n"
   ]
  },
  {
   "cell_type": "code",
   "execution_count": null,
   "id": "e1ad5f2c",
   "metadata": {},
   "outputs": [],
   "source": [
    "[MVTrees[SwitchKeys[i1]][0]]"
   ]
  },
  {
   "cell_type": "code",
   "execution_count": null,
   "id": "de03ba03",
   "metadata": {},
   "outputs": [],
   "source": [
    "ConnNodeDict[MVTrees[SwitchKeys[i1]][0]]"
   ]
  },
  {
   "cell_type": "code",
   "execution_count": null,
   "id": "835e0198",
   "metadata": {},
   "outputs": [],
   "source": [
    "ConnNodeDict['_5B9656C8-717E-4707-A2CA-A8994EC647E4']"
   ]
  },
  {
   "cell_type": "code",
   "execution_count": null,
   "id": "bf6f57b6",
   "metadata": {},
   "outputs": [],
   "source": [
    "for i1 in range(len(SwitchKeys)):\n",
    "    SwitchArea = {}\n",
    "    SwitchArea['boundary_switches'] = []\n",
    "    SwitchArea['addressable_equipment'] = []\n",
    "    SwitchArea['unaddressable_equipment'] = []\n",
    "    SwitchArea['connectivity_node'] = []\n",
    "    SwitchArea['secondary_areas'] = []\n",
    "    \n",
    "    for i2 in range(len(MVTrees[SwitchKeys[i1]])):\n",
    "        \n",
    "        SwitchArea['boundary_switches'].append(ConnNodeDict[MVTrees[SwitchKeys[i1]][i2]]['switch.mrid'])\n",
    "        "
   ]
  },
  {
   "cell_type": "code",
   "execution_count": null,
   "id": "50200e3b",
   "metadata": {},
   "outputs": [],
   "source": [
    "switch = '_1962A006-8FA7-403E-A06F-DCBFE991E771'\n",
    "for i8 in range(len(Tree[switch])):\n",
    "    print(ConnNodeDict[Tree[switch][i8]]['name'])"
   ]
  },
  {
   "cell_type": "code",
   "execution_count": null,
   "id": "4a764a41",
   "metadata": {},
   "outputs": [],
   "source": [
    "SwitchArea = {}\n",
    "SwitchArea['boundary_switches'] = []\n",
    "SwitchArea['boundary_switches'].append([])"
   ]
  },
  {
   "cell_type": "code",
   "execution_count": 27,
   "id": "c1d350ca",
   "metadata": {},
   "outputs": [],
   "source": [
    "def spanning_tree(ConnNodeDict, TerminalsDict, NodeList, EquipDict, RootKeys, Scope):\n",
    "    Tree={}\n",
    "    #ProcessedNodes=[]\n",
    "    TotalNodes=0\n",
    "    StartTime = time.process_time()\n",
    "\n",
    "    # Iterate through all substation transformers\n",
    "    for i6 in range(len(RootKeys)):\n",
    "\n",
    "        FirstNode = 1 \n",
    "        LastNode = 2\n",
    "        # Set switch as rootnode \n",
    "        if 'node' in EquipDict[RootKeys[i6]]: # Check if 1-terminal object\n",
    "            Tree[RootKeys[i6]]=[EquipDict[RootKeys[i6]]['node']]\n",
    "        else: # Then 2-terminal object\n",
    "            Tree[RootKeys[i6]]=[EquipDict[RootKeys[i6]]['node1'], EquipDict[RootKeys[i6]]['node2']]\n",
    "\n",
    "        while LastNode != FirstNode:\n",
    "            NextTerm = ConnNodeDict[Tree[RootKeys[i6]][FirstNode]]['list']\n",
    "            FirstNode = FirstNode + 1\n",
    "            while NextTerm != 0:\n",
    "                # Get next node and terminal for current node\n",
    "                NextNode = TerminalsDict[TermList[NextTerm-1]]['far']\n",
    "                NextTerm = TerminalsDict[TermList[NextTerm-1]]['next']\n",
    "                node = NodeList[NextNode-1]\n",
    "                not_in_tree = True\n",
    "\n",
    "                if Scope == 'all': \n",
    "                    for i7 in range(len(Tree.keys())):\n",
    "                        if node in Tree[RootKeys[i7]]:\n",
    "                            not_in_tree = False\n",
    "                            break\n",
    "                else: \n",
    "                    if NodeList[NextNode-1] in Tree[RootKeys[i6]]: \n",
    "                        not_in_tree = False# Check if node already in all other tree\n",
    "                    \n",
    "\n",
    "                # Add node if not in another tree        \n",
    "                if not_in_tree:       \n",
    "                    if ConnNodeDict[node]['nomv']:\n",
    "                        if int(ConnNodeDict[node]['nomv']) < 34000 and int(ConnNodeDict[node]['nomv']) > 1000:\n",
    "                            Tree[RootKeys[i6]].append(NodeList[NextNode-1])\n",
    "                            LastNode = LastNode + 1                       \n",
    "                    else:\n",
    "                        Tree[RootKeys[i6]].append(NodeList[NextNode-1])\n",
    "                        LastNode = LastNode + 1\n",
    "\n",
    "        NodesInTree=len(Tree[RootKeys[i6]])\n",
    "        \n",
    "        \n",
    "        print(\"Processed topology from  \", RootKeys[i6], ' with ', NodesInTree, \" buses\")\n",
    "\n",
    "        #print(\"Processed topology from  \", EquipDict[RootKeys[i6]]['name'], \" with id \", RootKeys[i6], ' with ', NodesInTree, \" buses\")\n",
    "        TotalNodes=TotalNodes+NodesInTree\n",
    "\n",
    "    print(\"Processed \", len(Tree.keys()), \"topology trees containing \", TotalNodes, \" buses in \", time.process_time() - StartTime, \"seconds\")\n",
    "\n",
    "    return Tree, ConnNodeDict\n"
   ]
  },
  {
   "cell_type": "code",
   "execution_count": null,
   "id": "5a9ef0aa",
   "metadata": {},
   "outputs": [],
   "source": [
    "QueryLines=\"\"\"\n",
    "    PREFIX r:  <http://www.w3.org/1999/02/22-rdf-syntax-ns#>\n",
    "    PREFIX c:  <http://iec.ch/TC57/CIM100#>\n",
    "    SELECT ?name ?bus1 ?bus2 ?id ?tname1 ?term1 ?tname2 ?term2 ?node1 ?node2 ?tpnode1 ?tpnode2 (group_concat(distinct ?phs;separator=\"\") as ?phases) WHERE {\n",
    "    SELECT ?name ?bus1 ?bus2 ?phs ?id ?tname1 ?term1 ?tname2 ?term2 ?node1 ?node2 ?tpnode1 ?tpnode2 WHERE {\n",
    "    VALUES ?fdrid {\"%s\"}  \n",
    "    VALUES ?id {'_869F4EB9-5E95-4B59-B76B-B04FAE942C85'}\n",
    "    ?fdr c:IdentifiedObject.mRID ?fdrid.\n",
    "    ?s r:type c:ACLineSegment.\n",
    "    ?s c:Equipment.EquipmentContainer ?fdr.\n",
    "    ?s c:IdentifiedObject.name ?name.\n",
    "    ?s c:IdentifiedObject.mRID ?id.\n",
    "    ?t1 c:Terminal.ConductingEquipment ?s.\n",
    "    ?t1 c:ACDCTerminal.sequenceNumber \"1\".\n",
    "    ?t1 c:Terminal.ConnectivityNode ?cn1. \n",
    "    ?t1 c:IdentifiedObject.name ?tname1.\n",
    "    ?cn1 c:IdentifiedObject.name ?bus1.\n",
    "    ?cn1 c:ConnectivityNode.TopologicalNode ?tp1.\n",
    "    ?t2 c:Terminal.ConductingEquipment ?s.\n",
    "    ?t2 c:ACDCTerminal.sequenceNumber \"2\".\n",
    "    ?t2 c:Terminal.ConnectivityNode ?cn2. \n",
    "    ?t2 c:IdentifiedObject.name ?tname2.\n",
    "    ?cn2 c:ConnectivityNode.TopologicalNode ?tp2.\n",
    "    ?cn2 c:IdentifiedObject.name ?bus2.\n",
    "    bind(strafter(str(?t),\"#\") as ?tid).\n",
    "        bind(strafter(str(?t1), \"#\") as ?term1) \n",
    "        bind(strafter(str(?t2), \"#\") as ?term2)\n",
    "        bind(strafter(str(?cn1), \"#\") as ?node1)\n",
    "        bind(strafter(str(?cn2), \"#\") as ?node2)\n",
    "        bind(strafter(str(?tp1), \"#\") as ?tpnode1)\n",
    "        bind(strafter(str(?tp2), \"#\") as ?tpnode2)\n",
    "            OPTIONAL {?acp c:ACLineSegmentPhase.ACLineSegment ?s.\n",
    "            ?acp c:ACLineSegmentPhase.phase ?phsraw.\n",
    "            bind(strafter(str(?phsraw),\"SinglePhaseKind.\") as ?phs) }\n",
    "\n",
    "    } ORDER BY ?name ?phs\n",
    "    }\n",
    "    GROUP BY ?name ?bus1 ?bus2 ?id ?tname1 ?term1 ?tname2 ?term2 ?node1 ?node2 ?tpnode1 ?tpnode2\n",
    "    ORDER BY ?name\n",
    "    \"\"\"%model_mrid\n",
    "results = gapps.query_data(query = QueryLines, timeout = 60)\n",
    "Line_query = results['data']['results']['bindings']"
   ]
  },
  {
   "cell_type": "code",
   "execution_count": null,
   "id": "0e8cd404",
   "metadata": {},
   "outputs": [],
   "source": [
    "Line_query"
   ]
  }
 ],
 "metadata": {
  "kernelspec": {
   "display_name": "Python 3 (ipykernel)",
   "language": "python",
   "name": "python3"
  },
  "language_info": {
   "codemirror_mode": {
    "name": "ipython",
    "version": 3
   },
   "file_extension": ".py",
   "mimetype": "text/x-python",
   "name": "python",
   "nbconvert_exporter": "python",
   "pygments_lexer": "ipython3",
   "version": "3.8.5"
  }
 },
 "nbformat": 4,
 "nbformat_minor": 5
}
