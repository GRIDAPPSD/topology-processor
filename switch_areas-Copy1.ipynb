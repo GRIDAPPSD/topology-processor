{
 "cells": [
  {
   "cell_type": "code",
   "execution_count": 1,
   "id": "cb2ce27a",
   "metadata": {},
   "outputs": [],
   "source": [
    "import argparse\n",
    "from datetime import datetime\n",
    "import json\n",
    "import logging\n",
    "import os\n",
    "import math\n",
    "import sys\n",
    "import time\n",
    "import topologyqueries,linkedlist,update_topology,spanning_tree\n",
    "\n",
    "from gridappsd import GridAPPSD, DifferenceBuilder, utils, topics as t\n",
    "from gridappsd.topics import simulation_input_topic, simulation_log_topic, simulation_output_topic\n",
    "\n",
    "\n",
    "#model_mrid = sim_request[\"power_system_config\"][\"Line_name\"]\n",
    "#model_mrid = \"_C125761E-9C21-4CA9-9271-B168150DE276\" #ieee13training\n",
    "model_mrid = \"_EE71F6C9-56F0-4167-A14E-7F4C71F10EAA\" #final9500node\n",
    "#model_mrid = \"_AAE94E4A-2465-6F5E-37B1-3E72183A4E44\" #test9500\n",
    "#model_mrid = \"_5B816B93-7A5F-B64C-8460-47C17D6E4B0F\" #ieee13assets\n",
    "#model_mrid=\"_C1C3E687-6FFD-C753-582B-632A27E28507\" # IEEE 123\n",
    "\n",
    "requestedTime=1570041125\n",
    "\n",
    "\n",
    "\n",
    "global BaseConnDict,BaseTermDict,TermList, NodeList\n",
    "global XfmrKeys,XfmrDict,SwitchKeys,SwitchDict,DG_query\n",
    "\n",
    "os.environ['GRIDAPPSD_USER'] = 'app_user'\n",
    "os.environ['GRIDAPPSD_PASSWORD'] = '1234App'\n",
    "\n",
    "gapps = GridAPPSD()\n",
    "assert gapps.connected"
   ]
  },
  {
   "cell_type": "code",
   "execution_count": 2,
   "id": "52ed00fb",
   "metadata": {},
   "outputs": [
    {
     "name": "stdout",
     "output_type": "stream",
     "text": [
      "0.23937103600000004 seconds\n"
     ]
    }
   ],
   "source": [
    "# Query for ACLineSegment, Transformerend, Switches, Breakers, Reclosers, Fuses, Sectionalisers,SynchronousMachine,TopologicalNode\n",
    "StartTime = time.process_time()\n",
    "\n",
    "topologyqueries.getallqueries(gapps,model_mrid)\n",
    "Line_query=topologyqueries.Line_query\n",
    "XfmrDict=topologyqueries.XfmrDict\n",
    "XfmrKeys=topologyqueries.XfmrKeys\n",
    "SwitchDict=topologyqueries.SwitchDict\n",
    "SwitchKeys=topologyqueries.SwitchKeys\n",
    "DG_query=topologyqueries.DG_query\n",
    "Cap_query=topologyqueries.Cap_query\n",
    "NodeQuery=topologyqueries.Node_query\n",
    "\n",
    "\n",
    "print( time.process_time() - StartTime, \"seconds\")\n"
   ]
  },
  {
   "cell_type": "code",
   "execution_count": 3,
   "id": "6a782848",
   "metadata": {},
   "outputs": [
    {
     "ename": "NameError",
     "evalue": "name 'Node_query' is not defined",
     "output_type": "error",
     "traceback": [
      "\u001b[0;31m---------------------------------------------------------------------------\u001b[0m",
      "\u001b[0;31mNameError\u001b[0m                                 Traceback (most recent call last)",
      "\u001b[0;32m/tmp/ipykernel_17339/406929700.py\u001b[0m in \u001b[0;36m<module>\u001b[0;34m\u001b[0m\n\u001b[1;32m      5\u001b[0m \u001b[0mStartTime\u001b[0m \u001b[0;34m=\u001b[0m \u001b[0mtime\u001b[0m\u001b[0;34m.\u001b[0m\u001b[0mprocess_time\u001b[0m\u001b[0;34m(\u001b[0m\u001b[0;34m)\u001b[0m\u001b[0;34m\u001b[0m\u001b[0;34m\u001b[0m\u001b[0m\n\u001b[1;32m      6\u001b[0m \u001b[0;34m\u001b[0m\u001b[0m\n\u001b[0;32m----> 7\u001b[0;31m \u001b[0;32mfor\u001b[0m \u001b[0mi0\u001b[0m \u001b[0;32min\u001b[0m \u001b[0mrange\u001b[0m\u001b[0;34m(\u001b[0m\u001b[0mlen\u001b[0m\u001b[0;34m(\u001b[0m\u001b[0mNode_query\u001b[0m\u001b[0;34m)\u001b[0m\u001b[0;34m)\u001b[0m\u001b[0;34m:\u001b[0m\u001b[0;34m\u001b[0m\u001b[0;34m\u001b[0m\u001b[0m\n\u001b[0m\u001b[1;32m      8\u001b[0m     \u001b[0mnode\u001b[0m\u001b[0;34m=\u001b[0m\u001b[0mNode_query\u001b[0m\u001b[0;34m[\u001b[0m\u001b[0mi0\u001b[0m\u001b[0;34m]\u001b[0m\u001b[0;34m[\u001b[0m\u001b[0;34m'cnid'\u001b[0m\u001b[0;34m]\u001b[0m\u001b[0;34m[\u001b[0m\u001b[0;34m'value'\u001b[0m\u001b[0;34m]\u001b[0m\u001b[0;34m\u001b[0m\u001b[0;34m\u001b[0m\u001b[0m\n\u001b[1;32m      9\u001b[0m \u001b[0;34m\u001b[0m\u001b[0m\n",
      "\u001b[0;31mNameError\u001b[0m: name 'Node_query' is not defined"
     ]
    }
   ],
   "source": [
    "MeasurementQuery = topologyqueries.measurement_query(gapps, model_mrid)\n",
    "\n",
    "ConnNodeEquipDict = {}\n",
    "\n",
    "StartTime = time.process_time()\n",
    "\n",
    "for i0 in range(len( NodeQuery)):\n",
    "    node= NodeQuery[i0]['cnid']['value']\n",
    "\n",
    "    ConnNodeEquipDict[node] = {}\n",
    "    ConnNodeEquipDict[node]['name'] =  NodeQuery[i0]['busname']['value']\n",
    "    ConnNodeEquipDict[node]['TopologicalNode'] =  NodeQuery[i0]['tpnid']['value']\n",
    "    \n",
    "    ConnNodeEquipDict[node]['ACLineSegment'] = []\n",
    "    ConnNodeEquipDict[node]['Breaker'] = []\n",
    "    ConnNodeEquipDict[node]['EnergyConsumer'] = []\n",
    "    ConnNodeEquipDict[node]['Fuse'] = []\n",
    "    ConnNodeEquipDict[node]['LinearShuntCompensator'] = []\n",
    "    ConnNodeEquipDict[node]['LoadBreakSwitch'] = []\n",
    "    ConnNodeEquipDict[node]['PowerTransformer'] = []\n",
    "    ConnNodeEquipDict[node]['Recloser'] = []\n",
    "    ConnNodeEquipDict[node]['TransformerEnd'] = []    \n",
    "    ConnNodeEquipDict[node]['SynchronousMachine'] = []\n",
    "    ConnNodeEquipDict[node]['PowerElectronicsConnection'] = []\n",
    "    ConnNodeEquipDict[node]['measurements'] = []\n",
    "\n",
    "print('Processed ', i0+1, 'nodes in ', time.process_time() - StartTime, \"seconds\")"
   ]
  },
  {
   "cell_type": "code",
   "execution_count": null,
   "id": "f93191aa",
   "metadata": {},
   "outputs": [],
   "source": [
    "StartTime = time.process_time()\n",
    "\n",
    "for i1 in range(len(MeasurementQuery)):\n",
    "    node = MeasurementQuery[i1]['cnid']['value']\n",
    "    ConnNodeEquipDict[node]['measurements'].append(MeasurementQuery[i1]['measid']['value'])\n",
    "    if MeasurementQuery[i1]['eqid']['value'] not in ConnNodeEquipDict[node][MeasurementQuery[i1]['eqtype']['value']]:\n",
    "        ConnNodeEquipDict[node][MeasurementQuery[i1]['eqtype']['value']].append(MeasurementQuery[i1]['eqid']['value'])\n",
    "        \n",
    "print('Processed ', i1+1, 'measurement objects in ', time.process_time() - StartTime, \"seconds\")"
   ]
  },
  {
   "cell_type": "code",
   "execution_count": null,
   "id": "d0896070",
   "metadata": {},
   "outputs": [],
   "source": [
    "# Build LinkNet Lists of entire feeder\n",
    "[ConnNodeDict,TerminalsDict,TermList,NodeList]=linkedlist.build_linked_list(Line_query, XfmrDict, XfmrKeys, DG_query, Node_query)\n",
    "\n",
    "# Build second LinkNet List for only single voltage levels\n",
    "[MVConnNodeDict,MVTerminalsDict,MVTermList,MVNodeList]=linkedlist.build_linked_list(Line_query, {}, [], DG_query, Node_query)"
   ]
  },
  {
   "cell_type": "code",
   "execution_count": null,
   "id": "de26c523",
   "metadata": {},
   "outputs": [],
   "source": [
    "for i1 in range(len(SwitchKeys)):\n",
    "\n",
    "    ConnNodeDict[SwitchDict[SwitchKeys[i1]]['node1']]['switch.mRID'] = SwitchKeys[i1]\n",
    "    ConnNodeDict[SwitchDict[SwitchKeys[i1]]['node2']]['switch.mRID'] = SwitchKeys[i1]\n",
    "    MVConnNodeDict[SwitchDict[SwitchKeys[i1]]['node1']]['switch.mRID'] = SwitchKeys[i1]\n",
    "    MVConnNodeDict[SwitchDict[SwitchKeys[i1]]['node2']]['switch.mRID'] = SwitchKeys[i1]\n",
    "    \n",
    "    \n",
    "    "
   ]
  },
  {
   "cell_type": "code",
   "execution_count": null,
   "id": "58dc6497",
   "metadata": {},
   "outputs": [],
   "source": [
    "BaseConnDict = json.dumps(ConnNodeDict)\n",
    "BaseTermDict = json.dumps(TerminalsDict)"
   ]
  },
  {
   "cell_type": "code",
   "execution_count": null,
   "id": "10c01708",
   "metadata": {},
   "outputs": [],
   "source": [
    "[TerminalsDict, ConnNodeDict]=update_topology.topology_update(BaseConnDict,BaseTermDict,SwitchDict,SwitchKeys,TermList)\n",
    "\n",
    "SubstationRoots = []\n",
    "# Iterate through all substation transformers\n",
    "for i6 in range(len(XfmrKeys)):\n",
    "\n",
    "    # Identify if distribution substation transformer\n",
    "    if ((int(XfmrDict[XfmrKeys[i6]]['volt1']) >= 34000 and 34000 >= int(XfmrDict[XfmrKeys[i6]]['volt2']) > 1000) or \n",
    "        (int(XfmrDict[XfmrKeys[i6]]['volt2']) >= 34000 and 34000 >= int(XfmrDict[XfmrKeys[i6]]['volt1']) > 1000)):\n",
    "        SubstationRoots.append(XfmrKeys[i6])\n",
    "        \n",
    "[SubTree, ConnNodeDict] = SpanningTree(ConnNodeDict, TerminalsDict, NodeList, XfmrDict, SubstationRoots, 'single')"
   ]
  },
  {
   "cell_type": "code",
   "execution_count": null,
   "id": "4651e8f0",
   "metadata": {},
   "outputs": [],
   "source": [
    "ConnNodeDict = json.loads(BaseConnDict)\n",
    "TerminalsDict = json.loads(BaseTermDict)"
   ]
  },
  {
   "cell_type": "code",
   "execution_count": null,
   "id": "b31879b6",
   "metadata": {},
   "outputs": [],
   "source": [
    "[AllTrees, ConnNodeDict] = spanning_tree(ConnNodeDict, TerminalsDict, NodeList, SwitchDict, SwitchKeys, 'all')\n"
   ]
  },
  {
   "cell_type": "code",
   "execution_count": null,
   "id": "679ebc76",
   "metadata": {},
   "outputs": [],
   "source": [
    "DistAppStruct = {}\n",
    "DistAppStruct['feeders'] = {}\n",
    "DistAppStruct['feeders'][model_mrid] = {}\n",
    "DistAppStruct['feeders'][model_mrid]['addressabe_equipment'] = []\n",
    "DistAppStruct['feeders'][model_mrid]['unaddressabe_equipment'] = []\n",
    "DistAppStruct['feeders'][model_mrid]['switch_areas'] = []\n"
   ]
  },
  {
   "cell_type": "code",
   "execution_count": null,
   "id": "d240d13f",
   "metadata": {},
   "outputs": [],
   "source": [
    "[MVTrees, MVConnNodeDict] = spanning_tree(MVConnNodeDict, TerminalsDict, MVNodeList, SwitchDict, SwitchKeys, 'all')\n"
   ]
  },
  {
   "cell_type": "code",
   "execution_count": null,
   "id": "e1ad5f2c",
   "metadata": {},
   "outputs": [],
   "source": [
    "[MVTrees[SwitchKeys[i1]][0]]"
   ]
  },
  {
   "cell_type": "code",
   "execution_count": null,
   "id": "de03ba03",
   "metadata": {},
   "outputs": [],
   "source": [
    "ConnNodeDict[MVTrees[SwitchKeys[i1]][0]]"
   ]
  },
  {
   "cell_type": "code",
   "execution_count": null,
   "id": "835e0198",
   "metadata": {},
   "outputs": [],
   "source": [
    "ConnNodeDict['_5B9656C8-717E-4707-A2CA-A8994EC647E4']"
   ]
  },
  {
   "cell_type": "code",
   "execution_count": null,
   "id": "bf6f57b6",
   "metadata": {},
   "outputs": [],
   "source": [
    "for i1 in range(len(SwitchKeys)):\n",
    "    SwitchArea = {}\n",
    "    SwitchArea['boundary_switches'] = []\n",
    "    SwitchArea['addressable_equipment'] = []\n",
    "    SwitchArea['unaddressable_equipment'] = []\n",
    "    SwitchArea['connectivity_node'] = []\n",
    "    SwitchArea['secondary_areas'] = []\n",
    "    \n",
    "    for i2 in range(len(MVTrees[SwitchKeys[i1]])):\n",
    "        \n",
    "        SwitchArea['boundary_switches'].append(ConnNodeDict[MVTrees[SwitchKeys[i1]][i2]]['switch.mrid'])\n",
    "        "
   ]
  },
  {
   "cell_type": "code",
   "execution_count": null,
   "id": "50200e3b",
   "metadata": {},
   "outputs": [],
   "source": [
    "switch = '_1962A006-8FA7-403E-A06F-DCBFE991E771'\n",
    "for i8 in range(len(Tree[switch])):\n",
    "    print(ConnNodeDict[Tree[switch][i8]]['name'])"
   ]
  },
  {
   "cell_type": "code",
   "execution_count": null,
   "id": "4a764a41",
   "metadata": {},
   "outputs": [],
   "source": [
    "SwitchArea = {}\n",
    "SwitchArea['boundary_switches'] = []\n",
    "SwitchArea['boundary_switches'].append([])"
   ]
  },
  {
   "cell_type": "code",
   "execution_count": null,
   "id": "c1d350ca",
   "metadata": {},
   "outputs": [],
   "source": [
    "def spanning_tree(ConnNodeDict, TerminalsDict, NodeList, EquipDict, RootKeys, Scope):\n",
    "    Tree={}\n",
    "    #ProcessedNodes=[]\n",
    "    TotalNodes=0\n",
    "    StartTime = time.process_time()\n",
    "\n",
    "    # Iterate through all substation transformers\n",
    "    for i6 in range(len(RootKeys)):\n",
    "\n",
    "        FirstNode = 1 \n",
    "        LastNode = 2\n",
    "        # Set switch as rootnode \n",
    "        if 'node' in EquipDict[RootKeys[i6]]: # Check if 1-terminal object\n",
    "            Tree[RootKeys[i6]]=[EquipDict[RootKeys[i6]]['node']]\n",
    "        else: # Then 2-terminal object\n",
    "            Tree[RootKeys[i6]]=[EquipDict[RootKeys[i6]]['node1'], EquipDict[RootKeys[i6]]['node2']]\n",
    "\n",
    "        while LastNode != FirstNode:\n",
    "            NextTerm = ConnNodeDict[Tree[RootKeys[i6]][FirstNode]]['list']\n",
    "            FirstNode = FirstNode + 1\n",
    "            while NextTerm != 0:\n",
    "                # Get next node and terminal for current node\n",
    "                NextNode = TerminalsDict[TermList[NextTerm-1]]['far']\n",
    "                NextTerm = TerminalsDict[TermList[NextTerm-1]]['next']\n",
    "                node = NodeList[NextNode-1]\n",
    "                not_in_tree = True\n",
    "\n",
    "                if Scope == 'all': \n",
    "                    for i7 in range(len(Tree.keys())):\n",
    "                        if node in Tree[RootKeys[i7]]:\n",
    "                            not_in_tree = False\n",
    "                            break\n",
    "                else: \n",
    "                    if NodeList[NextNode-1] in Tree[RootKeys[i6]]: \n",
    "                        not_in_tree = False# Check if node already in all other tree\n",
    "                    \n",
    "\n",
    "                # Add node if not in another tree        \n",
    "                if not_in_tree:       \n",
    "                    if ConnNodeDict[node]['nomv']:\n",
    "                        if int(ConnNodeDict[node]['nomv']) < 34000 and int(ConnNodeDict[node]['nomv']) > 1000:\n",
    "                            Tree[RootKeys[i6]].append(NodeList[NextNode-1])\n",
    "                            LastNode = LastNode + 1                       \n",
    "                    else:\n",
    "                        Tree[RootKeys[i6]].append(NodeList[NextNode-1])\n",
    "                        LastNode = LastNode + 1\n",
    "\n",
    "        NodesInTree=len(Tree[RootKeys[i6]])\n",
    "        \n",
    "        \n",
    "        print(\"Processed topology from  \", RootKeys[i6], ' with ', NodesInTree, \" buses\")\n",
    "\n",
    "        #print(\"Processed topology from  \", EquipDict[RootKeys[i6]]['name'], \" with id \", RootKeys[i6], ' with ', NodesInTree, \" buses\")\n",
    "        TotalNodes=TotalNodes+NodesInTree\n",
    "\n",
    "    print(\"Processed \", len(Tree.keys()), \"topology trees containing \", TotalNodes, \" buses in \", time.process_time() - StartTime, \"seconds\")\n",
    "\n",
    "    return Tree, ConnNodeDict\n"
   ]
  },
  {
   "cell_type": "code",
   "execution_count": 7,
   "id": "5a9ef0aa",
   "metadata": {},
   "outputs": [],
   "source": [
    "QueryLines=\"\"\"\n",
    "    PREFIX r:  <http://www.w3.org/1999/02/22-rdf-syntax-ns#>\n",
    "    PREFIX c:  <http://iec.ch/TC57/CIM100#>\n",
    "    SELECT ?name ?bus1 ?bus2 ?id ?tname1 ?term1 ?tname2 ?term2 ?node1 ?node2 ?tpnode1 ?tpnode2 (group_concat(distinct ?phs;separator=\"\") as ?phases) WHERE {\n",
    "    SELECT ?name ?bus1 ?bus2 ?phs ?id ?tname1 ?term1 ?tname2 ?term2 ?node1 ?node2 ?tpnode1 ?tpnode2 WHERE {\n",
    "    VALUES ?fdrid {\"%s\"}  \n",
    "    VALUES ?id {'_869F4EB9-5E95-4B59-B76B-B04FAE942C85'}\n",
    "    ?fdr c:IdentifiedObject.mRID ?fdrid.\n",
    "    ?s r:type c:ACLineSegment.\n",
    "    ?s c:Equipment.EquipmentContainer ?fdr.\n",
    "    ?s c:IdentifiedObject.name ?name.\n",
    "    ?s c:IdentifiedObject.mRID ?id.\n",
    "    ?t1 c:Terminal.ConductingEquipment ?s.\n",
    "    ?t1 c:ACDCTerminal.sequenceNumber \"1\".\n",
    "    ?t1 c:Terminal.ConnectivityNode ?cn1. \n",
    "    ?t1 c:IdentifiedObject.name ?tname1.\n",
    "    ?cn1 c:IdentifiedObject.name ?bus1.\n",
    "    ?cn1 c:ConnectivityNode.TopologicalNode ?tp1.\n",
    "    ?t2 c:Terminal.ConductingEquipment ?s.\n",
    "    ?t2 c:ACDCTerminal.sequenceNumber \"2\".\n",
    "    ?t2 c:Terminal.ConnectivityNode ?cn2. \n",
    "    ?t2 c:IdentifiedObject.name ?tname2.\n",
    "    ?cn2 c:ConnectivityNode.TopologicalNode ?tp2.\n",
    "    ?cn2 c:IdentifiedObject.name ?bus2.\n",
    "    bind(strafter(str(?t),\"#\") as ?tid).\n",
    "        bind(strafter(str(?t1), \"#\") as ?term1) \n",
    "        bind(strafter(str(?t2), \"#\") as ?term2)\n",
    "        bind(strafter(str(?cn1), \"#\") as ?node1)\n",
    "        bind(strafter(str(?cn2), \"#\") as ?node2)\n",
    "        bind(strafter(str(?tp1), \"#\") as ?tpnode1)\n",
    "        bind(strafter(str(?tp2), \"#\") as ?tpnode2)\n",
    "            OPTIONAL {?acp c:ACLineSegmentPhase.ACLineSegment ?s.\n",
    "            ?acp c:ACLineSegmentPhase.phase ?phsraw.\n",
    "            bind(strafter(str(?phsraw),\"SinglePhaseKind.\") as ?phs) }\n",
    "\n",
    "    } ORDER BY ?name ?phs\n",
    "    }\n",
    "    GROUP BY ?name ?bus1 ?bus2 ?id ?tname1 ?term1 ?tname2 ?term2 ?node1 ?node2 ?tpnode1 ?tpnode2\n",
    "    ORDER BY ?name\n",
    "    \"\"\"%model_mrid\n",
    "results = gapps.query_data(query = QueryLines, timeout = 60)\n",
    "Line_query = results['data']['results']['bindings']"
   ]
  },
  {
   "cell_type": "code",
   "execution_count": 8,
   "id": "0e8cd404",
   "metadata": {},
   "outputs": [
    {
     "data": {
      "text/plain": [
       "[]"
      ]
     },
     "execution_count": 8,
     "metadata": {},
     "output_type": "execute_result"
    }
   ],
   "source": [
    "Line_query"
   ]
  }
 ],
 "metadata": {
  "kernelspec": {
   "display_name": "Python 3 (ipykernel)",
   "language": "python",
   "name": "python3"
  },
  "language_info": {
   "codemirror_mode": {
    "name": "ipython",
    "version": 3
   },
   "file_extension": ".py",
   "mimetype": "text/x-python",
   "name": "python",
   "nbconvert_exporter": "python",
   "pygments_lexer": "ipython3",
   "version": "3.8.5"
  }
 },
 "nbformat": 4,
 "nbformat_minor": 5
}
