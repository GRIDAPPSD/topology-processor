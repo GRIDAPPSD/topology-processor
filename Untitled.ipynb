{
 "cells": [
  {
   "cell_type": "code",
   "execution_count": 1,
   "id": "81145184",
   "metadata": {},
   "outputs": [],
   "source": [
    "import os, json, time\n",
    "from gridappsd import GridAPPSD, topics as t\n",
    "from gridappsd.topics import service_input_topic, service_output_topic\n",
    "from topology_processor.distributedtopology import DistributedTopology\n",
    "from topology_processor.topologydictionary import TopologyDictionary\n",
    "from topology_processor.networkmodel import NetworkModel\n",
    "from topology_processor import Parameter, ConnectionParameters, BlazegraphConnection\n",
    "\n",
    "# Blazegraph connection for running outside the container\n",
    "params = ConnectionParameters([Parameter(key=\"url\", value=\"http://localhost:8889/bigdata/namespace/kb/sparql\")])\n",
    "bg = BlazegraphConnection(params)\n",
    "\n"
   ]
  },
  {
   "cell_type": "code",
   "execution_count": 2,
   "id": "e969f10f",
   "metadata": {},
   "outputs": [],
   "source": [
    "#model_mrid = \"_EE71F6C9-56F0-4167-A14E-7F4C71F10EAA\"\n",
    "model_mrid = \"_49AD8E07-3BF9-A4E2-CB8F-C3722F837B62\"\n",
    "#model_mrid = \"_5B816B93-7A5F-B64C-8460-47C17D6E4B0F\"  # 13 assets\n",
    "#model_mrid = \"_C1C3E687-6FFD-C753-582B-632A27E28507\"  # 123 bus"
   ]
  },
  {
   "cell_type": "code",
   "execution_count": 3,
   "id": "8611d47f",
   "metadata": {},
   "outputs": [],
   "source": [
    "Topology = TopologyDictionary(bg, model_mrid)\n"
   ]
  },
  {
   "cell_type": "code",
   "execution_count": 4,
   "id": "7a02d61b",
   "metadata": {},
   "outputs": [],
   "source": [
    "network = NetworkModel(bg)\n"
   ]
  },
  {
   "cell_type": "code",
   "execution_count": 5,
   "id": "684466f7",
   "metadata": {},
   "outputs": [],
   "source": [
    "network.build_equip_dicts(model_mrid, Topology)"
   ]
  },
  {
   "cell_type": "code",
   "execution_count": 6,
   "id": "d27d09f1",
   "metadata": {},
   "outputs": [],
   "source": [
    "EqTypes = ['ACLineSegment', 'PowerTransformer', 'TransformerTank', 'SynchronousMachine', 'PowerElectronicsConnection']\n",
    "Topology.build_linknet(EqTypes)\n"
   ]
  },
  {
   "cell_type": "code",
   "execution_count": 7,
   "id": "96939fbf",
   "metadata": {},
   "outputs": [],
   "source": [
    "Topology.update_switches()\n"
   ]
  },
  {
   "cell_type": "code",
   "execution_count": 8,
   "id": "b2115feb",
   "metadata": {},
   "outputs": [
    {
     "ename": "AttributeError",
     "evalue": "'TopologyDictionary' object has no attribute 'log'",
     "output_type": "error",
     "traceback": [
      "\u001b[0;31m---------------------------------------------------------------------------\u001b[0m",
      "\u001b[0;31mAttributeError\u001b[0m                            Traceback (most recent call last)",
      "\u001b[0;32m/tmp/ipykernel_598196/3312690898.py\u001b[0m in \u001b[0;36m<module>\u001b[0;34m\u001b[0m\n\u001b[0;32m----> 1\u001b[0;31m \u001b[0mTopology\u001b[0m\u001b[0;34m.\u001b[0m\u001b[0mbuild_feeder_islands\u001b[0m\u001b[0;34m(\u001b[0m\u001b[0;34m)\u001b[0m\u001b[0;34m\u001b[0m\u001b[0;34m\u001b[0m\u001b[0m\n\u001b[0m",
      "\u001b[0;32m~/topology-processor/topology_processor/topologydictionary.py\u001b[0m in \u001b[0;36mbuild_feeder_islands\u001b[0;34m(self)\u001b[0m\n\u001b[1;32m    177\u001b[0m             \u001b[0;32mif\u001b[0m \u001b[0mvolt1\u001b[0m \u001b[0;34m>=\u001b[0m \u001b[0;36m34000\u001b[0m \u001b[0;32mand\u001b[0m \u001b[0;36m34000\u001b[0m \u001b[0;34m>=\u001b[0m \u001b[0mvolt2\u001b[0m \u001b[0;34m>=\u001b[0m \u001b[0;36m1000\u001b[0m\u001b[0;34m:\u001b[0m\u001b[0;34m\u001b[0m\u001b[0;34m\u001b[0m\u001b[0m\n\u001b[1;32m    178\u001b[0m                 \u001b[0mfdr\u001b[0m \u001b[0;34m=\u001b[0m \u001b[0mfdr\u001b[0m \u001b[0;34m+\u001b[0m \u001b[0;36m1\u001b[0m\u001b[0;34m\u001b[0m\u001b[0;34m\u001b[0m\u001b[0m\n\u001b[0;32m--> 179\u001b[0;31m                 \u001b[0mself\u001b[0m\u001b[0;34m.\u001b[0m\u001b[0mspanning_tree\u001b[0m\u001b[0;34m(\u001b[0m\u001b[0;34m'PowerTransformer'\u001b[0m\u001b[0;34m,\u001b[0m \u001b[0;34m[\u001b[0m\u001b[0mSubXfmr\u001b[0m\u001b[0;34m]\u001b[0m\u001b[0;34m,\u001b[0m \u001b[0mFeederTree\u001b[0m\u001b[0;34m,\u001b[0m \u001b[0;34m'single'\u001b[0m\u001b[0;34m)\u001b[0m\u001b[0;34m\u001b[0m\u001b[0;34m\u001b[0m\u001b[0m\n\u001b[0m\u001b[1;32m    180\u001b[0m                  \u001b[0;31m# Add nodes to Feeder dictionary\u001b[0m\u001b[0;34m\u001b[0m\u001b[0;34m\u001b[0m\u001b[0m\n\u001b[1;32m    181\u001b[0m                 \u001b[0mself\u001b[0m\u001b[0;34m.\u001b[0m\u001b[0mFeeders\u001b[0m\u001b[0;34m[\u001b[0m\u001b[0;34m'feeder_'\u001b[0m \u001b[0;34m+\u001b[0m \u001b[0mstr\u001b[0m\u001b[0;34m(\u001b[0m\u001b[0mfdr\u001b[0m\u001b[0;34m)\u001b[0m\u001b[0;34m]\u001b[0m \u001b[0;34m=\u001b[0m \u001b[0;34m{\u001b[0m\u001b[0;34m}\u001b[0m\u001b[0;34m\u001b[0m\u001b[0;34m\u001b[0m\u001b[0m\n",
      "\u001b[0;32m~/topology-processor/topology_processor/topologydictionary.py\u001b[0m in \u001b[0;36mspanning_tree\u001b[0;34m(self, eqtype, RootKeys, Tree, Scope)\u001b[0m\n\u001b[1;32m    320\u001b[0m \u001b[0;31m#             self.log.info(\"Processed topology from  \" + str(root) + ' with ' + str(len(Tree[root])) + \" buses\")\u001b[0m\u001b[0;34m\u001b[0m\u001b[0;34m\u001b[0m\u001b[0m\n\u001b[1;32m    321\u001b[0m \u001b[0;34m\u001b[0m\u001b[0m\n\u001b[0;32m--> 322\u001b[0;31m         \u001b[0;32mif\u001b[0m \u001b[0mroot\u001b[0m\u001b[0;34m:\u001b[0m \u001b[0mself\u001b[0m\u001b[0;34m.\u001b[0m\u001b[0mlog\u001b[0m\u001b[0;34m.\u001b[0m\u001b[0minfo\u001b[0m\u001b[0;34m(\u001b[0m\u001b[0;34m\"Processed \"\u001b[0m \u001b[0;34m+\u001b[0m \u001b[0mstr\u001b[0m\u001b[0;34m(\u001b[0m\u001b[0mlen\u001b[0m\u001b[0;34m(\u001b[0m\u001b[0mTree\u001b[0m\u001b[0;34m.\u001b[0m\u001b[0mkeys\u001b[0m\u001b[0;34m(\u001b[0m\u001b[0;34m)\u001b[0m\u001b[0;34m)\u001b[0m \u001b[0;34m-\u001b[0m \u001b[0mold_len\u001b[0m\u001b[0;34m)\u001b[0m \u001b[0;34m+\u001b[0m \u001b[0;34m\" topology trees containing \"\u001b[0m \u001b[0;34m+\u001b[0m \u001b[0mstr\u001b[0m\u001b[0;34m(\u001b[0m\u001b[0mTotalNodes\u001b[0m\u001b[0;34m+\u001b[0m\u001b[0mlen\u001b[0m\u001b[0;34m(\u001b[0m\u001b[0mTree\u001b[0m\u001b[0;34m[\u001b[0m\u001b[0mroot\u001b[0m\u001b[0;34m]\u001b[0m\u001b[0;34m)\u001b[0m\u001b[0;34m)\u001b[0m \u001b[0;34m+\u001b[0m \u001b[0;34m\" buses in \"\u001b[0m \u001b[0;34m+\u001b[0m \u001b[0mstr\u001b[0m\u001b[0;34m(\u001b[0m\u001b[0mround\u001b[0m\u001b[0;34m(\u001b[0m\u001b[0;36m1000\u001b[0m\u001b[0;34m*\u001b[0m\u001b[0;34m(\u001b[0m\u001b[0mtime\u001b[0m\u001b[0;34m.\u001b[0m\u001b[0mprocess_time\u001b[0m\u001b[0;34m(\u001b[0m\u001b[0;34m)\u001b[0m \u001b[0;34m-\u001b[0m \u001b[0mStartTime\u001b[0m\u001b[0;34m)\u001b[0m\u001b[0;34m)\u001b[0m\u001b[0;34m)\u001b[0m \u001b[0;34m+\u001b[0m \u001b[0;34m\" ms\"\u001b[0m\u001b[0;34m)\u001b[0m\u001b[0;34m\u001b[0m\u001b[0;34m\u001b[0m\u001b[0m\n\u001b[0m\u001b[1;32m    323\u001b[0m \u001b[0;34m\u001b[0m\u001b[0m\n\u001b[1;32m    324\u001b[0m         \u001b[0;32mreturn\u001b[0m \u001b[0mTree\u001b[0m\u001b[0;34m\u001b[0m\u001b[0;34m\u001b[0m\u001b[0m\n",
      "\u001b[0;31mAttributeError\u001b[0m: 'TopologyDictionary' object has no attribute 'log'"
     ]
    }
   ],
   "source": [
    "Topology.build_feeder_islands()"
   ]
  },
  {
   "cell_type": "raw",
   "id": "090a28dd",
   "metadata": {},
   "source": [
    "Topology.EquipDict['LoadBreakSwitch']['_494810CC-1A00-4EE8-8360-484FA7C19D01']['open'] = 0"
   ]
  },
  {
   "cell_type": "code",
   "execution_count": null,
   "id": "d071d5ab",
   "metadata": {},
   "outputs": [],
   "source": [
    "Topology.ConnNodeDict['_E0D6F386-AFB8-4037-BEC9-96963A9E866C']"
   ]
  },
  {
   "cell_type": "code",
   "execution_count": null,
   "id": "a11d5653",
   "metadata": {},
   "outputs": [],
   "source": [
    "Topology.EquipDict[root_type][root_id]"
   ]
  },
  {
   "cell_type": "code",
   "execution_count": null,
   "id": "d9c4aea9",
   "metadata": {},
   "outputs": [],
   "source": [
    "Topology.EquipDict['SynchronousMachine']"
   ]
  },
  {
   "cell_type": "code",
   "execution_count": null,
   "id": "6eb55414",
   "metadata": {},
   "outputs": [],
   "source": [
    "Topology.ConnNodeDict['_540F5DC1-E4E7-4B89-A600-0345BEF60651']"
   ]
  },
  {
   "cell_type": "code",
   "execution_count": null,
   "id": "2b490549",
   "metadata": {},
   "outputs": [],
   "source": [
    "Topology.TerminalsDict[Topology.TermList[10434]]"
   ]
  },
  {
   "cell_type": "code",
   "execution_count": null,
   "id": "b9ebc2cc",
   "metadata": {},
   "outputs": [],
   "source": [
    "Topology.TerminalsDict[Topology.TermList[3874]]"
   ]
  },
  {
   "cell_type": "code",
   "execution_count": null,
   "id": "0b96e0e7",
   "metadata": {},
   "outputs": [],
   "source": [
    "Topology.ConnNodeDict[Topology.TerminalsDict[Topology.TermList[2767]]['ConnectivityNode']]"
   ]
  },
  {
   "cell_type": "code",
   "execution_count": null,
   "id": "7dc70f02",
   "metadata": {},
   "outputs": [],
   "source": [
    "Topology.EquipDict['PowerElectronicsConnection']['_DAD1B6F0-D1E6-43BF-8E49-485DDA86EE31']"
   ]
  },
  {
   "cell_type": "code",
   "execution_count": null,
   "id": "40a6035b",
   "metadata": {},
   "outputs": [],
   "source": [
    "Topology.TerminalsDict[Topology.TermList[10603]]"
   ]
  },
  {
   "cell_type": "code",
   "execution_count": null,
   "id": "20de1f8f",
   "metadata": {},
   "outputs": [],
   "source": [
    "Topology.Islands"
   ]
  },
  {
   "cell_type": "code",
   "execution_count": null,
   "id": "b69a9e77",
   "metadata": {},
   "outputs": [],
   "source": [
    "for nodes in list(Topology.ConnNodeDict.keys()):\n",
    "    if not Topology.ConnNodeDict[nodes]['Feeder']:\n",
    "        print(Topology.ConnNodeDict[nodes]['name'])"
   ]
  },
  {
   "cell_type": "code",
   "execution_count": null,
   "id": "8891e87c",
   "metadata": {},
   "outputs": [],
   "source": [
    "DistTopo = DistributedTopology(gapps, model_mrid)\n",
    "message = DistTopo.create_switch_areas(model_mrid)"
   ]
  },
  {
   "cell_type": "code",
   "execution_count": null,
   "id": "74353976",
   "metadata": {},
   "outputs": [],
   "source": [
    "message"
   ]
  },
  {
   "cell_type": "code",
   "execution_count": null,
   "id": "405bad5e",
   "metadata": {},
   "outputs": [],
   "source": [
    "Topology.ConnNodeDict[\"_0A98A62D-7642-4F03-8317-A8605CBDBA37\"]"
   ]
  }
 ],
 "metadata": {
  "kernelspec": {
   "display_name": "Python 3 (ipykernel)",
   "language": "python",
   "name": "python3"
  },
  "language_info": {
   "codemirror_mode": {
    "name": "ipython",
    "version": 3
   },
   "file_extension": ".py",
   "mimetype": "text/x-python",
   "name": "python",
   "nbconvert_exporter": "python",
   "pygments_lexer": "ipython3",
   "version": "3.10.6"
  }
 },
 "nbformat": 4,
 "nbformat_minor": 5
}
