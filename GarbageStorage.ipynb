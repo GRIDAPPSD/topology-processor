{
 "cells": [
  {
   "cell_type": "markdown",
   "id": "3e74cc9a",
   "metadata": {},
   "source": [
    "## Add missing switch nodes to list"
   ]
  },
  {
   "cell_type": "code",
   "execution_count": null,
   "id": "65179585",
   "metadata": {},
   "outputs": [],
   "source": [
    "for i5 in range(len(Switch_query)):\n",
    "    bus1=Switch_query[i5]['bus1']['value']\n",
    "    bus2=Switch_query[i5]['bus2']['value']\n",
    "    term1=Switch_query[i5]['term1']['value']\n",
    "    term2=Switch_query[i5]['term2']['value']\n",
    "    node1=Switch_query[i5]['node1']['value']\n",
    "    node2=Switch_query[i5]['node2']['value']\n",
    "    tpnode1=Switch_query[i5]['tpnode1']['value']\n",
    "    tpnode2=Switch_query[i5]['tpnode2']['value']\n",
    "    \n",
    "    # THIS CODE IS EXACT SAME AS ABOVE FOR LINES, COULD PUT INTO FUNCTION OR CLASS THAT CAN BE CALLED\n",
    "    \n",
    "    # Create keys for new terminals\n",
    "    TerminalsDict[term1] = {}\n",
    "    TerminalsDict[term2] = {}\n",
    "    TerminalsDict[term1]['term'] = 2*(i5+i4+i3+i1)+1 #updated index, need to add to end of dict\n",
    "    TerminalsDict[term2]['term'] = 2*(i5+i4+i3+i1)+2\n",
    "    TermList.append(term1)\n",
    "    TermList.append(term2)\n",
    "    #TerminalsDict[term1]['phases'] = phases\n",
    "    #TerminalsDict[term2]['phases'] = phases\n",
    "    \n",
    "    # If node1 or node2 not in dict, create new keys\n",
    "    if not node1 in ConnNodeDict.keys():\n",
    "        ConnNodeDict[node1] = {}\n",
    "        ConnNodeDict[node1]['name'] = bus1\n",
    "        ConnNodeDict[node1]['node'] = index+1\n",
    "        ConnNodeDict[node1]['list'] = 0\n",
    "        ConnNodeDict[node1]['tpid'] = tpnode1\n",
    "        index = index+1\n",
    "        NodeList.append(node1)\n",
    "\n",
    "    if not node2 in ConnNodeDict.keys(): \n",
    "        ConnNodeDict[node2] = {}\n",
    "        ConnNodeDict[node2]['name'] = bus2\n",
    "        ConnNodeDict[node2]['node'] = index+1\n",
    "        ConnNodeDict[node2]['list'] = 0\n",
    "        ConnNodeDict[node2]['tpid'] = tpnode2\n",
    "        index = index+1\n",
    "        NodeList.append(node2)"
   ]
  },
  {
   "cell_type": "markdown",
   "id": "7ea200e1",
   "metadata": {},
   "source": [
    "## Add DG source nodes to list"
   ]
  },
  {
   "cell_type": "code",
   "execution_count": null,
   "id": "0d82d2e4",
   "metadata": {},
   "outputs": [],
   "source": [
    "for i4 in range(len(DG_query)):\n",
    "    node=DG_query[i4]['node']['value']\n",
    "    term=DG_query[i4]['term']['value']\n",
    "    \n",
    "    TerminalsDict[term] = {}\n",
    "    TerminalsDict[term]['term'] = 2*(i4+i3+i1)+1 #updated index, need to add to end of dict\n",
    "\n",
    "    if node not in ConnNodeDict.keys():\n",
    "        ConnNodeDict[node] = {}\n",
    "        ConnNodeDict[node]['name'] = DG_query[i4]['bus']['value']\n",
    "        ConnNodeDict[node]['node'] = index+1\n",
    "        ConnNodeDict[node]['list'] = 0\n",
    "        ConnNodeDict[node]['tpid'] = DG_query[i4]['tpid']['value']\n",
    "        index = index+1\n",
    "        NodeList.append(node1)"
   ]
  },
  {
   "cell_type": "code",
   "execution_count": null,
   "id": "e68b511c",
   "metadata": {},
   "outputs": [],
   "source": []
  }
 ],
 "metadata": {
  "kernelspec": {
   "display_name": "Python 3 (ipykernel)",
   "language": "python",
   "name": "python3"
  },
  "language_info": {
   "codemirror_mode": {
    "name": "ipython",
    "version": 3
   },
   "file_extension": ".py",
   "mimetype": "text/x-python",
   "name": "python",
   "nbconvert_exporter": "python",
   "pygments_lexer": "ipython3",
   "version": "3.8.5"
  }
 },
 "nbformat": 4,
 "nbformat_minor": 5
}
