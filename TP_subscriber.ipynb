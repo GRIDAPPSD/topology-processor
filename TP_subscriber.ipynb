{
 "cells": [
  {
   "cell_type": "code",
   "execution_count": 2,
   "id": "a81eece4",
   "metadata": {},
   "outputs": [],
   "source": [
    "# Import GridAPPSD-Python Library:\n",
    "from gridappsd import GridAPPSD\n",
    "\n",
    "# When developing locally, paste Simulation ID into this variable\n",
    "# When running inside docker, this is passed automatically by platform\n",
    "viz_simulation_id = \"1466395301\"\n"
   ]
  },
  {
   "cell_type": "code",
   "execution_count": 3,
   "id": "630d200c",
   "metadata": {},
   "outputs": [],
   "source": [
    "# Set environment variables - when developing, put environment variable in ~/.bashrc file or export in command line\n",
    "# export GRIDAPPSD_USER=system\n",
    "# export GRIDAPPSD_PASSWORD=manager\n",
    "\n",
    "import os # Set username a\n",
    "os.environ['GRIDAPPSD_USER'] = 'tutorial_user'\n",
    "os.environ['GRIDAPPSD_PASSWORD'] = '12345!'\n",
    "\n",
    "# Connect to GridAPPS-D Platform\n",
    "gapps = GridAPPSD(viz_simulation_id)\n",
    "assert gapps.connected"
   ]
  },
  {
   "cell_type": "code",
   "execution_count": 4,
   "id": "98b053e6",
   "metadata": {},
   "outputs": [],
   "source": [
    "output_topic = '/topic/goss.gridappsd.simulation.topologyprocessor.'+str(viz_simulation_id)+'.output'\n",
    "global Tree\n",
    "global ConnNodeDict\n",
    "\n",
    "\n",
    "def DemoTPsubscriber(header, message):\n",
    "\n",
    "    # Extract time and measurement values from message\n",
    "    timestamp = message[\"timestamp\"]\n",
    "    Tree = message[\"TopologyTree\"]\n",
    "    ConnNodeDict = message['ConnNodeDict']\n",
    "\n",
    "    Subs_list = list(Tree.keys())\n",
    "    Nodes_list = list(ConnNodeDict.keys())\n",
    "\n",
    "    print(ConnNodeDict[Nodes_list[0]])\n",
    "    print()\n",
    "    print(ConnNodeDict[Nodes_list[10]])\n",
    "    print()\n",
    "    print(ConnNodeDict[Nodes_list[20]])\n",
    "    print()\n",
    "    "
   ]
  },
  {
   "cell_type": "code",
   "execution_count": 5,
   "id": "8cac8d56",
   "metadata": {},
   "outputs": [
    {
     "name": "stdout",
     "output_type": "stream",
     "text": [
      "{'lines': ['293471'], 'line_ids': ['_D452370D-75B7-4290-A45A-797986AE0C29'], 'name': 'f739845', 'node': 1, 'list': 1428, 'tpid': '_D82C1E43-1EAD-44D5-BD28-19C3CBA94610', 'nomv': '12470', 'island': 'microturb-1'}\n",
      "\n",
      "{'lines': ['hvmv69s1s2-2', 'hvmv69s1s2-3'], 'line_ids': ['_CA5FE43B-B15A-456B-B271-885D634B56EA', '_F9A789EB-306E-495A-B95F-9B7FB60C054D'], 'name': 'hvmv69s1s2_3', 'node': 11, 'list': 25, 'tpid': '_1A0BA31C-99EF-4BE9-A796-A75C0CD5AEC9', 'nomv': '69000'}\n",
      "\n",
      "{'lines': ['hvmv_sub_connector'], 'line_ids': ['_2D6F52B0-2857-4EE0-8360-BBF00150CDAF'], 'name': 'hvmv11sub1_lsb', 'node': 21, 'list': 8618, 'tpid': '_AE561390-A79A-4999-9D82-4B7F39B19870', 'xfmr': ['feeder_reg1a_T2', 'feeder_reg1b_T2', 'feeder_reg1c_T2'], 'nomv': '12470', 'fdr_xfmr': ['hvmv69_11sub1_T2'], 'fdr_xfmr_id': ['_95DBCED6-E99E-4BB1-9229-899FB890050C']}\n",
      "\n",
      "{'lines': ['293471'], 'line_ids': ['_D452370D-75B7-4290-A45A-797986AE0C29'], 'name': 'f739845', 'node': 1, 'list': 1428, 'tpid': '_D82C1E43-1EAD-44D5-BD28-19C3CBA94610', 'nomv': '12470', 'fdr_xfmr': ['hvmv69_11sub2_T2'], 'fdr_xfmr_id': ['_E701C38C-E8A0-4AFB-AC86-2C03158AE33D']}\n",
      "\n",
      "{'lines': ['hvmv69s1s2-2', 'hvmv69s1s2-3'], 'line_ids': ['_CA5FE43B-B15A-456B-B271-885D634B56EA', '_F9A789EB-306E-495A-B95F-9B7FB60C054D'], 'name': 'hvmv69s1s2_3', 'node': 11, 'list': 25, 'tpid': '_1A0BA31C-99EF-4BE9-A796-A75C0CD5AEC9', 'nomv': '69000'}\n",
      "\n",
      "{'lines': ['hvmv_sub_connector'], 'line_ids': ['_2D6F52B0-2857-4EE0-8360-BBF00150CDAF'], 'name': 'hvmv11sub1_lsb', 'node': 21, 'list': 8618, 'tpid': '_AE561390-A79A-4999-9D82-4B7F39B19870', 'xfmr': ['feeder_reg1a_T2', 'feeder_reg1b_T2', 'feeder_reg1c_T2'], 'nomv': '12470', 'fdr_xfmr': ['hvmv69_11sub1_T2'], 'fdr_xfmr_id': ['_95DBCED6-E99E-4BB1-9229-899FB890050C']}\n",
      "\n",
      "{'lines': ['293471'], 'line_ids': ['_D452370D-75B7-4290-A45A-797986AE0C29'], 'name': 'f739845', 'node': 1, 'list': 1428, 'tpid': '_D82C1E43-1EAD-44D5-BD28-19C3CBA94610', 'nomv': '12470', 'island': 'microturb-1'}\n",
      "\n",
      "{'lines': ['hvmv69s1s2-2', 'hvmv69s1s2-3'], 'line_ids': ['_CA5FE43B-B15A-456B-B271-885D634B56EA', '_F9A789EB-306E-495A-B95F-9B7FB60C054D'], 'name': 'hvmv69s1s2_3', 'node': 11, 'list': 25, 'tpid': '_1A0BA31C-99EF-4BE9-A796-A75C0CD5AEC9', 'nomv': '69000'}\n",
      "\n",
      "{'lines': ['hvmv_sub_connector'], 'line_ids': ['_2D6F52B0-2857-4EE0-8360-BBF00150CDAF'], 'name': 'hvmv11sub1_lsb', 'node': 21, 'list': 8618, 'tpid': '_AE561390-A79A-4999-9D82-4B7F39B19870', 'xfmr': ['feeder_reg1a_T2', 'feeder_reg1b_T2', 'feeder_reg1c_T2'], 'nomv': '12470', 'fdr_xfmr': ['hvmv69_11sub1_T2'], 'fdr_xfmr_id': ['_95DBCED6-E99E-4BB1-9229-899FB890050C']}\n",
      "\n",
      "{'lines': ['293471'], 'line_ids': ['_D452370D-75B7-4290-A45A-797986AE0C29'], 'name': 'f739845', 'node': 1, 'list': 1428, 'tpid': '_D82C1E43-1EAD-44D5-BD28-19C3CBA94610', 'nomv': '12470', 'island': 'microturb-2'}\n",
      "\n",
      "{'lines': ['hvmv69s1s2-2', 'hvmv69s1s2-3'], 'line_ids': ['_CA5FE43B-B15A-456B-B271-885D634B56EA', '_F9A789EB-306E-495A-B95F-9B7FB60C054D'], 'name': 'hvmv69s1s2_3', 'node': 11, 'list': 25, 'tpid': '_1A0BA31C-99EF-4BE9-A796-A75C0CD5AEC9', 'nomv': '69000'}\n",
      "\n",
      "{'lines': ['hvmv_sub_connector'], 'line_ids': ['_2D6F52B0-2857-4EE0-8360-BBF00150CDAF'], 'name': 'hvmv11sub1_lsb', 'node': 21, 'list': 8618, 'tpid': '_AE561390-A79A-4999-9D82-4B7F39B19870', 'xfmr': ['feeder_reg1a_T2', 'feeder_reg1b_T2', 'feeder_reg1c_T2'], 'nomv': '12470', 'fdr_xfmr': ['hvmv69_11sub1_T2'], 'fdr_xfmr_id': ['_95DBCED6-E99E-4BB1-9229-899FB890050C']}\n",
      "\n",
      "{'lines': ['293471'], 'line_ids': ['_D452370D-75B7-4290-A45A-797986AE0C29'], 'name': 'f739845', 'node': 1, 'list': 1428, 'tpid': '_D82C1E43-1EAD-44D5-BD28-19C3CBA94610', 'nomv': '12470', 'fdr_xfmr': ['hvmv69_11sub1_T2'], 'fdr_xfmr_id': ['_95DBCED6-E99E-4BB1-9229-899FB890050C']}\n",
      "\n",
      "{'lines': ['hvmv69s1s2-2', 'hvmv69s1s2-3'], 'line_ids': ['_CA5FE43B-B15A-456B-B271-885D634B56EA', '_F9A789EB-306E-495A-B95F-9B7FB60C054D'], 'name': 'hvmv69s1s2_3', 'node': 11, 'list': 25, 'tpid': '_1A0BA31C-99EF-4BE9-A796-A75C0CD5AEC9', 'nomv': '69000'}\n",
      "\n",
      "{'lines': ['hvmv_sub_connector'], 'line_ids': ['_2D6F52B0-2857-4EE0-8360-BBF00150CDAF'], 'name': 'hvmv11sub1_lsb', 'node': 21, 'list': 8618, 'tpid': '_AE561390-A79A-4999-9D82-4B7F39B19870', 'xfmr': ['feeder_reg1a_T2', 'feeder_reg1b_T2', 'feeder_reg1c_T2'], 'nomv': '12470', 'fdr_xfmr': ['hvmv69_11sub1_T2'], 'fdr_xfmr_id': ['_95DBCED6-E99E-4BB1-9229-899FB890050C']}\n",
      "\n",
      "{'lines': ['293471'], 'line_ids': ['_D452370D-75B7-4290-A45A-797986AE0C29'], 'name': 'f739845', 'node': 1, 'list': 1428, 'tpid': '_D82C1E43-1EAD-44D5-BD28-19C3CBA94610', 'nomv': '12470', 'fdr_xfmr': ['hvmv69_11sub1_T2', 'hvmv69_11sub2_T2'], 'fdr_xfmr_id': ['_95DBCED6-E99E-4BB1-9229-899FB890050C', '_E701C38C-E8A0-4AFB-AC86-2C03158AE33D']}\n",
      "\n",
      "{'lines': ['hvmv69s1s2-2', 'hvmv69s1s2-3'], 'line_ids': ['_CA5FE43B-B15A-456B-B271-885D634B56EA', '_F9A789EB-306E-495A-B95F-9B7FB60C054D'], 'name': 'hvmv69s1s2_3', 'node': 11, 'list': 25, 'tpid': '_1A0BA31C-99EF-4BE9-A796-A75C0CD5AEC9', 'nomv': '69000'}\n",
      "\n",
      "{'lines': ['hvmv_sub_connector'], 'line_ids': ['_2D6F52B0-2857-4EE0-8360-BBF00150CDAF'], 'name': 'hvmv11sub1_lsb', 'node': 21, 'list': 8618, 'tpid': '_AE561390-A79A-4999-9D82-4B7F39B19870', 'xfmr': ['feeder_reg1a_T2', 'feeder_reg1b_T2', 'feeder_reg1c_T2'], 'nomv': '12470', 'fdr_xfmr': ['hvmv69_11sub1_T2', 'hvmv69_11sub2_T2'], 'fdr_xfmr_id': ['_95DBCED6-E99E-4BB1-9229-899FB890050C', '_E701C38C-E8A0-4AFB-AC86-2C03158AE33D']}\n",
      "\n"
     ]
    }
   ],
   "source": [
    "conn_id = gapps.subscribe(output_topic, DemoTPsubscriber)"
   ]
  },
  {
   "cell_type": "code",
   "execution_count": null,
   "id": "3e22e1c6",
   "metadata": {},
   "outputs": [],
   "source": []
  }
 ],
 "metadata": {
  "kernelspec": {
   "display_name": "Python 3 (ipykernel)",
   "language": "python",
   "name": "python3"
  },
  "language_info": {
   "codemirror_mode": {
    "name": "ipython",
    "version": 3
   },
   "file_extension": ".py",
   "mimetype": "text/x-python",
   "name": "python",
   "nbconvert_exporter": "python",
   "pygments_lexer": "ipython3",
   "version": "3.8.5"
  }
 },
 "nbformat": 4,
 "nbformat_minor": 5
}
