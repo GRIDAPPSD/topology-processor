{
 "cells": [
  {
   "cell_type": "code",
   "execution_count": 1,
   "metadata": {},
   "outputs": [],
   "source": [
    "import time, os, json\n",
    "from gridappsd import GridAPPSD\n",
    "from gridappsd.topics import service_output_topic\n",
    "os.environ['GRIDAPPSD_USER'] = 'tutorial_user'\n",
    "os.environ['GRIDAPPSD_PASSWORD'] = '12345!'\n",
    "global timestamp, feeders, islands"
   ]
  },
  {
   "cell_type": "code",
   "execution_count": 2,
   "metadata": {},
   "outputs": [],
   "source": [
    "def TopologySubscriber(header, message):\n",
    "    global timestamp, feeders, islands   \n",
    "    feeder_id = message['feeder_id']\n",
    "    timestamp = message['timestamp']\n",
    "    feeders = json.loads(message['feeders'])\n",
    "    islands = json.loads(message['islands'])\n",
    "\n",
    "    print('received message at', timestamp, 'for model ', feeder_id)\n",
    "    \n",
    "    for island_names in list(islands.keys()):\n",
    "        print('Topology Island ', island_names, 'with DERs:')\n",
    "        print(islands[island_names]['SynchronousMachine'])\n",
    "\n",
    "    for feeder_names in list(feeders.keys()):\n",
    "        print('Topology Feeder', feeder_names, 'from substation')\n",
    "        print(feeders[feeder_names]['PowerTransformer'])\n",
    "\n"
   ]
  },
  {
   "cell_type": "code",
   "execution_count": 3,
   "metadata": {},
   "outputs": [
    {
     "data": {
      "text/plain": [
       "'23197'"
      ]
     },
     "execution_count": 3,
     "metadata": {},
     "output_type": "execute_result"
    },
    {
     "name": "stdout",
     "output_type": "stream",
     "text": [
      "received message at 1644282399 for model  _EE71F6C9-56F0-4167-A14E-7F4C71F10EAA\n",
      "Topology Island  island_0 with DERs:\n",
      "['_43A528E9-A4EC-466F-BAE0-B06FF9AAB07C', '_62DDC18B-DFF3-4DE5-AA1B-97AE04720311', '_AE2F832D-D45F-44C6-A640-667F8A8D6E99']\n",
      "Topology Feeder feeder_0 from substation\n",
      "_95DBCED6-E99E-4BB1-9229-899FB890050C\n",
      "Topology Feeder feeder_1 from substation\n",
      "_E701C38C-E8A0-4AFB-AC86-2C03158AE33D\n",
      "Topology Feeder feeder_2 from substation\n",
      "_49F99DAD-8D58-49CE-979A-382CD0577D78\n",
      "received message at 1644282414 for model  _EE71F6C9-56F0-4167-A14E-7F4C71F10EAA\n",
      "Topology Feeder feeder_0 from substation\n",
      "_95DBCED6-E99E-4BB1-9229-899FB890050C\n",
      "Topology Feeder feeder_1 from substation\n",
      "_E701C38C-E8A0-4AFB-AC86-2C03158AE33D\n",
      "Topology Feeder feeder_2 from substation\n",
      "_49F99DAD-8D58-49CE-979A-382CD0577D78\n"
     ]
    }
   ],
   "source": [
    "simulation_id = '1341231249'\n",
    "\n",
    "topic = service_output_topic('gridappsd-topology-processor', simulation_id)\n",
    "gapps = GridAPPSD(simulation_id)\n",
    "assert gapps.connected\n",
    "gapps.subscribe(topic, TopologySubscriber)\n"
   ]
  },
  {
   "cell_type": "code",
   "execution_count": null,
   "metadata": {},
   "outputs": [],
   "source": []
  }
 ],
 "metadata": {
  "kernelspec": {
   "display_name": "Python 3",
   "language": "python",
   "name": "python3"
  },
  "language_info": {
   "codemirror_mode": {
    "name": "ipython",
    "version": 3
   },
   "file_extension": ".py",
   "mimetype": "text/x-python",
   "name": "python",
   "nbconvert_exporter": "python",
   "pygments_lexer": "ipython3",
   "version": "3.7.4"
  }
 },
 "nbformat": 4,
 "nbformat_minor": 5
}
