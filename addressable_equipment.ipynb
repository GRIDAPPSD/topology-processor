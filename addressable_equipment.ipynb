{
 "cells": [
  {
   "cell_type": "code",
   "execution_count": 1,
   "id": "cb2ce27a",
   "metadata": {},
   "outputs": [],
   "source": [
    "import argparse\n",
    "from datetime import datetime\n",
    "import json\n",
    "import logging\n",
    "import os\n",
    "import math\n",
    "import sys\n",
    "import time\n",
    "import topologyqueries,linkedlist,update_topology,spanning_tree\n",
    "\n",
    "from gridappsd import GridAPPSD, DifferenceBuilder, utils, topics as t\n",
    "from gridappsd.topics import simulation_input_topic, simulation_log_topic, simulation_output_topic\n",
    "\n",
    "\n",
    "#model_mrid = sim_request[\"power_system_config\"][\"Line_name\"]\n",
    "#model_mrid = \"_C125761E-9C21-4CA9-9271-B168150DE276\" #ieee13training\n",
    "model_mrid = \"_EE71F6C9-56F0-4167-A14E-7F4C71F10EAA\" #final9500node\n",
    "#model_mrid = \"_AAE94E4A-2465-6F5E-37B1-3E72183A4E44\" #test9500\n",
    "#model_mrid = \"_5B816B93-7A5F-B64C-8460-47C17D6E4B0F\" #ieee13assets\n",
    "#model_mrid=\"_C1C3E687-6FFD-C753-582B-632A27E28507\" # IEEE 123\n",
    "#model_mrid=\"_49AD8E07-3BF9-A4E2-CB8F-C3722F837B62\"\n",
    "\n",
    "requestedTime=1570041125\n",
    "\n",
    "\n",
    "\n",
    "global BaseConnDict,BaseTermDict,TermList, NodeList\n",
    "global XfmrKeys,XfmrDict,SwitchKeys,SwitchDict,DG_query\n",
    "\n",
    "os.environ['GRIDAPPSD_USER'] = 'app_user'\n",
    "os.environ['GRIDAPPSD_PASSWORD'] = '1234App'\n",
    "\n",
    "gapps = GridAPPSD()\n",
    "assert gapps.connected"
   ]
  },
  {
   "cell_type": "code",
   "execution_count": 2,
   "id": "6253e15a",
   "metadata": {},
   "outputs": [
    {
     "name": "stdout",
     "output_type": "stream",
     "text": [
      "Processed  5294 nodes in  0.043311889999999964 seconds\n"
     ]
    }
   ],
   "source": [
    "NodeQuery=topologyqueries.node_query(gapps,model_mrid)\n",
    "\n",
    "ConnNodeEquipDict = {}\n",
    "\n",
    "StartTime = time.process_time()\n",
    "\n",
    "for i0 in range(len(NodeQuery)):\n",
    "    node=NodeQuery[i0]['cnid']['value']\n",
    "\n",
    "    ConnNodeEquipDict[node] = {}\n",
    "    ConnNodeEquipDict[node]['name'] = NodeQuery[i0]['busname']['value']\n",
    "    ConnNodeEquipDict[node]['TopologicalNode'] = NodeQuery[i0]['tpnid']['value']\n",
    "    \n",
    "    ConnNodeEquipDict[node]['ACLineSegment'] = []\n",
    "    ConnNodeEquipDict[node]['Breaker'] = []\n",
    "    ConnNodeEquipDict[node]['EnergyConsumer'] = []\n",
    "    ConnNodeEquipDict[node]['Fuse'] = []\n",
    "    ConnNodeEquipDict[node]['LinearShuntCompensator'] = []\n",
    "    ConnNodeEquipDict[node]['LoadBreakSwitch'] = []\n",
    "    ConnNodeEquipDict[node]['PowerTransformer'] = []\n",
    "    ConnNodeEquipDict[node]['RatioTapChanger'] = []\n",
    "    ConnNodeEquipDict[node]['Recloser'] = []\n",
    "    ConnNodeEquipDict[node]['TransformerEnd'] = []    \n",
    "    ConnNodeEquipDict[node]['SynchronousMachine'] = []\n",
    "    ConnNodeEquipDict[node]['PowerElectronicsConnection'] = []\n",
    "    ConnNodeEquipDict[node]['measurements'] = []\n",
    "\n",
    "print('Processed ', i0+1, 'nodes in ', time.process_time() - StartTime, \"seconds\")\n"
   ]
  },
  {
   "cell_type": "code",
   "execution_count": 7,
   "id": "ea8c245d",
   "metadata": {},
   "outputs": [],
   "source": [
    "EquipDict = {}\n",
    "EquipDict['ACLineSegment'] = {}\n",
    "EquipDict['Breaker'] = {}\n",
    "EquipDict['EnergyConsumer'] = {}\n",
    "EquipDict['Fuse'] = {}\n",
    "EquipDict['LinearShuntCompensator'] = {}\n",
    "EquipDict['LoadBreakSwitch'] = {}\n",
    "EquipDict['PowerTransformer'] = {}\n",
    "EquipDict['RatioTapChanger'] = {}\n",
    "EquipDict['Recloser'] = {}\n",
    "EquipDict['TransformerTank'] = {}    \n",
    "EquipDict['SynchronousMachine'] = {}\n",
    "EquipDict['PowerElectronicsConnection'] = {}"
   ]
  },
  {
   "cell_type": "code",
   "execution_count": 8,
   "id": "784fe1cb",
   "metadata": {},
   "outputs": [],
   "source": [
    "MeasurementQuery=topologyqueries.measurement_query(gapps,model_mrid)"
   ]
  },
  {
   "cell_type": "code",
   "execution_count": 9,
   "id": "8a56dc60",
   "metadata": {},
   "outputs": [
    {
     "name": "stdout",
     "output_type": "stream",
     "text": [
      "Processed  22278 objects in  0.06203260199999994 seconds\n"
     ]
    }
   ],
   "source": [
    "StartTime = time.process_time()\n",
    "\n",
    "for i1 in range(len(MeasurementQuery)):    \n",
    "    node = MeasurementQuery[i1]['cnid']['value']\n",
    "    eqtype = MeasurementQuery[i1]['meastype']['value']\n",
    "    eqid = MeasurementQuery[i1]['eqid']['value']\n",
    "    \n",
    "    ConnNodeEquipDict[node]['measurements'].append(MeasurementQuery[i1]['measid']['value'])\n",
    "    if eqid not in ConnNodeEquipDict[node][eqtype]:\n",
    "        ConnNodeEquipDict[node][eqtype].append(eqid)\n",
    "        \n",
    "    if eqid not in EquipDict[eqtype]: EquipDict[eqtype][eqid] = {}\n",
    "        \n",
    "    if 'node1' in EquipDict[eqtype][eqid]:\n",
    "        if EquipDict[eqtype][eqid]['node1'] != node:\n",
    "            EquipDict[eqtype][eqid]['node2'] = node\n",
    "            EquipDict[eqtype][eqid]['term2'] = MeasurementQuery[i1]['trmid']['value']\n",
    "    else:\n",
    "        EquipDict[eqtype][eqid]['name'] = MeasurementQuery[i1]['eqname']['value']\n",
    "        EquipDict[eqtype][eqid]['node1'] = node\n",
    "        EquipDict[eqtype][eqid]['term1'] = MeasurementQuery[i1]['trmid']['value']\n",
    "        \n",
    "print('Processed ', i1+1, 'objects in ', time.process_time() - StartTime, \"seconds\")\n"
   ]
  },
  {
   "cell_type": "code",
   "execution_count": 10,
   "id": "4282ab12",
   "metadata": {},
   "outputs": [],
   "source": [
    "LineQuery = topologyqueries.line_query(gapps, model_mrid)\n",
    "[XfmrDict,XfmrKeys]=topologyqueries.transformer_query(gapps,model_mrid)\n",
    "\n",
    "eqtype = 'ACLineSegment'"
   ]
  },
  {
   "cell_type": "code",
   "execution_count": 11,
   "id": "b9f38005",
   "metadata": {},
   "outputs": [],
   "source": [
    "LineQuery = topologyqueries.line_query(gapps, model_mrid)\n",
    "\n",
    "eqtype = 'ACLineSegment'\n",
    "\n",
    "for i2 in range(len(LineQuery)):\n",
    "    \n",
    "    eqid = LineQuery[i2]['id']['value']\n",
    "    EquipDict['ACLineSegment'][eqid]['term1'] = LineQuery[i2]['term1']['value']\n",
    "    EquipDict['ACLineSegment'][eqid]['term2'] = LineQuery[i2]['term2']['value']\n",
    "    EquipDict['ACLineSegment'][eqid]['node1'] = LineQuery[i2]['node1']['value']\n",
    "    EquipDict['ACLineSegment'][eqid]['node2'] = LineQuery[i2]['node2']['value']"
   ]
  },
  {
   "cell_type": "code",
   "execution_count": 12,
   "id": "1fb2af4e",
   "metadata": {},
   "outputs": [],
   "source": [
    "QueryXfmrs=\"\"\"\n",
    "    # list all the terminals connected to a TransformerEnd for CIMWriter\n",
    "    PREFIX r:  <http://www.w3.org/1999/02/22-rdf-syntax-ns#>\n",
    "    PREFIX c:  <http://iec.ch/TC57/CIM100#>\n",
    "    SELECT ?class ?eqid ?endid ?tname ?tid ?bus ?cnid ?tpid ?seq ?phs ?ratedu WHERE {\n",
    "    VALUES ?fdrid {\"%s\"} \n",
    "    ?fdr c:IdentifiedObject.mRID ?fdrid.\n",
    "    {?pxf c:Equipment.EquipmentContainer ?fdr.\n",
    "    ?end c:PowerTransformerEnd.PowerTransformer ?pxf.\n",
    "    ?end c:PowerTransformerEnd.ratedU ?ratedu.\n",
    "    ?pxf c:IdentifiedObject.mRID ?eqid.\n",
    "    }\n",
    "    UNION\n",
    "    {?tank c:Equipment.EquipmentContainer ?fdr.\n",
    "    ?end c:TransformerTankEnd.TransformerTank ?tank.\n",
    "    ?tank c:IdentifiedObject.mRID ?eqid.\n",
    "    ?end c:TransformerTankEnd.phases ?ph.\n",
    "    }\n",
    "    ?end c:TransformerEnd.Terminal ?t.\n",
    "    ?t c:Terminal.ConnectivityNode ?cn. \n",
    "    ?t c:IdentifiedObject.name ?tname.\n",
    "\n",
    "    ?cn c:ConnectivityNode.TopologicalNode ?tp.\n",
    "    ?cn c:IdentifiedObject.name ?bus.\n",
    "    ?t c:ACDCTerminal.sequenceNumber ?seq.\n",
    "    bind(strafter(str(?end),\"#\") as ?endid).\n",
    "    bind(strafter(str(?t),\"#\") as ?tid).\n",
    "    bind(strafter(str(?cn),\"#\") as ?cnid).\n",
    "    bind(strafter(str(?tp),\"#\") as ?tpid).\n",
    "    bind(strbefore(str(?endclass), \"E\") as ?class)\n",
    "    bind(strafter(str(?ph),\"e.\") as ?phs).\n",
    "    ?end a ?classraw.\n",
    "    bind(strafter(str(?classraw),\"CIM100#\") as ?endclass)\n",
    "    }\n",
    "    ORDER by ?class ?eqid ?tname ?endid ?bus ?cnid ?tpid ?seq ?phs ?ratedu\n",
    "    \"\"\"%model_mrid\n",
    "results = gapps.query_data(query = QueryXfmrs, timeout = 60)\n",
    "XfmrQuery = results['data']['results']['bindings']"
   ]
  },
  {
   "cell_type": "code",
   "execution_count": 13,
   "id": "dcecca3c",
   "metadata": {},
   "outputs": [],
   "source": [
    "# Build dictionary of FROM-TO nodes for all transformers\n",
    "for i2 in range(len(XfmrQuery)):\n",
    "    eqtype = XfmrQuery[i2]['class']['value']\n",
    "    eqid=XfmrQuery[i2]['eqid']['value']\n",
    "    seq=XfmrQuery[i2]['seq']['value']\n",
    "    \n",
    "    if eqid not in EquipDict[eqtype]:\n",
    "        EquipDict[eqtype][eqid] = {}\n",
    "\n",
    "\n",
    "    # Identify terminal sequence and create keys for new terminals\n",
    "    if seq == '1' or seq == 1:\n",
    "        # Primary winding\n",
    "        EquipDict[eqtype][eqid]['bus1']=XfmrQuery[i2]['bus']['value']\n",
    "        EquipDict[eqtype][eqid]['term1']=XfmrQuery[i2]['tid']['value']\n",
    "        EquipDict[eqtype][eqid]['node1']=XfmrQuery[i2]['cnid']['value']\n",
    "        EquipDict[eqtype][eqid]['tpnode1']=XfmrQuery[i2]['tpid']['value']\n",
    "        EquipDict[eqtype][eqid]['tname1']=XfmrQuery[i2]['tname']['value']\n",
    "        \n",
    "        if 'ratedu' in XfmrQuery[i2]: EquipDict[eqtype][eqid]['volt1']=int(float(XfmrQuery[i2]['ratedu']['value']))\n",
    "        else: EquipDict[eqtype][eqid]['volt1']=0\n",
    "        if 'phs' in XfmrQuery[i2]: EquipDict[eqtype][eqid]['phase1']=XfmrQuery[i2]['phs']['value'] \n",
    "        else: EquipDict[eqtype][eqid]['phase1']={}\n",
    "\n",
    "    elif seq == '2' or seq == 2:\n",
    "        EquipDict[eqtype][eqid]['bus2']=XfmrQuery[i2]['bus']['value']\n",
    "        EquipDict[eqtype][eqid]['term2']=XfmrQuery[i2]['tid']['value']\n",
    "        EquipDict[eqtype][eqid]['node2']=XfmrQuery[i2]['cnid']['value']\n",
    "        EquipDict[eqtype][eqid]['tpnode2']=XfmrQuery[i2]['tpid']['value']\n",
    "        EquipDict[eqtype][eqid]['tname2']=XfmrQuery[i2]['tname']['value']\n",
    "        \n",
    "        if 'ratedu' in XfmrQuery[i2]: EquipDict[eqtype][eqid]['volt2']=int(float(XfmrQuery[i2]['ratedu']['value']))\n",
    "        else: EquipDict[eqtype][eqid]['volt2']=0\n",
    "        if 'phs' in XfmrQuery[i2]: EquipDict[eqtype][eqid]['phase2']=XfmrQuery[i2]['phs']['value'] \n",
    "        else: EquipDict[eqtype][eqid]['phase2']={}\n",
    "\n",
    "    elif seq == '3' or seq == 3:\n",
    "        EquipDict[eqtype][eqid]['bus3']=XfmrQuery[i2]['bus']['value']\n",
    "        EquipDict[eqtype][eqid]['term3']=XfmrQuery[i2]['tid']['value']\n",
    "        EquipDict[eqtype][eqid]['node3']=XfmrQuery[i2]['cnid']['value']\n",
    "        EquipDict[eqtype][eqid]['tpnode3']=XfmrQuery[i2]['tpid']['value']\n",
    "        EquipDict[eqtype][eqid]['tname3']=XfmrQuery[i2]['tname']['value']\n",
    "        \n",
    "        if 'ratedu' in XfmrQuery[i2]: EquipDict[eqtype][eqid]['volt3']=int(float(XfmrQuery[i2]['ratedu']['value']))\n",
    "        else: EquipDict[eqtype][eqid]['volt3']=0\n",
    "        if 'phs' in XfmrQuery[i2]: EquipDict[eqtype][eqid]['phase3']=XfmrQuery[i2]['phs']['value'] \n",
    "        else: EquipDict[eqtype][eqid]['phase3']={}\n",
    "    else:\n",
    "        raise ValueError('Unsupported transformer sequence value ', seq)"
   ]
  },
  {
   "cell_type": "code",
   "execution_count": null,
   "id": "ef49a644",
   "metadata": {},
   "outputs": [],
   "source": [
    "i2"
   ]
  },
  {
   "cell_type": "code",
   "execution_count": null,
   "id": "72a425d5",
   "metadata": {},
   "outputs": [],
   "source": [
    "XfmrQuery[i2]"
   ]
  },
  {
   "cell_type": "code",
   "execution_count": 43,
   "id": "08fcd068",
   "metadata": {},
   "outputs": [],
   "source": [
    "index=0\n",
    "TerminalsDict = {}\n",
    "NodeList = []\n",
    "TermList = []\n",
    "\n",
    "StartTime = time.process_time()\n",
    "\n",
    "eqtype = 'ACLineSegment'\n",
    "\n",
    "SwitchKeys = list(EquipDict['Breaker'].keys()) + list(EquipDict['Fuse'].keys()) + list(EquipDict['LoadBreakSwitch'].keys()) + list(EquipDict['Recloser'].keys())\n",
    "\n"
   ]
  },
  {
   "cell_type": "code",
   "execution_count": 44,
   "id": "a5a8d37e",
   "metadata": {},
   "outputs": [
    {
     "name": "stdout",
     "output_type": "stream",
     "text": [
      "Processed  11 PowerTransformer objects in  0.0004721610000002485 seconds\n"
     ]
    }
   ],
   "source": [
    "StartTime = time.process_time()\n",
    "\n",
    "eqtype = 'PowerTransformer'\n",
    "\n",
    "EquipKeys = list(EquipDict[eqtype])\n",
    "\n",
    "for i1 in range(len(EquipKeys)):\n",
    "\n",
    "    term1=EquipDict[eqtype][EquipKeys[i1]]['term1']\n",
    "    term2=EquipDict[eqtype][EquipKeys[i1]]['term2']\n",
    "    node1=EquipDict[eqtype][EquipKeys[i1]]['node1']\n",
    "    node2=EquipDict[eqtype][EquipKeys[i1]]['node2']\n",
    "\n",
    "    # Create keys for new terminals\n",
    "    TerminalsDict[term1] = {}\n",
    "    TerminalsDict[term2] = {}\n",
    "    TerminalsDict[term1]['term'] = 2*i1+1\n",
    "    TerminalsDict[term2]['term'] = 2*i1+2\n",
    "    TermList.append(term1)\n",
    "    TermList.append(term2)\n",
    "\n",
    "    # If node1 or node2 not in dict, create new keys\n",
    "    if 'node' not in ConnNodeEquipDict[node1]:\n",
    "        ConnNodeEquipDict[node1]['node'] = index+1\n",
    "        ConnNodeEquipDict[node1]['list'] = 0\n",
    "        index = index+1\n",
    "        NodeList.append(node1)\n",
    "\n",
    "    if 'node' not in ConnNodeEquipDict[node2]: \n",
    "        ConnNodeEquipDict[node2]['node'] = index+1\n",
    "        ConnNodeEquipDict[node2]['list'] = 0\n",
    "        index = index+1\n",
    "        NodeList.append(node2)\n",
    "\n",
    "    # 1. Move node list variables to terinal next    \n",
    "    TerminalsDict[term1]['next'] = ConnNodeEquipDict[node1]['list']\n",
    "    TerminalsDict[term2]['next'] = ConnNodeEquipDict[node2]['list']\n",
    "\n",
    "    # 2. Populate Terminal list far field with nodes\n",
    "    TerminalsDict[term1]['far'] = ConnNodeEquipDict[node2]['node']\n",
    "    TerminalsDict[term2]['far'] = ConnNodeEquipDict[node1]['node']\n",
    "\n",
    "    # 3. Populate Connectivity nodes list with terminals\n",
    "    ConnNodeEquipDict[node1]['list'] = TerminalsDict[term1]['term']\n",
    "    ConnNodeEquipDict[node2]['list'] = TerminalsDict[term2]['term']\n",
    "\n",
    "\n",
    "print(\"Processed \", i1+1, eqtype, \"objects in \", time.process_time() - StartTime, \"seconds\")\n"
   ]
  },
  {
   "cell_type": "code",
   "execution_count": 30,
   "id": "58dc6497",
   "metadata": {},
   "outputs": [],
   "source": [
    "BaseConnDict = json.dumps(ConnNodeEquipDict)\n",
    "BaseTermDict = json.dumps(TerminalsDict)"
   ]
  },
  {
   "cell_type": "code",
   "execution_count": 45,
   "id": "10c01708",
   "metadata": {},
   "outputs": [
    {
     "ename": "KeyError",
     "evalue": "'open'",
     "output_type": "error",
     "traceback": [
      "\u001b[0;31m---------------------------------------------------------------------------\u001b[0m",
      "\u001b[0;31mKeyError\u001b[0m                                  Traceback (most recent call last)",
      "\u001b[0;32m/tmp/ipykernel_20768/3298930247.py\u001b[0m in \u001b[0;36m<module>\u001b[0;34m\u001b[0m\n\u001b[0;32m----> 1\u001b[0;31m \u001b[0;34m[\u001b[0m\u001b[0mTerminalsDict\u001b[0m\u001b[0;34m,\u001b[0m \u001b[0mConnNodeDict\u001b[0m\u001b[0;34m]\u001b[0m\u001b[0;34m=\u001b[0m\u001b[0mupdate_topology\u001b[0m\u001b[0;34m.\u001b[0m\u001b[0mtopology_update\u001b[0m\u001b[0;34m(\u001b[0m\u001b[0mBaseConnDict\u001b[0m\u001b[0;34m,\u001b[0m\u001b[0mBaseTermDict\u001b[0m\u001b[0;34m,\u001b[0m\u001b[0mEquipDict\u001b[0m\u001b[0;34m[\u001b[0m\u001b[0;34m'LoadBreakSwitch'\u001b[0m\u001b[0;34m]\u001b[0m\u001b[0;34m,\u001b[0m\u001b[0mSwitchKeys\u001b[0m\u001b[0;34m,\u001b[0m\u001b[0mTermList\u001b[0m\u001b[0;34m)\u001b[0m\u001b[0;34m\u001b[0m\u001b[0;34m\u001b[0m\u001b[0m\n\u001b[0m\u001b[1;32m      2\u001b[0m \u001b[0;34m\u001b[0m\u001b[0m\n\u001b[1;32m      3\u001b[0m \u001b[0mSubstationRoots\u001b[0m \u001b[0;34m=\u001b[0m \u001b[0;34m[\u001b[0m\u001b[0;34m]\u001b[0m\u001b[0;34m\u001b[0m\u001b[0;34m\u001b[0m\u001b[0m\n\u001b[1;32m      4\u001b[0m \u001b[0;31m# Iterate through all substation transformers\u001b[0m\u001b[0;34m\u001b[0m\u001b[0;34m\u001b[0m\u001b[0;34m\u001b[0m\u001b[0m\n\u001b[1;32m      5\u001b[0m \u001b[0;32mfor\u001b[0m \u001b[0mi6\u001b[0m \u001b[0;32min\u001b[0m \u001b[0mrange\u001b[0m\u001b[0;34m(\u001b[0m\u001b[0mlen\u001b[0m\u001b[0;34m(\u001b[0m\u001b[0mXfmrKeys\u001b[0m\u001b[0;34m)\u001b[0m\u001b[0;34m)\u001b[0m\u001b[0;34m:\u001b[0m\u001b[0;34m\u001b[0m\u001b[0;34m\u001b[0m\u001b[0m\n",
      "\u001b[0;32m~/topology-processor/update_topology.py\u001b[0m in \u001b[0;36mtopology_update\u001b[0;34m(BaseConnDict, BaseTermDict, SwitchDict, SwitchKeys, TermList)\u001b[0m\n\u001b[1;32m     18\u001b[0m \u001b[0;34m\u001b[0m\u001b[0m\n\u001b[1;32m     19\u001b[0m         \u001b[0;31m# If switch closed, merge nodes\u001b[0m\u001b[0;34m\u001b[0m\u001b[0;34m\u001b[0m\u001b[0;34m\u001b[0m\u001b[0m\n\u001b[0;32m---> 20\u001b[0;31m         \u001b[0;32mif\u001b[0m \u001b[0mSwitchDict\u001b[0m\u001b[0;34m[\u001b[0m\u001b[0mSwitchKeys\u001b[0m\u001b[0;34m[\u001b[0m\u001b[0mi5\u001b[0m\u001b[0;34m]\u001b[0m\u001b[0;34m]\u001b[0m\u001b[0;34m[\u001b[0m\u001b[0;34m'open'\u001b[0m\u001b[0;34m]\u001b[0m \u001b[0;34m==\u001b[0m \u001b[0;36m1\u001b[0m\u001b[0;34m:\u001b[0m\u001b[0;34m\u001b[0m\u001b[0;34m\u001b[0m\u001b[0m\n\u001b[0m\u001b[1;32m     21\u001b[0m             \u001b[0;31m# Merge topology Nodes\u001b[0m\u001b[0;34m\u001b[0m\u001b[0;34m\u001b[0m\u001b[0;34m\u001b[0m\u001b[0m\n\u001b[1;32m     22\u001b[0m             \u001b[0;31m#ConnNodeDict[node1]['tpid'] = tpnode1\u001b[0m\u001b[0;34m\u001b[0m\u001b[0;34m\u001b[0m\u001b[0;34m\u001b[0m\u001b[0m\n",
      "\u001b[0;31mKeyError\u001b[0m: 'open'"
     ]
    }
   ],
   "source": [
    "[TerminalsDict, ConnNodeDict]=update_topology.topology_update(BaseConnDict,BaseTermDict,EquipDict['LoadBreakSwitch'],SwitchKeys,TermList)\n",
    "\n",
    "SubstationRoots = []\n",
    "# Iterate through all substation transformers\n",
    "for i6 in range(len(XfmrKeys)):\n",
    "\n",
    "    # Identify if distribution substation transformer\n",
    "    if ((int(XfmrDict[XfmrKeys[i6]]['volt1']) >= 34000 and 34000 >= int(XfmrDict[XfmrKeys[i6]]['volt2']) > 1000) or \n",
    "        (int(XfmrDict[XfmrKeys[i6]]['volt2']) >= 34000 and 34000 >= int(XfmrDict[XfmrKeys[i6]]['volt1']) > 1000)):\n",
    "        SubstationRoots.append(XfmrKeys[i6])\n",
    "        \n",
    "[SubTree, ConnNodeDict] = SpanningTree(ConnNodeDict, TerminalsDict, NodeList, XfmrDict, SubstationRoots, 'single')"
   ]
  },
  {
   "cell_type": "code",
   "execution_count": 34,
   "id": "4cdca822",
   "metadata": {},
   "outputs": [
    {
     "ename": "TypeError",
     "evalue": "unhashable type: 'list'",
     "output_type": "error",
     "traceback": [
      "\u001b[0;31m---------------------------------------------------------------------------\u001b[0m",
      "\u001b[0;31mTypeError\u001b[0m                                 Traceback (most recent call last)",
      "\u001b[0;32m/tmp/ipykernel_20768/508760724.py\u001b[0m in \u001b[0;36m<module>\u001b[0;34m\u001b[0m\n\u001b[0;32m----> 1\u001b[0;31m \u001b[0mEquipDict\u001b[0m\u001b[0;34m[\u001b[0m\u001b[0;34m'LoadBreakSwitch'\u001b[0m\u001b[0;34m]\u001b[0m\u001b[0;34m[\u001b[0m\u001b[0mSwitchKeys\u001b[0m\u001b[0;34m[\u001b[0m\u001b[0;36m0\u001b[0m\u001b[0;34m]\u001b[0m\u001b[0;34m]\u001b[0m\u001b[0;34m\u001b[0m\u001b[0;34m\u001b[0m\u001b[0m\n\u001b[0m",
      "\u001b[0;31mTypeError\u001b[0m: unhashable type: 'list'"
     ]
    }
   ],
   "source": [
    "EquipDict['LoadBreakSwitch'][SwitchKeys[0]]"
   ]
  },
  {
   "cell_type": "code",
   "execution_count": 37,
   "id": "0f018f33",
   "metadata": {},
   "outputs": [
    {
     "data": {
      "text/plain": [
       "[]"
      ]
     },
     "execution_count": 37,
     "metadata": {},
     "output_type": "execute_result"
    }
   ],
   "source": [
    "SwitchKeys[0]"
   ]
  },
  {
   "cell_type": "code",
   "execution_count": null,
   "id": "cccb5736",
   "metadata": {},
   "outputs": [],
   "source": [
    "EquipDict['TransformerTank']"
   ]
  },
  {
   "cell_type": "code",
   "execution_count": null,
   "id": "526b5145",
   "metadata": {},
   "outputs": [],
   "source": [
    "EquipDict['PowerTransformer']"
   ]
  },
  {
   "cell_type": "code",
   "execution_count": null,
   "id": "b6486394",
   "metadata": {},
   "outputs": [],
   "source": [
    "ConnNodeEquipDict['_0018BD86-235A-4FF5-AA48-FF9AAE39A5DC']"
   ]
  },
  {
   "cell_type": "code",
   "execution_count": null,
   "id": "2ade3db1",
   "metadata": {},
   "outputs": [],
   "source": [
    "from gridappsd import topics as t\n",
    "topic = t.REQUEST_POWERGRID_DATA\n",
    "\n",
    "message = {\n",
    "    \"requestType\": \"QUERY_OBJECT_DICT\",\n",
    "    \"modelId\": model_mrid,\n",
    "    \"objectId\": '_37CB05CE-CA08-429A-8EE3-90D25D670095',\n",
    "    \"resultFormat\": \"JSON\"\n",
    "}\n",
    "\n",
    "gapps.get_response(topic, message)"
   ]
  },
  {
   "cell_type": "code",
   "execution_count": 41,
   "id": "b1ee5879",
   "metadata": {},
   "outputs": [
    {
     "data": {
      "text/plain": [
       "['_0E52F4F9-FADC-44B9-9E39-56DB1D7D24EC',\n",
       " '_78F06431-CF1E-4B68-A697-286110E282FD',\n",
       " '_C2D45253-1D4D-4EEC-90D9-494DB20F3A12',\n",
       " '_E56BC77B-6895-4243-ABFC-EA44A3E8AAE2',\n",
       " '_AE956C4E-F042-44DB-9C59-3B174F194A47',\n",
       " '_2988C4A4-4F1A-4E2F-8947-E79A582DE021',\n",
       " '_3D0102AA-CAF2-4B6D-AE76-A4917B67CA28',\n",
       " '_30524041-67D4-4EB1-B24C-B4529551BD59',\n",
       " '_2B5E5BC3-D51D-426C-B641-15A4164B53F9',\n",
       " '_259C6A1D-5166-4BE5-99AC-340D79FC6594',\n",
       " '_C94B941E-4194-4E8E-A2D3-503E90FF2567',\n",
       " '_549E89B5-674E-4496-8DF2-0FFB51A452E0',\n",
       " '_F6303741-6084-40C7-B1E1-0F403ED44045',\n",
       " '_B8F09530-E487-482F-80FC-DF4ED4F9E599',\n",
       " '_EE4F6F97-631C-4B88-89E9-E10DF9D6A1F3',\n",
       " '_AEFE76EA-0C3A-4AAD-B7A5-D555E20E5DFC',\n",
       " '_93D769CA-3433-45C9-BDD2-457CD9A7D4F8',\n",
       " '_54A14BCF-DEB9-4573-BDC2-2C9AA9B3549A',\n",
       " '_1962A006-8FA7-403E-A06F-DCBFE991E771',\n",
       " '_EE49C3F2-1112-4C9C-B7FA-9BFFD48012FC',\n",
       " '_6E02C969-6515-495F-9BA9-721FDC7681DB',\n",
       " '_08B461A2-891B-4EA8-84FE-1BA27DC970D1',\n",
       " '_E2A4AA42-3173-487C-BC94-F0517E5F5D30',\n",
       " '_F021E6AD-247C-4AC8-9B10-96D9CFC214EF',\n",
       " '_BD68B06A-0654-40ED-B1D2-DC9CF0C9363A',\n",
       " '_6461FC9F-5373-4A7E-95D9-36E81FD735A8',\n",
       " '_199262EA-6CD4-49B1-AC4C-FC20BA5850B6',\n",
       " '_B2D03D9F-DEF9-45CE-8C23-18024CDE014F',\n",
       " '_B93039C0-32B5-411D-A0B3-DEB234C43E15',\n",
       " '_181DB05D-2774-4D4E-8EC5-A699F48CD005',\n",
       " '_035FD479-EF61-4311-9658-7EA265034AD2',\n",
       " '_A95D6242-0828-42DE-9A00-013EF475BD7B',\n",
       " '_C3E3BDF8-2405-4A76-AAFD-10778D62390B',\n",
       " '_AE3717DC-9AAA-49C2-AADF-3F02F74528B9',\n",
       " '_6C70D76B-4928-4DFA-A05C-66DFDBA1FF79',\n",
       " '_494810CC-1A00-4EE8-8360-484FA7C19D01',\n",
       " '_97C0E677-FC23-473D-B8B8-9D59445897F9',\n",
       " '_DB80DCD4-C180-4363-9043-E5073E5CC2D5',\n",
       " '_C58B3182-4C29-4654-8245-C9EC0B448034',\n",
       " '_A50CDB24-727C-48A4-B658-E7C433F371F4',\n",
       " '_C1413724-B449-4799-A95F-E5EC4D6A0274',\n",
       " '_EB3946A9-DF53-4826-9E9C-BEA935791FC8',\n",
       " '_99F21E69-A15E-4BA8-A3E5-2B610EB0B466',\n",
       " '_03971466-5580-4CE1-99C3-A0EAFAE35B2E',\n",
       " '_8709466D-5491-4806-9E9A-A5A8449FC0CC',\n",
       " '_683BBB21-1474-42B2-8571-3E94D95D2F55',\n",
       " '_68B1C28D-D8F0-4127-87A8-040B6AE5C56F',\n",
       " '_C862FEF8-3F5F-4461-B687-A23E51C04DB8',\n",
       " '_AAF94161-A827-463F-B9B6-7E8CCCFC969F',\n",
       " '_A0A164B4-1AAB-43F0-8F43-F660CAA608F5',\n",
       " '_47F6D9B6-1FB8-4857-9C45-A24CA0E1EB47',\n",
       " '_6F3B6197-D684-47A7-A042-FAEBC41AC18E',\n",
       " '_676BED21-ADAF-4F55-9DA5-8B94CF56C7D2',\n",
       " '_7179ECDA-5BEF-416D-A043-1E92F2D30759',\n",
       " '_8BFE26A0-1066-4005-89CD-FE86EBFFDC99',\n",
       " '_9ED0C562-5EF0-4510-A31B-7584734534FF',\n",
       " '_002B40AA-5EDE-4AFC-8BB5-A28A3B8CE5A9',\n",
       " '_0123E37C-99F0-4E8B-90D0-201EE800F627',\n",
       " '_0BD423D1-E282-4971-846B-9B31D8F0F74D',\n",
       " '_0B05F1B6-A754-4609-9BB6-5CC7BE2B5B44',\n",
       " '_B152DB39-9994-4E37-A269-421AAD9B8307',\n",
       " '_967A11AC-D773-43F1-BC31-1BB360C78B6C',\n",
       " '_7543DE0B-B068-4ABB-BBEF-86F89EA89CC9',\n",
       " '_0405FAAB-007B-4D83-AAD5-F455F52B6E58',\n",
       " '_7E18B7C7-B3EA-4104-9BC6-EC87261573A9',\n",
       " '_AD4EAB63-CFD0-4D08-92DF-B69C4CC7346E',\n",
       " '_B7703FA1-EA69-46A2-85EB-BFC11544F32E',\n",
       " '_CFA56847-7544-4AAA-ADF0-DD79EE079CF0',\n",
       " '_6DFB0737-A0C3-4CD0-85D0-DED0EAC715BB',\n",
       " '_8C8673F5-4EFA-406F-A42E-E7754E45EFCD',\n",
       " '_1DA350C1-D2C3-447B-82E2-5BA0703BA6B4',\n",
       " '_303713ED-BAA0-42C4-BC6D-0DBACADAD2EA',\n",
       " '_C1854469-74D7-42DD-94B5-158BFA67ED41',\n",
       " '_1D4D7438-8C14-42D0-B3A5-E1E229E4D613',\n",
       " '_5C22BA00-F37B-4064-BF5E-4609E1F5236A',\n",
       " '_2C4B11E4-0EF3-4ED4-9ECF-66F535AED88B',\n",
       " '_10A6E582-7E15-4440-A654-28E365AEF0F6',\n",
       " '_44DF7774-BB04-4908-BAEE-0281BBB037EB',\n",
       " '_CEDDB8BC-C3FB-4304-A94A-B2F862B13E8A',\n",
       " '_E98DA34C-B486-41FD-A16E-E5425F04B131',\n",
       " '_2B9AC2D5-43E9-4D76-A130-AA4E655A219A',\n",
       " '_7CEDF5A8-E9D9-4D23-B928-A77A15A29465',\n",
       " '_2B06862D-FBE0-4668-8D36-3C4735819F6A',\n",
       " '_D15DA6FC-DC66-49AA-B3CB-526862F6230F',\n",
       " '_1CB6F0F5-08B3-456C-9D7D-9BCC866A2FB4',\n",
       " '_BCF9AE36-E08D-42A4-B503-4E1912B4B7BA',\n",
       " '_E6543392-E4FF-468B-98F9-DBE2A35B1B17',\n",
       " '_FF666099-44EE-40F4-B9BA-7D01F194A188',\n",
       " '_0BB0C452-543F-4E74-8068-5A7A766CBB83',\n",
       " '_3E2AC0CC-0BF4-4B73-BDFA-C163307F8BFF',\n",
       " '_D6DBC8E4-E4E1-41E3-A522-AD746ACFDA9E',\n",
       " '_1E1B2F3C-7B9B-4A98-952C-F246320D3235',\n",
       " '_92CF2309-C7F2-4DAB-B1C0-43E96B223A6F',\n",
       " '_BFC4DD15-3578-4A42-A1C9-7C4031E88CEF',\n",
       " '_3130FED1-7DCF-48D8-807D-CEC02E6F73BA',\n",
       " '_5A1B8784-F12D-406B-A7A1-37AE5EB79C7F',\n",
       " '_28CCAEEE-1061-484D-BF1E-F4AE7EA59C90',\n",
       " '_317761D6-BED7-4FD9-957F-30DD36BF0195',\n",
       " '_B94F562E-3942-41FB-B76F-A482D39735AF',\n",
       " '_8146E07E-CE1A-4341-9C27-DBCD75FFC7DC',\n",
       " '_265930AF-D071-4752-A374-AC14909740D3',\n",
       " '_674624BB-C2D9-4402-9A0B-A491066F4CDF',\n",
       " '_0DE3E328-5CF3-4203-ADE1-42F3F6F53ED8',\n",
       " '_45C4F27C-9A84-40E2-821E-4A8370FC5509',\n",
       " '_ECD0A33E-B7FF-406F-B6E7-783B2B4F0547',\n",
       " '_15F46DE2-7784-44E7-98F9-0E336339751F',\n",
       " '_60B9C35A-A7B1-4295-AA5B-7E4E21EEB082']"
      ]
     },
     "execution_count": 41,
     "metadata": {},
     "output_type": "execute_result"
    }
   ],
   "source": [
    "SwitchKeys = list(EquipDict['Breaker'].keys()) + list(EquipDict['Fuse'].keys()) + list(EquipDict['LoadBreakSwitch'].keys()) + list(EquipDict['Recloser'].keys())\n",
    "SwitchKeys"
   ]
  }
 ],
 "metadata": {
  "kernelspec": {
   "display_name": "Python 3 (ipykernel)",
   "language": "python",
   "name": "python3"
  },
  "language_info": {
   "codemirror_mode": {
    "name": "ipython",
    "version": 3
   },
   "file_extension": ".py",
   "mimetype": "text/x-python",
   "name": "python",
   "nbconvert_exporter": "python",
   "pygments_lexer": "ipython3",
   "version": "3.8.5"
  }
 },
 "nbformat": 4,
 "nbformat_minor": 5
}
