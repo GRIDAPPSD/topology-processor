{
 "cells": [
  {
   "cell_type": "code",
   "execution_count": 1,
   "id": "b0e1ebb0",
   "metadata": {},
   "outputs": [],
   "source": [
    "import os, json, time\n",
    "from gridappsd import GridAPPSD, topics as t\n",
    "from gridappsd.topics import service_input_topic, service_output_topic\n",
    "from distributedtopology import DistributedTopology\n",
    "from topologydictionary import TopologyDictionary\n",
    "from networkmodel import NetworkModel\n",
    "\n",
    "os.environ['GRIDAPPSD_APPLICATION_ID'] = 'gridappsd-topology-processor'\n",
    "os.environ['GRIDAPPSD_APPLICATION_STATUS'] = 'STARTED'\n",
    "os.environ['GRIDAPPSD_USER'] = 'app_user'\n",
    "os.environ['GRIDAPPSD_PASSWORD'] = '1234App'\n",
    "\n",
    "# Connect to GridAPPS-D Platform\n",
    "gapps = GridAPPSD()\n",
    "assert gapps.connected\n",
    "\n"
   ]
  },
  {
   "cell_type": "code",
   "execution_count": 2,
   "id": "dcf5d381",
   "metadata": {},
   "outputs": [],
   "source": [
    "model_mrid = \"_EE71F6C9-56F0-4167-A14E-7F4C71F10EAA\"\n",
    "\n",
    "#model_mrid = \"_5B816B93-7A5F-B64C-8460-47C17D6E4B0F\"  # 13 assets\n",
    "#model_mrid = \"_C1C3E687-6FFD-C753-582B-632A27E28507\"  # 123 bus"
   ]
  },
  {
   "cell_type": "code",
   "execution_count": 3,
   "id": "1634e05e",
   "metadata": {},
   "outputs": [],
   "source": [
    "Topology = TopologyDictionary(gapps, model_mrid)\n"
   ]
  },
  {
   "cell_type": "code",
   "execution_count": 4,
   "id": "76ca8121",
   "metadata": {},
   "outputs": [],
   "source": [
    "network = NetworkModel(gapps)\n"
   ]
  },
  {
   "cell_type": "code",
   "execution_count": 5,
   "id": "c25c48aa",
   "metadata": {},
   "outputs": [],
   "source": [
    "network.build_equip_dicts(model_mrid, Topology)"
   ]
  },
  {
   "cell_type": "code",
   "execution_count": 6,
   "id": "c2739b6a",
   "metadata": {},
   "outputs": [
    {
     "name": "stdout",
     "output_type": "stream",
     "text": [
      "i2 =  3908\n",
      "old_counter =  0\n",
      "i2 =  10\n",
      "old_counter =  7818\n",
      "i2 =  1292\n",
      "old_counter =  7840\n",
      "i2 =  8\n",
      "old_counter =  10426\n",
      "i2 =  179\n",
      "old_counter =  10435\n"
     ]
    }
   ],
   "source": [
    "EqTypes = ['ACLineSegment', 'PowerTransformer', 'TransformerTank', 'SynchronousMachine', 'PowerElectronicsConnection']\n",
    "Topology.build_linknet(EqTypes)\n"
   ]
  },
  {
   "cell_type": "code",
   "execution_count": 9,
   "id": "918ecf81",
   "metadata": {},
   "outputs": [],
   "source": [
    "Topology.update_switches()\n"
   ]
  },
  {
   "cell_type": "code",
   "execution_count": 10,
   "id": "b16e09ec",
   "metadata": {},
   "outputs": [],
   "source": [
    "Topology.build_feeder_islands()"
   ]
  },
  {
   "cell_type": "code",
   "execution_count": null,
   "id": "e78a02ba",
   "metadata": {},
   "outputs": [],
   "source": [
    "i1 = 0\n",
    "root_type = list(Topology.Feeders['feeder_'+ str(i1)].keys())[1]\n",
    "root_id = Topology.Feeders['feeder_'+ str(i1)][root_type]\n",
    "root_node = Topology.Feeders['feeder_'+ str(i1)]['root_node']\n"
   ]
  },
  {
   "cell_type": "code",
   "execution_count": 20,
   "id": "6234762e",
   "metadata": {},
   "outputs": [
    {
     "data": {
      "text/plain": [
       "{'name': 'm1026chp-2',\n",
       " 'TopologicalNode': '_F0E66C9C-AA33-4715-8876-8ADD7F0D0E78',\n",
       " 'nominalVoltage': '12470',\n",
       " 'ACLineSegment': ['_8BE12AAB-5519-4683-AB41-58B556CC9F3F'],\n",
       " 'Breaker': [],\n",
       " 'EnergyConsumer': [],\n",
       " 'Fuse': [],\n",
       " 'House': [],\n",
       " 'LinearShuntCompensator': [],\n",
       " 'LoadBreakSwitch': ['_60B9C35A-A7B1-4295-AA5B-7E4E21EEB082'],\n",
       " 'PowerTransformer': [],\n",
       " 'RatioTapChanger': [],\n",
       " 'Recloser': [],\n",
       " 'TransformerTank': [],\n",
       " 'SynchronousMachine': [],\n",
       " 'PowerElectronicsConnection': [],\n",
       " 'Measurement': ['_16e36a36-3b58-4568-a7b4-d2a7b4f4d866',\n",
       "  '_2c3d8060-89b9-4840-ba01-03fb34e5213f',\n",
       "  '_4a33262d-cf92-41df-8655-351a16f4d064',\n",
       "  '_14ade66a-c753-448e-beaa-0376d63c762a',\n",
       "  '_733cc140-a5ef-4df3-a453-813eb8a1a580',\n",
       "  '_f4e5e2dc-5615-4534-8d1e-3ad12d40e225'],\n",
       " 'Feeder': [],\n",
       " 'Island': [],\n",
       " 'node': 3021,\n",
       " 'list': 3875}"
      ]
     },
     "execution_count": 20,
     "metadata": {},
     "output_type": "execute_result"
    }
   ],
   "source": [
    "Topology.ConnNodeDict['_E0D6F386-AFB8-4037-BEC9-96963A9E866C']"
   ]
  },
  {
   "cell_type": "code",
   "execution_count": null,
   "id": "285e3369",
   "metadata": {},
   "outputs": [],
   "source": [
    "Topology.EquipDict[root_type][root_id]"
   ]
  },
  {
   "cell_type": "code",
   "execution_count": null,
   "id": "e57b11f4",
   "metadata": {},
   "outputs": [],
   "source": [
    "Topology.EquipDict['PowerElectronicsConnection']"
   ]
  },
  {
   "cell_type": "code",
   "execution_count": 24,
   "id": "6626ef00",
   "metadata": {},
   "outputs": [
    {
     "data": {
      "text/plain": [
       "{'name': 'm1026chp-3',\n",
       " 'TopologicalNode': '_FE3AD568-781F-4EC9-AA13-4571E90DE832',\n",
       " 'nominalVoltage': '12470',\n",
       " 'ACLineSegment': ['_8BE12AAB-5519-4683-AB41-58B556CC9F3F'],\n",
       " 'Breaker': [],\n",
       " 'EnergyConsumer': [],\n",
       " 'Fuse': [],\n",
       " 'House': [],\n",
       " 'LinearShuntCompensator': [],\n",
       " 'LoadBreakSwitch': [],\n",
       " 'PowerTransformer': [],\n",
       " 'RatioTapChanger': [],\n",
       " 'Recloser': [],\n",
       " 'TransformerTank': [],\n",
       " 'SynchronousMachine': ['_0F866CD6-FB46-440F-A828-B6973E55E4D7'],\n",
       " 'PowerElectronicsConnection': [],\n",
       " 'Measurement': ['_1c431dc4-b08b-4f2d-ab39-1d2d1e5f56a6',\n",
       "  '_3a413f2f-de4a-42b4-8731-88030bc95cd3',\n",
       "  '_9dbd2e9a-4ba1-46d6-9d10-5db09eeb0797',\n",
       "  '_910e8054-754c-473f-8efd-35823e720b0e',\n",
       "  '_98577337-6d82-4e90-a72b-9d52b34e23c8',\n",
       "  '_c667d756-6cf8-4c3e-b8ac-794f2301f832',\n",
       "  '_3125010b-bdb7-4a45-83cd-4c03df356037',\n",
       "  '_64f44c12-71d1-465c-8ddc-1ad21a0a9639',\n",
       "  '_7afceffb-89f1-4cf7-b4dc-aad9d7a4d32b'],\n",
       " 'Feeder': ['feeder_2'],\n",
       " 'Island': [],\n",
       " 'node': 3022,\n",
       " 'list': 0}"
      ]
     },
     "execution_count": 24,
     "metadata": {},
     "output_type": "execute_result"
    }
   ],
   "source": [
    "Topology.ConnNodeDict[Topology.NodeList[3021]]"
   ]
  },
  {
   "cell_type": "code",
   "execution_count": 7,
   "id": "400dbbd1",
   "metadata": {},
   "outputs": [
    {
     "data": {
      "text/plain": [
       "{'ConnectivityNode': '_EEB13278-5AE5-4401-BBF6-5F3A1CC48080',\n",
       " 'term': 10435,\n",
       " 'next': 0,\n",
       " 'far': 5290}"
      ]
     },
     "execution_count": 7,
     "metadata": {},
     "output_type": "execute_result"
    }
   ],
   "source": [
    "Topology.TerminalsDict[Topology.TermList[10434]]"
   ]
  },
  {
   "cell_type": "code",
   "execution_count": 22,
   "id": "1b529312",
   "metadata": {},
   "outputs": [
    {
     "data": {
      "text/plain": [
       "{'ConnectivityNode': '_E0D6F386-AFB8-4037-BEC9-96963A9E866C',\n",
       " 'term': 3875,\n",
       " 'next': 2768,\n",
       " 'far': 3022}"
      ]
     },
     "execution_count": 22,
     "metadata": {},
     "output_type": "execute_result"
    }
   ],
   "source": [
    "Topology.TerminalsDict[Topology.TermList[3874]]"
   ]
  },
  {
   "cell_type": "code",
   "execution_count": 26,
   "id": "091f48af",
   "metadata": {},
   "outputs": [
    {
     "data": {
      "text/plain": [
       "{'name': 'm1026chp-1',\n",
       " 'TopologicalNode': '_F0E66C9C-AA33-4715-8876-8ADD7F0D0E78',\n",
       " 'nominalVoltage': '12470',\n",
       " 'ACLineSegment': ['_FC494784-7476-45C1-AD8A-3248C54D25E6'],\n",
       " 'Breaker': [],\n",
       " 'EnergyConsumer': [],\n",
       " 'Fuse': [],\n",
       " 'House': [],\n",
       " 'LinearShuntCompensator': [],\n",
       " 'LoadBreakSwitch': ['_60B9C35A-A7B1-4295-AA5B-7E4E21EEB082'],\n",
       " 'PowerTransformer': [],\n",
       " 'RatioTapChanger': [],\n",
       " 'Recloser': [],\n",
       " 'TransformerTank': [],\n",
       " 'SynchronousMachine': [],\n",
       " 'PowerElectronicsConnection': [],\n",
       " 'Measurement': ['_5354c11e-dcc0-46eb-bc7d-6b46d0d34156',\n",
       "  '_63774677-8878-45b8-9746-103da968d098',\n",
       "  '_a8631936-c785-46ce-9d93-5100e0fa9d1b',\n",
       "  '_0725a1f8-0984-4a11-986a-be64758f9c72',\n",
       "  '_727a90d2-abfd-46b7-b59a-c830044f5e2b',\n",
       "  '_cd834ef3-b9cc-4b36-a399-37604bfdc3ce',\n",
       "  '_492ef477-2b49-4149-99a4-654d99453edd',\n",
       "  '_795870d2-8413-4883-a8ec-08aed90637ac',\n",
       "  '_d1129a1e-1e39-44cd-b000-4c675642e3a9'],\n",
       " 'Feeder': ['feeder_2'],\n",
       " 'Island': [],\n",
       " 'node': 2219,\n",
       " 'list': 3875}"
      ]
     },
     "execution_count": 26,
     "metadata": {},
     "output_type": "execute_result"
    }
   ],
   "source": [
    "Topology.ConnNodeDict[Topology.TerminalsDict[Topology.TermList[2767]]['ConnectivityNode']]"
   ]
  },
  {
   "cell_type": "code",
   "execution_count": 16,
   "id": "a8a247a7",
   "metadata": {},
   "outputs": [
    {
     "data": {
      "text/plain": [
       "{'name': 'pv_1097',\n",
       " 'node1': '_004BA4B9-78D5-45CF-AFDA-22EA40CEC73B',\n",
       " 'term1': '_ACF10D38-B131-4D8B-BFD0-9967AAC52D27'}"
      ]
     },
     "execution_count": 16,
     "metadata": {},
     "output_type": "execute_result"
    }
   ],
   "source": [
    "Topology.EquipDict['PowerElectronicsConnection']['_DAD1B6F0-D1E6-43BF-8E49-485DDA86EE31']"
   ]
  },
  {
   "cell_type": "code",
   "execution_count": null,
   "id": "2dd63264",
   "metadata": {},
   "outputs": [],
   "source": [
    "Topology.TerminalsDict[Topology.TermList[10603]]"
   ]
  }
 ],
 "metadata": {
  "kernelspec": {
   "display_name": "Python 3 (ipykernel)",
   "language": "python",
   "name": "python3"
  },
  "language_info": {
   "codemirror_mode": {
    "name": "ipython",
    "version": 3
   },
   "file_extension": ".py",
   "mimetype": "text/x-python",
   "name": "python",
   "nbconvert_exporter": "python",
   "pygments_lexer": "ipython3",
   "version": "3.8.5"
  }
 },
 "nbformat": 4,
 "nbformat_minor": 5
}
