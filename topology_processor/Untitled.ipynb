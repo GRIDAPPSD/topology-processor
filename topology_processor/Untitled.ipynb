{
 "cells": [
  {
   "cell_type": "code",
   "execution_count": 1,
   "id": "b0e1ebb0",
   "metadata": {},
   "outputs": [],
   "source": [
    "import os, json, time\n",
    "from gridappsd import GridAPPSD, topics as t\n",
    "from gridappsd.topics import service_input_topic, service_output_topic\n",
    "from distributedtopology import DistributedTopology\n",
    "from topologydictionary import TopologyDictionary\n",
    "from networkmodel import NetworkModel\n",
    "\n",
    "os.environ['GRIDAPPSD_APPLICATION_ID'] = 'gridappsd-topology-processor'\n",
    "os.environ['GRIDAPPSD_APPLICATION_STATUS'] = 'STARTED'\n",
    "os.environ['GRIDAPPSD_USER'] = 'app_user'\n",
    "os.environ['GRIDAPPSD_PASSWORD'] = '1234App'\n",
    "\n",
    "# Connect to GridAPPS-D Platform\n",
    "gapps = GridAPPSD()\n",
    "assert gapps.connected\n",
    "\n"
   ]
  },
  {
   "cell_type": "code",
   "execution_count": 2,
   "id": "dcf5d381",
   "metadata": {},
   "outputs": [],
   "source": [
    "model_mrid = \"_EE71F6C9-56F0-4167-A14E-7F4C71F10EAA\"\n",
    "\n",
    "#model_mrid = \"_5B816B93-7A5F-B64C-8460-47C17D6E4B0F\"  # 13 assets\n",
    "#model_mrid = \"_C1C3E687-6FFD-C753-582B-632A27E28507\"  # 123 bus"
   ]
  },
  {
   "cell_type": "code",
   "execution_count": 3,
   "id": "1634e05e",
   "metadata": {},
   "outputs": [],
   "source": [
    "Topology = TopologyDictionary(gapps, model_mrid)\n"
   ]
  },
  {
   "cell_type": "code",
   "execution_count": 4,
   "id": "76ca8121",
   "metadata": {},
   "outputs": [],
   "source": [
    "network = NetworkModel(gapps)\n"
   ]
  },
  {
   "cell_type": "code",
   "execution_count": 5,
   "id": "c25c48aa",
   "metadata": {},
   "outputs": [],
   "source": [
    "network.build_equip_dicts(model_mrid, Topology)"
   ]
  },
  {
   "cell_type": "code",
   "execution_count": 6,
   "id": "c2739b6a",
   "metadata": {},
   "outputs": [],
   "source": [
    "EqTypes = ['ACLineSegment', 'PowerTransformer', 'TransformerTank', 'SynchronousMachine', 'PowerElectronicsConnection']\n",
    "Topology.build_linknet(EqTypes)\n"
   ]
  },
  {
   "cell_type": "code",
   "execution_count": null,
   "id": "918ecf81",
   "metadata": {},
   "outputs": [],
   "source": [
    "Topology.update_switches()\n"
   ]
  },
  {
   "cell_type": "code",
   "execution_count": null,
   "id": "b16e09ec",
   "metadata": {},
   "outputs": [],
   "source": [
    "Topology.build_feeder_islands()"
   ]
  },
  {
   "cell_type": "code",
   "execution_count": null,
   "id": "e78a02ba",
   "metadata": {},
   "outputs": [],
   "source": [
    "i1 = 0\n",
    "root_type = list(Topology.Feeders['feeder_'+ str(i1)].keys())[1]\n",
    "root_id = Topology.Feeders['feeder_'+ str(i1)][root_type]\n",
    "root_node = Topology.Feeders['feeder_'+ str(i1)]['root_node']\n"
   ]
  },
  {
   "cell_type": "code",
   "execution_count": 7,
   "id": "6234762e",
   "metadata": {},
   "outputs": [
    {
     "data": {
      "text/plain": [
       "{'name': 'm2001der480-2',\n",
       " 'TopologicalNode': '_CD9DE392-495C-4EB9-B55C-CD6C2A1A75D9',\n",
       " 'nominalVoltage': '480',\n",
       " 'ACLineSegment': ['_93611BCF-1948-4089-BDA4-C5B7B0582C84',\n",
       "  '_4C7BDE40-AA4C-4FD6-919F-111D2F063517'],\n",
       " 'Breaker': [],\n",
       " 'EnergyConsumer': [],\n",
       " 'Fuse': [],\n",
       " 'House': [],\n",
       " 'LinearShuntCompensator': [],\n",
       " 'LoadBreakSwitch': [],\n",
       " 'PowerTransformer': ['_306F9616-8535-4713-B58E-B0661F790651'],\n",
       " 'RatioTapChanger': [],\n",
       " 'Recloser': [],\n",
       " 'TransformerTank': [],\n",
       " 'SynchronousMachine': [],\n",
       " 'PowerElectronicsConnection': [],\n",
       " 'Measurement': ['_2f3dea5e-add4-4ffc-988b-f91f3f87611c',\n",
       "  '_b56ccec6-01c7-484b-8082-d31897bfe05c',\n",
       "  '_cb0541c5-37ea-4d2a-ae9b-6b25ef2375ae',\n",
       "  '_3afd2249-c5ec-41ad-9090-55ffb0b77317',\n",
       "  '_438799e9-e50e-45cf-b97a-8c8299904d2d',\n",
       "  '_97462b6f-74c3-4b44-ab86-624fb3eff48e',\n",
       "  '_15d84852-be2e-45c1-a175-2d294a06dc18',\n",
       "  '_594d348f-32a7-4b3c-8536-e2da605caf63',\n",
       "  '_d11f252a-fc85-4b4a-8353-475c63ed604a',\n",
       "  '_6015aa62-9b70-468b-83aa-8c9aecabf0ad',\n",
       "  '_7df73a67-7e24-4113-a778-a4dd5e2f6f06',\n",
       "  '_c88a8daa-0739-4ff4-9a84-b63741e0ece5'],\n",
       " 'Feeder': [],\n",
       " 'Island': [],\n",
       " 'node': 5228,\n",
       " 'list': 7834}"
      ]
     },
     "execution_count": 7,
     "metadata": {},
     "output_type": "execute_result"
    }
   ],
   "source": [
    "Topology.ConnNodeDict['_F326CDF0-B928-416B-8D96-C3DA1ADE7522']"
   ]
  },
  {
   "cell_type": "code",
   "execution_count": null,
   "id": "285e3369",
   "metadata": {},
   "outputs": [],
   "source": [
    "Topology.EquipDict[root_type][root_id]"
   ]
  },
  {
   "cell_type": "code",
   "execution_count": null,
   "id": "e57b11f4",
   "metadata": {},
   "outputs": [],
   "source": [
    "Topology.EquipDict['PowerElectronicsConnection']"
   ]
  },
  {
   "cell_type": "code",
   "execution_count": 10,
   "id": "6626ef00",
   "metadata": {},
   "outputs": [
    {
     "ename": "KeyError",
     "evalue": "5227",
     "output_type": "error",
     "traceback": [
      "\u001b[0;31m---------------------------------------------------------------------------\u001b[0m",
      "\u001b[0;31mKeyError\u001b[0m                                  Traceback (most recent call last)",
      "\u001b[0;32m/tmp/ipykernel_2545/1887647525.py\u001b[0m in \u001b[0;36m<module>\u001b[0;34m\u001b[0m\n\u001b[0;32m----> 1\u001b[0;31m \u001b[0mTopology\u001b[0m\u001b[0;34m.\u001b[0m\u001b[0mConnNodeDict\u001b[0m\u001b[0;34m[\u001b[0m\u001b[0;36m5227\u001b[0m\u001b[0;34m]\u001b[0m\u001b[0;34m\u001b[0m\u001b[0;34m\u001b[0m\u001b[0m\n\u001b[0m",
      "\u001b[0;31mKeyError\u001b[0m: 5227"
     ]
    }
   ],
   "source": [
    "Topology.ConnNodeDict[5227]"
   ]
  }
 ],
 "metadata": {
  "kernelspec": {
   "display_name": "Python 3 (ipykernel)",
   "language": "python",
   "name": "python3"
  },
  "language_info": {
   "codemirror_mode": {
    "name": "ipython",
    "version": 3
   },
   "file_extension": ".py",
   "mimetype": "text/x-python",
   "name": "python",
   "nbconvert_exporter": "python",
   "pygments_lexer": "ipython3",
   "version": "3.8.5"
  }
 },
 "nbformat": 4,
 "nbformat_minor": 5
}
