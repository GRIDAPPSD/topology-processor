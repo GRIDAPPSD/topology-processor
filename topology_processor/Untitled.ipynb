{
 "cells": [
  {
   "cell_type": "code",
   "execution_count": 1,
   "id": "c82cf146",
   "metadata": {},
   "outputs": [],
   "source": [
    "import time, os, json\n",
    "from gridappsd import GridAPPSD,  topics as t\n",
    "\n",
    "os.environ['GRIDAPPSD_USER'] = 'app_user'\n",
    "os.environ['GRIDAPPSD_PASSWORD'] = '1234App'\n",
    "\n",
    "gapps = GridAPPSD()\n",
    "assert gapps.connected"
   ]
  },
  {
   "cell_type": "code",
   "execution_count": null,
   "id": "46f9bb01",
   "metadata": {},
   "outputs": [],
   "source": []
  },
  {
   "cell_type": "code",
   "execution_count": 3,
   "id": "425aa99b",
   "metadata": {},
   "outputs": [],
   "source": [
    "topic = \"goss.gridappsd.request.data.topology\"\n",
    "\n",
    "message = {\n",
    "   \"requestType\": \"GET_SWITCH_AREAS\",\n",
    "   \"model_id\":  '_C1C3E687-6FFD-C753-582B-632A27E28507',\n",
    "   \"resultFormat\": \"JSON\"\n",
    "}\n",
    "\n",
    "dist_api_message = gapps.get_response(topic, message, timeout=30)"
   ]
  },
  {
   "cell_type": "code",
   "execution_count": null,
   "id": "bf6db88e",
   "metadata": {},
   "outputs": [],
   "source": [
    "with open('dist_api_message.json', 'w') as f:\n",
    "    json.dump(dist_api_message, f)"
   ]
  },
  {
   "cell_type": "code",
   "execution_count": 5,
   "id": "51dade0f",
   "metadata": {},
   "outputs": [],
   "source": [
    "topic = \"goss.gridappsd.request.data.topology\"\n",
    "\n",
    "message = {\n",
    "   \"requestType\": \"GET_BASE_TOPOLOGY\",\n",
    "   \"model_id\": \"_EE71F6C9-56F0-4167-A14E-7F4C71F10EAA\",\n",
    "   \"resultFormat\": \"JSON\"\n",
    "}\n",
    "\n",
    "base_topo = gapps.get_response(topic, message, timeout=30)"
   ]
  },
  {
   "cell_type": "code",
   "execution_count": 8,
   "id": "2c162dcc",
   "metadata": {},
   "outputs": [],
   "source": [
    "topic = \"goss.gridappsd.request.data.topology\"\n",
    "\n",
    "message = {\n",
    "   \"requestType\": \"GET_SNAPSHOT_TOPOLOGY\",\n",
    "   \"model_id\": \"_EE71F6C9-56F0-4167-A14E-7F4C71F10EAA\",\n",
    "   \"simulation_id\": \"670574834\",\n",
    "   \"timestamp\": \"1644002615\",\n",
    "   \"resultFormat\": \"JSON\"\n",
    "}\n",
    "\n",
    "service_message = gapps.get_response(topic, message, timeout=90)"
   ]
  },
  {
   "cell_type": "code",
   "execution_count": null,
   "id": "37ed9b4c",
   "metadata": {},
   "outputs": [],
   "source": []
  },
  {
   "cell_type": "code",
   "execution_count": null,
   "id": "e84afbfc",
   "metadata": {},
   "outputs": [],
   "source": [
    "from gridappsd import topics as t\n",
    "topic = t.REQUEST_POWERGRID_DATA\n",
    "\n",
    "message = {\n",
    "    \"requestType\": \"QUERY_MODEL_NAMES\",\n",
    "    \"resultFormat\": \"JSON\"\n",
    "}\n",
    "\n",
    "gapps.get_response(topic, message)"
   ]
  },
  {
   "cell_type": "code",
   "execution_count": null,
   "id": "c23716e6",
   "metadata": {},
   "outputs": [],
   "source": [
    "from topologyprocessor import TopologyProcessor\n",
    "from topologydictionary import TopologyDictionary\n",
    "from networkmodel import NetworkModel\n",
    "from distributedtopology import DistributedTopology"
   ]
  },
  {
   "cell_type": "code",
   "execution_count": null,
   "id": "3e2d4153",
   "metadata": {},
   "outputs": [],
   "source": [
    "model_mrid = \"_EE71F6C9-56F0-4167-A14E-7F4C71F10EAA\" #final9500nodeb"
   ]
  },
  {
   "cell_type": "code",
   "execution_count": null,
   "id": "e83d9141",
   "metadata": {},
   "outputs": [],
   "source": [
    "# Base Topology, direct invocation\n",
    "Topology = TopologyProcessor()\n",
    "NetworkTopo = Topology.get_base_topology(model_mrid)"
   ]
  },
  {
   "cell_type": "code",
   "execution_count": null,
   "id": "b7e21b84",
   "metadata": {},
   "outputs": [],
   "source": [
    "# Base Topology, use library methods\n",
    "Topology = TopologyDictionary(gapps, model_mrid)\n",
    "network = NetworkModel(gapps)\n",
    "network.build_equip_dicts(model_mrid, Topology)\n",
    "EqTypes = ['ACLineSegment', 'PowerTransformer', 'TransformerTank', 'SynchronousMachine']\n",
    "Topology.build_linknet(EqTypes)\n",
    "Topology.EquipDict['LoadBreakSwitch']['_494810CC-1A00-4EE8-8360-484FA7C19D01']['open'] = 1\n",
    "Topology.update_switches()\n",
    "Topology.build_feeder_islands()"
   ]
  },
  {
   "cell_type": "code",
   "execution_count": null,
   "id": "dd092d98",
   "metadata": {},
   "outputs": [],
   "source": []
  },
  {
   "cell_type": "code",
   "execution_count": null,
   "id": "87b38821",
   "metadata": {},
   "outputs": [],
   "source": [
    "#Query for switch position measurement mRIDs\n",
    "request = {\"modelId\": model_mrid,\n",
    "           \"requestType\": \"QUERY_OBJECT_MEASUREMENTS\",\n",
    "           \"resultFormat\": \"JSON\",\n",
    "           \"objectType\": \"LoadBreakSwitch\"\n",
    "           }\n",
    "\n",
    "response = gapps.get_response(t.REQUEST_POWERGRID_DATA,request,timeout=15)\n",
    "\n",
    "equipment_dict = {}\n",
    "measurement_dict = {}\n",
    "meas_map={}\n",
    "\n",
    "for measurement in response[\"data\"]:\n",
    "    if measurement[\"type\"] == \"Pos\":\n",
    "        measid = measurement[\"measid\"]\n",
    "        eqtype = measurement[\"eqtype\"]\n",
    "        eqid = measurement[\"eqid\"]\n",
    "        measurement_dict[measid] = measurement\n",
    "        meas_map[measid] = eqid\n",
    "        Topology.EquipDict[measurement[\"eqid\"]][\"measid\"] = measid"
   ]
  },
  {
   "cell_type": "code",
   "execution_count": null,
   "id": "8e37fe83",
   "metadata": {},
   "outputs": [],
   "source": [
    "response"
   ]
  },
  {
   "cell_type": "code",
   "execution_count": null,
   "id": "36bf410a",
   "metadata": {},
   "outputs": [],
   "source": []
  },
  {
   "cell_type": "code",
   "execution_count": null,
   "id": "f04d216d",
   "metadata": {},
   "outputs": [],
   "source": [
    "# missing nodes, to be fixed in 2022.02 release\n",
    "nodes = list(NetworkTopo.ConnNodeDict.keys())\n",
    "\n",
    "for i1 in range(len(nodes)):\n",
    "    if not Topology.ConnNodeDict[nodes[i1]]['Feeder']:\n",
    "        print(Topology.ConnNodeDict[nodes[i1]]['name'], nodes[i1])"
   ]
  },
  {
   "cell_type": "code",
   "execution_count": null,
   "id": "866990a6",
   "metadata": {},
   "outputs": [],
   "source": [
    "Topology.Islands"
   ]
  },
  {
   "cell_type": "code",
   "execution_count": null,
   "id": "9bcb942b",
   "metadata": {},
   "outputs": [],
   "source": [
    "Topology.Feeders['feeder_0']"
   ]
  },
  {
   "cell_type": "code",
   "execution_count": null,
   "id": "55f3a467",
   "metadata": {},
   "outputs": [],
   "source": [
    "import topo_meas_queries as queries\n",
    "model_mrid = \"C1C3E687-6FFD-C753-582B-632A27E28507\"\n",
    "TapChangerQuery = queries.get_all_tapchangers(gapps, model_mrid)\n",
    "for i0 in range(len(TapChangerQuery)):\n",
    "    print(i0)"
   ]
  },
  {
   "cell_type": "code",
   "execution_count": null,
   "id": "140969fb",
   "metadata": {},
   "outputs": [],
   "source": [
    "message = {\n",
    "   \"requestType\": \"GET_BASE_Topology\",\n",
    "   \"modelID\": \"_49AD8E07-3BF9-A4E2-CB8F-C3722F837B62\",\n",
    "   \"resultFormat\": \"JSON\"\n",
    "}\n",
    "\n",
    "topic = \"goss.gridappsd.request.data.topology\"\n",
    "\n",
    "gapps.get_response(topic, message, timeout=30)"
   ]
  },
  {
   "cell_type": "code",
   "execution_count": null,
   "id": "029d3c7a",
   "metadata": {},
   "outputs": [],
   "source": [
    "DistTopo = DistributedTopology(gapps, model_mrid)\n",
    "message = DistTopo.create_switch_areas(model_mrid)"
   ]
  },
  {
   "cell_type": "code",
   "execution_count": null,
   "id": "56c3ce62",
   "metadata": {},
   "outputs": [],
   "source": []
  },
  {
   "cell_type": "code",
   "execution_count": null,
   "id": "e94205ac",
   "metadata": {},
   "outputs": [],
   "source": [
    "root = ''\n",
    "if root: print('rrot')"
   ]
  },
  {
   "cell_type": "code",
   "execution_count": null,
   "id": "7b5d9035",
   "metadata": {},
   "outputs": [],
   "source": []
  },
  {
   "cell_type": "code",
   "execution_count": null,
   "id": "0cab2286",
   "metadata": {},
   "outputs": [],
   "source": [
    "from gridappsd import topics as t\n",
    "topic = t.REQUEST_POWERGRID_DATA\n",
    "\n",
    "message = {\n",
    "    \"requestType\": \"QUERY_OBJECT_DICT\",\n",
    "    \"modelId\": '_C1C3E687-6FFD-C753-582B-632A27E28507',\n",
    "    \"objectId\": \"_9DA10945-2EDC-43C9-A748-B079D826B0DB\",\n",
    "    \"resultFormat\": \"JSON\"\n",
    "}\n",
    "\n",
    "gapps.get_response(topic, message)"
   ]
  }
 ],
 "metadata": {
  "kernelspec": {
   "display_name": "Python 3 (ipykernel)",
   "language": "python",
   "name": "python3"
  },
  "language_info": {
   "codemirror_mode": {
    "name": "ipython",
    "version": 3
   },
   "file_extension": ".py",
   "mimetype": "text/x-python",
   "name": "python",
   "nbconvert_exporter": "python",
   "pygments_lexer": "ipython3",
   "version": "3.8.5"
  }
 },
 "nbformat": 4,
 "nbformat_minor": 5
}
