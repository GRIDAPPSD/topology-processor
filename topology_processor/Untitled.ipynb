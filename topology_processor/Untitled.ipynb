{
 "cells": [
  {
   "cell_type": "code",
   "execution_count": 5,
   "id": "c82cf146",
   "metadata": {},
   "outputs": [],
   "source": [
    "import argparse\n",
    "from datetime import datetime\n",
    "import json\n",
    "import logging\n",
    "import os\n",
    "import math\n",
    "import sys\n",
    "import time\n",
    "\n",
    "\n",
    "from gridappsd import GridAPPSD, DifferenceBuilder, utils, topics as t\n",
    "from gridappsd.topics import simulation_input_topic, simulation_log_topic, simulation_output_topic, platform_log_topic\n",
    "\n",
    "\n",
    "#model_mrid = sim_request[\"power_system_config\"][\"Line_name\"]\n",
    "#model_mrid = \"_C125761E-9C21-4CA9-9271-B168150DE276\" #ieee13training\n",
    "#model_mrid = \"_EE71F6C9-56F0-4167-A14E-7F4C71F10EAA\" #final9500node\n",
    "#model_mrid = \"_AAE94E4A-2465-6F5E-37B1-3E72183A4E44\" #test9500\n",
    "model_mrid = \"_49AD8E07-3BF9-A4E2-CB8F-C3722F837B62\"  # 13 bus\n",
    "#model_mrid = \"_5B816B93-7A5F-B64C-8460-47C17D6E4B0F\" #ieee13assets\n",
    "#model_mrid=\"_C1C3E687-6FFD-C753-582B-632A27E28507\" # IEEE 123\n",
    "#model_mrid=\"_49AD8E07-3BF9-A4E2-CB8F-C3722F837B62\"\n",
    "\n",
    "requestedTime=1570041125\n",
    "\n",
    "\n",
    "\n",
    "global BaseConnDict,BaseTermDict,TermList, NodeList\n",
    "global XfmrKeys,XfmrDict,SwitchKeys,SwitchDict,DG_query\n",
    "\n",
    "os.environ['GRIDAPPSD_APPLICATION_ID'] = 'gridappsd-topology-processor'\n",
    "os.environ['GRIDAPPSD_APPLICATION_STATUS'] = 'STARTED'\n",
    "#os.environ['GRIDAPPSD_SIMULATION_ID'] = opts.simulation_id\n",
    "os.environ['GRIDAPPSD_USER'] = 'app_user'\n",
    "os.environ['GRIDAPPSD_PASSWORD'] = '1234App'\n",
    "\n",
    "\n",
    "gapps = GridAPPSD()\n",
    "assert gapps.connected"
   ]
  },
  {
   "cell_type": "code",
   "execution_count": 4,
   "id": "ddf6eea4",
   "metadata": {},
   "outputs": [],
   "source": [
    "import topologyprocessor, topologydictionary, networkmodel, distributedtopology"
   ]
  },
  {
   "cell_type": "code",
   "execution_count": 12,
   "id": "05972cbe",
   "metadata": {},
   "outputs": [],
   "source": [
    "message = {\n",
    "   \"requestType\": \"GET_SWITCH_AREAS\",\n",
    "   \"modelID\": \"ABC-1234MRID\",\n",
    "   \"resultFormat\": \"JSON\"\n",
    "}\n",
    "\n",
    "topic = \"/queue/goss.gridappsd.request.data.topology\"\n",
    "\n",
    "gapps.send(topic,message)"
   ]
  }
 ],
 "metadata": {
  "kernelspec": {
   "display_name": "Python 3 (ipykernel)",
   "language": "python",
   "name": "python3"
  },
  "language_info": {
   "codemirror_mode": {
    "name": "ipython",
    "version": 3
   },
   "file_extension": ".py",
   "mimetype": "text/x-python",
   "name": "python",
   "nbconvert_exporter": "python",
   "pygments_lexer": "ipython3",
   "version": "3.8.5"
  }
 },
 "nbformat": 4,
 "nbformat_minor": 5
}
