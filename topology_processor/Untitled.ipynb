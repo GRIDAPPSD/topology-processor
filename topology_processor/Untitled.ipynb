{
 "cells": [
  {
   "cell_type": "code",
   "execution_count": 1,
   "id": "c82cf146",
   "metadata": {},
   "outputs": [],
   "source": [
    "import time, os, json\n",
    "from gridappsd import GridAPPSD,  topics as t\n",
    "\n",
    "os.environ['GRIDAPPSD_USER'] = 'app_user'\n",
    "os.environ['GRIDAPPSD_PASSWORD'] = '1234App'\n",
    "\n",
    "gapps = GridAPPSD()\n",
    "assert gapps.connected"
   ]
  },
  {
   "cell_type": "code",
   "execution_count": null,
   "id": "46f9bb01",
   "metadata": {},
   "outputs": [],
   "source": []
  },
  {
   "cell_type": "code",
   "execution_count": 2,
   "id": "425aa99b",
   "metadata": {},
   "outputs": [],
   "source": [
    "topic = \"goss.gridappsd.request.data.topology\"\n",
    "\n",
    "message = {\n",
    "   \"requestType\": \"GET_SWITCH_AREAS\",\n",
    "   \"model_id\":  '_C1C3E687-6FFD-C753-582B-632A27E28507',\n",
    "   \"resultFormat\": \"JSON\"\n",
    "}\n",
    "\n",
    "dist_api_message = gapps.get_response(topic, message, timeout=30)"
   ]
  },
  {
   "cell_type": "code",
   "execution_count": 3,
   "id": "bf6db88e",
   "metadata": {},
   "outputs": [],
   "source": [
    "with open('dist_api_message.json', 'w') as f:\n",
    "    json.dump(dist_api_message, f)"
   ]
  },
  {
   "cell_type": "code",
   "execution_count": 4,
   "id": "51dade0f",
   "metadata": {},
   "outputs": [],
   "source": [
    "topic = \"goss.gridappsd.request.data.topology\"\n",
    "\n",
    "message = {\n",
    "   \"requestType\": \"GET_BASE_TOPOLOGY\",\n",
    "   \"model_id\": \"_EE71F6C9-56F0-4167-A14E-7F4C71F10EAA\",\n",
    "   \"resultFormat\": \"JSON\"\n",
    "}\n",
    "\n",
    "base_topo = gapps.get_response(topic, message, timeout=30)"
   ]
  },
  {
   "cell_type": "code",
   "execution_count": 5,
   "id": "2c162dcc",
   "metadata": {},
   "outputs": [
    {
     "ename": "KeyboardInterrupt",
     "evalue": "",
     "output_type": "error",
     "traceback": [
      "\u001b[0;31m---------------------------------------------------------------------------\u001b[0m",
      "\u001b[0;31mKeyboardInterrupt\u001b[0m                         Traceback (most recent call last)",
      "\u001b[0;32m/tmp/ipykernel_9411/1977004426.py\u001b[0m in \u001b[0;36m<module>\u001b[0;34m\u001b[0m\n\u001b[1;32m      9\u001b[0m }\n\u001b[1;32m     10\u001b[0m \u001b[0;34m\u001b[0m\u001b[0m\n\u001b[0;32m---> 11\u001b[0;31m \u001b[0mservice_message\u001b[0m \u001b[0;34m=\u001b[0m \u001b[0mgapps\u001b[0m\u001b[0;34m.\u001b[0m\u001b[0mget_response\u001b[0m\u001b[0;34m(\u001b[0m\u001b[0mtopic\u001b[0m\u001b[0;34m,\u001b[0m \u001b[0mmessage\u001b[0m\u001b[0;34m,\u001b[0m \u001b[0mtimeout\u001b[0m\u001b[0;34m=\u001b[0m\u001b[0;36m90\u001b[0m\u001b[0;34m)\u001b[0m\u001b[0;34m\u001b[0m\u001b[0;34m\u001b[0m\u001b[0m\n\u001b[0m",
      "\u001b[0;32m~/miniconda3/lib/python3.8/site-packages/gridappsd/goss.py\u001b[0m in \u001b[0;36mget_response\u001b[0;34m(self, topic, message, timeout)\u001b[0m\n\u001b[1;32m    206\u001b[0m                 \u001b[0;32mbreak\u001b[0m\u001b[0;34m\u001b[0m\u001b[0;34m\u001b[0m\u001b[0m\n\u001b[1;32m    207\u001b[0m \u001b[0;34m\u001b[0m\u001b[0m\n\u001b[0;32m--> 208\u001b[0;31m             \u001b[0msleep\u001b[0m\u001b[0;34m(\u001b[0m\u001b[0;36m1\u001b[0m\u001b[0;34m)\u001b[0m\u001b[0;34m\u001b[0m\u001b[0;34m\u001b[0m\u001b[0m\n\u001b[0m\u001b[1;32m    209\u001b[0m             \u001b[0mcount\u001b[0m \u001b[0;34m+=\u001b[0m \u001b[0;36m1\u001b[0m\u001b[0;34m\u001b[0m\u001b[0;34m\u001b[0m\u001b[0m\n\u001b[1;32m    210\u001b[0m \u001b[0;34m\u001b[0m\u001b[0m\n",
      "\u001b[0;31mKeyboardInterrupt\u001b[0m: "
     ]
    }
   ],
   "source": [
    "topic = \"goss.gridappsd.request.data.topology\"\n",
    "\n",
    "message = {\n",
    "   \"requestType\": \"GET_SNAPSHOT_TOPOLOGY\",\n",
    "   \"model_id\": \"_EE71F6C9-56F0-4167-A14E-7F4C71F10EAA\",\n",
    "   \"simulation_id\": \"670574834\",\n",
    "   \"timestamp\": \"1644002615\",\n",
    "   \"resultFormat\": \"JSON\"\n",
    "}\n",
    "\n",
    "service_message = gapps.get_response(topic, message, timeout=90)"
   ]
  },
  {
   "cell_type": "code",
   "execution_count": null,
   "id": "37ed9b4c",
   "metadata": {},
   "outputs": [],
   "source": []
  },
  {
   "cell_type": "code",
   "execution_count": null,
   "id": "e84afbfc",
   "metadata": {},
   "outputs": [],
   "source": [
    "from gridappsd import topics as t\n",
    "topic = t.REQUEST_POWERGRID_DATA\n",
    "\n",
    "message = {\n",
    "    \"requestType\": \"QUERY_MODEL_NAMES\",\n",
    "    \"resultFormat\": \"JSON\"\n",
    "}\n",
    "\n",
    "gapps.get_response(topic, message)"
   ]
  },
  {
   "cell_type": "code",
   "execution_count": 7,
   "id": "c23716e6",
   "metadata": {},
   "outputs": [],
   "source": [
    "from topologyprocessor import TopologyProcessor\n",
    "from topologydictionary import TopologyDictionary\n",
    "from networkmodel import NetworkModel\n",
    "from distributedtopology import DistributedTopology"
   ]
  },
  {
   "cell_type": "code",
   "execution_count": 8,
   "id": "3e2d4153",
   "metadata": {},
   "outputs": [],
   "source": [
    "model_mrid = \"_EE71F6C9-56F0-4167-A14E-7F4C71F10EAA\" #final9500nodeb"
   ]
  },
  {
   "cell_type": "code",
   "execution_count": 9,
   "id": "e83d9141",
   "metadata": {},
   "outputs": [],
   "source": [
    "# Base Topology, direct invocation\n",
    "Topology = TopologyProcessor()\n",
    "NetworkTopo = Topology.get_base_topology(model_mrid)"
   ]
  },
  {
   "cell_type": "code",
   "execution_count": 11,
   "id": "b7e21b84",
   "metadata": {},
   "outputs": [],
   "source": [
    "# Base Topology, use library methods\n",
    "Topology = TopologyDictionary(gapps, model_mrid)\n",
    "network = NetworkModel(gapps)\n",
    "network.build_equip_dicts(model_mrid, Topology)\n",
    "EqTypes = ['ACLineSegment', 'PowerTransformer', 'TransformerTank', 'SynchronousMachine']\n",
    "Topology.build_linknet(EqTypes)\n",
    "Topology.EquipDict['LoadBreakSwitch']['_494810CC-1A00-4EE8-8360-484FA7C19D01']['open'] = 1\n",
    "Topology.update_switches()\n",
    "Topology.build_feeder_islands()"
   ]
  },
  {
   "cell_type": "code",
   "execution_count": null,
   "id": "dd092d98",
   "metadata": {},
   "outputs": [],
   "source": []
  },
  {
   "cell_type": "code",
   "execution_count": null,
   "id": "8e37fe83",
   "metadata": {},
   "outputs": [],
   "source": []
  },
  {
   "cell_type": "code",
   "execution_count": null,
   "id": "36bf410a",
   "metadata": {},
   "outputs": [],
   "source": []
  },
  {
   "cell_type": "code",
   "execution_count": 12,
   "id": "f04d216d",
   "metadata": {},
   "outputs": [
    {
     "name": "stdout",
     "output_type": "stream",
     "text": [
      "hvmv115_hsb1 _A74C1A0C-2A1C-4418-AA45-715A709B27EC\n",
      "hvmv115_hsb2 _C2BF3DC0-C44D-4C33-968C-8863A63E9C38\n",
      "hvmv69s1s2_1 _345B4E95-D766-427B-BB93-C6F7B323F382\n",
      "hvmv69s1s2_10 _8BA4F660-4379-4E8A-A25E-6A1650D59D68\n",
      "hvmv69s1s2_2 _E5DA1E1B-4C63-443A-8D0B-076D0DF3E971\n",
      "hvmv69s1s2_3 _B136057A-B130-402D-AC66-4F42935A8971\n",
      "hvmv69s1s2_4 _D0E02351-9D63-4808-B405-1693749D2D57\n",
      "hvmv69s1s2_5 _857A65D2-2993-4985-AF79-E811BD9C5898\n",
      "hvmv69s1s2_6 _B6529F2B-373E-4552-A7FD-0E87187CE28C\n",
      "hvmv69s1s2_7 _35BD37CD-8F75-4220-BA6C-1B4AB5FA0E09\n",
      "hvmv69s1s2_8 _E0FD90E9-8057-4790-AECA-330D63FE9B98\n",
      "hvmv69s1s2_9 _73AAF2C9-FBE4-4C8E-A3F9-D78F1269A2FF\n",
      "hvmv69s2s3_1 _DE827511-2D96-4C9A-BECC-FCCFF246434B\n",
      "hvmv69s2s3_2 _B993AAEC-CAE9-450F-B547-55272C9A946D\n",
      "hvmv69sub1_lsb2 _66E60B0C-5E62-432E-9FD4-98248753D291\n",
      "hvmv69sub2_lnb _B0426C55-90EB-486D-84FD-3510ED53564C\n",
      "m1026chp-2 _E0D6F386-AFB8-4037-BEC9-96963A9E866C\n",
      "m2001-ess1 _E118EFA9-CF00-4DC5-9D6C-5D7486C0F7E5\n",
      "m2001-ess2 _B3C43D4D-489A-4A90-B56F-D1956053FC8B\n",
      "regxfmr_hvmv69sub1_lsb1 _D1096250-55F3-4E63-B7C4-EF8C5E144270\n",
      "sourcebus _A07F39F3-F07F-436E-B0CA-49D096DB9088\n"
     ]
    }
   ],
   "source": [
    "# missing nodes, to be fixed in 2022.02 release\n",
    "nodes = list(NetworkTopo.ConnNodeDict.keys())\n",
    "\n",
    "for i1 in range(len(nodes)):\n",
    "    if not Topology.ConnNodeDict[nodes[i1]]['Feeder']:\n",
    "        print(Topology.ConnNodeDict[nodes[i1]]['name'], nodes[i1])"
   ]
  },
  {
   "cell_type": "code",
   "execution_count": null,
   "id": "866990a6",
   "metadata": {},
   "outputs": [],
   "source": [
    "Topology.Islands"
   ]
  },
  {
   "cell_type": "code",
   "execution_count": null,
   "id": "9bcb942b",
   "metadata": {},
   "outputs": [],
   "source": [
    "Topology.Feeders['feeder_0']"
   ]
  },
  {
   "cell_type": "code",
   "execution_count": null,
   "id": "55f3a467",
   "metadata": {},
   "outputs": [],
   "source": [
    "import topo_meas_queries as queries\n",
    "model_mrid = \"C1C3E687-6FFD-C753-582B-632A27E28507\"\n",
    "TapChangerQuery = queries.get_all_tapchangers(gapps, model_mrid)\n",
    "for i0 in range(len(TapChangerQuery)):\n",
    "    print(i0)"
   ]
  },
  {
   "cell_type": "code",
   "execution_count": null,
   "id": "140969fb",
   "metadata": {},
   "outputs": [],
   "source": [
    "message = {\n",
    "   \"requestType\": \"GET_BASE_Topology\",\n",
    "   \"modelID\": \"_49AD8E07-3BF9-A4E2-CB8F-C3722F837B62\",\n",
    "   \"resultFormat\": \"JSON\"\n",
    "}\n",
    "\n",
    "topic = \"goss.gridappsd.request.data.topology\"\n",
    "\n",
    "gapps.get_response(topic, message, timeout=30)"
   ]
  },
  {
   "cell_type": "code",
   "execution_count": null,
   "id": "029d3c7a",
   "metadata": {},
   "outputs": [],
   "source": [
    "DistTopo = DistributedTopology(gapps, model_mrid)\n",
    "message = DistTopo.create_switch_areas(model_mrid)"
   ]
  },
  {
   "cell_type": "code",
   "execution_count": null,
   "id": "56c3ce62",
   "metadata": {},
   "outputs": [],
   "source": []
  },
  {
   "cell_type": "code",
   "execution_count": null,
   "id": "e94205ac",
   "metadata": {},
   "outputs": [],
   "source": [
    "root = ''\n",
    "if root: print('rrot')"
   ]
  },
  {
   "cell_type": "code",
   "execution_count": null,
   "id": "7b5d9035",
   "metadata": {},
   "outputs": [],
   "source": []
  },
  {
   "cell_type": "code",
   "execution_count": null,
   "id": "0cab2286",
   "metadata": {},
   "outputs": [],
   "source": [
    "from gridappsd import topics as t\n",
    "topic = t.REQUEST_POWERGRID_DATA\n",
    "\n",
    "message = {\n",
    "    \"requestType\": \"QUERY_OBJECT_DICT\",\n",
    "    \"modelId\": '_C1C3E687-6FFD-C753-582B-632A27E28507',\n",
    "    \"objectId\": \"_9DA10945-2EDC-43C9-A748-B079D826B0DB\",\n",
    "    \"resultFormat\": \"CSV\"\n",
    "}\n",
    "\n",
    "gapps.get_response(topic, message)"
   ]
  }
 ],
 "metadata": {
  "kernelspec": {
   "display_name": "Python 3 (ipykernel)",
   "language": "python",
   "name": "python3"
  },
  "language_info": {
   "codemirror_mode": {
    "name": "ipython",
    "version": 3
   },
   "file_extension": ".py",
   "mimetype": "text/x-python",
   "name": "python",
   "nbconvert_exporter": "python",
   "pygments_lexer": "ipython3",
   "version": "3.8.5"
  }
 },
 "nbformat": 4,
 "nbformat_minor": 5
}
