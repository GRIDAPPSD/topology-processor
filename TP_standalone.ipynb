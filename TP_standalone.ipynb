{
 "cells": [
  {
   "cell_type": "code",
   "execution_count": 1,
   "id": "fa6f4091",
   "metadata": {},
   "outputs": [],
   "source": [
    "import argparse\n",
    "from datetime import datetime\n",
    "import json\n",
    "import logging\n",
    "import os\n",
    "import math\n",
    "import sys\n",
    "import time\n",
    "import topologyqueries,linkedlist,update_topology,spanning_tree\n",
    "\n",
    "from gridappsd import GridAPPSD, DifferenceBuilder, utils, topics as t\n",
    "from gridappsd.topics import simulation_input_topic, simulation_log_topic, simulation_output_topic"
   ]
  },
  {
   "cell_type": "code",
   "execution_count": 2,
   "id": "98799b81",
   "metadata": {},
   "outputs": [],
   "source": [
    "\n",
    "#model_mrid = sim_request[\"power_system_config\"][\"Line_name\"]\n",
    "#model_mrid = \"_C125761E-9C21-4CA9-9271-B168150DE276\" #ieee13training\n",
    "model_mrid = \"_EE71F6C9-56F0-4167-A14E-7F4C71F10EAA\" #final9500node\n",
    "#model_mrid = \"_AAE94E4A-2465-6F5E-37B1-3E72183A4E44\" #test9500\n",
    "#model_mrid = \"_5B816B93-7A5F-B64C-8460-47C17D6E4B0F\" #ieee13assets\n",
    "#model_mrid=\"_C1C3E687-6FFD-C753-582B-632A27E28507\" # IEEE 123\n",
    "\n",
    "requestedTime=1570041125\n",
    "\n"
   ]
  },
  {
   "cell_type": "code",
   "execution_count": 3,
   "id": "52bbcc5a",
   "metadata": {},
   "outputs": [],
   "source": [
    "global BaseConnDict,BaseTermDict,TermList, NodeList\n",
    "global XfmrKeys,XfmrDict,SwitchKeys,SwitchDict,DG_query\n",
    "\n",
    "os.environ['GRIDAPPSD_USER'] = 'app_user'\n",
    "os.environ['GRIDAPPSD_PASSWORD'] = '1234App'\n",
    "\n",
    "gapps = GridAPPSD()\n",
    "assert gapps.connected"
   ]
  },
  {
   "cell_type": "code",
   "execution_count": null,
   "id": "4bfff7ca",
   "metadata": {
    "tags": [
     "remove_cell"
    ]
   },
   "outputs": [],
   "source": [
    "# RUN DEMO 9500 NODE SIMULATION\n",
    "import Run9500NodeDemo as r\n",
    "simulation_id = r.simulation.simulation_id\n",
    "time.sleep(15)\n",
    "print(simulation_id)\n",
    "# Note: Restart and clear notebook kernel to re-run simulation"
   ]
  },
  {
   "cell_type": "code",
   "execution_count": 4,
   "id": "52ed00fb",
   "metadata": {},
   "outputs": [],
   "source": [
    "# Query for ACLineSegment, Transformerend, Switches, Breakers, Reclosers, Fuses, Sectionalisers,SynchronousMachine,TopologicalNode\n",
    "topologyqueries.getallqueries(gapps,model_mrid)\n",
    "Line_query=topologyqueries.Line_query\n",
    "XfmrDict=topologyqueries.XfmrDict\n",
    "XfmrKeys=topologyqueries.XfmrKeys\n",
    "SwitchDict=topologyqueries.SwitchDict\n",
    "SwitchKeys=topologyqueries.SwitchKeys\n",
    "DG_query=topologyqueries.DG_query\n",
    "Node_query=topologyqueries.Node_query"
   ]
  },
  {
   "cell_type": "code",
   "execution_count": 5,
   "id": "d0896070",
   "metadata": {},
   "outputs": [
    {
     "name": "stdout",
     "output_type": "stream",
     "text": [
      "Processed  5294 buses in  0.041944113000000005 seconds\n",
      "Processed  3909 line objects in  0.023807318000000022 seconds\n",
      "Processed  1304 transformer objects in  0.007353322000000051 seconds\n",
      "Processed  9 generator objects in  4.5590000000039765e-05 seconds\n",
      "hvmv69sub1_lsb2\n",
      "hvmv69sub2_lnb\n",
      "m2001-ess1\n",
      "m2001-ess2\n",
      "Processed  4 missing nodes in  0.0024773909999999955 seconds\n"
     ]
    }
   ],
   "source": [
    "# Build Linknet Lists from ACLineSegment,Transformers,DGs and Nodes\n",
    "[ConnNodeDict,TerminalsDict,TermList,NodeList]=linkedlist.build_linked_list(Line_query,XfmrDict,XfmrKeys,DG_query,Node_query)\n",
    "\n",
    "# Stash a copy of base dictionary\n",
    "BaseConnDict = json.dumps(ConnNodeDict)\n",
    "BaseTermDict = json.dumps(TerminalsDict)"
   ]
  },
  {
   "cell_type": "code",
   "execution_count": null,
   "id": "160268d9",
   "metadata": {},
   "outputs": [],
   "source": [
    "#IF SIMULATION ID IS SPECIFIED, GET TOPOLOGY FOR REQUESTED TIME FOR SPECIFIED TIMESTAMP\n",
    "\n",
    "equipment_dict = {}\n",
    "measurement_dict = {}\n",
    "meas_map={}\n",
    "\n",
    "#Query for switch position measurement mRIDs\n",
    "request = {\"modelId\": model_mrid,\n",
    "           \"requestType\": \"QUERY_OBJECT_MEASUREMENTS\",\n",
    "           \"resultFormat\": \"JSON\",\n",
    "           \"objectType\": \"LoadBreakSwitch\"\n",
    "           }\n",
    "\n",
    "response = gapps.get_response(t.REQUEST_POWERGRID_DATA,request,timeout=15)\n",
    "\n",
    "for measurement in response[\"data\"]:\n",
    "    if measurement[\"type\"] == \"Pos\":\n",
    "        measid = measurement[\"measid\"]\n",
    "        measurement_dict[measid] = measurement\n",
    "        meas_map[measid] = measurement[\"eqid\"]\n",
    "        SwitchDict[measurement[\"eqid\"]][\"measid\"] = measid"
   ]
  },
  {
   "cell_type": "code",
   "execution_count": null,
   "id": "062eb724",
   "metadata": {},
   "outputs": [],
   "source": [
    "topic = \"goss.gridappsd.process.request.data.timeseries\" # Specify Timeseries API GridAPPS-D topic\n",
    "\n",
    "# Query for a particular set of measurments\n",
    "message = {\n",
    "    \"queryMeasurement\":\"simulation\",\n",
    "    \"queryFilter\":{\"simulation_id\": str(simulation_id),\n",
    "        \"startTime\": str(round(requestedTime-1)),\n",
    "        \"endTime\": str(round(requestedTime+3)),\n",
    "        \"measurement_mrid\": list(measurement_dict.keys())\n",
    "                  },\n",
    "        \"responseFormat\":\"JSON\" }\n",
    "\n",
    "\n",
    "influx_response = gapps.get_response(t.TIMESERIES, message) # Pass API call\n",
    "\n",
    "counter=0\n",
    "while not influx_response['data'] and counter <5:\n",
    "    influx_response = gapps.get_response(topic, message) # Pass API call\n",
    "    print('Waiting 10 sec for data to be written to Timeseries Database')\n",
    "    time.sleep(10)\n",
    "    counter=counter+1\n",
    "    if counter==5: print(\"No Timeseries data found. Returning default topology\")"
   ]
  },
  {
   "cell_type": "code",
   "execution_count": null,
   "id": "e2edf995",
   "metadata": {},
   "outputs": [],
   "source": [
    "for measurement in influx_response[\"data\"]:\n",
    "    measid = measurement[\"measurement_mrid\"]\n",
    "    time = measurement[\"time\"]\n",
    "    eqid = meas_map[measid]\n",
    "    SwitchDict[eqid][\"open\"] = measurement['value']"
   ]
  },
  {
   "cell_type": "code",
   "execution_count": 6,
   "id": "611632e8",
   "metadata": {},
   "outputs": [
    {
     "name": "stdout",
     "output_type": "stream",
     "text": [
      "Processed  107 switch objects in  0.0003386969999999989 seconds\n",
      "Processed topology from substation transformer  hvmv69_11sub3_T1  with  2264  buses\n"
     ]
    },
    {
     "ename": "KeyError",
     "evalue": "'nomv'",
     "output_type": "error",
     "traceback": [
      "\u001b[0;31m---------------------------------------------------------------------------\u001b[0m",
      "\u001b[0;31mKeyError\u001b[0m                                  Traceback (most recent call last)",
      "\u001b[0;32m/tmp/ipykernel_32556/3911573454.py\u001b[0m in \u001b[0;36m<module>\u001b[0;34m\u001b[0m\n\u001b[1;32m      5\u001b[0m \u001b[0;31m# Build Spanning Tree from Xfmrs & DGs\u001b[0m\u001b[0;34m\u001b[0m\u001b[0;34m\u001b[0m\u001b[0;34m\u001b[0m\u001b[0m\n\u001b[1;32m      6\u001b[0m \u001b[0;34m\u001b[0m\u001b[0m\n\u001b[0;32m----> 7\u001b[0;31m \u001b[0;34m[\u001b[0m\u001b[0mTree\u001b[0m\u001b[0;34m,\u001b[0m\u001b[0mTotalNodes\u001b[0m\u001b[0;34m]\u001b[0m\u001b[0;34m=\u001b[0m\u001b[0mspanning_tree\u001b[0m\u001b[0;34m.\u001b[0m\u001b[0mgenerate_spanning_tree\u001b[0m\u001b[0;34m(\u001b[0m\u001b[0mXfmrKeys\u001b[0m\u001b[0;34m,\u001b[0m\u001b[0mXfmrDict\u001b[0m\u001b[0;34m,\u001b[0m\u001b[0mConnNodeDict\u001b[0m\u001b[0;34m,\u001b[0m\u001b[0mTerminalsDict\u001b[0m\u001b[0;34m,\u001b[0m\u001b[0mTermList\u001b[0m\u001b[0;34m,\u001b[0m\u001b[0mNodeList\u001b[0m\u001b[0;34m,\u001b[0m\u001b[0mDG_query\u001b[0m\u001b[0;34m)\u001b[0m\u001b[0;34m\u001b[0m\u001b[0;34m\u001b[0m\u001b[0m\n\u001b[0m",
      "\u001b[0;32m~/topology-processor/spanning_tree.py\u001b[0m in \u001b[0;36mgenerate_spanning_tree\u001b[0;34m(XfmrKeys, Xfmr_dict, ConnNodeDict, TerminalsDict, TermList, NodeList, DG_query)\u001b[0m\n\u001b[1;32m     33\u001b[0m \u001b[0;34m\u001b[0m\u001b[0m\n\u001b[1;32m     34\u001b[0m                     \u001b[0;32mif\u001b[0m \u001b[0mNodeList\u001b[0m\u001b[0;34m[\u001b[0m\u001b[0mNextNode\u001b[0m\u001b[0;34m-\u001b[0m\u001b[0;36m1\u001b[0m\u001b[0;34m]\u001b[0m \u001b[0;32mnot\u001b[0m \u001b[0;32min\u001b[0m \u001b[0mTree\u001b[0m\u001b[0;34m[\u001b[0m\u001b[0mXfmrKeys\u001b[0m\u001b[0;34m[\u001b[0m\u001b[0mi6\u001b[0m\u001b[0;34m]\u001b[0m\u001b[0;34m]\u001b[0m\u001b[0;34m:\u001b[0m\u001b[0;34m\u001b[0m\u001b[0;34m\u001b[0m\u001b[0m\n\u001b[0;32m---> 35\u001b[0;31m                         \u001b[0;32mif\u001b[0m \u001b[0mConnNodeDict\u001b[0m\u001b[0;34m[\u001b[0m\u001b[0mNodeList\u001b[0m\u001b[0;34m[\u001b[0m\u001b[0mNextNode\u001b[0m\u001b[0;34m-\u001b[0m\u001b[0;36m1\u001b[0m\u001b[0;34m]\u001b[0m\u001b[0;34m]\u001b[0m\u001b[0;34m[\u001b[0m\u001b[0;34m'nomv'\u001b[0m\u001b[0;34m]\u001b[0m\u001b[0;34m:\u001b[0m\u001b[0;34m\u001b[0m\u001b[0;34m\u001b[0m\u001b[0m\n\u001b[0m\u001b[1;32m     36\u001b[0m                             \u001b[0;32mif\u001b[0m \u001b[0mint\u001b[0m\u001b[0;34m(\u001b[0m\u001b[0mConnNodeDict\u001b[0m\u001b[0;34m[\u001b[0m\u001b[0mNodeList\u001b[0m\u001b[0;34m[\u001b[0m\u001b[0mNextNode\u001b[0m\u001b[0;34m-\u001b[0m\u001b[0;36m1\u001b[0m\u001b[0;34m]\u001b[0m\u001b[0;34m]\u001b[0m\u001b[0;34m[\u001b[0m\u001b[0;34m'nomv'\u001b[0m\u001b[0;34m]\u001b[0m\u001b[0;34m)\u001b[0m \u001b[0;34m<\u001b[0m \u001b[0;36m34000\u001b[0m\u001b[0;34m:\u001b[0m\u001b[0;34m\u001b[0m\u001b[0;34m\u001b[0m\u001b[0m\n\u001b[1;32m     37\u001b[0m                                 \u001b[0mTree\u001b[0m\u001b[0;34m[\u001b[0m\u001b[0mXfmrKeys\u001b[0m\u001b[0;34m[\u001b[0m\u001b[0mi6\u001b[0m\u001b[0;34m]\u001b[0m\u001b[0;34m]\u001b[0m\u001b[0;34m.\u001b[0m\u001b[0mappend\u001b[0m\u001b[0;34m(\u001b[0m\u001b[0mNodeList\u001b[0m\u001b[0;34m[\u001b[0m\u001b[0mNextNode\u001b[0m\u001b[0;34m-\u001b[0m\u001b[0;36m1\u001b[0m\u001b[0;34m]\u001b[0m\u001b[0;34m)\u001b[0m\u001b[0;34m\u001b[0m\u001b[0;34m\u001b[0m\u001b[0m\n",
      "\u001b[0;31mKeyError\u001b[0m: 'nomv'"
     ]
    }
   ],
   "source": [
    "# Process Switch Topology - run at each switch change - merges topology nodes across closed switches\n",
    "\n",
    "[TerminalsDict,ConnNodeDict]=update_topology.topology_update(BaseConnDict,BaseTermDict,SwitchDict,SwitchKeys,TermList)\n",
    "\n",
    "# Build Spanning Tree from Xfmrs & DGs\n",
    "\n",
    "[Tree,TotalNodes]=spanning_tree.generate_spanning_tree(XfmrKeys,XfmrDict,ConnNodeDict,TerminalsDict,TermList,NodeList,DG_query)"
   ]
  },
  {
   "cell_type": "code",
   "execution_count": null,
   "id": "2b549f96",
   "metadata": {},
   "outputs": [],
   "source": [
    "SwitchDict"
   ]
  }
 ],
 "metadata": {
  "kernelspec": {
   "display_name": "Python 3 (ipykernel)",
   "language": "python",
   "name": "python3"
  },
  "language_info": {
   "codemirror_mode": {
    "name": "ipython",
    "version": 3
   },
   "file_extension": ".py",
   "mimetype": "text/x-python",
   "name": "python",
   "nbconvert_exporter": "python",
   "pygments_lexer": "ipython3",
   "version": "3.8.5"
  }
 },
 "nbformat": 4,
 "nbformat_minor": 5
}
