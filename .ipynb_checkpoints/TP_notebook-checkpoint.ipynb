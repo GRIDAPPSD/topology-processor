{
 "cells": [
  {
   "cell_type": "code",
   "execution_count": 1,
   "id": "7c025c65",
   "metadata": {},
   "outputs": [],
   "source": [
    "import time, json"
   ]
  },
  {
   "cell_type": "code",
   "execution_count": 2,
   "id": "0b2eb167",
   "metadata": {},
   "outputs": [],
   "source": [
    "# Establish connection to GridAPPS-D Platform:\n",
    "from gridappsd import GridAPPSD\n",
    "\n",
    "\n",
    "# Set environment variables - when developing, put environment variable in ~/.bashrc file or export in command line\n",
    "# export GRIDAPPSD_USER=system\n",
    "# export GRIDAPPSD_PASSWORD=manager\n",
    "\n",
    "import os # Set username and password\n",
    "os.environ['GRIDAPPSD_USER'] = 'tutorial_user'\n",
    "os.environ['GRIDAPPSD_PASSWORD'] = '12345!'\n",
    "\n",
    "# Connect to GridAPPS-D Platform\n",
    "gapps = GridAPPSD()\n",
    "assert gapps.connected"
   ]
  },
  {
   "cell_type": "code",
   "execution_count": null,
   "id": "66d07703",
   "metadata": {},
   "outputs": [],
   "source": []
  },
  {
   "cell_type": "markdown",
   "id": "d128c6e1",
   "metadata": {},
   "source": [
    "## Run all model queries - convert to run_queries.py"
   ]
  },
  {
   "cell_type": "markdown",
   "id": "687d0e80",
   "metadata": {},
   "source": [
    "### Query for ACLineSegment"
   ]
  },
  {
   "cell_type": "code",
   "execution_count": 3,
   "id": "9d9376d1",
   "metadata": {},
   "outputs": [],
   "source": [
    "#model_mrid = \"_C125761E-9C21-4CA9-9271-B168150DE276\" #ieee13training\n",
    "#model_mrid = \"_EE71F6C9-56F0-4167-A14E-7F4C71F10EAA\" #final9500node\n",
    "#model_mrid = \"_AAE94E4A-2465-6F5E-37B1-3E72183A4E44\"\n",
    "model_mrid = \"_5B816B93-7A5F-B64C-8460-47C17D6E4B0F\" #ieee13assets"
   ]
  },
  {
   "cell_type": "code",
   "execution_count": 4,
   "id": "673b5243",
   "metadata": {},
   "outputs": [],
   "source": [
    "QueryLines=\"\"\"\n",
    "    PREFIX r:  <http://www.w3.org/1999/02/22-rdf-syntax-ns#>\n",
    "    PREFIX c:  <http://iec.ch/TC57/CIM100#>\n",
    "    SELECT ?name ?bus1 ?bus2 ?id ?tname1 ?term1 ?tname2 ?term2 ?node1 ?node2 ?tpnode1 ?tpnode2 (group_concat(distinct ?phs;separator=\"\") as ?phases) WHERE {\n",
    "    SELECT ?name ?bus1 ?bus2 ?phs ?id ?tname1 ?term1 ?tname2 ?term2 ?node1 ?node2 ?tpnode1 ?tpnode2 WHERE {\n",
    "    VALUES ?fdrid {\"%s\"}  \n",
    "    ?fdr c:IdentifiedObject.mRID ?fdrid.\n",
    "    ?s r:type c:ACLineSegment.\n",
    "    ?s c:Equipment.EquipmentContainer ?fdr.\n",
    "    ?s c:IdentifiedObject.name ?name.\n",
    "    ?s c:IdentifiedObject.mRID ?id.\n",
    "    ?t1 c:Terminal.ConductingEquipment ?s.\n",
    "    ?t1 c:ACDCTerminal.sequenceNumber \"1\".\n",
    "    ?t1 c:Terminal.ConnectivityNode ?cn1. \n",
    "    ?t1 c:IdentifiedObject.name ?tname1.\n",
    "    ?cn1 c:IdentifiedObject.name ?bus1.\n",
    "    ?cn1 c:ConnectivityNode.TopologicalNode ?tp1.\n",
    "    ?t2 c:Terminal.ConductingEquipment ?s.\n",
    "    ?t2 c:ACDCTerminal.sequenceNumber \"2\".\n",
    "    ?t2 c:Terminal.ConnectivityNode ?cn2. \n",
    "    ?t2 c:IdentifiedObject.name ?tname2.\n",
    "    ?cn2 c:ConnectivityNode.TopologicalNode ?tp2.\n",
    "    ?cn2 c:IdentifiedObject.name ?bus2.\n",
    "\n",
    "    bind(strafter(str(?t),\"#\") as ?tid).\n",
    "        bind(strafter(str(?t1), \"#\") as ?term1) \n",
    "        bind(strafter(str(?t2), \"#\") as ?term2)\n",
    "        bind(strafter(str(?cn1), \"#\") as ?node1)\n",
    "        bind(strafter(str(?cn2), \"#\") as ?node2)\n",
    "        bind(strafter(str(?tp1), \"#\") as ?tpnode1)\n",
    "        bind(strafter(str(?tp2), \"#\") as ?tpnode2)\n",
    "            OPTIONAL {?acp c:ACLineSegmentPhase.ACLineSegment ?s.\n",
    "            ?acp c:ACLineSegmentPhase.phase ?phsraw.\n",
    "            bind(strafter(str(?phsraw),\"SinglePhaseKind.\") as ?phs) }\n",
    "    \n",
    "    } ORDER BY ?name ?phs\n",
    "    }\n",
    "    GROUP BY ?name ?bus1 ?bus2 ?id ?tname1 ?term1 ?tname2 ?term2 ?node1 ?node2 ?tpnode1 ?tpnode2\n",
    "    ORDER BY ?name\n",
    "    \"\"\"%model_mrid"
   ]
  },
  {
   "cell_type": "code",
   "execution_count": 5,
   "id": "d67dc0b6",
   "metadata": {},
   "outputs": [],
   "source": [
    "results = gapps.query_data(query = QueryLines, timeout = 60)\n",
    "Line_query = results['data']['results']['bindings']"
   ]
  },
  {
   "cell_type": "markdown",
   "id": "afac62f8",
   "metadata": {},
   "source": [
    "### Query for TransformerEnd"
   ]
  },
  {
   "cell_type": "code",
   "execution_count": 6,
   "id": "f508c802",
   "metadata": {},
   "outputs": [],
   "source": [
    "QueryXfmrs=\"\"\"\n",
    "# list all the terminals connected to a TransformerEnd for CIMWriter\n",
    "PREFIX r:  <http://www.w3.org/1999/02/22-rdf-syntax-ns#>\n",
    "PREFIX c:  <http://iec.ch/TC57/CIM100#>\n",
    "SELECT ?endclass ?eqid ?endid ?tname ?tid ?bus ?cnid ?tpid ?seq ?phs ?ratedu WHERE {\n",
    " VALUES ?fdrid {\"%s\"} \n",
    " ?fdr c:IdentifiedObject.mRID ?fdrid.\n",
    " {?pxf c:Equipment.EquipmentContainer ?fdr.\n",
    "  ?end c:PowerTransformerEnd.PowerTransformer ?pxf.\n",
    "  ?end c:PowerTransformerEnd.ratedU ?ratedu.\n",
    "  ?pxf c:IdentifiedObject.mRID ?eqid.\n",
    "}\n",
    "  UNION\n",
    " {?tank c:Equipment.EquipmentContainer ?fdr.\n",
    "  ?end c:TransformerTankEnd.TransformerTank ?tank.\n",
    "  ?tank c:IdentifiedObject.mRID ?eqid.\n",
    "  ?end c:TransformerTankEnd.phases ?ph.\n",
    " }\n",
    " ?end c:TransformerEnd.Terminal ?t.\n",
    "\n",
    " ?t c:Terminal.ConnectivityNode ?cn. \n",
    " ?t c:IdentifiedObject.name ?tname.\n",
    "  \n",
    " ?cn c:ConnectivityNode.TopologicalNode ?tp.\n",
    " ?cn c:IdentifiedObject.name ?bus.\n",
    " ?t c:ACDCTerminal.sequenceNumber ?seq.\n",
    " bind(strafter(str(?end),\"#\") as ?endid).\n",
    " bind(strafter(str(?t),\"#\") as ?tid).\n",
    " bind(strafter(str(?cn),\"#\") as ?cnid).\n",
    " bind(strafter(str(?tp),\"#\") as ?tpid).\n",
    " bind(strafter(str(?ph),\"e.\") as ?phs).\n",
    " ?end a ?classraw.\n",
    " bind(strafter(str(?classraw),\"CIM100#\") as ?endclass)\n",
    "}\n",
    "ORDER by ?endclass ?eqid ?tname ?endid ?bus ?cnid ?tpid ?seq ?phs ?ratedu\n",
    "\"\"\"%model_mrid"
   ]
  },
  {
   "cell_type": "code",
   "execution_count": 7,
   "id": "86cc920c",
   "metadata": {},
   "outputs": [],
   "source": [
    "results = gapps.query_data(query = QueryXfmrs, timeout = 60)\n",
    "Xfmr_query = results['data']['results']['bindings']"
   ]
  },
  {
   "cell_type": "code",
   "execution_count": 8,
   "id": "21c7cf4c",
   "metadata": {},
   "outputs": [],
   "source": [
    "Xfmr_dict={}\n",
    "XfmrKeys=[]\n",
    "\n",
    "# Build dictionary of FROM-TO nodes for all transformers\n",
    "for i2 in range(len(Xfmr_query)):\n",
    "    eqid=Xfmr_query[i2]['eqid']['value']\n",
    "    \n",
    "    seq=Xfmr_query[i2]['seq']['value']\n",
    "    if eqid not in Xfmr_dict:\n",
    "        Xfmr_dict[eqid]={}\n",
    "        XfmrKeys.append(eqid)\n",
    "    Xfmr_dict[eqid]['bus']=Xfmr_query[i2]['bus']['value']\n",
    "    \n",
    "    # Identify terminal sequence and create keys for new terminals\n",
    "    if seq == '1' or seq == 1:\n",
    "        # Primary winding\n",
    "        Xfmr_dict[eqid]['bus1']=Xfmr_query[i2]['bus']['value']\n",
    "        Xfmr_dict[eqid]['term1']=Xfmr_query[i2]['tid']['value']\n",
    "        Xfmr_dict[eqid]['node1']=Xfmr_query[i2]['cnid']['value']\n",
    "        Xfmr_dict[eqid]['tpnode1']=Xfmr_query[i2]['tpid']['value']\n",
    "        Xfmr_dict[eqid]['tname1']=Xfmr_query[i2]['tname']['value']\n",
    "        if 'ratedu' in Xfmr_query[i2]: Xfmr_dict[eqid]['volt1']=int(float(Xfmr_query[i2]['ratedu']['value']))\n",
    "        else: Xfmr_dict[eqid]['volt1']=0\n",
    "        if 'phs' in Xfmr_query[i2]: Xfmr_dict[eqid]['phase1']=Xfmr_query[i2]['phs']['value'] \n",
    "        else: Xfmr_dict[eqid]['phase1']={}\n",
    "            \n",
    "    elif seq == '2' or seq == 2:\n",
    "        Xfmr_dict[eqid]['bus2']=Xfmr_query[i2]['bus']['value']\n",
    "        Xfmr_dict[eqid]['term2']=Xfmr_query[i2]['tid']['value']\n",
    "        Xfmr_dict[eqid]['node2']=Xfmr_query[i2]['cnid']['value']\n",
    "        Xfmr_dict[eqid]['tpnode2']=Xfmr_query[i2]['tpid']['value']\n",
    "        Xfmr_dict[eqid]['tname2']=Xfmr_query[i2]['tname']['value']\n",
    "        if 'ratedu' in Xfmr_query[i2]: Xfmr_dict[eqid]['volt2']=int(float(Xfmr_query[i2]['ratedu']['value']))\n",
    "        else: Xfmr_dict[eqid]['volt2']=0\n",
    "        if 'phs' in Xfmr_query[i2]: Xfmr_dict[eqid]['phase2']=Xfmr_query[i2]['phs']['value'] \n",
    "        else: Xfmr_dict[eqid]['phase2']={}\n",
    "        \n",
    "    elif seq == '3' or seq == 3:\n",
    "        Xfmr_dict[eqid]['bus3']=Xfmr_query[i2]['bus']['value']\n",
    "        Xfmr_dict[eqid]['term3']=Xfmr_query[i2]['tid']['value']\n",
    "        Xfmr_dict[eqid]['node3']=Xfmr_query[i2]['cnid']['value']\n",
    "        Xfmr_dict[eqid]['tpnode3']=Xfmr_query[i2]['tpid']['value']\n",
    "        Xfmr_dict[eqid]['tname3']=Xfmr_query[i2]['tname']['value']\n",
    "        if 'ratedu' in Xfmr_query[i2]: Xfmr_dict[eqid]['volt3']=int(float(Xfmr_query[i2]['ratedu']['value']))\n",
    "        else: Xfmr_dict[eqid]['volt3']=0\n",
    "        if 'phs' in Xfmr_query[i2]: Xfmr_dict[eqid]['phase3']=Xfmr_query[i2]['phs']['value'] \n",
    "        else: Xfmr_dict[eqid]['phase3']={}\n",
    "    else:\n",
    "        raise ValueError('Unsupported transformer sequence value ', seq)"
   ]
  },
  {
   "cell_type": "markdown",
   "id": "1d2b7283",
   "metadata": {},
   "source": [
    "### Query for Switches, Breakers, Reclosers, Fuses, Sectionalisers"
   ]
  },
  {
   "cell_type": "code",
   "execution_count": 9,
   "id": "2d500a5c",
   "metadata": {},
   "outputs": [],
   "source": [
    "QuerySwitches=\"\"\"\n",
    "# list nodes for Breakers, Reclosers, LoadBreakSwitches, Fuses, Sectionalisers in a selected feeder\n",
    "PREFIX r:  <http://www.w3.org/1999/02/22-rdf-syntax-ns#>\n",
    "PREFIX c:  <http://iec.ch/TC57/CIM100#>\n",
    "SELECT ?cimtype ?name ?id ?bus1 ?bus2 ?term1 ?term2 ?node1 ?node2 ?tpnode1 ?tpnode2 ?open (group_concat(distinct ?phs;separator=\"\") as ?phases) WHERE {\n",
    "  SELECT ?cimtype ?name ?id ?bus1 ?bus2 ?term1 ?term2 ?node1 ?node2 ?tpnode1 ?tpnode2 ?phs ?open WHERE {\n",
    " VALUES ?fdrid {\"%s\"}  # 13 bus\n",
    " VALUES ?cimraw {c:LoadBreakSwitch c:Recloser c:Breaker c:Fuse c:Sectionaliser}\n",
    " ?fdr c:IdentifiedObject.mRID ?fdrid.\n",
    " ?s r:type ?cimraw.\n",
    "  bind(strafter(str(?cimraw),\"#\") as ?cimtype)\n",
    " ?s c:Equipment.EquipmentContainer ?fdr.\n",
    " ?s c:IdentifiedObject.name ?name.\n",
    " ?s c:IdentifiedObject.mRID ?id.\n",
    " ?s c:Switch.normalOpen ?open.\n",
    " ?t1 c:Terminal.ConductingEquipment ?s.\n",
    " ?t1 c:ACDCTerminal.sequenceNumber \"1\".\n",
    " ?t1 c:Terminal.ConnectivityNode ?cn1. \n",
    " ?cn1 c:ConnectivityNode.TopologicalNode ?tp1.\n",
    " ?cn1 c:IdentifiedObject.name ?bus1.\n",
    " ?t2 c:Terminal.ConductingEquipment ?s.\n",
    " ?t2 c:ACDCTerminal.sequenceNumber \"2\".\n",
    " ?t2 c:Terminal.ConnectivityNode ?cn2. \n",
    " ?cn2 c:ConnectivityNode.TopologicalNode ?tp2.\n",
    " ?cn2 c:IdentifiedObject.name ?bus2\n",
    "    OPTIONAL {?swp c:SwitchPhase.Switch ?s.\n",
    "    ?swp c:SwitchPhase.phaseSide1 ?phsraw.\n",
    "    bind(strafter(str(?phsraw),\"SinglePhaseKind.\") as ?phs) }\n",
    "    bind(strafter(str(?t1), \"#\") as ?term1) \n",
    "    bind(strafter(str(?t2), \"#\") as ?term2)\n",
    "    bind(strafter(str(?cn1), \"#\") as ?node1)\n",
    "    bind(strafter(str(?cn2), \"#\") as ?node2)\n",
    "    bind(strafter(str(?tp1), \"#\") as ?tpnode1)\n",
    "    bind(strafter(str(?tp2), \"#\") as ?tpnode2)\n",
    " } ORDER BY ?name ?phs\n",
    "}\n",
    "GROUP BY ?cimtype ?name ?id ?bus1 ?bus2 ?term1 ?term2 ?node1 ?node2 ?tpnode1 ?tpnode2 ?open\n",
    "ORDER BY ?cimtype ?name\n",
    "\"\"\"%model_mrid"
   ]
  },
  {
   "cell_type": "code",
   "execution_count": 10,
   "id": "a9bc889c",
   "metadata": {},
   "outputs": [],
   "source": [
    "results = gapps.query_data(query = QuerySwitches, timeout = 60)\n",
    "Switch_query = results['data']['results']['bindings']"
   ]
  },
  {
   "cell_type": "code",
   "execution_count": 11,
   "id": "745f4629",
   "metadata": {},
   "outputs": [],
   "source": [
    "SwitchDict={}\n",
    "SwitchKeys=[]\n",
    "for i5 in range(len(Switch_query)):\n",
    "    mrid=Switch_query[i5]['id']['value']\n",
    "    SwitchDict[mrid]={}\n",
    "    SwitchKeys.append(mrid)\n",
    "    SwitchDict[mrid]['bus1']=Switch_query[i5]['bus1']['value']\n",
    "    SwitchDict[mrid]['bus2']=Switch_query[i5]['bus2']['value']\n",
    "    SwitchDict[mrid]['term1']=Switch_query[i5]['term1']['value']\n",
    "    SwitchDict[mrid]['term2']=Switch_query[i5]['term2']['value']\n",
    "    SwitchDict[mrid]['node1']=Switch_query[i5]['node1']['value']\n",
    "    SwitchDict[mrid]['node2']=Switch_query[i5]['node2']['value']\n",
    "    SwitchDict[mrid]['tpnode1']=Switch_query[i5]['tpnode1']['value']\n",
    "    SwitchDict[mrid]['tpnode2']=Switch_query[i5]['tpnode2']['value']\n",
    "      \n",
    "    \n",
    "    # If switch closed, merge nodes\n",
    "    if Switch_query[i5]['open']['value'] == 'false':\n",
    "        SwitchDict[mrid]['open'] = 0\n",
    "    else:\n",
    "        SwitchDict[mrid]['open'] = 1\n",
    "        \n"
   ]
  },
  {
   "cell_type": "markdown",
   "id": "acbf05af",
   "metadata": {},
   "source": [
    "### Query for SynchronousMachine"
   ]
  },
  {
   "cell_type": "code",
   "execution_count": 12,
   "id": "80a508b0",
   "metadata": {},
   "outputs": [],
   "source": [
    "QueryDGs=\"\"\"\n",
    "# SynchronousMachine - DistSyncMachine\n",
    "# SynchronousMachine - DistSyncMachine\n",
    "PREFIX r:  <http://www.w3.org/1999/02/22-rdf-syntax-ns#>\n",
    "PREFIX c:  <http://iec.ch/TC57/CIM100#>\n",
    "SELECT ?name ?eqid ?term ?bus ?node ?tpid WHERE {\n",
    "   VALUES ?fdrid {\"%s\"}  # 123 bus with PV\n",
    " ?s r:type c:SynchronousMachine.\n",
    " ?s c:IdentifiedObject.name ?name.\n",
    " ?s c:Equipment.EquipmentContainer ?fdr.\n",
    " ?fdr c:IdentifiedObject.mRID ?fdrid. \n",
    " bind(strafter(str(?s),\"#_\") as ?eqid).\n",
    " OPTIONAL {?smp c:SynchronousMachinePhase.SynchronousMachine ?s.\n",
    " ?smp c:SynchronousMachinePhase.phase ?phsraw.\n",
    "   bind(strafter(str(?phsraw),\"SinglePhaseKind.\") as ?phs) }\n",
    " ?t c:Terminal.ConductingEquipment ?s.\n",
    " ?t c:Terminal.ConnectivityNode ?cn. \n",
    " ?cn c:ConnectivityNode.TopologicalNode ?tp.\n",
    " ?cn c:IdentifiedObject.name ?bus\n",
    " bind(strafter(str(?cn),\"#\") as ?node).\n",
    " bind(strafter(str(?s),\"#\") as ?term).\n",
    " bind(strafter(str(?tp),\"#\") as ?tpid)\n",
    "}\n",
    "GROUP by ?name ?eqid ?term ?bus ?node ?tpid\n",
    "ORDER by ?name\n",
    "\"\"\"%model_mrid"
   ]
  },
  {
   "cell_type": "code",
   "execution_count": 13,
   "id": "a1697291",
   "metadata": {},
   "outputs": [],
   "source": [
    "results = gapps.query_data(query = QueryDGs, timeout = 60)\n",
    "DG_query = results['data']['results']['bindings']"
   ]
  },
  {
   "cell_type": "markdown",
   "id": "2037f7cb",
   "metadata": {},
   "source": [
    "### Query for TopologicalNode"
   ]
  },
  {
   "cell_type": "code",
   "execution_count": 14,
   "id": "4c3433a5",
   "metadata": {},
   "outputs": [],
   "source": [
    "QueryNodes=\"\"\"\n",
    "# list all the connectivity node, topology node, base voltages\n",
    "PREFIX r:  <http://www.w3.org/1999/02/22-rdf-syntax-ns#>\n",
    "PREFIX c:  <http://iec.ch/TC57/CIM100#>\n",
    "SELECT DISTINCT ?busname ?cnid ?tpnid ?nomv WHERE {\n",
    "VALUES ?fdrid {\"%s\"}  # 13 bus\n",
    " ?fdr c:IdentifiedObject.mRID ?fdrid.\n",
    " ?bus c:ConnectivityNode.ConnectivityNodeContainer ?fdr.\n",
    " ?bus c:ConnectivityNode.TopologicalNode ?tp.\n",
    " ?bus r:type c:ConnectivityNode.\n",
    " ?bus c:IdentifiedObject.name ?busname.\n",
    " ?bus c:IdentifiedObject.mRID ?cnid.\n",
    " ?fdr c:IdentifiedObject.name ?feeder.\n",
    " ?trm c:Terminal.ConnectivityNode ?bus.\n",
    " ?trm c:Terminal.ConductingEquipment ?ce.\n",
    " ?ce  c:ConductingEquipment.BaseVoltage ?bv.\n",
    " ?bv  c:BaseVoltage.nominalVoltage ?nomv.\n",
    " bind(strafter(str(?tp), str(\"http://localhost:8889/bigdata/namespace/kb/sparql#\")) as ?tpnid)\n",
    "}\n",
    "ORDER by ?busname ?tpnid ?nomv\n",
    "\"\"\"%model_mrid"
   ]
  },
  {
   "cell_type": "code",
   "execution_count": 15,
   "id": "8bdf112e",
   "metadata": {},
   "outputs": [],
   "source": [
    "results = gapps.query_data(query = QueryNodes, timeout = 60)\n",
    "Node_query = results['data']['results']['bindings']"
   ]
  },
  {
   "cell_type": "markdown",
   "id": "d47916eb",
   "metadata": {},
   "source": [
    "### return Line_query, Xfmr_query, Switch_query, DG_query, Node_query"
   ]
  },
  {
   "cell_type": "markdown",
   "id": "4e149fcd",
   "metadata": {},
   "source": [
    "## Build Linknet Lists - convert to linknet.py"
   ]
  },
  {
   "cell_type": "markdown",
   "id": "6af0f034",
   "metadata": {},
   "source": [
    "### Build list of ACLineSegment"
   ]
  },
  {
   "cell_type": "code",
   "execution_count": 16,
   "id": "8139ce48",
   "metadata": {},
   "outputs": [
    {
     "name": "stdout",
     "output_type": "stream",
     "text": [
      "Processed  11 line objects in  0.0005721430000000249 seconds\n"
     ]
    }
   ],
   "source": [
    "i1=-1\n",
    "index=0\n",
    "ConnNodeDict = {}\n",
    "TerminalsDict = {}\n",
    "NodeList = []\n",
    "TermList = []\n",
    "StartTime = time.process_time()\n",
    "\n",
    "for i1 in range(len(Line_query)):\n",
    "    lname=Line_query[i1]['name']['value']\n",
    "    bus1=Line_query[i1]['bus1']['value']\n",
    "    bus2=Line_query[i1]['bus2']['value']\n",
    "    line_mrid=Line_query[i1]['id']['value']\n",
    "    tname1=Line_query[i1]['tname1']['value']\n",
    "    tname2=Line_query[i1]['tname2']['value']\n",
    "    term1=Line_query[i1]['term1']['value']\n",
    "    term2=Line_query[i1]['term2']['value']\n",
    "    node1=Line_query[i1]['node1']['value']\n",
    "    node2=Line_query[i1]['node2']['value']\n",
    "    phases=Line_query[i1]['phases']['value']\n",
    "    tpnode1=Line_query[i1]['tpnode1']['value']\n",
    "    tpnode2=Line_query[i1]['tpnode2']['value']\n",
    "    \n",
    "    # Create keys for new terminals\n",
    "    TerminalsDict[term1] = {}\n",
    "    TerminalsDict[term2] = {}\n",
    "    TerminalsDict[term1]['term'] = 2*i1+1\n",
    "    TerminalsDict[term2]['term'] = 2*i1+2\n",
    "    TermList.append(term1)\n",
    "    TermList.append(term2)\n",
    "    #TerminalsDict[term1]['phases'] = phases\n",
    "    #TerminalsDict[term2]['phases'] = phases\n",
    "    \n",
    "    # If node1 or node2 not in dict, create new keys\n",
    "    if not node1 in ConnNodeDict.keys():\n",
    "        ConnNodeDict[node1] = {}\n",
    "        ConnNodeDict[node1]['name'] = bus1\n",
    "        ConnNodeDict[node1]['node'] = index+1\n",
    "        ConnNodeDict[node1]['list'] = 0\n",
    "        ConnNodeDict[node1]['tpid'] = tpnode1\n",
    "        ConnNodeDict[node1]['lines'] = []\n",
    "        ConnNodeDict[node1]['line_ids'] = []\n",
    "        index = index+1\n",
    "        NodeList.append(node1)\n",
    "\n",
    "    if not node2 in ConnNodeDict.keys(): \n",
    "        ConnNodeDict[node2] = {}\n",
    "        ConnNodeDict[node2]['name'] = bus2\n",
    "        ConnNodeDict[node2]['node'] = index+1\n",
    "        ConnNodeDict[node2]['list'] = 0\n",
    "        ConnNodeDict[node2]['tpid'] = tpnode2\n",
    "        ConnNodeDict[node2]['lines'] = []\n",
    "        ConnNodeDict[node2]['line_ids'] = []\n",
    "        index = index+1\n",
    "        NodeList.append(node2)\n",
    "    \n",
    "    # 1. Move node list variables to terinal next    \n",
    "    TerminalsDict[term1]['name'] = tname1\n",
    "    TerminalsDict[term2]['name'] = tname2\n",
    "    TerminalsDict[term1]['bus'] = bus1\n",
    "    TerminalsDict[term2]['bus'] = bus2\n",
    "    TerminalsDict[term1]['next'] = ConnNodeDict[node1]['list']\n",
    "    TerminalsDict[term2]['next'] = ConnNodeDict[node2]['list']\n",
    "\n",
    "    # 2. Populate Terminal list far field with nodes\n",
    "    TerminalsDict[term1]['far'] = ConnNodeDict[node2]['node']\n",
    "    TerminalsDict[term2]['far'] = ConnNodeDict[node1]['node']\n",
    "    \n",
    "    # 3. Populate Connectivity nodes list with terminals\n",
    "    ConnNodeDict[node1]['list'] = TerminalsDict[term1]['term']\n",
    "    ConnNodeDict[node2]['list'] = TerminalsDict[term2]['term']\n",
    "    \n",
    "    # 4. Update other node properties\n",
    "    ConnNodeDict[node1]['lines'].append(lname)\n",
    "    ConnNodeDict[node2]['lines'].append(lname)\n",
    "    ConnNodeDict[node1]['line_ids'].append(line_mrid)\n",
    "    ConnNodeDict[node2]['line_ids'].append(line_mrid)\n",
    "    # Increment counter of branch objects\n",
    "\n",
    "    \n",
    "print(\"Processed \", i1+1, \"line objects in \", time.process_time() - StartTime, \"seconds\")"
   ]
  },
  {
   "cell_type": "markdown",
   "id": "c2b341b1",
   "metadata": {},
   "source": [
    "### Build list of Transformers"
   ]
  },
  {
   "cell_type": "code",
   "execution_count": 17,
   "id": "b2d52e9c",
   "metadata": {},
   "outputs": [
    {
     "name": "stdout",
     "output_type": "stream",
     "text": [
      "Processed  5 transformer objects in  0.00047768400000003375 seconds\n"
     ]
    }
   ],
   "source": [
    "i3=-1\n",
    "i1=i1+1\n",
    "StartTime = time.process_time()\n",
    "  \n",
    "\n",
    "for i3 in range(len(XfmrKeys)):\n",
    "    \n",
    "    bus1=Xfmr_dict[XfmrKeys[i3]]['bus1']\n",
    "    bus2=Xfmr_dict[XfmrKeys[i3]]['bus2']\n",
    "    term1=Xfmr_dict[XfmrKeys[i3]]['term1']\n",
    "    term2=Xfmr_dict[XfmrKeys[i3]]['term2']\n",
    "    tname1=Xfmr_dict[XfmrKeys[i3]]['tname1']\n",
    "    tname2=Xfmr_dict[XfmrKeys[i3]]['tname2']\n",
    "    node1=Xfmr_dict[XfmrKeys[i3]]['node1']\n",
    "    node2=Xfmr_dict[XfmrKeys[i3]]['node2']\n",
    "    tpnode1=Xfmr_dict[XfmrKeys[i3]]['tpnode1']\n",
    "    tpnode2=Xfmr_dict[XfmrKeys[i3]]['tpnode2']\n",
    "    \n",
    "    # THIS CODE IS EXACT SAME AS ABOVE FOR LINES, COULD PUT INTO FUNCTION OR CLASS THAT CAN BE CALLED\n",
    "    \n",
    "    # Create keys for new terminals\n",
    "    TerminalsDict[term1] = {}\n",
    "    TerminalsDict[term2] = {}\n",
    "    TerminalsDict[term1]['term'] = 2*(i3+i1)+1 #updated index, need to add to end of dict\n",
    "    TerminalsDict[term2]['term'] = 2*(i3+i1)+2\n",
    "    TermList.append(term1)\n",
    "    TermList.append(term2)\n",
    "    #TerminalsDict[term1]['phases'] = phases\n",
    "    #TerminalsDict[term2]['phases'] = phases\n",
    "    \n",
    "    # If node1 or node2 not in dict, create new keys\n",
    "    if not node1 in ConnNodeDict.keys():\n",
    "        ConnNodeDict[node1] = {}\n",
    "        ConnNodeDict[node1]['name'] = bus1\n",
    "        ConnNodeDict[node1]['node'] = index+1\n",
    "        ConnNodeDict[node1]['list'] = 0\n",
    "        ConnNodeDict[node1]['tpid'] = tpnode1\n",
    "        index = index+1\n",
    "        NodeList.append(node1)\n",
    "\n",
    "    if not node2 in ConnNodeDict.keys(): \n",
    "        ConnNodeDict[node2] = {}\n",
    "        ConnNodeDict[node2]['name'] = bus2\n",
    "        ConnNodeDict[node2]['node'] = index+1\n",
    "        ConnNodeDict[node2]['list'] = 0\n",
    "        ConnNodeDict[node2]['tpid'] = tpnode2\n",
    "        index = index+1\n",
    "        NodeList.append(node2)\n",
    "    \n",
    "    # 1. Move node list variables to terinal next    \n",
    "    TerminalsDict[term1]['name'] = tname1\n",
    "    TerminalsDict[term2]['name'] = tname2\n",
    "    TerminalsDict[term1]['bus'] = bus1\n",
    "    TerminalsDict[term2]['bus'] = bus2\n",
    "    TerminalsDict[term1]['next'] = ConnNodeDict[node1]['list']\n",
    "    TerminalsDict[term2]['next'] = ConnNodeDict[node2]['list']\n",
    "\n",
    "    # 2. Populate Terminal list far field with nodes\n",
    "    TerminalsDict[term1]['far'] = ConnNodeDict[node2]['node']\n",
    "    TerminalsDict[term2]['far'] = ConnNodeDict[node1]['node']\n",
    "    \n",
    "    # 3. Populate Connectivity nodes list with terminals\n",
    "    ConnNodeDict[node1]['list'] = TerminalsDict[term1]['term']\n",
    "    ConnNodeDict[node2]['list'] = TerminalsDict[term2]['term']\n",
    "    \n",
    "    # 4. Update other node properties\n",
    "    if 'xfmr' in ConnNodeDict[node1]:\n",
    "        ConnNodeDict[node1]['xfmr'].append(tname1)\n",
    "    else:\n",
    "        ConnNodeDict[node1]['xfmr'] = [tname1]\n",
    "        \n",
    "    if 'xfmr' in ConnNodeDict[node2]:\n",
    "        ConnNodeDict[node2]['xfmr'].append(tname2)\n",
    "    else:\n",
    "        ConnNodeDict[node2]['xfmr'] = [tname2]\n",
    "    \n",
    "    #NEED TO INSERT LOGIC TO HANDLE THREE-WINDING SUBSTATION XFMR\n",
    "    \n",
    "    # Increment counter of branch objects\n",
    "\n",
    "    \n",
    "print(\"Processed \", i3+1, \"transformer objects in \", time.process_time() - StartTime, \"seconds\")\n",
    "\n",
    "\n",
    "    "
   ]
  },
  {
   "cell_type": "markdown",
   "id": "519da311",
   "metadata": {},
   "source": [
    "## Add DG source nodes to list"
   ]
  },
  {
   "cell_type": "code",
   "execution_count": 18,
   "id": "4e8f82e0",
   "metadata": {},
   "outputs": [
    {
     "name": "stdout",
     "output_type": "stream",
     "text": [
      "Processed  0 generator objects in  0.00024403000000000619 seconds\n"
     ]
    }
   ],
   "source": [
    "StartTime = time.process_time()\n",
    "i4=-1\n",
    "for i4 in range(len(DG_query)):\n",
    "    node=DG_query[i4]['node']['value']\n",
    "    term=DG_query[i4]['term']['value']\n",
    "    \n",
    "    TerminalsDict[term] = {}\n",
    "    TerminalsDict[term]['term'] = i4+2*(i3+i1+1)+1 #updated index, need to add to end of dict\n",
    "    TerminalsDict[term]['next'] = 0\n",
    "    TerminalsDict[term]['far'] = 0\n",
    "    TerminalsDict[term]['name'] = DG_query[i4]['bus']['value']\n",
    "    TermList.append(term)\n",
    "\n",
    "    if node not in ConnNodeDict.keys():\n",
    "        TerminalsDict[term]['far'] = index+1\n",
    "        ConnNodeDict[node] = {}\n",
    "        ConnNodeDict[node]['name'] = DG_query[i4]['bus']['value']\n",
    "        ConnNodeDict[node]['node'] = index+1\n",
    "        ConnNodeDict[node]['list'] = TerminalsDict[term]['term']\n",
    "        ConnNodeDict[node]['tpid'] = DG_query[i4]['tpid']['value']\n",
    "        index = index+1\n",
    "        NodeList.append(node)\n",
    "        \n",
    "    if 'der' in ConnNodeDict[node1]:\n",
    "        ConnNodeDict[node1]['der'].append(tname1)\n",
    "    else:\n",
    "        ConnNodeDict[node1]['der'] = [tname1]\n",
    "\n",
    "print(\"Processed \", i4+1, \"generator objects in \", time.process_time() - StartTime, \"seconds\")"
   ]
  },
  {
   "cell_type": "code",
   "execution_count": null,
   "id": "d7828f20",
   "metadata": {},
   "outputs": [],
   "source": [
    "DG"
   ]
  },
  {
   "cell_type": "markdown",
   "id": "4d44ca7a",
   "metadata": {},
   "source": [
    "## Add missing nodes to dictionary"
   ]
  },
  {
   "cell_type": "code",
   "execution_count": 19,
   "id": "29d3499a",
   "metadata": {},
   "outputs": [
    {
     "name": "stdout",
     "output_type": "stream",
     "text": [
      "Processed  0 missing nodes in  0.00020088600000001122 seconds\n"
     ]
    }
   ],
   "source": [
    "StartTime = time.process_time()\n",
    "old_index = index\n",
    "\n",
    "for i5 in range(len(Node_query)):\n",
    "    node=Node_query[i5]['cnid']['value']\n",
    "    nomv=Node_query[i5]['nomv']['value']\n",
    "    \n",
    "    if node not in ConnNodeDict.keys():\n",
    "        ConnNodeDict[node] = {}\n",
    "        ConnNodeDict[node]['name'] = Node_query[i5]['busname']['value']\n",
    "        ConnNodeDict[node]['node'] = index+1\n",
    "        ConnNodeDict[node]['list'] = 0\n",
    "        ConnNodeDict[node]['tpid'] = Node_query[i5]['tpnid']['value']\n",
    "        index = index+1\n",
    "        NodeList.append(node1)\n",
    "    ConnNodeDict[node]['nomv'] = nomv\n",
    "print(\"Processed \", index-old_index, \"missing nodes in \", time.process_time() - StartTime, \"seconds\")\n"
   ]
  },
  {
   "cell_type": "code",
   "execution_count": 20,
   "id": "6d194229",
   "metadata": {},
   "outputs": [],
   "source": [
    "# Stash a copy of base dictionary\n",
    "BaseConnDict = json.dumps(ConnNodeDict)\n",
    "BaseTermDict = json.dumps(TerminalsDict)"
   ]
  },
  {
   "cell_type": "markdown",
   "id": "4eb4e1c9",
   "metadata": {},
   "source": [
    "# Process Switch Topology - run at each switch change - convert to update_topology.py\n"
   ]
  },
  {
   "cell_type": "markdown",
   "id": "f05a3714",
   "metadata": {},
   "source": [
    "## Merge Topology Nodes"
   ]
  },
  {
   "cell_type": "code",
   "execution_count": 21,
   "id": "a8181c3e",
   "metadata": {},
   "outputs": [
    {
     "name": "stdout",
     "output_type": "stream",
     "text": [
      "Processed  1 switch objects in  0.00030401599999996254 seconds\n"
     ]
    }
   ],
   "source": [
    "# Pull base topology Dictionary\n",
    "ConnNodeDict = json.loads(BaseConnDict)\n",
    "TerminalsDict = json.loads(BaseTermDict)\n",
    "\n",
    "StartTime = time.process_time()\n",
    "i5=-1\n",
    "for i5 in range(len(SwitchKeys)):\n",
    "\n",
    "    node1=SwitchDict[SwitchKeys[i5]]['node1']\n",
    "    node2=SwitchDict[SwitchKeys[i5]]['node2']\n",
    "\n",
    "    \n",
    "    # If switch closed, merge nodes\n",
    "    if SwitchDict[SwitchKeys[i5]]['open'] == 0:\n",
    "        # Merge topology Nodes\n",
    "        #ConnNodeDict[node1]['tpid'] = tpnode1\n",
    "        ConnNodeDict[node2]['tpid'] = ConnNodeDict[node1]['tpid'] #tpnode1\n",
    "        #TopoNodeDict[tpnode1] = [node1, node2] # not implemented\n",
    "        #TopoNodeDict[tpnode2] = [node2, node1]\n",
    "        \n",
    "        # Update Linked Lists\n",
    "        if ConnNodeDict[node2]['list'] > ConnNodeDict[node1]['list']:\n",
    "            term2 = TermList[ConnNodeDict[node2]['list']-1]\n",
    "            next2 = TerminalsDict[term2]['next']\n",
    "            while next2 != 0:\n",
    "                term2 = TermList[next2-1]\n",
    "                next2 = TerminalsDict[term2]['next']\n",
    "            TerminalsDict[term2]['next'] = ConnNodeDict[node1]['list']\n",
    "            ConnNodeDict[node1]['list'] = ConnNodeDict[node2]['list']\n",
    "        else:\n",
    "            term1 = TermList[ConnNodeDict[node1]['list']-1]\n",
    "            next1 = TerminalsDict[term1]['next']\n",
    "            while next1 != 0:\n",
    "                term1 = TermList[next1-1]\n",
    "                next1 = TerminalsDict[term1]['next']\n",
    "            TerminalsDict[term1]['next'] = ConnNodeDict[node2]['list']\n",
    "            ConnNodeDict[node2]['list'] = ConnNodeDict[node1]['list']\n",
    "            \n",
    "print(\"Processed \", i5+1, \"switch objects in \", time.process_time() - StartTime, \"seconds\")"
   ]
  },
  {
   "cell_type": "markdown",
   "id": "c64f84cc",
   "metadata": {},
   "source": [
    "## Build Spanning Tree from Xfmrs"
   ]
  },
  {
   "cell_type": "code",
   "execution_count": 22,
   "id": "7e62d0b6",
   "metadata": {},
   "outputs": [
    {
     "name": "stdout",
     "output_type": "stream",
     "text": [
      "Processed  0 topology trees containing  0  buses in  0.0003197019999999773 seconds\n"
     ]
    }
   ],
   "source": [
    "Tree={}\n",
    "#ProcessedNodes=[]\n",
    "TotalNodes=0\n",
    "StartTime = time.process_time()\n",
    "\n",
    "# Iterate through all substation transformers\n",
    "for i6 in range(len(XfmrKeys)):\n",
    "    \n",
    "    # Identify if distribution substation transformer\n",
    "    if (int(Xfmr_dict[XfmrKeys[i6]]['volt1']) >= 34000 and 34000 >= int(Xfmr_dict[XfmrKeys[i6]]['volt2']) > 1000) or (int(Xfmr_dict[XfmrKeys[i6]]['volt2']) >= 34000 and 34000 >= int(Xfmr_dict[XfmrKeys[i6]]['volt1']) > 1000):\n",
    "        # Create Tree starting from this transformer\n",
    "        FirstNode = 1 \n",
    "        LastNode = 2\n",
    "        # Set as rootnode \n",
    "        # assuming node1 is high and node2 is low - need to verify will work otherwise\n",
    "        Tree[XfmrKeys[i6]]=[Xfmr_dict[XfmrKeys[i6]]['node1'], Xfmr_dict[XfmrKeys[i6]]['node2']]\n",
    "\n",
    "        while LastNode != FirstNode:\n",
    "            NextTerm = ConnNodeDict[Tree[XfmrKeys[i6]][FirstNode]]['list']\n",
    "            FirstNode = FirstNode + 1\n",
    "            while NextTerm != 0:\n",
    "                # Get next node and terminal for current node\n",
    "                NextNode = TerminalsDict[TermList[NextTerm-1]]['far']\n",
    "                NextTerm = TerminalsDict[TermList[NextTerm-1]]['next']\n",
    "                # Add to tree if not there already\n",
    "                not_in_tree = False\n",
    "                        \n",
    "                if NodeList[NextNode-1] not in Tree[XfmrKeys[i6]]:\n",
    "                    #if NodeList[NextNode-1] not in ProcessedNodes:\n",
    "                    if 'nomv' in ConnNodeDict[NodeList[NextNode-1]]:\n",
    "                        if int(ConnNodeDict[NodeList[NextNode-1]]['nomv']) < 34000:\n",
    "                            Tree[XfmrKeys[i6]].append(NodeList[NextNode-1])\n",
    "                            LastNode = LastNode + 1\n",
    "                    else:\n",
    "                        Tree[XfmrKeys[i6]].append(NodeList[NextNode-1])\n",
    "                        LastNode = LastNode + 1\n",
    "                    \n",
    "        NodesInTree=len(Tree[XfmrKeys[i6]])\n",
    "        print(\"Processed topology from substation transformer \", Xfmr_dict[XfmrKeys[i6]]['tname1'], \" with \", NodesInTree, \" buses\")\n",
    "        TotalNodes=TotalNodes+NodesInTree\n",
    "            \n",
    "print(\"Processed \", len(Tree.keys()), \"topology trees containing \", TotalNodes, \" buses in \", time.process_time() - StartTime, \"seconds\")"
   ]
  },
  {
   "cell_type": "code",
   "execution_count": 23,
   "id": "8da291ed",
   "metadata": {},
   "outputs": [
    {
     "data": {
      "text/plain": [
       "{}"
      ]
     },
     "execution_count": 23,
     "metadata": {},
     "output_type": "execute_result"
    }
   ],
   "source": [
    "Tree"
   ]
  },
  {
   "cell_type": "code",
   "execution_count": 24,
   "id": "578606b5",
   "metadata": {},
   "outputs": [
    {
     "data": {
      "text/plain": [
       "range(0, 4)"
      ]
     },
     "execution_count": 24,
     "metadata": {},
     "output_type": "execute_result"
    }
   ],
   "source": [
    "range(i6)"
   ]
  },
  {
   "cell_type": "markdown",
   "id": "f827c0ae",
   "metadata": {},
   "source": [
    "## Build Spanning Tree from DGs"
   ]
  },
  {
   "cell_type": "code",
   "execution_count": 25,
   "id": "f6253d3d",
   "metadata": {},
   "outputs": [
    {
     "name": "stdout",
     "output_type": "stream",
     "text": [
      "Processed  0  more islands containing  0  buses in  0.00023296200000000322 seconds\n"
     ]
    }
   ],
   "source": [
    "Subs=list(Tree.keys())\n",
    "TotalNodes = 0\n",
    "StartTime = time.process_time()\n",
    "\n",
    "\n",
    "# Iterate through all SynchronousMachine\n",
    "for i7 in range(len(DG_query)):\n",
    "    node=DG_query[i7]['node']['value']\n",
    "    term=DG_query[i7]['term']['value']\n",
    "    islanded = True\n",
    "    \n",
    "    # Identify if DER is really islanded\n",
    "    for i8 in range(len(Subs)):\n",
    "        if node in Tree[Subs[i8]]:\n",
    "            islanded = False\n",
    "        \n",
    "    if islanded == True:\n",
    "        # Create Tree starting from this transformer\n",
    "        FirstNode = 0 \n",
    "        LastNode = 1\n",
    "        # Set as rootnode \n",
    "        # assuming node1 is high and node2 is low - need to verify will work otherwise\n",
    "        Tree[node]=[node]\n",
    "\n",
    "        while LastNode != FirstNode:\n",
    "            NextTerm = ConnNodeDict[Tree[node][FirstNode]]['list']\n",
    "            FirstNode = FirstNode + 1\n",
    "            while NextTerm != 0:\n",
    "                # Get next node and terminal for current node\n",
    "                NextNode = TerminalsDict[TermList[NextTerm-1]]['far']\n",
    "                NextTerm = TerminalsDict[TermList[NextTerm-1]]['next']\n",
    "                # Add to tree if not there already\n",
    "                if NodeList[NextNode-1] not in Tree[node]:\n",
    "                    Tree[node].append(NodeList[NextNode-1])\n",
    "                    LastNode = LastNode + 1\n",
    "                    \n",
    "        NodesInTree=len(Tree[node])\n",
    "        TotalNodes=TotalNodes+NodesInTree\n",
    "            \n",
    "print(\"Processed \", len(Tree.keys())-len(Subs), \" more islands containing \", TotalNodes, \" buses in \", time.process_time() - StartTime, \"seconds\")"
   ]
  },
  {
   "cell_type": "code",
   "execution_count": null,
   "id": "4d709e96",
   "metadata": {},
   "outputs": [],
   "source": []
  },
  {
   "cell_type": "markdown",
   "id": "b1241abb",
   "metadata": {},
   "source": [
    "# Update Dictionary Objects:"
   ]
  },
  {
   "cell_type": "code",
   "execution_count": 26,
   "id": "029e8582",
   "metadata": {
    "scrolled": true
   },
   "outputs": [
    {
     "data": {
      "text/plain": [
       "int"
      ]
     },
     "execution_count": 26,
     "metadata": {},
     "output_type": "execute_result"
    }
   ],
   "source": [
    "type(1)"
   ]
  },
  {
   "cell_type": "markdown",
   "id": "5cdc76ad",
   "metadata": {},
   "source": [
    "!python3 gridappsd-topologyprocessor.py"
   ]
  },
  {
   "cell_type": "code",
   "execution_count": 27,
   "id": "480d9e06",
   "metadata": {},
   "outputs": [],
   "source": [
    " request = {\"modelId\": model_mrid,\n",
    "                   \"requestType\": \"QUERY_OBJECT_MEASUREMENTS\",\n",
    "                   \"resultFormat\": \"JSON\",\n",
    "                   \"objectType\": \"LoadBreakSwitch\"\n",
    "                   }\n",
    "        \n",
    "response = gapps.get_response(\"goss.gridappsd.process.request.data.powergridmodel\",request,timeout=15)"
   ]
  },
  {
   "cell_type": "code",
   "execution_count": 28,
   "id": "cf0d57cb",
   "metadata": {},
   "outputs": [
    {
     "data": {
      "text/plain": [
       "{'_3E259C63-39CC-4B6C-9C4A-1B29A5C83840': {'name': '632',\n",
       "  'node': 1,\n",
       "  'list': 10,\n",
       "  'tpid': '_4EBBAEDF-F546-4BFB-A0A0-D8350210DF75',\n",
       "  'lines': ['632633', '632645', '632670', '650632'],\n",
       "  'line_ids': ['_67A2574B-8146-464D-B93C-B9FCBCE913BC',\n",
       "   '_A98417B1-4A7F-484F-97C8-9B91F29A26F1',\n",
       "   '_8A62F620-7C58-4662-AE5C-F41F5E3F0022',\n",
       "   '_6DEF3353-8276-402F-AC8E-3DEF4A396FFE'],\n",
       "  'nomv': '4160'},\n",
       " '_560E1C31-EE5C-4BFD-A0B6-F4E8D60E2C76': {'name': '633',\n",
       "  'node': 2,\n",
       "  'list': 29,\n",
       "  'tpid': '_D2357214-2996-4E1A-A736-0F97912337D4',\n",
       "  'lines': ['632633'],\n",
       "  'line_ids': ['_67A2574B-8146-464D-B93C-B9FCBCE913BC'],\n",
       "  'xfmr': ['xfm1_T1'],\n",
       "  'nomv': '4160'},\n",
       " '_61D2A727-4D2E-45F9-8A94-C42B38FFF029': {'name': '645',\n",
       "  'node': 3,\n",
       "  'list': 7,\n",
       "  'tpid': '_775C82DD-9ED1-49C6-AD53-C725B5DC0A67',\n",
       "  'lines': ['632645', '645646'],\n",
       "  'line_ids': ['_A98417B1-4A7F-484F-97C8-9B91F29A26F1',\n",
       "   '_173879C4-4FDB-4521-A60D-5B102B3781B2'],\n",
       "  'nomv': '4160'},\n",
       " '_DC7FBBF3-1456-4B9C-8983-9E3D4FA9D95B': {'name': '670',\n",
       "  'node': 4,\n",
       "  'list': 11,\n",
       "  'tpid': '_31A5B81A-EA91-4096-B229-B35003EE976A',\n",
       "  'lines': ['632670', '670671'],\n",
       "  'line_ids': ['_8A62F620-7C58-4662-AE5C-F41F5E3F0022',\n",
       "   '_4774208A-B9AB-4051-8BC9-4F7C8EA6552A'],\n",
       "  'nomv': '4160'},\n",
       " '_22B55260-79B0-4DF5-A070-AFEDAFA299D4': {'name': '646',\n",
       "  'node': 5,\n",
       "  'list': 8,\n",
       "  'tpid': '_44F7E49B-55D1-4ABD-AEE7-FE5648856B0F',\n",
       "  'lines': ['645646'],\n",
       "  'line_ids': ['_173879C4-4FDB-4521-A60D-5B102B3781B2'],\n",
       "  'nomv': '4160'},\n",
       " '_4163D7DE-898A-4241-93E0-F3FC49F1F714': {'name': 'rg60',\n",
       "  'node': 6,\n",
       "  'list': 32,\n",
       "  'tpid': '_FA1A51D3-C9F5-4E89-AE09-C51B257C1C44',\n",
       "  'lines': ['650632'],\n",
       "  'line_ids': ['_6DEF3353-8276-402F-AC8E-3DEF4A396FFE'],\n",
       "  'xfmr': ['reg1_T2', 'reg3_T2', 'reg2_T2'],\n",
       "  'nomv': '4160'},\n",
       " '_249A3E8C-0128-4DE2-92EA-112B44080BF2': {'name': '671',\n",
       "  'node': 7,\n",
       "  'list': 21,\n",
       "  'tpid': '_6A772D92-9250-45BB-AC24-FA6D63930AFB',\n",
       "  'lines': ['670671', '671680', '671684'],\n",
       "  'line_ids': ['_4774208A-B9AB-4051-8BC9-4F7C8EA6552A',\n",
       "   '_603106B5-1DC7-40B1-A264-98774F6FD16D',\n",
       "   '_08848DC6-BB11-4647-9C21-475BAD66A8B8'],\n",
       "  'nomv': '4160'},\n",
       " '_BDCA9F2B-81A8-4969-AE86-B9D5DC399F51': {'name': '680',\n",
       "  'node': 8,\n",
       "  'list': 14,\n",
       "  'tpid': '_5DEDD51E-0CA1-4BB8-9D46-6EB2064236D5',\n",
       "  'lines': ['671680'],\n",
       "  'line_ids': ['_603106B5-1DC7-40B1-A264-98774F6FD16D'],\n",
       "  'nomv': '4160'},\n",
       " '_7326FB57-9839-4AE6-9F3D-B5660C58A7BA': {'name': '684',\n",
       "  'node': 9,\n",
       "  'list': 19,\n",
       "  'tpid': '_7CEDFCF6-E932-4390-9C7C-C321185BD34B',\n",
       "  'lines': ['671684', '684611', '684652'],\n",
       "  'line_ids': ['_08848DC6-BB11-4647-9C21-475BAD66A8B8',\n",
       "   '_8C536493-14B8-41D0-8EE4-CAE4DFF33839',\n",
       "   '_E062E187-F149-4555-8E27-2EE0C9D75274'],\n",
       "  'nomv': '4160'},\n",
       " '_B7E4EF30-D95D-4C8E-829B-F75FB0FDBEAD': {'name': '611',\n",
       "  'node': 10,\n",
       "  'list': 18,\n",
       "  'tpid': '_9E6A4159-C829-4D7E-9A95-5B87FFDD53DB',\n",
       "  'lines': ['684611'],\n",
       "  'line_ids': ['_8C536493-14B8-41D0-8EE4-CAE4DFF33839'],\n",
       "  'nomv': '4160'},\n",
       " '_DFA687CB-83D6-4FD0-8007-657A3E1819F6': {'name': '652',\n",
       "  'node': 11,\n",
       "  'list': 20,\n",
       "  'tpid': '_376E587E-F107-426C-BD30-99484F31167F',\n",
       "  'lines': ['684652'],\n",
       "  'line_ids': ['_E062E187-F149-4555-8E27-2EE0C9D75274'],\n",
       "  'nomv': '4160'},\n",
       " '_04006A64-109D-499D-8496-1B55907C1570': {'name': '692',\n",
       "  'node': 12,\n",
       "  'list': 21,\n",
       "  'tpid': '_6A772D92-9250-45BB-AC24-FA6D63930AFB',\n",
       "  'lines': ['692675'],\n",
       "  'line_ids': ['_6EBB2188-CBE1-4FEC-9406-83DE8E61F9CB'],\n",
       "  'nomv': '4160'},\n",
       " '_CB29A4D1-EE08-4AAF-82F6-3C178009EBC0': {'name': '675',\n",
       "  'node': 13,\n",
       "  'list': 22,\n",
       "  'tpid': '_E0AD70BD-6428-40C8-A95F-428D51620FE7',\n",
       "  'lines': ['692675'],\n",
       "  'line_ids': ['_6EBB2188-CBE1-4FEC-9406-83DE8E61F9CB'],\n",
       "  'nomv': '4160'},\n",
       " '_348C3A23-B2F4-4101-9A6C-AF8DEF97DD4C': {'name': '650',\n",
       "  'node': 14,\n",
       "  'list': 31,\n",
       "  'tpid': '_934CE930-D23D-4F0E-A73D-9BA600910553',\n",
       "  'xfmr': ['reg1_T1', 'reg3_T1', 'sub_T2', 'reg2_T1']},\n",
       " '_E14BD0DF-466D-487B-8786-0D46515D1F9B': {'name': 'sourcebus',\n",
       "  'node': 15,\n",
       "  'list': 27,\n",
       "  'tpid': '_15B42FDC-9A59-46E9-9591-6D6B7D631DFC',\n",
       "  'xfmr': ['sub_T1'],\n",
       "  'nomv': '115000'},\n",
       " '_09A37A19-DF0E-48F3-92E9-10FA62A08120': {'name': '634',\n",
       "  'node': 16,\n",
       "  'list': 30,\n",
       "  'tpid': '_62CBAA31-3C12-4FD9-9294-22D5CC16DE64',\n",
       "  'xfmr': ['xfm1_T2'],\n",
       "  'nomv': '480'}}"
      ]
     },
     "execution_count": 28,
     "metadata": {},
     "output_type": "execute_result"
    }
   ],
   "source": [
    "ConnNodeDict"
   ]
  },
  {
   "cell_type": "code",
   "execution_count": 29,
   "id": "a34419d5",
   "metadata": {},
   "outputs": [
    {
     "data": {
      "text/plain": [
       "{'_16861155-E2D2-4E9C-8FCA-50EA820E96D0': {'bus': 'rg60',\n",
       "  'bus1': '650',\n",
       "  'term1': '_395CB268-01A1-418E-A61D-9AF2BF55C72D',\n",
       "  'node1': '_348C3A23-B2F4-4101-9A6C-AF8DEF97DD4C',\n",
       "  'tpnode1': '_934CE930-D23D-4F0E-A73D-9BA600910553',\n",
       "  'tname1': 'reg1_T1',\n",
       "  'volt1': 0,\n",
       "  'phase1': 'A',\n",
       "  'bus2': 'rg60',\n",
       "  'term2': '_69556E23-9E03-486A-B584-799FC0A2725B',\n",
       "  'node2': '_4163D7DE-898A-4241-93E0-F3FC49F1F714',\n",
       "  'tpnode2': '_FA1A51D3-C9F5-4E89-AE09-C51B257C1C44',\n",
       "  'tname2': 'reg1_T2',\n",
       "  'volt2': 0,\n",
       "  'phase2': 'A'},\n",
       " '_2EB647F9-B8F8-4659-9D2D-3515563030EB': {'bus': 'rg60',\n",
       "  'bus1': '650',\n",
       "  'term1': '_06871ECF-88FB-462A-82BB-05FB228C3A65',\n",
       "  'node1': '_348C3A23-B2F4-4101-9A6C-AF8DEF97DD4C',\n",
       "  'tpnode1': '_934CE930-D23D-4F0E-A73D-9BA600910553',\n",
       "  'tname1': 'reg3_T1',\n",
       "  'volt1': 0,\n",
       "  'phase1': 'C',\n",
       "  'bus2': 'rg60',\n",
       "  'term2': '_542544DA-AA1C-4F45-A8FA-10ABCF5BE28F',\n",
       "  'node2': '_4163D7DE-898A-4241-93E0-F3FC49F1F714',\n",
       "  'tpnode2': '_FA1A51D3-C9F5-4E89-AE09-C51B257C1C44',\n",
       "  'tname2': 'reg3_T2',\n",
       "  'volt2': 0,\n",
       "  'phase2': 'C'},\n",
       " '_6BC92BAB-B1C8-49C5-87B3-126BBCDC46D5': {'bus': '650',\n",
       "  'bus1': 'sourcebus',\n",
       "  'term1': '_FB232D9A-027E-4CF2-A75C-C95F2C454D93',\n",
       "  'node1': '_E14BD0DF-466D-487B-8786-0D46515D1F9B',\n",
       "  'tpnode1': '_15B42FDC-9A59-46E9-9591-6D6B7D631DFC',\n",
       "  'tname1': 'sub_T1',\n",
       "  'volt1': 0,\n",
       "  'phase1': 'ABC',\n",
       "  'bus2': '650',\n",
       "  'term2': '_67A4EE9A-AE33-4CB8-8716-4F181BB8262E',\n",
       "  'node2': '_348C3A23-B2F4-4101-9A6C-AF8DEF97DD4C',\n",
       "  'tpnode2': '_934CE930-D23D-4F0E-A73D-9BA600910553',\n",
       "  'tname2': 'sub_T2',\n",
       "  'volt2': 0,\n",
       "  'phase2': 'ABC'},\n",
       " '_73E02C20-7DB0-4825-84C1-E58DB8C296BF': {'bus': '634',\n",
       "  'bus1': '633',\n",
       "  'term1': '_582C742F-9898-46BE-B6A8-5934F90D1F0C',\n",
       "  'node1': '_560E1C31-EE5C-4BFD-A0B6-F4E8D60E2C76',\n",
       "  'tpnode1': '_D2357214-2996-4E1A-A736-0F97912337D4',\n",
       "  'tname1': 'xfm1_T1',\n",
       "  'volt1': 0,\n",
       "  'phase1': 'ABC',\n",
       "  'bus2': '634',\n",
       "  'term2': '_3E1DEBD3-2916-483A-BC92-7A1C941A9762',\n",
       "  'node2': '_09A37A19-DF0E-48F3-92E9-10FA62A08120',\n",
       "  'tpnode2': '_62CBAA31-3C12-4FD9-9294-22D5CC16DE64',\n",
       "  'tname2': 'xfm1_T2',\n",
       "  'volt2': 0,\n",
       "  'phase2': 'ABC'},\n",
       " '_BE3F4495-1AC4-4A36-A529-40A6A740F58C': {'bus': 'rg60',\n",
       "  'bus1': '650',\n",
       "  'term1': '_77761EA2-B88B-42FA-B53B-2389D5FF10C6',\n",
       "  'node1': '_348C3A23-B2F4-4101-9A6C-AF8DEF97DD4C',\n",
       "  'tpnode1': '_934CE930-D23D-4F0E-A73D-9BA600910553',\n",
       "  'tname1': 'reg2_T1',\n",
       "  'volt1': 0,\n",
       "  'phase1': 'B',\n",
       "  'bus2': 'rg60',\n",
       "  'term2': '_7A9A50A7-5B0F-4DA6-A53E-53575FBC68CC',\n",
       "  'node2': '_4163D7DE-898A-4241-93E0-F3FC49F1F714',\n",
       "  'tpnode2': '_FA1A51D3-C9F5-4E89-AE09-C51B257C1C44',\n",
       "  'tname2': 'reg2_T2',\n",
       "  'volt2': 0,\n",
       "  'phase2': 'B'}}"
      ]
     },
     "execution_count": 29,
     "metadata": {},
     "output_type": "execute_result"
    }
   ],
   "source": [
    "Xfmr_dict"
   ]
  }
 ],
 "metadata": {
  "kernelspec": {
   "display_name": "Python 3 (ipykernel)",
   "language": "python",
   "name": "python3"
  },
  "language_info": {
   "codemirror_mode": {
    "name": "ipython",
    "version": 3
   },
   "file_extension": ".py",
   "mimetype": "text/x-python",
   "name": "python",
   "nbconvert_exporter": "python",
   "pygments_lexer": "ipython3",
   "version": "3.8.5"
  }
 },
 "nbformat": 4,
 "nbformat_minor": 5
}
