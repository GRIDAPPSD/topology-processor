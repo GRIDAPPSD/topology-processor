{
 "cells": [
  {
   "cell_type": "code",
   "execution_count": 1,
   "id": "7c025c65",
   "metadata": {},
   "outputs": [],
   "source": [
    "import time"
   ]
  },
  {
   "cell_type": "code",
   "execution_count": 38,
   "id": "0b2eb167",
   "metadata": {},
   "outputs": [],
   "source": [
    "# Establish connection to GridAPPS-D Platform:\n",
    "from gridappsd import GridAPPSD\n",
    "\n",
    "# IEEE 13 Assets Model used for all example queries\n",
    "model_mrid = \"_5B816B93-7A5F-B64C-8460-47C17D6E4B0F\" \n",
    "\n",
    "# Set environment variables - when developing, put environment variable in ~/.bashrc file or export in command line\n",
    "# export GRIDAPPSD_USER=system\n",
    "# export GRIDAPPSD_PASSWORD=manager\n",
    "\n",
    "import os # Set username and password\n",
    "os.environ['GRIDAPPSD_USER'] = 'tutorial_user'\n",
    "os.environ['GRIDAPPSD_PASSWORD'] = '12345!'\n",
    "\n",
    "# Connect to GridAPPS-D Platform\n",
    "gapps = GridAPPSD()\n",
    "assert gapps.connected"
   ]
  },
  {
   "cell_type": "code",
   "execution_count": 44,
   "id": "66d07703",
   "metadata": {},
   "outputs": [],
   "source": [
    "model_mrid = \"_EE71F6C9-56F0-4167-A14E-7F4C71F10EAA\" #final9500node"
   ]
  },
  {
   "cell_type": "code",
   "execution_count": null,
   "id": "9d9376d1",
   "metadata": {},
   "outputs": [],
   "source": [
    "model_mrid = \"_5B816B93-7A5F-B64C-8460-47C17D6E4B0F\" "
   ]
  },
  {
   "cell_type": "code",
   "execution_count": 46,
   "id": "673b5243",
   "metadata": {},
   "outputs": [],
   "source": [
    "Query_lines=\"\"\"\n",
    "    PREFIX r:  <http://www.w3.org/1999/02/22-rdf-syntax-ns#>\n",
    "    PREFIX c:  <http://iec.ch/TC57/CIM100#>\n",
    "    SELECT ?name ?bus1 ?bus2 ?id ?term1 ?term2 ?node1 ?node2 (group_concat(distinct ?phs;separator=\"\") as ?phases) WHERE {\n",
    "    SELECT ?name ?bus1 ?bus2 ?phs ?id ?term1 ?term2 ?node1 ?node2 WHERE {\n",
    "    VALUES ?fdrid {\"%s\"}  # 13 bus\n",
    "    ?fdr c:IdentifiedObject.mRID ?fdrid.\n",
    "    ?s r:type c:ACLineSegment.\n",
    "    ?s c:Equipment.EquipmentContainer ?fdr.\n",
    "    ?s c:IdentifiedObject.name ?name.\n",
    "    ?s c:IdentifiedObject.mRID ?id.\n",
    "    ?t1 c:Terminal.ConductingEquipment ?s.\n",
    "    ?t1 c:ACDCTerminal.sequenceNumber \"1\".\n",
    "    ?t1 c:Terminal.ConnectivityNode ?cn1. \n",
    "    ?cn1 c:IdentifiedObject.name ?bus1.\n",
    "    ?t2 c:Terminal.ConductingEquipment ?s.\n",
    "    ?t2 c:ACDCTerminal.sequenceNumber \"2\".\n",
    "    ?t2 c:Terminal.ConnectivityNode ?cn2. \n",
    "    ?cn2 c:IdentifiedObject.name ?bus2.\n",
    "        bind(strafter(str(?t1), str(\"http://localhost:8889/bigdata/namespace/kb/sparql#\")) as ?term1) \n",
    "        bind(strafter(str(?t2), str(\"http://localhost:8889/bigdata/namespace/kb/sparql#\")) as ?term2)\n",
    "        bind(strafter(str(?cn1), str(\"http://localhost:8889/bigdata/namespace/kb/sparql#\")) as ?node1)\n",
    "        bind(strafter(str(?cn2), str(\"http://localhost:8889/bigdata/namespace/kb/sparql#\")) as ?node2)\n",
    "            OPTIONAL {?acp c:ACLineSegmentPhase.ACLineSegment ?s.\n",
    "            ?acp c:ACLineSegmentPhase.phase ?phsraw.\n",
    "            bind(strafter(str(?phsraw),\"SinglePhaseKind.\") as ?phs) }\n",
    "    \n",
    "    } ORDER BY ?name ?phs\n",
    "    }\n",
    "    GROUP BY ?name ?bus1 ?bus2 ?id ?term1 ?term2 ?node1 ?node2\n",
    "    ORDER BY ?name\n",
    "    \"\"\"%model_mrid"
   ]
  },
  {
   "cell_type": "code",
   "execution_count": 47,
   "id": "d67dc0b6",
   "metadata": {},
   "outputs": [],
   "source": [
    "results = gapps.query_data(query = Query_lines, timeout = 60)\n",
    "Line_query = results['data']['results']['bindings']"
   ]
  },
  {
   "cell_type": "code",
   "execution_count": 49,
   "id": "8139ce48",
   "metadata": {},
   "outputs": [
    {
     "data": {
      "text/plain": [
       "0.017739862999999856"
      ]
     },
     "execution_count": 49,
     "metadata": {},
     "output_type": "execute_result"
    }
   ],
   "source": [
    "index=0\n",
    "ConnectivityNodeDict = {}\n",
    "TerminalsDict = {}\n",
    "\n",
    "StartTime = time.process_time()\n",
    "\n",
    "for i in range(len(Line_query)):\n",
    "    name=Line_query[i]['name']['value']\n",
    "    bus1=Line_query[i]['bus1']['value']\n",
    "    bus2=Line_query[i]['bus2']['value']\n",
    "    id_line=Line_query[i]['id']['value']\n",
    "    term1=Line_query[i]['term1']['value']\n",
    "    term2=Line_query[i]['term2']['value']\n",
    "    node1=Line_query[i]['node1']['value']\n",
    "    node2=Line_query[i]['node2']['value']\n",
    "    phases=Line_query[i]['phases']['value']\n",
    "    \n",
    "    # Create keys for new terminals\n",
    "    TerminalsDict[term1] = {}\n",
    "    TerminalsDict[term2] = {}\n",
    "    TerminalsDict[term1]['term'] = 2*i+1\n",
    "    TerminalsDict[term2]['term'] = 2*i+2\n",
    "    #TerminalsDict[term1]['phases'] = phases\n",
    "    #TerminalsDict[term2]['phases'] = phases\n",
    "    \n",
    "    # If node1 or node2 not in dict, create new keys\n",
    "    if not node1 in ConnectivityNodeDict.keys():\n",
    "        ConnectivityNodeDict[node1] = {}\n",
    "        ConnectivityNodeDict[node1]['name'] = bus1\n",
    "        ConnectivityNodeDict[node1]['node'] = index+1\n",
    "        ConnectivityNodeDict[node1]['list'] = 0\n",
    "        index = index+1\n",
    "\n",
    "    if not node2 in ConnectivityNodeDict.keys(): \n",
    "        ConnectivityNodeDict[node2] = {}\n",
    "        ConnectivityNodeDict[node2]['name'] = bus1\n",
    "        ConnectivityNodeDict[node2]['node'] = index+1\n",
    "        ConnectivityNodeDict[node2]['list'] = 0\n",
    "        index = index+1\n",
    "    \n",
    "    # 1. Move node list variables to terinal next    \n",
    "    TerminalsDict[term1]['next'] = ConnectivityNodeDict[node1]['list']\n",
    "    TerminalsDict[term2]['next'] = ConnectivityNodeDict[node2]['list']\n",
    "\n",
    "    # 2. Populate Terminal list far field with nodes\n",
    "    TerminalsDict[term1]['far'] = ConnectivityNodeDict[node2]['node']\n",
    "    TerminalsDict[term2]['far'] = ConnectivityNodeDict[node1]['node']\n",
    "    \n",
    "    # 3. Populate Connectivity nodes list with terminals\n",
    "    ConnectivityNodeDict[node1]['list'] = TerminalsDict[term1]['term']\n",
    "    ConnectivityNodeDict[node2]['list'] = TerminalsDict[term2]['term']\n",
    "    \n",
    "time.process_time() - StartTime"
   ]
  },
  {
   "cell_type": "code",
   "execution_count": 42,
   "id": "13a0bb06",
   "metadata": {},
   "outputs": [
    {
     "data": {
      "text/plain": [
       "{'_3E259C63-39CC-4B6C-9C4A-1B29A5C83840': {'name': '632',\n",
       "  'node': 1,\n",
       "  'list': 10},\n",
       " '_560E1C31-EE5C-4BFD-A0B6-F4E8D60E2C76': {'name': '632',\n",
       "  'node': 2,\n",
       "  'list': 2},\n",
       " '_61D2A727-4D2E-45F9-8A94-C42B38FFF029': {'name': '632',\n",
       "  'node': 3,\n",
       "  'list': 7},\n",
       " '_DC7FBBF3-1456-4B9C-8983-9E3D4FA9D95B': {'name': '632',\n",
       "  'node': 4,\n",
       "  'list': 11},\n",
       " '_22B55260-79B0-4DF5-A070-AFEDAFA299D4': {'name': '645',\n",
       "  'node': 5,\n",
       "  'list': 8},\n",
       " '_4163D7DE-898A-4241-93E0-F3FC49F1F714': {'name': 'rg60',\n",
       "  'node': 6,\n",
       "  'list': 9},\n",
       " '_249A3E8C-0128-4DE2-92EA-112B44080BF2': {'name': '670',\n",
       "  'node': 7,\n",
       "  'list': 15},\n",
       " '_BDCA9F2B-81A8-4969-AE86-B9D5DC399F51': {'name': '671',\n",
       "  'node': 8,\n",
       "  'list': 14},\n",
       " '_7326FB57-9839-4AE6-9F3D-B5660C58A7BA': {'name': '671',\n",
       "  'node': 9,\n",
       "  'list': 19},\n",
       " '_B7E4EF30-D95D-4C8E-829B-F75FB0FDBEAD': {'name': '684',\n",
       "  'node': 10,\n",
       "  'list': 18},\n",
       " '_DFA687CB-83D6-4FD0-8007-657A3E1819F6': {'name': '684',\n",
       "  'node': 11,\n",
       "  'list': 20},\n",
       " '_04006A64-109D-499D-8496-1B55907C1570': {'name': '692',\n",
       "  'node': 12,\n",
       "  'list': 21},\n",
       " '_CB29A4D1-EE08-4AAF-82F6-3C178009EBC0': {'name': '692',\n",
       "  'node': 13,\n",
       "  'list': 22}}"
      ]
     },
     "execution_count": 42,
     "metadata": {},
     "output_type": "execute_result"
    }
   ],
   "source": [
    "ConnectivityNodeDict"
   ]
  },
  {
   "cell_type": "code",
   "execution_count": 43,
   "id": "a5c084df",
   "metadata": {},
   "outputs": [
    {
     "data": {
      "text/plain": [
       "{'_2E9A8734-C4F8-4C76-8AF3-F0627DCBCBEB': {'term': 1, 'next': 0, 'far': 2},\n",
       " '_EB08CE02-875B-4409-B16C-615D8F87D372': {'term': 2, 'next': 0, 'far': 1},\n",
       " '_E34BA9AE-07FD-4350-B7F3-325DD010A768': {'term': 3, 'next': 1, 'far': 3},\n",
       " '_3242BCAC-B8AB-4548-888E-5EA967691090': {'term': 4, 'next': 0, 'far': 1},\n",
       " '_CE8A51BA-8160-4AAA-907B-853BD19141E3': {'term': 5, 'next': 3, 'far': 4},\n",
       " '_B6000E34-260D-470F-B6F4-069DBEC65631': {'term': 6, 'next': 0, 'far': 1},\n",
       " '_CA7CF6E9-DC73-4970-AED7-97D2F1AB9C7D': {'term': 7, 'next': 4, 'far': 5},\n",
       " '_91E21558-6FAE-47D6-9756-D3703B4CCFE6': {'term': 8, 'next': 0, 'far': 3},\n",
       " '_82C4B32A-62D0-41FB-8A29-C64F3870E3EF': {'term': 9, 'next': 0, 'far': 1},\n",
       " '_60290BDE-69A0-49FC-BEE2-B8C355B51330': {'term': 10, 'next': 5, 'far': 6},\n",
       " '_AF113CF9-9B02-4D61-B831-1E02709C8E93': {'term': 11, 'next': 6, 'far': 7},\n",
       " '_04DCA1EA-04D2-48D8-8394-82E412AF5616': {'term': 12, 'next': 0, 'far': 4},\n",
       " '_78ED9EED-991C-4622-9475-A17212AED8AF': {'term': 13, 'next': 12, 'far': 8},\n",
       " '_2DC3EF16-F881-42A9-BF65-1158799F132A': {'term': 14, 'next': 0, 'far': 7},\n",
       " '_636377F0-4E50-4C65-9320-35E0A68731BE': {'term': 15, 'next': 13, 'far': 9},\n",
       " '_38B542B8-1A65-4211-9B2C-73FC39382959': {'term': 16, 'next': 0, 'far': 7},\n",
       " '_53964AFB-BE4E-4890-A694-957172605378': {'term': 17, 'next': 16, 'far': 10},\n",
       " '_DEE28585-C381-4C31-8F9A-D6E138130719': {'term': 18, 'next': 0, 'far': 9},\n",
       " '_AF8E4B1E-76E3-4B5D-9505-E73E89BEDB1C': {'term': 19, 'next': 17, 'far': 11},\n",
       " '_CE782974-DCE7-4E04-8623-D139AE89EC0F': {'term': 20, 'next': 0, 'far': 9},\n",
       " '_30DE3992-164E-4202-9928-92BB035621B3': {'term': 21, 'next': 0, 'far': 13},\n",
       " '_FD181CFF-8F3F-43E0-96D4-FA80E71D6A2E': {'term': 22, 'next': 0, 'far': 12}}"
      ]
     },
     "execution_count": 43,
     "metadata": {},
     "output_type": "execute_result"
    }
   ],
   "source": [
    "TerminalsDict"
   ]
  },
  {
   "cell_type": "code",
   "execution_count": null,
   "id": "bc4f02fe",
   "metadata": {},
   "outputs": [],
   "source": []
  }
 ],
 "metadata": {
  "kernelspec": {
   "display_name": "Python 3 (ipykernel)",
   "language": "python",
   "name": "python3"
  },
  "language_info": {
   "codemirror_mode": {
    "name": "ipython",
    "version": 3
   },
   "file_extension": ".py",
   "mimetype": "text/x-python",
   "name": "python",
   "nbconvert_exporter": "python",
   "pygments_lexer": "ipython3",
   "version": "3.8.5"
  }
 },
 "nbformat": 4,
 "nbformat_minor": 5
}
