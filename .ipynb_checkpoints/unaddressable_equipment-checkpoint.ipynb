{
 "cells": [
  {
   "cell_type": "code",
   "execution_count": 1,
   "id": "cb2ce27a",
   "metadata": {},
   "outputs": [],
   "source": [
    "import argparse\n",
    "from datetime import datetime\n",
    "import json\n",
    "import logging\n",
    "import os\n",
    "import math\n",
    "import sys\n",
    "import time\n",
    "import topo_meas_queries, process_network, linknet, update_topology\n",
    "\n",
    "from gridappsd import GridAPPSD, DifferenceBuilder, utils, topics as t\n",
    "from gridappsd.topics import simulation_input_topic, simulation_log_topic, simulation_output_topic\n",
    "\n",
    "\n",
    "#model_mrid = sim_request[\"power_system_config\"][\"Line_name\"]\n",
    "#model_mrid = \"_C125761E-9C21-4CA9-9271-B168150DE276\" #ieee13training\n",
    "model_mrid = \"_EE71F6C9-56F0-4167-A14E-7F4C71F10EAA\" #final9500node\n",
    "#model_mrid = \"_AAE94E4A-2465-6F5E-37B1-3E72183A4E44\" #test9500\n",
    "#model_mrid = \"_5B816B93-7A5F-B64C-8460-47C17D6E4B0F\" #ieee13assets\n",
    "#model_mrid=\"_C1C3E687-6FFD-C753-582B-632A27E28507\" # IEEE 123\n",
    "#model_mrid=\"_49AD8E07-3BF9-A4E2-CB8F-C3722F837B62\"\n",
    "\n",
    "requestedTime=1570041125\n",
    "\n",
    "\n",
    "os.environ['GRIDAPPSD_USER'] = 'app_user'\n",
    "os.environ['GRIDAPPSD_PASSWORD'] = '1234App'\n",
    "\n",
    "gapps = GridAPPSD()\n",
    "assert gapps.connected"
   ]
  },
  {
   "cell_type": "code",
   "execution_count": 2,
   "id": "aaae3d82",
   "metadata": {},
   "outputs": [
    {
     "name": "stdout",
     "output_type": "stream",
     "text": [
      "Processed  8014 ConnectivyNode objects in  0.04970112799999998 seconds\n",
      "Processed  22278 Measurement objects in  0.05265221699999989 seconds\n",
      "Processed  3909 ACLineSegment objects in  0.15325713399999996 seconds\n",
      "Processed  3883 Transformer objects in  0.231062251 seconds\n",
      "Processed  107 Switch objects in  0.2376185289999999 seconds\n"
     ]
    }
   ],
   "source": [
    "[ConnNodeDict, EquipDict] = process_network.build_equip_dicts(gapps, model_mrid)"
   ]
  },
  {
   "cell_type": "code",
   "execution_count": 3,
   "id": "41ed0463",
   "metadata": {},
   "outputs": [
    {
     "name": "stdout",
     "output_type": "stream",
     "text": [
      "Processed  3909 ACLineSegment objects in  0.01960825799999988 seconds\n",
      "Processed  11 PowerTransformer objects in  8.796599999993937e-05 seconds\n",
      "Processed  1293 TransformerTank objects in  0.00672457400000015 seconds\n",
      "Processed  9 SynchronousMachine objects in  2.9173000000159988e-05 seconds\n",
      "Processed  4 missing nodes in  0.0018416890000001462 seconds\n"
     ]
    }
   ],
   "source": [
    "EqTypes = ['ACLineSegment', 'PowerTransformer', 'TransformerTank', 'SynchronousMachine']\n",
    "[ConnNodeDict, TerminalsDict, NodeList, TermList] = linknet.build_linknet_lists(ConnNodeDict, EquipDict, EqTypes)"
   ]
  },
  {
   "cell_type": "code",
   "execution_count": 4,
   "id": "ce15ee06",
   "metadata": {},
   "outputs": [],
   "source": [
    "BaseConnDict = json.dumps(ConnNodeDict)\n",
    "BaseTermDict = json.dumps(TerminalsDict)"
   ]
  },
  {
   "cell_type": "code",
   "execution_count": 5,
   "id": "6e0a7335",
   "metadata": {},
   "outputs": [
    {
     "name": "stdout",
     "output_type": "stream",
     "text": [
      "Processed  107 switch objects in  0.00036997499999991135 seconds\n"
     ]
    }
   ],
   "source": [
    "[TerminalsDict, ConnNodeDict]=update_topology.topology_update(BaseConnDict,BaseTermDict,NodeList, TermList, EquipDict)"
   ]
  },
  {
   "cell_type": "code",
   "execution_count": 6,
   "id": "2504f65a",
   "metadata": {},
   "outputs": [
    {
     "ename": "NameError",
     "evalue": "name 'spanning_tree' is not defined",
     "output_type": "error",
     "traceback": [
      "\u001b[0;31m---------------------------------------------------------------------------\u001b[0m",
      "\u001b[0;31mNameError\u001b[0m                                 Traceback (most recent call last)",
      "\u001b[0;32m/tmp/ipykernel_29179/723409501.py\u001b[0m in \u001b[0;36m<module>\u001b[0;34m\u001b[0m\n\u001b[1;32m      9\u001b[0m         \u001b[0mSubstationRoots\u001b[0m\u001b[0;34m.\u001b[0m\u001b[0mappend\u001b[0m\u001b[0;34m(\u001b[0m\u001b[0mXfmrKeys\u001b[0m\u001b[0;34m[\u001b[0m\u001b[0mi6\u001b[0m\u001b[0;34m]\u001b[0m\u001b[0;34m)\u001b[0m\u001b[0;34m\u001b[0m\u001b[0;34m\u001b[0m\u001b[0m\n\u001b[1;32m     10\u001b[0m \u001b[0;34m\u001b[0m\u001b[0m\n\u001b[0;32m---> 11\u001b[0;31m \u001b[0;34m[\u001b[0m\u001b[0mSubTree\u001b[0m\u001b[0;34m,\u001b[0m \u001b[0mConnNodeDict\u001b[0m\u001b[0;34m]\u001b[0m \u001b[0;34m=\u001b[0m \u001b[0mspanning_tree\u001b[0m\u001b[0;34m(\u001b[0m\u001b[0mConnNodeDict\u001b[0m\u001b[0;34m,\u001b[0m \u001b[0mTerminalsDict\u001b[0m\u001b[0;34m,\u001b[0m \u001b[0mNodeList\u001b[0m\u001b[0;34m,\u001b[0m  \u001b[0mSubstationRoots\u001b[0m\u001b[0;34m,\u001b[0m \u001b[0;34m'single'\u001b[0m\u001b[0;34m)\u001b[0m\u001b[0;34m\u001b[0m\u001b[0;34m\u001b[0m\u001b[0m\n\u001b[0m",
      "\u001b[0;31mNameError\u001b[0m: name 'spanning_tree' is not defined"
     ]
    }
   ],
   "source": [
    "SubstationRoots = []\n",
    "XfmrKeys = list(EquipDict['PowerTransformer'])\n",
    "# Iterate through all substation transformers\n",
    "for i6 in range(len(XfmrKeys)):\n",
    "    # Identify if distribution substation transformer\n",
    "    if ((int(EquipDict['PowerTransformer'][XfmrKeys[i6]]['volt1']) >= 34000 and 34000 >= int(EquipDict['PowerTransformer'][XfmrKeys[i6]]['volt2']) > 1000) or \n",
    "        (int(EquipDict['PowerTransformer'][XfmrKeys[i6]]['volt2']) >= 34000 and 34000 >= int(EquipDict['PowerTransformer'][XfmrKeys[i6]]['volt1']) > 1000)):\n",
    "        #SubstationRoots.append(EquipDict['PowerTransformer'][XfmrKeys[i6]]['node2'])\n",
    "        SubstationRoots.append(XfmrKeys[i6])\n",
    "        \n",
    "[SubTree, ConnNodeDict] = spanning_tree(ConnNodeDict, TerminalsDict, NodeList,  SubstationRoots, 'single')"
   ]
  },
  {
   "cell_type": "code",
   "execution_count": 19,
   "id": "532ea6fe",
   "metadata": {},
   "outputs": [
    {
     "name": "stdout",
     "output_type": "stream",
     "text": [
      "Processed topology from   _95DBCED6-E99E-4BB1-9229-899FB890050C  with  2405  buses\n",
      "Processed topology from   _E701C38C-E8A0-4AFB-AC86-2C03158AE33D  with  2  buses\n",
      "Processed topology from   _49F99DAD-8D58-49CE-979A-382CD0577D78  with  1757  buses\n",
      "Processed  3 topology trees containing  4164  buses in  0.4199882910000001 seconds\n"
     ]
    }
   ],
   "source": [
    "#def spanning_tree(ConnNodeDict, TerminalsDict, NodeList, RootNodes, Scope):\n",
    "Scope = 'all'\n",
    "RootNodes = SubstationRoots\n",
    "eqtype = 'PowerTransformer'\n",
    "    # Roots is list of ConnectivityNodes to be used as root nodes\n",
    "# Terminals\n",
    "Tree={}\n",
    "#ProcessedNodes=[]\n",
    "TotalNodes=0\n",
    "StartTime = time.process_time()\n",
    "\n",
    "# Iterate through all substation transformers\n",
    "for i6 in range(len(RootNodes)):\n",
    "\n",
    "    FirstNode = 1 \n",
    "    LastNode = 2\n",
    "    #Tree[RootNodes[i6]] = [RootNodes[i6]]\n",
    "    # Set switch as rootnode \n",
    "    if 'node2' not in EquipDict[eqtype][RootNodes[i6]]: # Check if 1-terminal object\n",
    "        Tree[RootNodes[i6]]=[EquipDict[eqtype][RootNodes[i6]]['node1']]\n",
    "    else: # Then 2-terminal object\n",
    "        Tree[RootNodes[i6]]=[EquipDict[eqtype][RootNodes[i6]]['node1'], EquipDict[eqtype][RootNodes[i6]]['node2']]\n",
    "\n",
    "    while LastNode != FirstNode:\n",
    "        NextTerm = ConnNodeDict[Tree[RootNodes[i6]][FirstNode]]['list']\n",
    "        FirstNode = FirstNode + 1\n",
    "        while NextTerm != 0:\n",
    "            # Get next node and terminal for current node\n",
    "            NextNode = TerminalsDict[TermList[NextTerm-1]]['far']\n",
    "            NextTerm = TerminalsDict[TermList[NextTerm-1]]['next']\n",
    "            node = NodeList[NextNode-1]\n",
    "            not_in_tree = True\n",
    "\n",
    "            if Scope == 'all': \n",
    "                for i7 in range(len(Tree.keys())):\n",
    "                    if node in Tree[RootNodes[i7]]:\n",
    "                        not_in_tree = False\n",
    "                        break\n",
    "            else: \n",
    "                if NodeList[NextNode-1] in Tree[RootNodes[i6]]: \n",
    "                    not_in_tree = False# Check if node already in all other tree\n",
    "\n",
    "\n",
    "            # Add node if not in another tree        \n",
    "            if not_in_tree:       \n",
    "                if ConnNodeDict[node]['nominalVoltage']:\n",
    "                    if int(ConnNodeDict[node]['nominalVoltage']) < 34000 and int(ConnNodeDict[node]['nominalVoltage']) > 1000:\n",
    "                        Tree[RootNodes[i6]].append(NodeList[NextNode-1])\n",
    "                        LastNode = LastNode + 1                       \n",
    "                else:\n",
    "                    Tree[RootNodes[i6]].append(NodeList[NextNode-1])\n",
    "                    LastNode = LastNode + 1\n",
    "\n",
    "    NodesInTree=len(Tree[RootNodes[i6]])\n",
    "\n",
    "\n",
    "    print(\"Processed topology from  \", RootNodes[i6], ' with ', NodesInTree, \" buses\")\n",
    "\n",
    "    #print(\"Processed topology from  \", EquipDict[RootNodes[i6]]['name'], \" with id \", RootNodes[i6], ' with ', NodesInTree, \" buses\")\n",
    "    TotalNodes=TotalNodes+NodesInTree\n",
    "\n",
    "print(\"Processed \", len(Tree.keys()), \"topology trees containing \", TotalNodes, \" buses in \", time.process_time() - StartTime, \"seconds\")\n",
    "\n",
    "    #return Tree, ConnNodeDict"
   ]
  },
  {
   "cell_type": "code",
   "execution_count": 21,
   "id": "41271758",
   "metadata": {},
   "outputs": [
    {
     "data": {
      "text/plain": [
       "['_1C7110D7-E193-4762-8D40-D7C9546ABB6D',\n",
       " '_D6221675-5008-41CB-BD78-524B3201444F']"
      ]
     },
     "execution_count": 21,
     "metadata": {},
     "output_type": "execute_result"
    }
   ],
   "source": [
    "Tree['_E701C38C-E8A0-4AFB-AC86-2C03158AE33D']"
   ]
  },
  {
   "cell_type": "code",
   "execution_count": 9,
   "id": "b692fbe0",
   "metadata": {},
   "outputs": [
    {
     "name": "stdout",
     "output_type": "stream",
     "text": [
      "Processed  107 switch objects in  0.0007256689999999288 seconds\n"
     ]
    }
   ],
   "source": [
    "import time,json\n",
    "\n",
    "\n",
    "\n",
    "SwitchKeys = list(EquipDict['Breaker'].keys()) + list(EquipDict['Fuse'].keys()) + list(EquipDict['LoadBreakSwitch'].keys()) + list(EquipDict['Recloser'].keys())\n",
    "SwitchDict = {}\n",
    "SwitchDict.update(EquipDict['Breaker'])\n",
    "SwitchDict.update(EquipDict['Fuse'])\n",
    "SwitchDict.update(EquipDict['LoadBreakSwitch'])\n",
    "SwitchDict.update(EquipDict['Recloser'])\n",
    "\n",
    "ConnNodeDict = json.loads(BaseConnDict)\n",
    "TerminalsDict = json.loads(BaseTermDict)\n",
    "\n",
    "StartTime = time.process_time()\n",
    "\n",
    "for i5 in range(len(SwitchKeys)):\n",
    "\n",
    "    node1=SwitchDict[SwitchKeys[i5]]['node1']\n",
    "    node2=SwitchDict[SwitchKeys[i5]]['node2']\n",
    "\n",
    "\n",
    "    # If switch closed, merge nodes\n",
    "    if SwitchDict[SwitchKeys[i5]]['open'] == 1:\n",
    "        # Merge topology Nodes\n",
    "        #ConnNodeDict[node1]['TopologicalNode'] = tpnode1\n",
    "        ConnNodeDict[node2]['TopologicalNode'] = ConnNodeDict[node1]['TopologicalNode'] #tpnode1\n",
    "        #TopoNodeDict[tpnode1] = [node1, node2] # not implemented\n",
    "        #TopoNodeDict[tpnode2] = [node2, node1]\n",
    "\n",
    "        # Update Linked Lists\n",
    "        if ConnNodeDict[node2]['list'] > ConnNodeDict[node1]['list']:\n",
    "            term2 = TermList[ConnNodeDict[node2]['list']-1]\n",
    "            next2 = TerminalsDict[term2]['next']\n",
    "            while next2 != 0:\n",
    "                term2 = TermList[next2-1]\n",
    "                next2 = TerminalsDict[term2]['next']\n",
    "            TerminalsDict[term2]['next'] = ConnNodeDict[node1]['list']\n",
    "            ConnNodeDict[node1]['list'] = ConnNodeDict[node2]['list']\n",
    "        else:\n",
    "            term1 = TermList[ConnNodeDict[node1]['list']-1]\n",
    "            next1 = TerminalsDict[term1]['next']\n",
    "            while next1 != 0:\n",
    "                term1 = TermList[next1-1]\n",
    "                next1 = TerminalsDict[term1]['next']\n",
    "            TerminalsDict[term1]['next'] = ConnNodeDict[node2]['list']\n",
    "            ConnNodeDict[node2]['list'] = ConnNodeDict[node1]['list']\n",
    "\n",
    "print(\"Processed \", i5+1, \"switch objects in \", time.process_time() - StartTime, \"seconds\")\n",
    "\n"
   ]
  },
  {
   "cell_type": "code",
   "execution_count": 10,
   "id": "ba726635",
   "metadata": {},
   "outputs": [
    {
     "data": {
      "text/plain": [
       "{'name': 'd5534970-1_int',\n",
       " 'TopologicalNode': '_99C77008-9C5D-48DF-A4CE-B242632AEA06',\n",
       " 'nominalVoltage': '12470',\n",
       " 'ACLineSegment': [],\n",
       " 'Breaker': [],\n",
       " 'EnergyConsumer': [],\n",
       " 'Fuse': [],\n",
       " 'LinearShuntCompensator': [],\n",
       " 'LoadBreakSwitch': ['_0E52F4F9-FADC-44B9-9E39-56DB1D7D24EC'],\n",
       " 'PowerTransformer': [],\n",
       " 'RatioTapChanger': [],\n",
       " 'Recloser': [],\n",
       " 'TransformerTank': [],\n",
       " 'SynchronousMachine': [],\n",
       " 'PowerElectronicsConnection': [],\n",
       " 'Measurement': ['_5d527a43-2a9e-45d0-8a33-88b7a43f1f1b',\n",
       "  '_b640de82-94f3-4f8c-8e36-0ffecb16d1c2',\n",
       "  '_d452c9bb-5dbb-4c78-bee3-c6ba82b65cb0',\n",
       "  '_0db997fd-1c72-4db5-90a9-03937d3ec530',\n",
       "  '_9b2cc84d-1b9f-4a22-973b-aa90e35353c6',\n",
       "  '_afaf7c3a-9290-44d0-ac77-49ae7f2dca6f',\n",
       "  '_17a1cee2-83f1-4434-9b3b-58f9c111cf4d',\n",
       "  '_334b7499-0e0e-4bc3-b521-2ea29c04c907',\n",
       "  '_d788d6d5-95b6-4885-a4d5-83118aaa71d6'],\n",
       " 'node': 4455,\n",
       " 'list': 6104}"
      ]
     },
     "execution_count": 10,
     "metadata": {},
     "output_type": "execute_result"
    }
   ],
   "source": [
    "ConnNodeDict['_7FBAAF6D-FC27-47A6-AD8D-A293CA987D10']"
   ]
  },
  {
   "cell_type": "code",
   "execution_count": 11,
   "id": "50461349",
   "metadata": {},
   "outputs": [
    {
     "data": {
      "text/plain": [
       "{'name': 'e182732',\n",
       " 'TopologicalNode': '_99C77008-9C5D-48DF-A4CE-B242632AEA06',\n",
       " 'nominalVoltage': '12470',\n",
       " 'ACLineSegment': ['_BBDF2C4C-47D4-4190-8901-7D9231117D66'],\n",
       " 'Breaker': [],\n",
       " 'EnergyConsumer': [],\n",
       " 'Fuse': [],\n",
       " 'LinearShuntCompensator': [],\n",
       " 'LoadBreakSwitch': ['_0E52F4F9-FADC-44B9-9E39-56DB1D7D24EC'],\n",
       " 'PowerTransformer': [],\n",
       " 'RatioTapChanger': [],\n",
       " 'Recloser': [],\n",
       " 'TransformerTank': [],\n",
       " 'SynchronousMachine': [],\n",
       " 'PowerElectronicsConnection': [],\n",
       " 'Measurement': ['_5a323127-0abd-4477-b1db-607dfc2f496f',\n",
       "  '_b4b85298-3796-46be-99c3-61e369e698fd',\n",
       "  '_e0f22c69-7daa-4149-99cb-0df01159f6d8',\n",
       "  '_588b93d6-38cb-40e5-8e0d-ef759f9d6cf1',\n",
       "  '_6d58eae6-9579-48c8-80a7-f23baba3fbfa',\n",
       "  '_a3b1dc73-4884-4ab4-b885-f05914522727'],\n",
       " 'node': 100,\n",
       " 'list': 6104}"
      ]
     },
     "execution_count": 11,
     "metadata": {},
     "output_type": "execute_result"
    }
   ],
   "source": [
    "ConnNodeDict['_0215D314-3A95-41D5-9071-DB8B7815850F']"
   ]
  },
  {
   "cell_type": "code",
   "execution_count": 12,
   "id": "d0539f2e",
   "metadata": {},
   "outputs": [],
   "source": [
    "NodeQuery=topo_meas_queries.get_all_nodes(gapps,model_mrid)"
   ]
  },
  {
   "cell_type": "code",
   "execution_count": 13,
   "id": "81b995fb",
   "metadata": {},
   "outputs": [
    {
     "data": {
      "text/plain": [
       "{'busname': {'type': 'literal', 'value': '190-7361'},\n",
       " 'cnid': {'type': 'literal', 'value': '_5B9656C8-717E-4707-A2CA-A8994EC647E4'},\n",
       " 'tpnid': {'type': 'literal',\n",
       "  'value': '_6C24D1E7-F03F-4BE8-B9CB-6832F99F4829'},\n",
       " 'nomv': {'type': 'literal', 'value': '12470'}}"
      ]
     },
     "execution_count": 13,
     "metadata": {},
     "output_type": "execute_result"
    }
   ],
   "source": [
    "NodeQuery[0]"
   ]
  },
  {
   "cell_type": "code",
   "execution_count": 14,
   "id": "d5631148",
   "metadata": {},
   "outputs": [],
   "source": [
    "AllNodes = list(ConnNodeDict.keys())\n",
    "MissingNodes = list(set(AllNodes).difference(NodeList))"
   ]
  },
  {
   "cell_type": "code",
   "execution_count": 15,
   "id": "8f8e23d3",
   "metadata": {},
   "outputs": [
    {
     "ename": "IndexError",
     "evalue": "list index out of range",
     "output_type": "error",
     "traceback": [
      "\u001b[0;31m---------------------------------------------------------------------------\u001b[0m",
      "\u001b[0;31mIndexError\u001b[0m                                Traceback (most recent call last)",
      "\u001b[0;32m/tmp/ipykernel_29179/1959884747.py\u001b[0m in \u001b[0;36m<module>\u001b[0;34m\u001b[0m\n\u001b[0;32m----> 1\u001b[0;31m \u001b[0mConnNodeDict\u001b[0m\u001b[0;34m[\u001b[0m\u001b[0mMissingNodes\u001b[0m\u001b[0;34m[\u001b[0m\u001b[0;36m0\u001b[0m\u001b[0;34m]\u001b[0m\u001b[0;34m]\u001b[0m\u001b[0;34m\u001b[0m\u001b[0;34m\u001b[0m\u001b[0m\n\u001b[0m",
      "\u001b[0;31mIndexError\u001b[0m: list index out of range"
     ]
    }
   ],
   "source": [
    "ConnNodeDict[MissingNodes[0]]"
   ]
  },
  {
   "cell_type": "code",
   "execution_count": 16,
   "id": "a7c260a3",
   "metadata": {},
   "outputs": [
    {
     "data": {
      "text/plain": [
       "{'name': 'm2001-mt3',\n",
       " 'TopologicalNode': '_DDF8C102-501C-486C-9143-859FDCAD6881',\n",
       " 'nominalVoltage': [],\n",
       " 'ACLineSegment': [],\n",
       " 'Breaker': [],\n",
       " 'EnergyConsumer': [],\n",
       " 'Fuse': [],\n",
       " 'LinearShuntCompensator': [],\n",
       " 'LoadBreakSwitch': ['_B8F09530-E487-482F-80FC-DF4ED4F9E599'],\n",
       " 'PowerTransformer': [],\n",
       " 'RatioTapChanger': [],\n",
       " 'Recloser': [],\n",
       " 'TransformerTank': [],\n",
       " 'SynchronousMachine': ['_43A528E9-A4EC-466F-BAE0-B06FF9AAB07C'],\n",
       " 'PowerElectronicsConnection': [],\n",
       " 'Measurement': ['_09a14244-b67d-441f-b9b3-f8c2faeff3e3',\n",
       "  '_a4bdaffe-46f6-473b-9658-fc406346bbd9',\n",
       "  '_ee391406-e565-4b5f-bb41-026ee568572b',\n",
       "  '_54e27b80-5854-417c-be66-b3e5fb847e21',\n",
       "  '_605a49de-2761-4342-95a3-162eb2e4030d',\n",
       "  '_9b6cff17-d67c-44c3-af8e-68aad5838160',\n",
       "  '_94d0c36f-9c74-4082-a7fa-71baa2f7a971',\n",
       "  '_bdf28c41-3383-4062-838d-ddca1719abff',\n",
       "  '_ea3338c1-e5ce-4f35-b6cd-08711301ad37'],\n",
       " 'node': 5288,\n",
       " 'list': 10433}"
      ]
     },
     "execution_count": 16,
     "metadata": {},
     "output_type": "execute_result"
    }
   ],
   "source": [
    "ConnNodeDict[TerminalsDict[TermList[10432]]['ConnectivityNode']]"
   ]
  },
  {
   "cell_type": "code",
   "execution_count": 17,
   "id": "31ac0aaa",
   "metadata": {},
   "outputs": [
    {
     "name": "stdout",
     "output_type": "stream",
     "text": [
      "Processed topology from substation transformer  hvmv69_11sub1_T1  with  3003  buses\n",
      "Processed topology from substation transformer  hvmv69_11sub2_T1  with  1856  buses\n",
      "Processed topology from substation transformer  hvmv69_11sub3_T1  with  4119  buses\n",
      "Processed  3 topology trees containing  8978  buses in  0.5830396320000002 seconds\n",
      "Processed  8  more islands containing  37644  buses in  3.7323245309999997 seconds\n",
      " \n",
      " \n"
     ]
    }
   ],
   "source": [
    "import spanning_tree_old\n",
    "import topologyqueries\n",
    "XfmrDict = {}\n",
    "XfmrDict.update(EquipDict['PowerTransformer'])\n",
    "XfmrDict.update(EquipDict['TransformerTank'])\n",
    "DG_query=topologyqueries.DGQuery(gapps, model_mrid)\n",
    "[Tree,TotalNodes]=spanning_tree_old.generate_spanning_tree(XfmrKeys,XfmrDict,ConnNodeDict,TerminalsDict,TermList,NodeList,DG_query)\n"
   ]
  },
  {
   "cell_type": "code",
   "execution_count": 18,
   "id": "331ef03a",
   "metadata": {},
   "outputs": [
    {
     "data": {
      "text/plain": [
       "{'_B0881EC0-0336-49D6-ABE8-949EA30D3807': {'name': '1209-dies1',\n",
       "  'node1': '_747B6FDC-5309-4648-BD05-9DE4111BA285',\n",
       "  'term1': '_C39CBB0F-E034-4259-85B7-3F2DA2A82F3F',\n",
       "  'node2': '_0EDD7B59-7E1F-405F-9451-D57EEDC76608',\n",
       "  'term2': '_626B2D25-0D6E-4F58-9536-4F3E2A8D302C',\n",
       "  'bus1': 'e192258',\n",
       "  'tname1': '1209-dies1_T1',\n",
       "  'volt1': 12470,\n",
       "  'phase1': {},\n",
       "  'bus2': 'm1209der480-1',\n",
       "  'tname2': '1209-dies1_T2',\n",
       "  'volt2': 480,\n",
       "  'phase2': {}},\n",
       " '_95DBCED6-E99E-4BB1-9229-899FB890050C': {'name': 'hvmv69_11sub1',\n",
       "  'node1': '_ADC9CEFE-BD22-435E-88B0-F15FB09798FC',\n",
       "  'term1': '_D08682F4-93AC-4435-8AAE-D66AB1C34F32',\n",
       "  'node2': '_1759E0CD-81CC-4683-9F0D-69F4821C4192',\n",
       "  'term2': '_B7CC96BC-9C9D-4B13-90B8-6001FCA0BC5C',\n",
       "  'bus1': 'hvmv69sub1_hsb',\n",
       "  'tname1': 'hvmv69_11sub1_T1',\n",
       "  'volt1': 69000,\n",
       "  'phase1': {},\n",
       "  'bus2': 'regxfmr_hvmv11sub1_lsb',\n",
       "  'tname2': 'hvmv69_11sub1_T2',\n",
       "  'volt2': 12470,\n",
       "  'phase2': {}},\n",
       " '_E701C38C-E8A0-4AFB-AC86-2C03158AE33D': {'name': 'hvmv69_11sub2',\n",
       "  'node1': '_1C7110D7-E193-4762-8D40-D7C9546ABB6D',\n",
       "  'term1': '_E4E2BB6E-D8B6-4410-9D75-3B3C21213798',\n",
       "  'node2': '_D6221675-5008-41CB-BD78-524B3201444F',\n",
       "  'term2': '_B85436AA-E4B4-484B-B6E3-DD21CC975562',\n",
       "  'bus1': 'hvmv69sub2_hsb',\n",
       "  'tname1': 'hvmv69_11sub2_T1',\n",
       "  'volt1': 69000,\n",
       "  'phase1': {},\n",
       "  'bus2': 'regxfmr_hvmv11sub2_lsb',\n",
       "  'tname2': 'hvmv69_11sub2_T2',\n",
       "  'volt2': 12470,\n",
       "  'phase2': {}},\n",
       " '_38153834-D08C-4E7B-905B-0D32E1310E4D': {'name': '2001-mt123',\n",
       "  'node1': '_606A4352-1FCE-435D-9C0F-53B811D303EB',\n",
       "  'term1': '_09D3D6B8-94CA-4530-BFD8-25BB4FA914A0',\n",
       "  'node2': '_228B2E85-FF4E-4615-B47E-AC51AE907789',\n",
       "  'term2': '_3352D44B-7942-44E6-9067-1C9526B14736',\n",
       "  'bus1': 'm2001500',\n",
       "  'tname1': '2001-mt123_T1',\n",
       "  'volt1': 12470,\n",
       "  'phase1': {},\n",
       "  'bus2': 'm2001der480-1',\n",
       "  'tname2': '2001-mt123_T2',\n",
       "  'volt2': 480,\n",
       "  'phase2': {}},\n",
       " '_8E2FF1C9-AC8C-4A98-9435-075F79519DED': {'name': '1142-lng1',\n",
       "  'node1': '_235DA7AC-1A39-4FA7-A1AC-8AC5BB391328',\n",
       "  'term1': '_218CD91B-0B52-4C3A-8C80-4A9CE54C1EED',\n",
       "  'node2': '_8480BC9C-D7B0-4A2B-8856-19524786F66C',\n",
       "  'term2': '_CE5EF185-EFA0-442A-8F1F-FBDD0386FF8F',\n",
       "  'bus1': 'm1142813',\n",
       "  'tname1': '1142-lng1_T1',\n",
       "  'volt1': 12470,\n",
       "  'phase1': {},\n",
       "  'bus2': 'm1142der480-1',\n",
       "  'tname2': '1142-lng1_T2',\n",
       "  'volt2': 480,\n",
       "  'phase2': {}},\n",
       " '_B2350906-72C1-439C-AE25-A28A05F3C884': {'name': '1069-mt1',\n",
       "  'node1': '_35F4C3DA-29AE-41D4-B532-8BB9F6C7CA9A',\n",
       "  'term1': '_2FED283E-B508-4434-A3D2-A65AC877DBB5',\n",
       "  'node2': '_9237821A-CED1-467C-ABAC-8C90EBF3B058',\n",
       "  'term2': '_76439C28-EC83-46A3-B168-E7D43DE1606E',\n",
       "  'bus1': 'm1069215',\n",
       "  'tname1': '1069-mt1_T1',\n",
       "  'volt1': 12470,\n",
       "  'phase1': {},\n",
       "  'bus2': 'm1069der480-1',\n",
       "  'tname2': '1069-mt1_T2',\n",
       "  'volt2': 480,\n",
       "  'phase2': {}},\n",
       " '_49F99DAD-8D58-49CE-979A-382CD0577D78': {'name': 'hvmv69_11sub3',\n",
       "  'node1': '_4C9115E2-AD91-4EA7-A7F7-5117B0DDA13B',\n",
       "  'term1': '_7D50F7DF-02F9-4602-8B59-61B44F2B5872',\n",
       "  'node2': '_ED09BAEB-7F4D-497B-B959-24E4CDA2C929',\n",
       "  'term2': '_C8338C29-000A-4EE2-B950-50A6D6143371',\n",
       "  'bus1': 'hvmv69sub3_hsb',\n",
       "  'tname1': 'hvmv69_11sub3_T1',\n",
       "  'volt1': 69000,\n",
       "  'phase1': {},\n",
       "  'bus2': 'regxfmr_hvmv11sub3_lsb',\n",
       "  'tname2': 'hvmv69_11sub3_T2',\n",
       "  'volt2': 12470,\n",
       "  'phase2': {}},\n",
       " '_306F9616-8535-4713-B58E-B0661F790651': {'name': '2001-ess12',\n",
       "  'node1': '_606A4352-1FCE-435D-9C0F-53B811D303EB',\n",
       "  'term1': '_3CB50463-2711-4354-AE20-42293F677770',\n",
       "  'node2': '_F326CDF0-B928-416B-8D96-C3DA1ADE7522',\n",
       "  'term2': '_F930E5B5-941E-4B44-87DA-A7F108823F02',\n",
       "  'bus1': 'm2001500',\n",
       "  'tname1': '2001-ess12_T1',\n",
       "  'volt1': 12470,\n",
       "  'phase1': {},\n",
       "  'bus2': 'm2001der480-2',\n",
       "  'tname2': '2001-ess12_T2',\n",
       "  'volt2': 480,\n",
       "  'phase2': {}},\n",
       " '_BC00F33A-8F2F-495F-9E3B-528FC5BC6240': {'name': '1089-lng1',\n",
       "  'node1': '_8885F1D8-04C9-4079-900C-90C6ECBEFB3E',\n",
       "  'term1': '_C004DD4D-00C7-41A5-A803-9C2A748DE6A3',\n",
       "  'node2': '_637F936A-6078-48EB-898F-809FA14280C5',\n",
       "  'term2': '_A788713E-AB32-4FC5-8D12-5FAE38373532',\n",
       "  'bus1': 'm1089186',\n",
       "  'tname1': '1089-lng1_T1',\n",
       "  'volt1': 12470,\n",
       "  'phase1': {},\n",
       "  'bus2': 'm1089der480-1',\n",
       "  'tname2': '1089-lng1_T2',\n",
       "  'volt2': 480,\n",
       "  'phase2': {}},\n",
       " '_B9A68A8E-B604-4FD8-B06E-D96F44EA5A07': {'name': '1089-dies1',\n",
       "  'node1': '_ECB68844-642A-4FDD-AE02-BDC4B3E03CCC',\n",
       "  'term1': '_F7B31331-EF37-4A22-971D-5A2116F3028C',\n",
       "  'node2': '_66FBA596-84CE-478E-900F-5EB775159FC8',\n",
       "  'term2': '_434EEBB0-96D5-4C28-95B1-23DAE8750422',\n",
       "  'bus1': 'm1089220',\n",
       "  'tname1': '1089-dies1_T1',\n",
       "  'volt1': 12470,\n",
       "  'phase1': {},\n",
       "  'bus2': 'm1089der480-2',\n",
       "  'tname2': '1089-dies1_T2',\n",
       "  'volt2': 480,\n",
       "  'phase2': {}},\n",
       " '_0D019675-AEF4-4707-8D39-D88C310D7AE0': {'name': 'hvmv115_69sub',\n",
       "  'node1': '_C2BF3DC0-C44D-4C33-968C-8863A63E9C38',\n",
       "  'term1': '_F2D5A229-418A-4B75-9B4D-299A0BCD60DF',\n",
       "  'node2': '_D1096250-55F3-4E63-B7C4-EF8C5E144270',\n",
       "  'term2': '_82702124-D174-44E9-821B-593C56968494',\n",
       "  'bus1': 'hvmv115_hsb2',\n",
       "  'tname1': 'hvmv115_69sub_T1',\n",
       "  'volt1': 115000,\n",
       "  'phase1': {},\n",
       "  'bus2': 'regxfmr_hvmv69sub1_lsb1',\n",
       "  'tname2': 'hvmv115_69sub_T2',\n",
       "  'volt2': 69000,\n",
       "  'phase2': {}}}"
      ]
     },
     "execution_count": 18,
     "metadata": {},
     "output_type": "execute_result"
    }
   ],
   "source": [
    "EquipDict['PowerTransformer']"
   ]
  }
 ],
 "metadata": {
  "kernelspec": {
   "display_name": "Python 3 (ipykernel)",
   "language": "python",
   "name": "python3"
  },
  "language_info": {
   "codemirror_mode": {
    "name": "ipython",
    "version": 3
   },
   "file_extension": ".py",
   "mimetype": "text/x-python",
   "name": "python",
   "nbconvert_exporter": "python",
   "pygments_lexer": "ipython3",
   "version": "3.8.5"
  }
 },
 "nbformat": 4,
 "nbformat_minor": 5
}
