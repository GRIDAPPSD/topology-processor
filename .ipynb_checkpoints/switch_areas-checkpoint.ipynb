{
 "cells": [
  {
   "cell_type": "code",
   "execution_count": 1,
   "id": "cb2ce27a",
   "metadata": {},
   "outputs": [],
   "source": [
    "import argparse\n",
    "from datetime import datetime\n",
    "import json\n",
    "import logging\n",
    "import os\n",
    "import math\n",
    "import sys\n",
    "import time\n",
    "import topologyqueries,linkedlist,update_topology,spanning_tree\n",
    "import topo_meas_queries, process_network, linknet, update_topology\n",
    "\n",
    "from gridappsd import GridAPPSD, DifferenceBuilder, utils, topics as t\n",
    "from gridappsd.topics import simulation_input_topic, simulation_log_topic, simulation_output_topic\n",
    "\n",
    "\n",
    "#model_mrid = sim_request[\"power_system_config\"][\"Line_name\"]\n",
    "#model_mrid = \"_C125761E-9C21-4CA9-9271-B168150DE276\" #ieee13training\n",
    "#model_mrid = \"_EE71F6C9-56F0-4167-A14E-7F4C71F10EAA\" #final9500node\n",
    "#model_mrid = \"_AAE94E4A-2465-6F5E-37B1-3E72183A4E44\" #test9500\n",
    "model_mrid = \"_49AD8E07-3BF9-A4E2-CB8F-C3722F837B62\"  # 13 bus\n",
    "#model_mrid = \"_5B816B93-7A5F-B64C-8460-47C17D6E4B0F\" #ieee13assets\n",
    "#model_mrid=\"_C1C3E687-6FFD-C753-582B-632A27E28507\" # IEEE 123\n",
    "#model_mrid=\"_49AD8E07-3BF9-A4E2-CB8F-C3722F837B62\"\n",
    "\n",
    "requestedTime=1570041125\n",
    "\n",
    "\n",
    "\n",
    "global BaseConnDict,BaseTermDict,TermList, NodeList\n",
    "global XfmrKeys,XfmrDict,SwitchKeys,SwitchDict,DG_query\n",
    "\n",
    "os.environ['GRIDAPPSD_USER'] = 'app_user'\n",
    "os.environ['GRIDAPPSD_PASSWORD'] = '1234App'\n",
    "\n",
    "gapps = GridAPPSD()\n",
    "assert gapps.connected"
   ]
  },
  {
   "cell_type": "code",
   "execution_count": 2,
   "id": "e4e53344",
   "metadata": {},
   "outputs": [],
   "source": [
    "import switch_areas"
   ]
  },
  {
   "cell_type": "code",
   "execution_count": 3,
   "id": "ad547274",
   "metadata": {},
   "outputs": [
    {
     "name": "stdout",
     "output_type": "stream",
     "text": [
      "Querying for power system model\n",
      "Processed  22 ConnectivyNode objects in  0.0026823629999999654 seconds\n",
      "Processed  183 Measurement objects in  0.0055204320000000195 seconds\n",
      "Processed  11 ACLineSegment objects in  0.0015092930000000226 seconds\n",
      "Processed  14 Transformer objects in  0.002024491000000017 seconds\n",
      "Processed  5 Switch objects in  0.0013928139999999645 seconds\n",
      "Processed  0 House objects in  0.0011622410000000083 seconds\n",
      "Processed  3 RatioTapChanger objects in  0.0017464080000000326 seconds\n",
      "Building linked lists of all equipment\n",
      "Processed  11 ACLineSegment objects in  4.224099999999842e-05 seconds\n",
      "Processed  2 PowerTransformer objects in  1.1653000000000358e-05 seconds\n",
      "Processed  4 TransformerTank objects in  1.527999999995089e-05 seconds\n",
      "Processed  0 SynchronousMachine objects in  2.6830000000033216e-06 seconds\n",
      "Processed  1 missing nodes in  2.1491999999956324e-05 seconds\n",
      "Building linked lists of medium-voltage equipment\n",
      "Processed  11 ACLineSegment objects in  3.7604000000024396e-05 seconds\n",
      "Processed  1 RatioTapChanger objects in  6.074999999994279e-06 seconds\n",
      "Processed  0 SynchronousMachine objects in  2.3439999999874672e-06 seconds\n",
      "Processed  6 missing nodes in  1.0239999999994698e-05 seconds\n",
      "Processing switch-delimited areas\n",
      "Processed topology from   _52DE9189-20DC-4C73-BDEE-E960FE1F9493  with  6  buses\n",
      "Processed  1 topology trees containing  6  buses in  0.0003864479999999837 seconds\n",
      "Processed topology from   _43EF8365-F932-409B-A51E-FBED3F6DFFAA  with  1  buses\n",
      "Processed  1 topology trees containing  1  buses in  0.0006540930000000222 seconds\n",
      "Processed topology from   _2858B6C2-0886-4269-884C-06FA8B887319  with  2  buses\n",
      "Processed topology from   _517413CB-6977-46FA-8911-C82332E42884  with  2  buses\n",
      "Processed  2 topology trees containing  4  buses in  0.001201630000000009 seconds\n",
      "Processed topology from   _CE5D0651-676B-4AF3-8D67-41BF1B33E30C  with  6  buses\n",
      "Processed  1 topology trees containing  6  buses in  0.00085929899999998 seconds\n"
     ]
    },
    {
     "ename": "NameError",
     "evalue": "name 'MVTrees' is not defined",
     "output_type": "error",
     "traceback": [
      "\u001b[0;31m---------------------------------------------------------------------------\u001b[0m",
      "\u001b[0;31mNameError\u001b[0m                                 Traceback (most recent call last)",
      "\u001b[0;32m/tmp/ipykernel_27862/1356082081.py\u001b[0m in \u001b[0;36m<module>\u001b[0;34m\u001b[0m\n\u001b[0;32m----> 1\u001b[0;31m \u001b[0mswitch_areas\u001b[0m\u001b[0;34m.\u001b[0m\u001b[0mcreate_switch_areas\u001b[0m\u001b[0;34m(\u001b[0m\u001b[0mgapps\u001b[0m\u001b[0;34m,\u001b[0m \u001b[0mmodel_mrid\u001b[0m\u001b[0;34m)\u001b[0m\u001b[0;34m\u001b[0m\u001b[0;34m\u001b[0m\u001b[0m\n\u001b[0m",
      "\u001b[0;32m~/topology-processor/switch_areas.py\u001b[0m in \u001b[0;36mcreate_switch_areas\u001b[0;34m(gapps, model_mrid)\u001b[0m\n\u001b[1;32m     25\u001b[0m     \u001b[0;34m[\u001b[0m\u001b[0mMVTrees\u001b[0m\u001b[0;34m,\u001b[0m \u001b[0mMVConnNodeDict\u001b[0m\u001b[0;34m]\u001b[0m \u001b[0;34m=\u001b[0m \u001b[0mspanning_tree\u001b[0m\u001b[0;34m.\u001b[0m\u001b[0mlocal_spanning_tree\u001b[0m\u001b[0;34m(\u001b[0m\u001b[0mMVConnNodeDict\u001b[0m\u001b[0;34m,\u001b[0m \u001b[0mMVTerminalsDict\u001b[0m\u001b[0;34m,\u001b[0m \u001b[0mMVNodeList\u001b[0m\u001b[0;34m,\u001b[0m \u001b[0mMVTermList\u001b[0m\u001b[0;34m,\u001b[0m \u001b[0mEquipDict\u001b[0m\u001b[0;34m,\u001b[0m \u001b[0;34m'Recloser'\u001b[0m\u001b[0;34m,\u001b[0m \u001b[0mlist\u001b[0m\u001b[0;34m(\u001b[0m\u001b[0mEquipDict\u001b[0m\u001b[0;34m[\u001b[0m\u001b[0;34m'Recloser'\u001b[0m\u001b[0;34m]\u001b[0m\u001b[0;34m.\u001b[0m\u001b[0mkeys\u001b[0m\u001b[0;34m(\u001b[0m\u001b[0;34m)\u001b[0m\u001b[0;34m)\u001b[0m\u001b[0;34m,\u001b[0m \u001b[0mMVTrees\u001b[0m\u001b[0;34m,\u001b[0m \u001b[0;34m'all'\u001b[0m\u001b[0;34m)\u001b[0m\u001b[0;34m\u001b[0m\u001b[0;34m\u001b[0m\u001b[0m\n\u001b[1;32m     26\u001b[0m \u001b[0;34m\u001b[0m\u001b[0m\n\u001b[0;32m---> 27\u001b[0;31m     \u001b[0moutput_message\u001b[0m \u001b[0;34m=\u001b[0m \u001b[0mcreate_output_message\u001b[0m\u001b[0;34m(\u001b[0m\u001b[0mConnNodeDict\u001b[0m\u001b[0;34m,\u001b[0m \u001b[0mTerminalsDict\u001b[0m\u001b[0;34m,\u001b[0m \u001b[0mNodeList\u001b[0m\u001b[0;34m,\u001b[0m \u001b[0mTermList\u001b[0m\u001b[0;34m,\u001b[0m \u001b[0mEquipDict\u001b[0m\u001b[0;34m,\u001b[0m \u001b[0mMVTrees\u001b[0m\u001b[0;34m,\u001b[0m \u001b[0mmodel_mrid\u001b[0m\u001b[0;34m)\u001b[0m\u001b[0;34m\u001b[0m\u001b[0;34m\u001b[0m\u001b[0m\n\u001b[0m\u001b[1;32m     28\u001b[0m     \u001b[0mmessage\u001b[0m \u001b[0;34m=\u001b[0m \u001b[0mjson\u001b[0m\u001b[0;34m.\u001b[0m\u001b[0mdumps\u001b[0m\u001b[0;34m(\u001b[0m\u001b[0moutput_message\u001b[0m\u001b[0;34m)\u001b[0m\u001b[0;34m\u001b[0m\u001b[0;34m\u001b[0m\u001b[0m\n\u001b[1;32m     29\u001b[0m     \u001b[0;32mreturn\u001b[0m \u001b[0mmessage\u001b[0m\u001b[0;34m\u001b[0m\u001b[0;34m\u001b[0m\u001b[0m\n",
      "\u001b[0;32m~/topology-processor/switch_areas.py\u001b[0m in \u001b[0;36mcreate_output_message\u001b[0;34m(ConnNodeDict, TerminalsDict, NodeList, TermList, EquipDict, MVTree, model_mrid)\u001b[0m\n\u001b[1;32m     39\u001b[0m     \u001b[0mDistAppStruct\u001b[0m\u001b[0;34m[\u001b[0m\u001b[0;34m'feeders'\u001b[0m\u001b[0;34m]\u001b[0m\u001b[0;34m[\u001b[0m\u001b[0mmodel_mrid\u001b[0m\u001b[0;34m]\u001b[0m\u001b[0;34m[\u001b[0m\u001b[0;34m'switch_areas'\u001b[0m\u001b[0;34m]\u001b[0m \u001b[0;34m=\u001b[0m \u001b[0;34m[\u001b[0m\u001b[0;34m]\u001b[0m\u001b[0;34m\u001b[0m\u001b[0;34m\u001b[0m\u001b[0m\n\u001b[1;32m     40\u001b[0m     \u001b[0mProcessedNodes\u001b[0m \u001b[0;34m=\u001b[0m \u001b[0;34m[\u001b[0m\u001b[0;34m]\u001b[0m \u001b[0;31m# List to keep track of which nodes have been processed\u001b[0m\u001b[0;34m\u001b[0m\u001b[0;34m\u001b[0m\u001b[0m\n\u001b[0;32m---> 41\u001b[0;31m     \u001b[0mSwitchKeys\u001b[0m \u001b[0;34m=\u001b[0m \u001b[0mlist\u001b[0m\u001b[0;34m(\u001b[0m\u001b[0mMVTrees\u001b[0m\u001b[0;34m.\u001b[0m\u001b[0mkeys\u001b[0m\u001b[0;34m(\u001b[0m\u001b[0;34m)\u001b[0m\u001b[0;34m)\u001b[0m \u001b[0;31m# Get list of all switching devices from all CIM classes\u001b[0m\u001b[0;34m\u001b[0m\u001b[0;34m\u001b[0m\u001b[0m\n\u001b[0m\u001b[1;32m     42\u001b[0m     \u001b[0;31m# Iterate through all switches\u001b[0m\u001b[0;34m\u001b[0m\u001b[0;34m\u001b[0m\u001b[0;34m\u001b[0m\u001b[0m\n\u001b[1;32m     43\u001b[0m     \u001b[0;32mfor\u001b[0m \u001b[0mi1\u001b[0m \u001b[0;32min\u001b[0m \u001b[0mrange\u001b[0m\u001b[0;34m(\u001b[0m\u001b[0mlen\u001b[0m\u001b[0;34m(\u001b[0m\u001b[0mSwitchKeys\u001b[0m\u001b[0;34m)\u001b[0m\u001b[0;34m)\u001b[0m\u001b[0;34m:\u001b[0m\u001b[0;34m\u001b[0m\u001b[0;34m\u001b[0m\u001b[0m\n",
      "\u001b[0;31mNameError\u001b[0m: name 'MVTrees' is not defined"
     ]
    }
   ],
   "source": [
    "message = switch_areas.create_switch_areas(gapps, model_mrid)"
   ]
  },
  {
   "cell_type": "code",
   "execution_count": null,
   "id": "aaae3d82",
   "metadata": {
    "scrolled": true
   },
   "outputs": [],
   "source": [
    "[ConnNodeDict, EquipDict] = process_network.build_equip_dicts(gapps, model_mrid)\n"
   ]
  },
  {
   "cell_type": "code",
   "execution_count": null,
   "id": "982c51d5",
   "metadata": {},
   "outputs": [],
   "source": [
    "BaseConnDict = json.dumps(ConnNodeDict)\n",
    "MVConnNodeDict = json.loads(BaseConnDict)"
   ]
  },
  {
   "cell_type": "code",
   "execution_count": null,
   "id": "b1fcf83e",
   "metadata": {},
   "outputs": [],
   "source": [
    "#[MVConnNodeDict, EquipDict] = process_network.build_equip_dicts(gapps, model_mrid)\n"
   ]
  },
  {
   "cell_type": "code",
   "execution_count": null,
   "id": "41ed0463",
   "metadata": {
    "scrolled": true
   },
   "outputs": [],
   "source": [
    "EqTypes = ['ACLineSegment', 'PowerTransformer', 'TransformerTank', 'SynchronousMachine']\n",
    "[ConnNodeDict, TerminalsDict, NodeList, TermList] = linknet.build_linknet_lists(ConnNodeDict, EquipDict, EqTypes)"
   ]
  },
  {
   "cell_type": "code",
   "execution_count": null,
   "id": "36abdd08",
   "metadata": {},
   "outputs": [],
   "source": [
    "EqTypes = ['ACLineSegment', 'RatioTapChanger', 'SynchronousMachine']\n",
    "[MVConnNodeDict, MVTerminalsDict, MVNodeList, MVTermList] = linknet.build_linknet_lists(MVConnNodeDict, EquipDict, EqTypes)"
   ]
  },
  {
   "cell_type": "code",
   "execution_count": null,
   "id": "013c4d0b",
   "metadata": {},
   "outputs": [],
   "source": [
    "SwitchDict = {}\n",
    "SwitchDict.update(EquipDict['Breaker'])\n",
    "SwitchDict.update(EquipDict['Fuse'])\n",
    "SwitchDict.update(EquipDict['LoadBreakSwitch'])\n",
    "SwitchDict.update(EquipDict['Recloser'])\n",
    "SwitchKeys = list(SwitchDict.keys())"
   ]
  },
  {
   "cell_type": "code",
   "execution_count": null,
   "id": "38519eb7",
   "metadata": {
    "scrolled": false
   },
   "outputs": [],
   "source": [
    "MVTrees = {}\n",
    "[MVTrees, MVConnNodeDict] = spanning_tree.local_spanning_tree(MVConnNodeDict, MVTerminalsDict, MVNodeList, MVTermList, EquipDict, 'Breaker', list(EquipDict['Breaker'].keys()), MVTrees, 'all')\n",
    "[MVTrees, MVConnNodeDict] = spanning_tree.local_spanning_tree(MVConnNodeDict, MVTerminalsDict, MVNodeList, MVTermList, EquipDict, 'Fuse', list(EquipDict['Fuse'].keys()), MVTrees, 'all')\n",
    "[MVTrees, MVConnNodeDict] = spanning_tree.local_spanning_tree(MVConnNodeDict, MVTerminalsDict, MVNodeList, MVTermList, EquipDict, 'LoadBreakSwitch', list(EquipDict['LoadBreakSwitch'].keys()), MVTrees, 'all')\n",
    "[MVTrees, MVConnNodeDict] = spanning_tree.local_spanning_tree(MVConnNodeDict, MVTerminalsDict, MVNodeList, MVTermList, EquipDict, 'Recloser', list(EquipDict['Recloser'].keys()), MVTrees, 'all')\n",
    "\n",
    "MVBase = json.dumps(MVTrees)\n",
    "MVBaseTree = json.loads(MVBase)"
   ]
  },
  {
   "cell_type": "code",
   "execution_count": null,
   "id": "486ceb85",
   "metadata": {},
   "outputs": [],
   "source": [
    "DistAppStruct = {}\n",
    "DistAppStruct['feeders'] = {}\n",
    "DistAppStruct['feeders'][model_mrid] = {}\n",
    "DistAppStruct['feeders'][model_mrid]['addressable_equipment'] = []\n",
    "DistAppStruct['feeders'][model_mrid]['unaddressable_equipment'] = []\n",
    "DistAppStruct['feeders'][model_mrid]['connectivity_node'] = []\n",
    "\n",
    "DistAppStruct['feeders'][model_mrid]['switch_areas'] = []\n",
    "ProcessedNodes = []\n",
    "XfmrDict = EquipDict['PowerTransformer']\n",
    "XfmrDict.update(EquipDict['TransformerTank'])\n",
    "\n",
    "SwitchKeys = list(MVTrees.keys())\n",
    "\n",
    "for i1 in range(len(SwitchKeys)):\n",
    "    SwitchArea = {}\n",
    "    SwitchArea['boundary_switches'] = []\n",
    "    SwitchArea['addressable_equipment'] = []\n",
    "    SwitchArea['unaddressable_equipment'] = []\n",
    "    SwitchArea['connectivity_node'] = []\n",
    "    SwitchArea['secondary_areas'] = []\n",
    "    DistArea = {}\n",
    "    DistArea['distribution_transformer'] = []\n",
    "    DistArea['addressable_equipment'] = []\n",
    "    DistArea['unaddressable_equipment'] = []\n",
    "    DistArea['connectivity_node'] = []\n",
    "    DistAreaFlag1 = True\n",
    "    #print(EquipDict['LoadBreakSwitch'][SwitchKeys[i1]]['name'])\n",
    "    for i2 in range(len(MVTrees[SwitchKeys[i1]])):\n",
    "        node = MVTrees[SwitchKeys[i1]][i2]\n",
    "        \n",
    "        print('mv node', ConnNodeDict[node]['name'], node)\n",
    "        ProcessedNodes.append(node)\n",
    "        SwitchArea['boundary_switches'].extend(ConnNodeDict[node]['Breaker'])\n",
    "        SwitchArea['boundary_switches'].extend(ConnNodeDict[node]['Fuse'])\n",
    "        SwitchArea['boundary_switches'].extend(ConnNodeDict[node]['LoadBreakSwitch'])\n",
    "        SwitchArea['boundary_switches'].extend(ConnNodeDict[node]['Recloser'])\n",
    "#        SwitchArea['addressable_equipment'].extend(ConnNodeDict[node]['SynchronousMachine'])\n",
    " #       SwitchArea['addressable_equipment'].extend(ConnNodeDict[node]['PowerElectronicsConnection'])\n",
    "  #      SwitchArea['addressable_equipment'].extend(ConnNodeDict[node]['LinearShuntCompensator'])\n",
    "   #     SwitchArea['addressable_equipment'].extend(ConnNodeDict[node]['RatioTapChanger'])\n",
    "    #    SwitchArea['unaddressable_equipment'].extend(ConnNodeDict[node]['ACLineSegment'])\n",
    "     #   SwitchArea['unaddressable_equipment'].extend(ConnNodeDict[node]['PowerTransformer'])\n",
    "      #  SwitchArea['unaddressable_equipment'].extend(ConnNodeDict[node]['TransformerTank'])\n",
    "       # SwitchArea['unaddressable_equipment'].extend(ConnNodeDict[node]['Measurement'])\n",
    "        SwitchArea['connectivity_node'].append(ConnNodeDict[node]['name'])\n",
    "        DistArea = {}\n",
    "        DistArea['distribution_transformer'] = []\n",
    "        DistArea['addressable_equipment'] = []\n",
    "        DistArea['unaddressable_equipment'] = []\n",
    "        DistArea['connectivity_node'] = []\n",
    "        DistXfmrs = ConnNodeDict[node]['TransformerTank'] #+ ConnNodeDict[node]['PowerTransformer']\n",
    "        if DistXfmrs:\n",
    "            DistAreaFlag1 = False\n",
    "            DistAreaFlag2 = False\n",
    "            SwitchArea['unaddressable_equipment'].extend(DistXfmrs)\n",
    "            for i3 in range(len(DistXfmrs)):\n",
    "                xfmr = DistXfmrs[i3]\n",
    "                [LVTree, LVConnNodeDict] = spanning_tree.local_spanning_tree(ConnNodeDict, TerminalsDict, NodeList, TermList, EquipDict, 'TransformerTank', [xfmr],  MVBaseTree, 'all')\n",
    "                LVTreeKeys = LVTree[xfmr]\n",
    "                if LVTreeKeys: \n",
    "                    LVTreeKeys.pop(0)\n",
    "                    for i4 in range(len(LVTreeKeys)):\n",
    "                        lvnode = LVTreeKeys[i4]\n",
    "                        DistAreaFlag2 = True\n",
    "                        ProcessedNodes.append(lvnode)\n",
    "                        \n",
    "                        print('lvnode ', ConnNodeDict[lvnode]['name'], lvnode)\n",
    "                        DistArea['distribution_transformer'] = [xfmr]\n",
    " #                       DistArea['addressable_equipment'].extend(ConnNodeDict[lvnode]['SynchronousMachine'])\n",
    "  #                      DistArea['addressable_equipment'].extend(ConnNodeDict[lvnode]['PowerElectronicsConnection'])\n",
    "   #                     DistArea['addressable_equipment'].extend(ConnNodeDict[lvnode]['EnergyConsumer'])\n",
    "    #                    DistArea['addressable_equipment'].extend(ConnNodeDict[lvnode]['House'])\n",
    "     #                   \n",
    "      #                  DistArea['unaddressable_equipment'].extend(ConnNodeDict[lvnode]['ACLineSegment'])\n",
    "       #                 DistArea['unaddressable_equipment'].extend(ConnNodeDict[lvnode]['Measurement'])\n",
    "        #                DistArea['connectivity_node'].append(lvnode)\n",
    "                        DistArea['connectivity_node'].append(ConnNodeDict[lvnode]['name'])\n",
    "         #               SwitchArea['unaddressable_equipment'].extend(ConnNodeDict[lvnode]['ACLineSegment'])\n",
    "          #              SwitchArea['unaddressable_equipment'].extend(ConnNodeDict[lvnode]['Measurement'])\n",
    "                    \n",
    "                #if DistArea['connectivity_node']: SwitchArea['secondary_areas'].append((DistArea.copy()))\n",
    "    \n",
    "            if DistAreaFlag2: \n",
    "                print('dist area', DistArea['connectivity_node'] )\n",
    "                SwitchArea['secondary_areas'].append((DistArea.copy()))\n",
    "\n",
    "    if DistAreaFlag1: \n",
    "        print('dist area', DistArea['connectivity_node'] )\n",
    "        SwitchArea['secondary_areas'].append((DistArea.copy()))\n",
    "        \n",
    "    if SwitchArea['boundary_switches']: DistAppStruct['feeders'][model_mrid]['switch_areas'].append(dict(SwitchArea))\n",
    "\n",
    "        #DistAppStruct['feeders'][model_mrid]['unaddressable_equipment'].extend(SwitchArea['unaddressable_equipment'])\n",
    "        \n",
    "AllNodes = list(ConnNodeDict.keys())\n",
    "MissingNodes = list(set(AllNodes).difference(ProcessedNodes))\n",
    "for i5 in range(len(MissingNodes)):\n",
    "    node = MissingNodes[i5]\n",
    "    #DistAppStruct['feeders'][model_mrid]['addressable_equipment'].extend(ConnNodeDict[node]['SynchronousMachine'])\n",
    "    #DistAppStruct['feeders'][model_mrid]['addressable_equipment'].extend(ConnNodeDict[node]['PowerElectronicsConnection'])\n",
    "    #DistAppStruct['feeders'][model_mrid]['addressable_equipment'].extend(ConnNodeDict[node]['LinearShuntCompensator'])\n",
    "    #DistAppStruct['feeders'][model_mrid]['addressable_equipment'].extend(ConnNodeDict[node]['RatioTapChanger'])\n",
    "    #DistAppStruct['feeders'][model_mrid]['unaddressable_equipment'].extend(ConnNodeDict[node]['ACLineSegment'])\n",
    "    #DistAppStruct['feeders'][model_mrid]['unaddressable_equipment'].extend(ConnNodeDict[node]['PowerTransformer'])\n",
    "    #DistAppStruct['feeders'][model_mrid]['unaddressable_equipment'].extend(ConnNodeDict[node]['TransformerTank'])\n",
    "    #DistAppStruct['feeders'][model_mrid]['unaddressable_equipment'].extend(ConnNodeDict[node]['Measurement'])\n",
    "    DistAppStruct['feeders'][model_mrid]['connectivity_node'].append(ConnNodeDict[node]['name'])\n",
    "    "
   ]
  },
  {
   "cell_type": "code",
   "execution_count": null,
   "id": "960f1acd",
   "metadata": {},
   "outputs": [],
   "source": [
    "DistAppStruct"
   ]
  },
  {
   "cell_type": "code",
   "execution_count": null,
   "id": "35a55220",
   "metadata": {},
   "outputs": [],
   "source": [
    "EquipDict['LoadBreakSwitch']"
   ]
  },
  {
   "cell_type": "code",
   "execution_count": null,
   "id": "5f7a0e48",
   "metadata": {},
   "outputs": [],
   "source": [
    "MVConnNodeDict"
   ]
  },
  {
   "cell_type": "code",
   "execution_count": null,
   "id": "0bd6b7d2",
   "metadata": {},
   "outputs": [],
   "source": [
    "MVTerminalsDict[MVTermList[6]]"
   ]
  },
  {
   "cell_type": "code",
   "execution_count": null,
   "id": "6856d819",
   "metadata": {},
   "outputs": [],
   "source": [
    "MVConnNodeDict[MVNodeList[5]]"
   ]
  },
  {
   "cell_type": "code",
   "execution_count": null,
   "id": "63af0311",
   "metadata": {
    "scrolled": true
   },
   "outputs": [],
   "source": [
    "from gridappsd import topics as t\n",
    "topic = t.REQUEST_POWERGRID_DATA\n",
    "\n",
    "object_mrid = \"_2858B6C2-0886-4269-884C-06FA8B887319\"\n",
    "\n",
    "message = {\n",
    "    \"requestType\": \"QUERY_OBJECT_DICT\",\n",
    "    \"resultFormat\": \"JSON\",\n",
    "    \"modelId\": '_49AD8E07-3BF9-A4E2-CB8F-C3722F837B62',\n",
    "    \"objectId\": '_DBFA8EFA-B397-40DA-9642-60E8DE4B3471'\n",
    "}\n",
    "\n",
    "data = gapps.get_response(topic, message)"
   ]
  },
  {
   "cell_type": "code",
   "execution_count": null,
   "id": "7406c260",
   "metadata": {},
   "outputs": [],
   "source": [
    "data['data']"
   ]
  },
  {
   "cell_type": "code",
   "execution_count": null,
   "id": "417cb16c",
   "metadata": {},
   "outputs": [],
   "source": [
    "for i0 in range(len(SwitchKeys)):\n",
    "    print(SwitchDict[SwitchKeys[i0]]['name'])\n",
    "    for i8 in range(len(MVTrees[SwitchKeys[i0]])):\n",
    "        \n",
    "        print(ConnNodeDict[MVTrees[SwitchKeys[i0]][i8]]['name'])"
   ]
  },
  {
   "cell_type": "code",
   "execution_count": null,
   "id": "9dd5a8d6",
   "metadata": {},
   "outputs": [],
   "source": [
    "import sys\n",
    "sys.getsizeof(DistAppStruct)"
   ]
  },
  {
   "cell_type": "code",
   "execution_count": null,
   "id": "9126d5dd",
   "metadata": {},
   "outputs": [],
   "source": [
    "DistAppStruct"
   ]
  },
  {
   "cell_type": "code",
   "execution_count": null,
   "id": "e16bef81",
   "metadata": {},
   "outputs": [],
   "source": [
    "\n",
    "with open('output_message.json', 'w') as f:\n",
    "    json.dump(DistAppStruct, f)"
   ]
  },
  {
   "cell_type": "code",
   "execution_count": null,
   "id": "95b9f98f",
   "metadata": {},
   "outputs": [],
   "source": [
    "DistArea\n"
   ]
  },
  {
   "cell_type": "code",
   "execution_count": null,
   "id": "10cbaa0b",
   "metadata": {},
   "outputs": [],
   "source": [
    "TreeKeys = list(MVTrees.keys())\n",
    "for i10 in range(len(TreeKeys)):\n",
    "    message = {\n",
    "        \"requestType\": \"QUERY_OBJECT_DICT\",\n",
    "        \"resultFormat\": \"JSON\",\n",
    "        \"modelId\": '_49AD8E07-3BF9-A4E2-CB8F-C3722F837B62',\n",
    "        \"objectId\": TreeKeys[i10]\n",
    "    }\n",
    "\n",
    "    data=gapps.get_response(topic, message)\n",
    "    print()\n",
    "    print(data['data'][0]['IdentifiedObject.name'])\n",
    "    for i11 in range(len(MVTrees[TreeKeys[i10]])):\n",
    "        print(ConnNodeDict[MVTrees[TreeKeys[i10]][i11]]['name'])"
   ]
  },
  {
   "cell_type": "code",
   "execution_count": null,
   "id": "0f50a4c9",
   "metadata": {},
   "outputs": [],
   "source": [
    "TreeKeys = list(MVTrees.keys())\n",
    "for i10 in range(len(TreeKeys)):\n",
    "    \n",
    "    for i11 in range(len(MVTrees[TreeKeys[i10]])):\n",
    "        print(ConnNodeDict[MVTrees[TreeKeys[i10]][i11]]['name'])"
   ]
  },
  {
   "cell_type": "code",
   "execution_count": null,
   "id": "fd8a39ae",
   "metadata": {},
   "outputs": [],
   "source": [
    "\n"
   ]
  },
  {
   "cell_type": "code",
   "execution_count": null,
   "id": "c3d6c730",
   "metadata": {},
   "outputs": [],
   "source": []
  },
  {
   "cell_type": "code",
   "execution_count": null,
   "id": "d57687a7",
   "metadata": {},
   "outputs": [],
   "source": []
  }
 ],
 "metadata": {
  "kernelspec": {
   "display_name": "Python 3 (ipykernel)",
   "language": "python",
   "name": "python3"
  },
  "language_info": {
   "codemirror_mode": {
    "name": "ipython",
    "version": 3
   },
   "file_extension": ".py",
   "mimetype": "text/x-python",
   "name": "python",
   "nbconvert_exporter": "python",
   "pygments_lexer": "ipython3",
   "version": "3.8.5"
  }
 },
 "nbformat": 4,
 "nbformat_minor": 5
}
