{
 "cells": [
  {
   "cell_type": "code",
   "execution_count": 1,
   "id": "cb2ce27a",
   "metadata": {},
   "outputs": [],
   "source": [
    "import argparse\n",
    "from datetime import datetime\n",
    "import json\n",
    "import logging\n",
    "import os\n",
    "import math\n",
    "import sys\n",
    "import time\n",
    "import topologyqueries,linkedlist,update_topology,spanning_tree\n",
    "\n",
    "from gridappsd import GridAPPSD, DifferenceBuilder, utils, topics as t\n",
    "from gridappsd.topics import simulation_input_topic, simulation_log_topic, simulation_output_topic\n",
    "\n",
    "\n",
    "#model_mrid = sim_request[\"power_system_config\"][\"Line_name\"]\n",
    "#model_mrid = \"_C125761E-9C21-4CA9-9271-B168150DE276\" #ieee13training\n",
    "#model_mrid = \"_EE71F6C9-56F0-4167-A14E-7F4C71F10EAA\" #final9500node\n",
    "#model_mrid = \"_AAE94E4A-2465-6F5E-37B1-3E72183A4E44\" #test9500\n",
    "#model_mrid = \"_5B816B93-7A5F-B64C-8460-47C17D6E4B0F\" #ieee13assets\n",
    "#model_mrid=\"_C1C3E687-6FFD-C753-582B-632A27E28507\" # IEEE 123\n",
    "model_mrid=\"_49AD8E07-3BF9-A4E2-CB8F-C3722F837B62\"\n",
    "\n",
    "requestedTime=1570041125\n",
    "\n",
    "\n",
    "\n",
    "global BaseConnDict,BaseTermDict,TermList, NodeList\n",
    "global XfmrKeys,XfmrDict,SwitchKeys,SwitchDict,DG_query\n",
    "\n",
    "os.environ['GRIDAPPSD_USER'] = 'app_user'\n",
    "os.environ['GRIDAPPSD_PASSWORD'] = '1234App'\n",
    "\n",
    "gapps = GridAPPSD()\n",
    "assert gapps.connected"
   ]
  },
  {
   "cell_type": "code",
   "execution_count": 2,
   "id": "6253e15a",
   "metadata": {},
   "outputs": [
    {
     "name": "stdout",
     "output_type": "stream",
     "text": [
      "Processed  22 nodes in  0.0003386799999999801 seconds\n"
     ]
    }
   ],
   "source": [
    "NodeQuery=topologyqueries.node_query(gapps,model_mrid)\n",
    "\n",
    "ConnNodeEquipDict = {}\n",
    "\n",
    "StartTime = time.process_time()\n",
    "\n",
    "for i0 in range(len(NodeQuery)):\n",
    "    node=NodeQuery[i0]['cnid']['value']\n",
    "\n",
    "    ConnNodeEquipDict[node] = {}\n",
    "    ConnNodeEquipDict[node]['name'] = NodeQuery[i0]['busname']['value']\n",
    "    ConnNodeEquipDict[node]['TopologicalNode'] = NodeQuery[i0]['tpnid']['value']\n",
    "    \n",
    "    ConnNodeEquipDict[node]['ACLineSegment'] = []\n",
    "    ConnNodeEquipDict[node]['Breaker'] = []\n",
    "    ConnNodeEquipDict[node]['EnergyConsumer'] = []\n",
    "    ConnNodeEquipDict[node]['Fuse'] = []\n",
    "    ConnNodeEquipDict[node]['LinearShuntCompensator'] = []\n",
    "    ConnNodeEquipDict[node]['LoadBreakSwitch'] = []\n",
    "    ConnNodeEquipDict[node]['PowerTransformer'] = []\n",
    "    ConnNodeEquipDict[node]['RatioTapChanger'] = []\n",
    "    ConnNodeEquipDict[node]['Recloser'] = []\n",
    "    ConnNodeEquipDict[node]['TransformerEnd'] = []    \n",
    "    ConnNodeEquipDict[node]['SynchronousMachine'] = []\n",
    "    ConnNodeEquipDict[node]['PowerElectronicsConnection'] = []\n",
    "    ConnNodeEquipDict[node]['measurements'] = []\n",
    "\n",
    "print('Processed ', i0+1, 'nodes in ', time.process_time() - StartTime, \"seconds\")\n"
   ]
  },
  {
   "cell_type": "code",
   "execution_count": 3,
   "id": "ea8c245d",
   "metadata": {},
   "outputs": [],
   "source": [
    "EquipDict = {}\n",
    "EquipDict['ACLineSegment'] = {}\n",
    "EquipDict['Breaker'] = {}\n",
    "EquipDict['EnergyConsumer'] = {}\n",
    "EquipDict['Fuse'] = {}\n",
    "EquipDict['LinearShuntCompensator'] = {}\n",
    "EquipDict['LoadBreakSwitch'] = {}\n",
    "EquipDict['PowerTransformer'] = {}\n",
    "EquipDict['RatioTapChanger'] = {}\n",
    "EquipDict['Recloser'] = {}\n",
    "EquipDict['TransformerTank'] = {}    \n",
    "EquipDict['SynchronousMachine'] = {}\n",
    "EquipDict['PowerElectronicsConnection'] = {}"
   ]
  },
  {
   "cell_type": "code",
   "execution_count": 4,
   "id": "784fe1cb",
   "metadata": {},
   "outputs": [],
   "source": [
    "MeasurementQuery=topologyqueries.measurement_query(gapps,model_mrid)"
   ]
  },
  {
   "cell_type": "code",
   "execution_count": 5,
   "id": "8a56dc60",
   "metadata": {},
   "outputs": [
    {
     "name": "stdout",
     "output_type": "stream",
     "text": [
      "Processed  183 objects in  0.0006835000000000035 seconds\n"
     ]
    }
   ],
   "source": [
    "StartTime = time.process_time()\n",
    "\n",
    "for i1 in range(len(MeasurementQuery)):    \n",
    "    node = MeasurementQuery[i1]['cnid']['value']\n",
    "    eqtype = MeasurementQuery[i1]['meastype']['value']\n",
    "    eqid = MeasurementQuery[i1]['eqid']['value']\n",
    "    \n",
    "    ConnNodeEquipDict[node]['measurements'].append(MeasurementQuery[i1]['measid']['value'])\n",
    "    if eqid not in ConnNodeEquipDict[node][eqtype]:\n",
    "        ConnNodeEquipDict[node][eqtype].append(eqid)\n",
    "        \n",
    "    if eqid not in EquipDict[eqtype]: EquipDict[eqtype][eqid] = {}\n",
    "        \n",
    "    if 'node1' in EquipDict[eqtype][eqid]:\n",
    "        if EquipDict[eqtype][eqid]['node1'] != node:\n",
    "            EquipDict[eqtype][eqid]['node2'] = node\n",
    "            EquipDict[eqtype][eqid]['term2'] = MeasurementQuery[i1]['trmid']['value']\n",
    "    else:\n",
    "        EquipDict[eqtype][eqid]['name'] = MeasurementQuery[i1]['eqname']['value']\n",
    "        EquipDict[eqtype][eqid]['node1'] = node\n",
    "        EquipDict[eqtype][eqid]['term1'] = MeasurementQuery[i1]['trmid']['value']\n",
    "        \n",
    "print('Processed ', i1+1, 'objects in ', time.process_time() - StartTime, \"seconds\")\n"
   ]
  },
  {
   "cell_type": "code",
   "execution_count": 6,
   "id": "4282ab12",
   "metadata": {},
   "outputs": [],
   "source": [
    "LineQuery = topologyqueries.line_query(gapps, model_mrid)\n",
    "[XfmrDict,XfmrKeys]=topologyqueries.transformer_query(gapps,model_mrid)\n",
    "\n",
    "eqtype = 'ACLineSegment'"
   ]
  },
  {
   "cell_type": "code",
   "execution_count": 7,
   "id": "b9f38005",
   "metadata": {},
   "outputs": [],
   "source": [
    "LineQuery = topologyqueries.line_query(gapps, model_mrid)\n",
    "\n",
    "eqtype = 'ACLineSegment'\n",
    "\n",
    "for i2 in range(len(LineQuery)):\n",
    "    \n",
    "    eqid = LineQuery[i2]['id']['value']\n",
    "    EquipDict['ACLineSegment'][eqid]['term1'] = LineQuery[i2]['term1']['value']\n",
    "    EquipDict['ACLineSegment'][eqid]['term2'] = LineQuery[i2]['term2']['value']\n",
    "    EquipDict['ACLineSegment'][eqid]['node1'] = LineQuery[i2]['node1']['value']\n",
    "    EquipDict['ACLineSegment'][eqid]['node2'] = LineQuery[i2]['node2']['value']"
   ]
  },
  {
   "cell_type": "code",
   "execution_count": 8,
   "id": "1fb2af4e",
   "metadata": {},
   "outputs": [],
   "source": [
    "QueryXfmrs=\"\"\"\n",
    "    # list all the terminals connected to a TransformerEnd for CIMWriter\n",
    "    PREFIX r:  <http://www.w3.org/1999/02/22-rdf-syntax-ns#>\n",
    "    PREFIX c:  <http://iec.ch/TC57/CIM100#>\n",
    "    SELECT ?class ?eqid ?endid ?tname ?tid ?bus ?cnid ?tpid ?seq ?phs ?ratedu WHERE {\n",
    "    VALUES ?fdrid {\"%s\"} \n",
    "    ?fdr c:IdentifiedObject.mRID ?fdrid.\n",
    "    {?pxf c:Equipment.EquipmentContainer ?fdr.\n",
    "    ?end c:PowerTransformerEnd.PowerTransformer ?pxf.\n",
    "    ?end c:PowerTransformerEnd.ratedU ?ratedu.\n",
    "    ?pxf c:IdentifiedObject.mRID ?eqid.\n",
    "    }\n",
    "    UNION\n",
    "    {?tank c:Equipment.EquipmentContainer ?fdr.\n",
    "    ?end c:TransformerTankEnd.TransformerTank ?tank.\n",
    "    ?tank c:IdentifiedObject.mRID ?eqid.\n",
    "    ?end c:TransformerTankEnd.phases ?ph.\n",
    "    }\n",
    "    ?end c:TransformerEnd.Terminal ?t.\n",
    "    ?t c:Terminal.ConnectivityNode ?cn. \n",
    "    ?t c:IdentifiedObject.name ?tname.\n",
    "\n",
    "    ?cn c:ConnectivityNode.TopologicalNode ?tp.\n",
    "    ?cn c:IdentifiedObject.name ?bus.\n",
    "    ?t c:ACDCTerminal.sequenceNumber ?seq.\n",
    "    bind(strafter(str(?end),\"#\") as ?endid).\n",
    "    bind(strafter(str(?t),\"#\") as ?tid).\n",
    "    bind(strafter(str(?cn),\"#\") as ?cnid).\n",
    "    bind(strafter(str(?tp),\"#\") as ?tpid).\n",
    "    bind(strbefore(str(?endclass), \"E\") as ?class)\n",
    "    bind(strafter(str(?ph),\"e.\") as ?phs).\n",
    "    ?end a ?classraw.\n",
    "    bind(strafter(str(?classraw),\"CIM100#\") as ?endclass)\n",
    "    }\n",
    "    ORDER by ?class ?eqid ?tname ?endid ?bus ?cnid ?tpid ?seq ?phs ?ratedu\n",
    "    \"\"\"%model_mrid\n",
    "results = gapps.query_data(query = QueryXfmrs, timeout = 60)\n",
    "XfmrQuery = results['data']['results']['bindings']"
   ]
  },
  {
   "cell_type": "code",
   "execution_count": 9,
   "id": "dcecca3c",
   "metadata": {},
   "outputs": [],
   "source": [
    "# Build dictionary of FROM-TO nodes for all transformers\n",
    "for i2 in range(len(XfmrQuery)):\n",
    "    eqtype = XfmrQuery[i2]['class']['value']\n",
    "    eqid=XfmrQuery[i2]['eqid']['value']\n",
    "    seq=XfmrQuery[i2]['seq']['value']\n",
    "    \n",
    "    if eqid not in EquipDict[eqtype]:\n",
    "        EquipDict[eqtype][eqid] = {}\n",
    "\n",
    "\n",
    "    # Identify terminal sequence and create keys for new terminals\n",
    "    if seq == '1' or seq == 1:\n",
    "        # Primary winding\n",
    "        EquipDict[eqtype][eqid]['bus1']=XfmrQuery[i2]['bus']['value']\n",
    "        EquipDict[eqtype][eqid]['term1']=XfmrQuery[i2]['tid']['value']\n",
    "        EquipDict[eqtype][eqid]['node1']=XfmrQuery[i2]['cnid']['value']\n",
    "        EquipDict[eqtype][eqid]['tpnode1']=XfmrQuery[i2]['tpid']['value']\n",
    "        EquipDict[eqtype][eqid]['tname1']=XfmrQuery[i2]['tname']['value']\n",
    "        \n",
    "        if 'ratedu' in XfmrQuery[i2]: EquipDict[eqtype][eqid]['volt1']=int(float(XfmrQuery[i2]['ratedu']['value']))\n",
    "        else: EquipDict[eqtype][eqid]['volt1']=0\n",
    "        if 'phs' in XfmrQuery[i2]: EquipDict[eqtype][eqid]['phase1']=XfmrQuery[i2]['phs']['value'] \n",
    "        else: EquipDict[eqtype][eqid]['phase1']={}\n",
    "\n",
    "    elif seq == '2' or seq == 2:\n",
    "        EquipDict[eqtype][eqid]['bus2']=XfmrQuery[i2]['bus']['value']\n",
    "        EquipDict[eqtype][eqid]['term2']=XfmrQuery[i2]['tid']['value']\n",
    "        EquipDict[eqtype][eqid]['node2']=XfmrQuery[i2]['cnid']['value']\n",
    "        EquipDict[eqtype][eqid]['tpnode2']=XfmrQuery[i2]['tpid']['value']\n",
    "        EquipDict[eqtype][eqid]['tname2']=XfmrQuery[i2]['tname']['value']\n",
    "        \n",
    "        if 'ratedu' in XfmrQuery[i2]: EquipDict[eqtype][eqid]['volt2']=int(float(XfmrQuery[i2]['ratedu']['value']))\n",
    "        else: EquipDict[eqtype][eqid]['volt2']=0\n",
    "        if 'phs' in XfmrQuery[i2]: EquipDict[eqtype][eqid]['phase2']=XfmrQuery[i2]['phs']['value'] \n",
    "        else: EquipDict[eqtype][eqid]['phase2']={}\n",
    "\n",
    "    elif seq == '3' or seq == 3:\n",
    "        EquipDict[eqtype][eqid]['bus3']=XfmrQuery[i2]['bus']['value']\n",
    "        EquipDict[eqtype][eqid]['term3']=XfmrQuery[i2]['tid']['value']\n",
    "        EquipDict[eqtype][eqid]['node3']=XfmrQuery[i2]['cnid']['value']\n",
    "        EquipDict[eqtype][eqid]['tpnode3']=XfmrQuery[i2]['tpid']['value']\n",
    "        EquipDict[eqtype][eqid]['tname3']=XfmrQuery[i2]['tname']['value']\n",
    "        \n",
    "        if 'ratedu' in XfmrQuery[i2]: EquipDict[eqtype][eqid]['volt3']=int(float(XfmrQuery[i2]['ratedu']['value']))\n",
    "        else: EquipDict[eqtype][eqid]['volt3']=0\n",
    "        if 'phs' in XfmrQuery[i2]: EquipDict[eqtype][eqid]['phase3']=XfmrQuery[i2]['phs']['value'] \n",
    "        else: EquipDict[eqtype][eqid]['phase3']={}\n",
    "    else:\n",
    "        raise ValueError('Unsupported transformer sequence value ', seq)"
   ]
  },
  {
   "cell_type": "code",
   "execution_count": 10,
   "id": "ef49a644",
   "metadata": {},
   "outputs": [
    {
     "data": {
      "text/plain": [
       "13"
      ]
     },
     "execution_count": 10,
     "metadata": {},
     "output_type": "execute_result"
    }
   ],
   "source": [
    "i2"
   ]
  },
  {
   "cell_type": "code",
   "execution_count": 11,
   "id": "72a425d5",
   "metadata": {},
   "outputs": [
    {
     "data": {
      "text/plain": [
       "{'class': {'type': 'literal', 'value': 'TransformerTank'},\n",
       " 'eqid': {'type': 'literal', 'value': '_E2E0FC64-8D45-4C55-BDB9-EAB827A46FBC'},\n",
       " 'endid': {'type': 'literal',\n",
       "  'value': '_1B9E29BF-7D12-45B0-965A-CA4071F66E3C'},\n",
       " 'tname': {'type': 'literal', 'value': 'reg3_T2'},\n",
       " 'tid': {'type': 'literal', 'value': '_F5258B9A-B51E-40DD-9A06-5918E41F3C35'},\n",
       " 'bus': {'type': 'literal', 'value': 'rg60'},\n",
       " 'cnid': {'type': 'literal', 'value': '_673E896A-DCBF-4E43-9924-BEB31C5B6005'},\n",
       " 'tpid': {'type': 'literal', 'value': '_54D52F71-9CC6-4C4D-8D5F-75A1C8F23BD8'},\n",
       " 'seq': {'type': 'literal', 'value': '2'},\n",
       " 'phs': {'type': 'literal', 'value': 'C'}}"
      ]
     },
     "execution_count": 11,
     "metadata": {},
     "output_type": "execute_result"
    }
   ],
   "source": [
    "XfmrQuery[i2]"
   ]
  },
  {
   "cell_type": "code",
   "execution_count": 12,
   "id": "08fcd068",
   "metadata": {},
   "outputs": [],
   "source": [
    "index=0\n",
    "TerminalsDict = {}\n",
    "NodeList = []\n",
    "TermList = []\n",
    "\n",
    "StartTime = time.process_time()\n",
    "\n",
    "eqtype = 'ACLineSegment'\n",
    "\n",
    "SwitchKeys = list(EquipDict['Breaker'].keys()) + list(EquipDict['Fuse'].keys()) + list(EquipDict['LoadBreakSwitch'].keys()) + list(EquipDict['Recloser'].keys())\n",
    "\n"
   ]
  },
  {
   "cell_type": "code",
   "execution_count": 13,
   "id": "a5a8d37e",
   "metadata": {},
   "outputs": [
    {
     "name": "stdout",
     "output_type": "stream",
     "text": [
      "Processed  2 PowerTransformer objects in  0.0003520399999999979 seconds\n"
     ]
    }
   ],
   "source": [
    "StartTime = time.process_time()\n",
    "\n",
    "eqtype = 'PowerTransformer'\n",
    "\n",
    "EquipKeys = list(EquipDict[eqtype])\n",
    "\n",
    "for i1 in range(len(EquipKeys)):\n",
    "\n",
    "    term1=EquipDict[eqtype][EquipKeys[i1]]['term1']\n",
    "    term2=EquipDict[eqtype][EquipKeys[i1]]['term2']\n",
    "    node1=EquipDict[eqtype][EquipKeys[i1]]['node1']\n",
    "    node2=EquipDict[eqtype][EquipKeys[i1]]['node2']\n",
    "\n",
    "    # Create keys for new terminals\n",
    "    TerminalsDict[term1] = {}\n",
    "    TerminalsDict[term2] = {}\n",
    "    TerminalsDict[term1]['term'] = 2*i1+1\n",
    "    TerminalsDict[term2]['term'] = 2*i1+2\n",
    "    TermList.append(term1)\n",
    "    TermList.append(term2)\n",
    "\n",
    "    # If node1 or node2 not in dict, create new keys\n",
    "    if 'node' not in ConnNodeEquipDict[node1]:\n",
    "        ConnNodeEquipDict[node1]['node'] = index+1\n",
    "        ConnNodeEquipDict[node1]['list'] = 0\n",
    "        index = index+1\n",
    "        NodeList.append(node1)\n",
    "\n",
    "    if 'node' not in ConnNodeEquipDict[node2]: \n",
    "        ConnNodeEquipDict[node2]['node'] = index+1\n",
    "        ConnNodeEquipDict[node2]['list'] = 0\n",
    "        index = index+1\n",
    "        NodeList.append(node2)\n",
    "\n",
    "    # 1. Move node list variables to terinal next    \n",
    "    TerminalsDict[term1]['next'] = ConnNodeEquipDict[node1]['list']\n",
    "    TerminalsDict[term2]['next'] = ConnNodeEquipDict[node2]['list']\n",
    "\n",
    "    # 2. Populate Terminal list far field with nodes\n",
    "    TerminalsDict[term1]['far'] = ConnNodeEquipDict[node2]['node']\n",
    "    TerminalsDict[term2]['far'] = ConnNodeEquipDict[node1]['node']\n",
    "\n",
    "    # 3. Populate Connectivity nodes list with terminals\n",
    "    ConnNodeEquipDict[node1]['list'] = TerminalsDict[term1]['term']\n",
    "    ConnNodeEquipDict[node2]['list'] = TerminalsDict[term2]['term']\n",
    "\n",
    "\n",
    "print(\"Processed \", i1+1, eqtype, \"objects in \", time.process_time() - StartTime, \"seconds\")\n"
   ]
  },
  {
   "cell_type": "code",
   "execution_count": 14,
   "id": "58dc6497",
   "metadata": {},
   "outputs": [],
   "source": [
    "BaseConnDict = json.dumps(ConnNodeEquipDict)\n",
    "BaseTermDict = json.dumps(TerminalsDict)"
   ]
  },
  {
   "cell_type": "code",
   "execution_count": 15,
   "id": "10c01708",
   "metadata": {},
   "outputs": [
    {
     "ename": "KeyError",
     "evalue": "'_52DE9189-20DC-4C73-BDEE-E960FE1F9493'",
     "output_type": "error",
     "traceback": [
      "\u001b[0;31m---------------------------------------------------------------------------\u001b[0m",
      "\u001b[0;31mKeyError\u001b[0m                                  Traceback (most recent call last)",
      "\u001b[0;32m/tmp/ipykernel_8833/3298930247.py\u001b[0m in \u001b[0;36m<module>\u001b[0;34m\u001b[0m\n\u001b[0;32m----> 1\u001b[0;31m \u001b[0;34m[\u001b[0m\u001b[0mTerminalsDict\u001b[0m\u001b[0;34m,\u001b[0m \u001b[0mConnNodeDict\u001b[0m\u001b[0;34m]\u001b[0m\u001b[0;34m=\u001b[0m\u001b[0mupdate_topology\u001b[0m\u001b[0;34m.\u001b[0m\u001b[0mtopology_update\u001b[0m\u001b[0;34m(\u001b[0m\u001b[0mBaseConnDict\u001b[0m\u001b[0;34m,\u001b[0m\u001b[0mBaseTermDict\u001b[0m\u001b[0;34m,\u001b[0m\u001b[0mEquipDict\u001b[0m\u001b[0;34m[\u001b[0m\u001b[0;34m'LoadBreakSwitch'\u001b[0m\u001b[0;34m]\u001b[0m\u001b[0;34m,\u001b[0m\u001b[0mSwitchKeys\u001b[0m\u001b[0;34m,\u001b[0m\u001b[0mTermList\u001b[0m\u001b[0;34m)\u001b[0m\u001b[0;34m\u001b[0m\u001b[0;34m\u001b[0m\u001b[0m\n\u001b[0m\u001b[1;32m      2\u001b[0m \u001b[0;34m\u001b[0m\u001b[0m\n\u001b[1;32m      3\u001b[0m \u001b[0mSubstationRoots\u001b[0m \u001b[0;34m=\u001b[0m \u001b[0;34m[\u001b[0m\u001b[0;34m]\u001b[0m\u001b[0;34m\u001b[0m\u001b[0;34m\u001b[0m\u001b[0m\n\u001b[1;32m      4\u001b[0m \u001b[0;31m# Iterate through all substation transformers\u001b[0m\u001b[0;34m\u001b[0m\u001b[0;34m\u001b[0m\u001b[0;34m\u001b[0m\u001b[0m\n\u001b[1;32m      5\u001b[0m \u001b[0;32mfor\u001b[0m \u001b[0mi6\u001b[0m \u001b[0;32min\u001b[0m \u001b[0mrange\u001b[0m\u001b[0;34m(\u001b[0m\u001b[0mlen\u001b[0m\u001b[0;34m(\u001b[0m\u001b[0mXfmrKeys\u001b[0m\u001b[0;34m)\u001b[0m\u001b[0;34m)\u001b[0m\u001b[0;34m:\u001b[0m\u001b[0;34m\u001b[0m\u001b[0;34m\u001b[0m\u001b[0m\n",
      "\u001b[0;32m~/topology-processor/update_topology.py\u001b[0m in \u001b[0;36mtopology_update\u001b[0;34m(BaseConnDict, BaseTermDict, SwitchDict, SwitchKeys, TermList)\u001b[0m\n\u001b[1;32m     13\u001b[0m     \u001b[0;32mfor\u001b[0m \u001b[0mi5\u001b[0m \u001b[0;32min\u001b[0m \u001b[0mrange\u001b[0m\u001b[0;34m(\u001b[0m\u001b[0mlen\u001b[0m\u001b[0;34m(\u001b[0m\u001b[0mSwitchKeys\u001b[0m\u001b[0;34m)\u001b[0m\u001b[0;34m)\u001b[0m\u001b[0;34m:\u001b[0m\u001b[0;34m\u001b[0m\u001b[0;34m\u001b[0m\u001b[0m\n\u001b[1;32m     14\u001b[0m \u001b[0;34m\u001b[0m\u001b[0m\n\u001b[0;32m---> 15\u001b[0;31m         \u001b[0mnode1\u001b[0m\u001b[0;34m=\u001b[0m\u001b[0mSwitchDict\u001b[0m\u001b[0;34m[\u001b[0m\u001b[0mSwitchKeys\u001b[0m\u001b[0;34m[\u001b[0m\u001b[0mi5\u001b[0m\u001b[0;34m]\u001b[0m\u001b[0;34m]\u001b[0m\u001b[0;34m[\u001b[0m\u001b[0;34m'node1'\u001b[0m\u001b[0;34m]\u001b[0m\u001b[0;34m\u001b[0m\u001b[0;34m\u001b[0m\u001b[0m\n\u001b[0m\u001b[1;32m     16\u001b[0m         \u001b[0mnode2\u001b[0m\u001b[0;34m=\u001b[0m\u001b[0mSwitchDict\u001b[0m\u001b[0;34m[\u001b[0m\u001b[0mSwitchKeys\u001b[0m\u001b[0;34m[\u001b[0m\u001b[0mi5\u001b[0m\u001b[0;34m]\u001b[0m\u001b[0;34m]\u001b[0m\u001b[0;34m[\u001b[0m\u001b[0;34m'node2'\u001b[0m\u001b[0;34m]\u001b[0m\u001b[0;34m\u001b[0m\u001b[0;34m\u001b[0m\u001b[0m\n\u001b[1;32m     17\u001b[0m \u001b[0;34m\u001b[0m\u001b[0m\n",
      "\u001b[0;31mKeyError\u001b[0m: '_52DE9189-20DC-4C73-BDEE-E960FE1F9493'"
     ]
    }
   ],
   "source": [
    "[TerminalsDict, ConnNodeDict]=update_topology.topology_update(BaseConnDict,BaseTermDict,EquipDict['LoadBreakSwitch'],SwitchKeys,TermList)\n",
    "\n",
    "SubstationRoots = []\n",
    "# Iterate through all substation transformers\n",
    "for i6 in range(len(XfmrKeys)):\n",
    "\n",
    "    # Identify if distribution substation transformer\n",
    "    if ((int(XfmrDict[XfmrKeys[i6]]['volt1']) >= 34000 and 34000 >= int(XfmrDict[XfmrKeys[i6]]['volt2']) > 1000) or \n",
    "        (int(XfmrDict[XfmrKeys[i6]]['volt2']) >= 34000 and 34000 >= int(XfmrDict[XfmrKeys[i6]]['volt1']) > 1000)):\n",
    "        SubstationRoots.append(XfmrKeys[i6])\n",
    "        \n",
    "[SubTree, ConnNodeDict] = SpanningTree(ConnNodeDict, TerminalsDict, NodeList, XfmrDict, SubstationRoots, 'single')"
   ]
  },
  {
   "cell_type": "code",
   "execution_count": null,
   "id": "4cdca822",
   "metadata": {},
   "outputs": [],
   "source": [
    "EquipDict['LoadBreakSwitch'][SwitchKeys[0]]"
   ]
  },
  {
   "cell_type": "code",
   "execution_count": null,
   "id": "0f018f33",
   "metadata": {},
   "outputs": [],
   "source": [
    "SwitchKeys[0]"
   ]
  },
  {
   "cell_type": "code",
   "execution_count": null,
   "id": "cccb5736",
   "metadata": {},
   "outputs": [],
   "source": [
    "EquipDict['TransformerTank']"
   ]
  },
  {
   "cell_type": "code",
   "execution_count": null,
   "id": "526b5145",
   "metadata": {},
   "outputs": [],
   "source": [
    "EquipDict['PowerTransformer']"
   ]
  },
  {
   "cell_type": "code",
   "execution_count": null,
   "id": "b6486394",
   "metadata": {},
   "outputs": [],
   "source": [
    "ConnNodeEquipDict['_0018BD86-235A-4FF5-AA48-FF9AAE39A5DC']"
   ]
  },
  {
   "cell_type": "code",
   "execution_count": 16,
   "id": "2ade3db1",
   "metadata": {},
   "outputs": [
    {
     "data": {
      "text/plain": [
       "{'data': [{'id': '_43EF8365-F932-409B-A51E-FBED3F6DFFAA',\n",
       "   'ConductingEquipment.BaseVoltage': '_2A158E0C-CD01-4A50-AEBA-59D761FCF15D',\n",
       "   'Equipment.EquipmentContainer': '_49AD8E07-3BF9-A4E2-CB8F-C3722F837B62',\n",
       "   'IdentifiedObject.mRID': '_43EF8365-F932-409B-A51E-FBED3F6DFFAA',\n",
       "   'IdentifiedObject.name': 'fuse1',\n",
       "   'PowerSystemResource.Location': '_9702BD06-90C3-40B5-9311-47FA1C2A9811',\n",
       "   'Switch.normalOpen': 'false',\n",
       "   'Switch.open': 'false',\n",
       "   'Switch.ratedCurrent': '65',\n",
       "   'Switch.retained': 'true',\n",
       "   'type': 'Fuse'}],\n",
       " 'responseComplete': True,\n",
       " 'id': '377179489'}"
      ]
     },
     "execution_count": 16,
     "metadata": {},
     "output_type": "execute_result"
    }
   ],
   "source": [
    "from gridappsd import topics as t\n",
    "topic = t.REQUEST_POWERGRID_DATA\n",
    "\n",
    "message = {\n",
    "    \"requestType\": \"QUERY_OBJECT_DICT\",\n",
    "    \"modelId\": model_mrid,\n",
    "    \"objectId\": '_43EF8365-F932-409B-A51E-FBED3F6DFFAA',\n",
    "    \"resultFormat\": \"JSON\"\n",
    "}\n",
    "\n",
    "gapps.get_response(topic, message)"
   ]
  },
  {
   "cell_type": "code",
   "execution_count": null,
   "id": "b1ee5879",
   "metadata": {},
   "outputs": [],
   "source": [
    "SwitchKeys = list(EquipDict['Breaker'].keys()) + list(EquipDict['Fuse'].keys()) + list(EquipDict['LoadBreakSwitch'].keys()) + list(EquipDict['Recloser'].keys())\n",
    "SwitchKeys"
   ]
  },
  {
   "cell_type": "code",
   "execution_count": 18,
   "id": "1caea7ae",
   "metadata": {},
   "outputs": [
    {
     "data": {
      "text/plain": [
       "dict_keys(['ACLineSegment', 'Breaker', 'EnergyConsumer', 'Fuse', 'LinearShuntCompensator', 'LoadBreakSwitch', 'PowerTransformer', 'RatioTapChanger', 'Recloser', 'TransformerTank', 'SynchronousMachine', 'PowerElectronicsConnection'])"
      ]
     },
     "execution_count": 18,
     "metadata": {},
     "output_type": "execute_result"
    }
   ],
   "source": [
    "EquipDict.keys()"
   ]
  }
 ],
 "metadata": {
  "kernelspec": {
   "display_name": "Python 3 (ipykernel)",
   "language": "python",
   "name": "python3"
  },
  "language_info": {
   "codemirror_mode": {
    "name": "ipython",
    "version": 3
   },
   "file_extension": ".py",
   "mimetype": "text/x-python",
   "name": "python",
   "nbconvert_exporter": "python",
   "pygments_lexer": "ipython3",
   "version": "3.8.5"
  }
 },
 "nbformat": 4,
 "nbformat_minor": 5
}
