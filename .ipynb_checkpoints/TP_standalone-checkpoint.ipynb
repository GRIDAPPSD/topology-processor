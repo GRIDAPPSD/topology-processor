{
 "cells": [
  {
   "cell_type": "code",
   "execution_count": 1,
   "id": "fa6f4091",
   "metadata": {},
   "outputs": [],
   "source": [
    "import argparse\n",
    "from datetime import datetime\n",
    "import json\n",
    "import logging\n",
    "import os\n",
    "import math\n",
    "import sys\n",
    "import time\n",
    "import topologyqueries,linkedlist,update_topology,spanning_tree\n",
    "\n",
    "from gridappsd import GridAPPSD, DifferenceBuilder, utils, topics as t\n",
    "from gridappsd.topics import simulation_input_topic, simulation_log_topic, simulation_output_topic"
   ]
  },
  {
   "cell_type": "code",
   "execution_count": 2,
   "id": "98799b81",
   "metadata": {},
   "outputs": [],
   "source": [
    "#model_mrid = sim_request[\"power_system_config\"][\"Line_name\"]\n",
    "#model_mrid = \"_C125761E-9C21-4CA9-9271-B168150DE276\" #ieee13training\n",
    "model_mrid = \"_EE71F6C9-56F0-4167-A14E-7F4C71F10EAA\" #final9500node\n",
    "#model_mrid = \"_AAE94E4A-2465-6F5E-37B1-3E72183A4E44\" #test9500\n",
    "#model_mrid = \"_5B816B93-7A5F-B64C-8460-47C17D6E4B0F\" #ieee13assets\n",
    "#model_mrid=\"_C1C3E687-6FFD-C753-582B-632A27E28507\" # IEEE 123\n",
    "\n",
    "requestedTime=1570041140\n",
    "\n"
   ]
  },
  {
   "cell_type": "code",
   "execution_count": 3,
   "id": "52bbcc5a",
   "metadata": {},
   "outputs": [],
   "source": [
    "global BaseConnDict,BaseTermDict,TermList, NodeList\n",
    "global XfmrKeys,XfmrDict,SwitchKeys,SwitchDict,DG_query\n",
    "\n",
    "os.environ['GRIDAPPSD_USER'] = 'app_user'\n",
    "os.environ['GRIDAPPSD_PASSWORD'] = '1234App'\n",
    "\n",
    "gapps = GridAPPSD()\n",
    "assert gapps.connected"
   ]
  },
  {
   "cell_type": "code",
   "execution_count": 4,
   "id": "7259ca17",
   "metadata": {
    "tags": [
     "remove_cell"
    ]
   },
   "outputs": [],
   "source": [
    "# RUN DEMO 9500 NODE SIMULATION\n",
    "import Run9500NodeDemo as r\n",
    "simulation_id = r.simulation.simulation_id\n",
    "time.sleep(1)\n",
    "print(simulation_id)\n",
    "# Note: Restart and clear notebook kernel to re-run simulation"
   ]
  },
  {
   "cell_type": "code",
   "execution_count": 6,
   "id": "52ed00fb",
   "metadata": {},
   "outputs": [],
   "source": [
    "# Query for ACLineSegment, Transformerend, Switches, Breakers, Reclosers, Fuses, Sectionalisers,SynchronousMachine,TopologicalNode\n",
    "topologyqueries.getallqueries(gapps,model_mrid)\n",
    "Line_query=topologyqueries.Line_query\n",
    "XfmrDict=topologyqueries.XfmrDict\n",
    "XfmrKeys=topologyqueries.XfmrKeys\n",
    "SwitchDict=topologyqueries.SwitchDict\n",
    "SwitchKeys=topologyqueries.SwitchKeys\n",
    "DG_query=topologyqueries.DG_query\n",
    "Node_query=topologyqueries.Node_query"
   ]
  },
  {
   "cell_type": "code",
   "execution_count": 7,
   "id": "d0896070",
   "metadata": {},
   "outputs": [
    {
     "name": "stdout",
     "output_type": "stream",
     "text": [
      "Processed  3909 line objects in  0.02103912600000002 seconds\n",
      "Processed  1304 transformer objects in  0.007398425000000097 seconds\n",
      "Processed  9 generator objects in  4.0115999999978946e-05 seconds\n",
      "Processed  4 missing nodes in  0.005666495000000049 seconds\n"
     ]
    }
   ],
   "source": [
    "# Build Linknet Lists from ACLineSegment,Transformers,DGs and Nodes\n",
    "[ConnNodeDict,TerminalsDict,TermList,NodeList]=linkedlist.build_linked_list(Line_query,XfmrDict,XfmrKeys,DG_query,Node_query)\n",
    "\n",
    "# Stash a copy of base dictionary\n",
    "BaseConnDict = json.dumps(ConnNodeDict)\n",
    "BaseTermDict = json.dumps(TerminalsDict)"
   ]
  },
  {
   "cell_type": "code",
   "execution_count": 14,
   "id": "160268d9",
   "metadata": {},
   "outputs": [],
   "source": [
    "#IF SIMULATION ID IS SPECIFIED, GET TOPOLOGY FOR REQUESTED TIME FOR SPECIFIED TIMESTAMP\n",
    "\n",
    "equipment_dict = {}\n",
    "measurement_dict = {}\n",
    "meas_map={}\n",
    "\n",
    "#Query for switch position measurement mRIDs\n",
    "request = {\"modelId\": model_mrid,\n",
    "           \"requestType\": \"QUERY_OBJECT_MEASUREMENTS\",\n",
    "           \"resultFormat\": \"JSON\",\n",
    "           \"objectType\": \"LoadBreakSwitch\"\n",
    "           }\n",
    "\n",
    "response = gapps.get_response(t.REQUEST_POWERGRID_DATA,request,timeout=15)\n",
    "\n",
    "for measurement in response[\"data\"]:\n",
    "    if measurement[\"type\"] == \"Pos\":\n",
    "        measid = measurement[\"measid\"]\n",
    "        measurement_dict[measid] = measurement\n",
    "        meas_map[measid] = measurement[\"eqid\"]\n",
    "        SwitchDict[measurement[\"eqid\"]][\"measid\"] = measid"
   ]
  },
  {
   "cell_type": "code",
   "execution_count": 15,
   "id": "062eb724",
   "metadata": {},
   "outputs": [],
   "source": [
    "topic = \"goss.gridappsd.process.request.data.timeseries\" # Specify Timeseries API GridAPPS-D topic\n",
    "\n",
    "# Query for a particular set of measurments\n",
    "message = {\n",
    "    \"queryMeasurement\":\"simulation\",\n",
    "    \"queryFilter\":{\"simulation_id\": str(simulation_id),\n",
    "        \"startTime\": str(round(requestedTime-1)),\n",
    "        \"endTime\": str(round(requestedTime+3)),\n",
    "        \"measurement_mrid\": list(measurement_dict.keys())\n",
    "                  },\n",
    "        \"responseFormat\":\"JSON\" }\n",
    "\n",
    "\n",
    "influx_response = gapps.get_response(t.TIMESERIES, message) # Pass API call\n",
    "\n",
    "counter=0\n",
    "while not influx_response['data'] and counter <5:\n",
    "    influx_response = gapps.get_response(topic, message) # Pass API call\n",
    "    print('Waiting 10 sec for data to be written to Timeseries Database')\n",
    "    time.sleep(10)\n",
    "    counter=counter+1\n",
    "    if counter==5: print(\"No Timeseries data found. Returning default topology\")"
   ]
  },
  {
   "cell_type": "code",
   "execution_count": 16,
   "id": "0b91d618",
   "metadata": {},
   "outputs": [],
   "source": [
    "for measurement in influx_response[\"data\"]:\n",
    "    measid = measurement[\"measurement_mrid\"]\n",
    "    time = measurement[\"time\"]\n",
    "    eqid = meas_map[measid]\n",
    "    SwitchDict[eqid][\"open\"] = measurement['value']"
   ]
  },
  {
   "cell_type": "code",
   "execution_count": 17,
   "id": "71bf3de3",
   "metadata": {},
   "outputs": [
    {
     "name": "stdout",
     "output_type": "stream",
     "text": [
      "Processed  3909 line objects in  0.017594946 seconds\n",
      "Processed  1304 transformer objects in  0.007418901000000311 seconds\n",
      "Processed  9 generator objects in  3.701800000044386e-05 seconds\n",
      "Processed  4 missing nodes in  0.00705080899999988 seconds\n",
      "Processed  107 switch objects in  0.00028149699999957534 seconds\n",
      "Processed topology from substation transformer  hvmv69_11sub3_T1  with  2264  buses\n",
      "Processed topology from substation transformer  hvmv69_11sub1_T1  with  1151  buses\n",
      "Processed topology from substation transformer  hvmv69_11sub2_T1  with  1568  buses\n",
      "Processed  3 topology trees containing  4983  buses in  0.15651564100000037 seconds\n",
      "Processed  1  more islands containing  291  buses in  0.0032011960000000172 seconds\n",
      " \n",
      " \n"
     ]
    }
   ],
   "source": [
    "# Build Linknet Lists from ACLineSegment,Transformers,DGs and Nodes\n",
    "[ConnNodeDict,TerminalsDict,TermList,NodeList]=linkedlist.build_linked_list(Line_query,XfmrDict,XfmrKeys,DG_query,Node_query)\n",
    "\n",
    "# Stash a copy of base dictionary\n",
    "BaseConnDict = json.dumps(ConnNodeDict)\n",
    "BaseTermDict = json.dumps(TerminalsDict)\n",
    "\n",
    "# Process Switch Topology - run at each switch change - merges topology nodes across closed switches\n",
    "\n",
    "[TerminalsDict,ConnNodeDict]=update_topology.topology_update(BaseConnDict,BaseTermDict,SwitchDict,SwitchKeys,TermList)\n",
    "\n",
    "# Build Spanning Tree from Xfmrs & DGs\n",
    "\n",
    "[Tree,TotalNodes]=spanning_tree.generate_spanning_tree(XfmrKeys,XfmrDict,ConnNodeDict,TerminalsDict,TermList,NodeList,DG_query)"
   ]
  },
  {
   "cell_type": "code",
   "execution_count": null,
   "id": "bea8c629",
   "metadata": {},
   "outputs": [],
   "source": []
  }
 ],
 "metadata": {
  "kernelspec": {
   "display_name": "Python 3 (ipykernel)",
   "language": "python",
   "name": "python3"
  },
  "language_info": {
   "codemirror_mode": {
    "name": "ipython",
    "version": 3
   },
   "file_extension": ".py",
   "mimetype": "text/x-python",
   "name": "python",
   "nbconvert_exporter": "python",
   "pygments_lexer": "ipython3",
   "version": "3.8.5"
  }
 },
 "nbformat": 4,
 "nbformat_minor": 5
}
