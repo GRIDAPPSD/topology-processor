{
 "cells": [
  {
   "cell_type": "code",
   "execution_count": 1,
   "id": "cb2ce27a",
   "metadata": {},
   "outputs": [],
   "source": [
    "import argparse\n",
    "from datetime import datetime\n",
    "import json\n",
    "import logging\n",
    "import os\n",
    "import math\n",
    "import sys\n",
    "import time\n",
    "import topo_meas_queries, process_network, linknet, update_topology\n",
    "\n",
    "from gridappsd import GridAPPSD, DifferenceBuilder, utils, topics as t\n",
    "from gridappsd.topics import simulation_input_topic, simulation_log_topic, simulation_output_topic\n",
    "\n",
    "\n",
    "#model_mrid = sim_request[\"power_system_config\"][\"Line_name\"]\n",
    "#model_mrid = \"_C125761E-9C21-4CA9-9271-B168150DE276\" #ieee13training\n",
    "#model_mrid = \"_EE71F6C9-56F0-4167-A14E-7F4C71F10EAA\" #final9500node\n",
    "#model_mrid = \"_AAE94E4A-2465-6F5E-37B1-3E72183A4E44\" #test9500\n",
    "#model_mrid = \"_5B816B93-7A5F-B64C-8460-47C17D6E4B0F\" #ieee13assets\n",
    "#model_mrid=\"_C1C3E687-6FFD-C753-582B-632A27E28507\" # IEEE 123\n",
    "model_mrid=\"_49AD8E07-3BF9-A4E2-CB8F-C3722F837B62\"\n",
    "\n",
    "requestedTime=1570041125\n",
    "\n",
    "\n",
    "os.environ['GRIDAPPSD_USER'] = 'app_user'\n",
    "os.environ['GRIDAPPSD_PASSWORD'] = '1234App'\n",
    "\n",
    "gapps = GridAPPSD()\n",
    "assert gapps.connected"
   ]
  },
  {
   "cell_type": "code",
   "execution_count": 2,
   "id": "aaae3d82",
   "metadata": {},
   "outputs": [
    {
     "name": "stdout",
     "output_type": "stream",
     "text": [
      "Processed  22 ConnectivyNode objects in  0.0002541099999999741 seconds\n",
      "Processed  183 Measurement objects in  0.0003913629999999779 seconds\n",
      "Processed  11 ACLineSegment objects in  0.0031926569999999876 seconds\n",
      "Processed  14 Transformer objects in  0.005793431999999987 seconds\n",
      "Processed  5 Switch objects in  0.008275089000000013 seconds\n"
     ]
    }
   ],
   "source": [
    "[ConnNodeDict, EquipDict] = process_network.build_equip_dicts(gapps, model_mrid)"
   ]
  },
  {
   "cell_type": "code",
   "execution_count": 3,
   "id": "41ed0463",
   "metadata": {},
   "outputs": [
    {
     "name": "stdout",
     "output_type": "stream",
     "text": [
      "Processed  11 ACLineSegment objects in  4.889000000002364e-05 seconds\n",
      "Processed  2 PowerTransformer objects in  1.5344000000028224e-05 seconds\n",
      "Processed  4 TransformerTank objects in  2.7242000000038402e-05 seconds\n",
      "Processed  0 SynchronousMachine objects in  1.212000000000435e-05 seconds\n",
      "Processed  1 missing nodes in  2.400899999999151e-05 seconds\n"
     ]
    }
   ],
   "source": [
    "EqTypes = ['ACLineSegment', 'PowerTransformer', 'TransformerTank', 'SynchronousMachine']\n",
    "[ConnNodeDict, TerminalsDict, NodeList, TermList] = linknet.build_linknet_lists(ConnNodeDict, EquipDict, EqTypes)"
   ]
  },
  {
   "cell_type": "code",
   "execution_count": 4,
   "id": "ce15ee06",
   "metadata": {},
   "outputs": [],
   "source": [
    "BaseConnDict = json.dumps(ConnNodeDict)\n",
    "BaseTermDict = json.dumps(TerminalsDict)"
   ]
  },
  {
   "cell_type": "code",
   "execution_count": null,
   "id": "87810205",
   "metadata": {},
   "outputs": [],
   "source": [
    "import time,json\n",
    "\n",
    "\n",
    "\n",
    "SwitchKeys = list(EquipDict['Breaker'].keys()) + list(EquipDict['Fuse'].keys()) + list(EquipDict['LoadBreakSwitch'].keys()) + list(EquipDict['Recloser'].keys())\n",
    "SwitchDict = {}\n",
    "SwitchDict.update(EquipDict['Breaker'])\n",
    "SwitchDict.update(EquipDict['Fuse'])\n",
    "SwitchDict.update(EquipDict['LoadBreakSwitch'])\n",
    "SwitchDict.update(EquipDict['Recloser'])\n",
    "\n",
    "ConnNodeDict = json.loads(BaseConnDict)\n",
    "TerminalsDict = json.loads(BaseTermDict)\n",
    "\n",
    "StartTime = time.process_time()\n",
    "\n",
    "for i5 in range(len(SwitchKeys)):\n",
    "\n",
    "    node1=SwitchDict[SwitchKeys[i5]]['node1']\n",
    "    node2=SwitchDict[SwitchKeys[i5]]['node2']\n",
    "\n",
    "\n",
    "    # If switch closed, merge nodes\n",
    "    if SwitchDict[SwitchKeys[i5]]['open'] == 1:\n",
    "        # Merge topology Nodes\n",
    "        #ConnNodeDict[node1]['TopologicalNode'] = tpnode1\n",
    "        ConnNodeDict[node2]['TopologicalNode'] = ConnNodeDict[node1]['TopologicalNode'] #tpnode1\n",
    "        #TopoNodeDict[tpnode1] = [node1, node2] # not implemented\n",
    "        #TopoNodeDict[tpnode2] = [node2, node1]\n",
    "\n",
    "        # Update Linked Lists\n",
    "        if ConnNodeDict[node2]['list'] > ConnNodeDict[node1]['list']:\n",
    "            term2 = TermList[ConnNodeDict[node2]['list']-1]\n",
    "            next2 = TerminalsDict[term2]['next']\n",
    "            while next2 != 0:\n",
    "                term2 = TermList[next2-1]\n",
    "                next2 = TerminalsDict[term2]['next']\n",
    "            TerminalsDict[term2]['next'] = ConnNodeDict[node1]['list']\n",
    "            ConnNodeDict[node1]['list'] = ConnNodeDict[node2]['list']\n",
    "        else:\n",
    "            term1 = TermList[ConnNodeDict[node1]['list']-1]\n",
    "            next1 = TerminalsDict[term1]['next']\n",
    "            while next1 != 0:\n",
    "                term1 = TermList[next1-1]\n",
    "                next1 = TerminalsDict[term1]['next']\n",
    "            TerminalsDict[term1]['next'] = ConnNodeDict[node2]['list']\n",
    "            ConnNodeDict[node2]['list'] = ConnNodeDict[node1]['list']\n",
    "\n",
    "print(\"Processed \", i5+1, \"switch objects in \", time.process_time() - StartTime, \"seconds\")\n",
    "\n"
   ]
  },
  {
   "cell_type": "code",
   "execution_count": null,
   "id": "6e0a7335",
   "metadata": {},
   "outputs": [],
   "source": [
    "[TerminalsDict, ConnNodeDict]=update_topology.topology_update(BaseConnDict,BaseTermDict,NodeList, TermList, EquipDict)"
   ]
  },
  {
   "cell_type": "code",
   "execution_count": null,
   "id": "2504f65a",
   "metadata": {},
   "outputs": [],
   "source": [
    "SubstationRoots = []\n",
    "XfmrKeys = list(EquipDict['PowerTransformer'])\n",
    "# Iterate through all substation transformers\n",
    "for i6 in range(len(XfmrKeys)):\n",
    "    # Identify if distribution substation transformer\n",
    "    if ((int(EquipDict['PowerTransformer'][XfmrKeys[i6]]['volt1']) >= 34000 and 34000 >= int(EquipDict['PowerTransformer'][XfmrKeys[i6]]['volt2']) > 1000) or \n",
    "        (int(EquipDict['PowerTransformer'][XfmrKeys[i6]]['volt2']) >= 34000 and 34000 >= int(EquipDict['PowerTransformer'][XfmrKeys[i6]]['volt1']) > 1000)):\n",
    "        #SubstationRoots.append(EquipDict['PowerTransformer'][XfmrKeys[i6]]['node2'])\n",
    "        SubstationRoots.append(XfmrKeys[i6])\n",
    "        "
   ]
  },
  {
   "cell_type": "code",
   "execution_count": null,
   "id": "1bec0dbb",
   "metadata": {},
   "outputs": [],
   "source": [
    "[SubTree, ConnNodeDict] = spanning_tree(ConnNodeDict, TerminalsDict, NodeList,  SubstationRoots, 'single')"
   ]
  },
  {
   "cell_type": "code",
   "execution_count": null,
   "id": "532ea6fe",
   "metadata": {},
   "outputs": [],
   "source": [
    "#def spanning_tree(ConnNodeDict, TerminalsDict, NodeList, RootNodes, Scope):\n",
    "Scope = 'all'\n",
    "RootNodes = SubstationRoots\n",
    "eqtype = 'PowerTransformer'\n",
    "    # Roots is list of ConnectivityNodes to be used as root nodes\n",
    "# Terminals\n",
    "Tree={}\n",
    "#ProcessedNodes=[]\n",
    "TotalNodes=0\n",
    "StartTime = time.process_time()\n",
    "\n",
    "# Iterate through all substation transformers\n",
    "for i6 in range(len(RootNodes)):\n",
    "\n",
    "    FirstNode = 1 \n",
    "    LastNode = 2\n",
    "    #Tree[RootNodes[i6]] = [RootNodes[i6]]\n",
    "    # Set switch as rootnode \n",
    "    #if 'node2' not in EquipDict[eqtype][RootNodes[i6]]: # Check if 1-terminal object\n",
    "    #    Tree[RootNodes[i6]]=[EquipDict[eqtype][RootNodes[i6]]['node1']]\n",
    "    #else: # Then 2-terminal object\n",
    "    Tree[RootNodes[i6]]=[EquipDict[eqtype][RootNodes[i6]]['node1'], EquipDict[eqtype][RootNodes[i6]]['node2']]\n",
    "\n",
    "    while LastNode != FirstNode:\n",
    "        NextTerm = ConnNodeDict[Tree[RootNodes[i6]][FirstNode]]['list']\n",
    "        FirstNode = FirstNode + 1\n",
    "        while NextTerm != 0:\n",
    "            # Get next node and terminal for current node\n",
    "            NextNode = TerminalsDict[TermList[NextTerm-1]]['far']\n",
    "            NextTerm = TerminalsDict[TermList[NextTerm-1]]['next']\n",
    "            node = NodeList[NextNode-1]\n",
    "            not_in_tree = True\n",
    "\n",
    "            if Scope == 'all': \n",
    "                for i7 in range(len(Tree.keys())):\n",
    "                    if node in Tree[RootNodes[i7]]:\n",
    "                        not_in_tree = False\n",
    "                        break\n",
    "            else: \n",
    "                if NodeList[NextNode-1] in Tree[RootNodes[i6]]: \n",
    "                    not_in_tree = False# Check if node already in all other tree\n",
    "\n",
    "\n",
    "            # Add node if not in another tree        \n",
    "            if not_in_tree:       \n",
    "                if ConnNodeDict[node]['nominalVoltage']:\n",
    "                    if int(ConnNodeDict[node]['nominalVoltage']) < 34000: #and int(ConnNodeDict[node]['nominalVoltage']) > 1000:\n",
    "                        Tree[RootNodes[i6]].append(NodeList[NextNode-1])\n",
    "                        LastNode = LastNode + 1                       \n",
    "                else:\n",
    "                    Tree[RootNodes[i6]].append(NodeList[NextNode-1])\n",
    "                    LastNode = LastNode + 1\n",
    "\n",
    "    NodesInTree=len(Tree[RootNodes[i6]])\n",
    "\n",
    "\n",
    "    print(\"Processed topology from  \", RootNodes[i6], ' with ', NodesInTree, \" buses\")\n",
    "\n",
    "    #print(\"Processed topology from  \", EquipDict[RootNodes[i6]]['name'], \" with id \", RootNodes[i6], ' with ', NodesInTree, \" buses\")\n",
    "    TotalNodes=TotalNodes+NodesInTree\n",
    "\n",
    "print(\"Processed \", len(Tree.keys()), \"topology trees containing \", TotalNodes, \" buses in \", time.process_time() - StartTime, \"seconds\")\n",
    "\n",
    "    #return Tree, ConnNodeDict"
   ]
  },
  {
   "cell_type": "code",
   "execution_count": null,
   "id": "076c9e07",
   "metadata": {},
   "outputs": [],
   "source": [
    "Tree['_95DBCED6-E99E-4BB1-9229-899FB890050C']"
   ]
  },
  {
   "cell_type": "code",
   "execution_count": null,
   "id": "f2dc99a2",
   "metadata": {},
   "outputs": [],
   "source": []
  },
  {
   "cell_type": "code",
   "execution_count": null,
   "id": "a3d3b4cd",
   "metadata": {},
   "outputs": [],
   "source": []
  },
  {
   "cell_type": "code",
   "execution_count": null,
   "id": "a5c2e8e7",
   "metadata": {},
   "outputs": [],
   "source": []
  },
  {
   "cell_type": "code",
   "execution_count": null,
   "id": "41271758",
   "metadata": {},
   "outputs": [],
   "source": [
    "for i1 in range(1000):\n",
    "    print(ConnNodeDict[Tree['_95DBCED6-E99E-4BB1-9229-899FB890050C'][i1]]['name'])"
   ]
  },
  {
   "cell_type": "code",
   "execution_count": null,
   "id": "02063c33",
   "metadata": {},
   "outputs": [],
   "source": []
  },
  {
   "cell_type": "code",
   "execution_count": null,
   "id": "a193c749",
   "metadata": {},
   "outputs": [],
   "source": [
    "TerminalsDict[TermList[4587]]"
   ]
  },
  {
   "cell_type": "code",
   "execution_count": null,
   "id": "35260c58",
   "metadata": {},
   "outputs": [],
   "source": [
    "TerminalsDict[TermList[2082]]"
   ]
  },
  {
   "cell_type": "code",
   "execution_count": null,
   "id": "c5e95bbf",
   "metadata": {},
   "outputs": [],
   "source": [
    "NodeList[NextNode-1]\n"
   ]
  },
  {
   "cell_type": "code",
   "execution_count": null,
   "id": "ba726635",
   "metadata": {},
   "outputs": [],
   "source": [
    "ConnNodeDict['_E118EFA9-CF00-4DC5-9D6C-5D7486C0F7E5']"
   ]
  },
  {
   "cell_type": "code",
   "execution_count": null,
   "id": "50461349",
   "metadata": {},
   "outputs": [],
   "source": [
    "ConnNodeDict['_0215D314-3A95-41D5-9071-DB8B7815850F']"
   ]
  },
  {
   "cell_type": "code",
   "execution_count": null,
   "id": "d0539f2e",
   "metadata": {},
   "outputs": [],
   "source": [
    "[ConnNodeDict[node2]['list']-1]"
   ]
  },
  {
   "cell_type": "code",
   "execution_count": null,
   "id": "67aa2809",
   "metadata": {},
   "outputs": [],
   "source": [
    "ConnNodeDict[node2]"
   ]
  },
  {
   "cell_type": "code",
   "execution_count": null,
   "id": "81b995fb",
   "metadata": {},
   "outputs": [],
   "source": [
    "NodeQuery[0]"
   ]
  },
  {
   "cell_type": "code",
   "execution_count": null,
   "id": "d5631148",
   "metadata": {},
   "outputs": [],
   "source": [
    "AllNodes = list(ConnNodeDict.keys())\n",
    "MissingNodes = list(set(AllNodes).difference(NodeList))"
   ]
  },
  {
   "cell_type": "code",
   "execution_count": null,
   "id": "8f8e23d3",
   "metadata": {},
   "outputs": [],
   "source": [
    "ConnNodeDict[MissingNodes[0]]"
   ]
  },
  {
   "cell_type": "code",
   "execution_count": null,
   "id": "a7c260a3",
   "metadata": {},
   "outputs": [],
   "source": [
    "ConnNodeDict[TerminalsDict[TermList[10432]]['ConnectivityNode']]"
   ]
  },
  {
   "cell_type": "code",
   "execution_count": null,
   "id": "31ac0aaa",
   "metadata": {},
   "outputs": [],
   "source": [
    "import spanning_tree_old\n",
    "import topologyqueries\n",
    "XfmrDict = {}\n",
    "XfmrDict.update(EquipDict['PowerTransformer'])\n",
    "XfmrDict.update(EquipDict['TransformerTank'])\n",
    "DG_query=topologyqueries.DGQuery(gapps, model_mrid)\n",
    "[Tree,TotalNodes]=spanning_tree_old.generate_spanning_tree(XfmrKeys,XfmrDict,ConnNodeDict,TerminalsDict,TermList,NodeList,DG_query)\n"
   ]
  },
  {
   "cell_type": "code",
   "execution_count": null,
   "id": "331ef03a",
   "metadata": {},
   "outputs": [],
   "source": [
    "EquipDict['RatioTapChanger']"
   ]
  },
  {
   "cell_type": "code",
   "execution_count": null,
   "id": "2a95e56f",
   "metadata": {},
   "outputs": [],
   "source": [
    "EquipDict['TransformerTank']"
   ]
  },
  {
   "cell_type": "code",
   "execution_count": null,
   "id": "1083ccff",
   "metadata": {},
   "outputs": [],
   "source": [
    "SwitchDict"
   ]
  }
 ],
 "metadata": {
  "kernelspec": {
   "display_name": "Python 3 (ipykernel)",
   "language": "python",
   "name": "python3"
  },
  "language_info": {
   "codemirror_mode": {
    "name": "ipython",
    "version": 3
   },
   "file_extension": ".py",
   "mimetype": "text/x-python",
   "name": "python",
   "nbconvert_exporter": "python",
   "pygments_lexer": "ipython3",
   "version": "3.8.5"
  }
 },
 "nbformat": 4,
 "nbformat_minor": 5
}
