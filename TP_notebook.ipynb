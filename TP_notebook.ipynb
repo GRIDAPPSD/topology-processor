{
 "cells": [
  {
   "cell_type": "code",
   "execution_count": 1,
   "id": "7c025c65",
   "metadata": {},
   "outputs": [],
   "source": [
    "import time, json"
   ]
  },
  {
   "cell_type": "code",
   "execution_count": 2,
   "id": "0b2eb167",
   "metadata": {},
   "outputs": [],
   "source": [
    "# Establish connection to GridAPPS-D Platform:\n",
    "from gridappsd import GridAPPSD\n",
    "\n",
    "\n",
    "# Set environment variables - when developing, put environment variable in ~/.bashrc file or export in command line\n",
    "# export GRIDAPPSD_USER=system\n",
    "# export GRIDAPPSD_PASSWORD=manager\n",
    "\n",
    "import os # Set username and password\n",
    "os.environ['GRIDAPPSD_USER'] = 'tutorial_user'\n",
    "os.environ['GRIDAPPSD_PASSWORD'] = '12345!'\n",
    "\n",
    "# Connect to GridAPPS-D Platform\n",
    "gapps = GridAPPSD()\n",
    "assert gapps.connected"
   ]
  },
  {
   "cell_type": "code",
   "execution_count": null,
   "id": "66d07703",
   "metadata": {},
   "outputs": [],
   "source": []
  },
  {
   "cell_type": "markdown",
   "id": "d128c6e1",
   "metadata": {},
   "source": [
    "## Run all model queries - convert to run_queries.py"
   ]
  },
  {
   "cell_type": "markdown",
   "id": "687d0e80",
   "metadata": {},
   "source": [
    "### Query for ACLineSegment"
   ]
  },
  {
   "cell_type": "code",
   "execution_count": 3,
   "id": "9d9376d1",
   "metadata": {},
   "outputs": [],
   "source": [
    "#model_mrid = \"_C125761E-9C21-4CA9-9271-B168150DE276\" #ieee13training\n",
    "model_mrid = \"_EE71F6C9-56F0-4167-A14E-7F4C71F10EAA\" #final9500node\n",
    "#model_mrid = \"_5B816B93-7A5F-B64C-8460-47C17D6E4B0F\" #ieee13assets"
   ]
  },
  {
   "cell_type": "code",
   "execution_count": 4,
   "id": "673b5243",
   "metadata": {},
   "outputs": [],
   "source": [
    "QueryLines=\"\"\"\n",
    "    PREFIX r:  <http://www.w3.org/1999/02/22-rdf-syntax-ns#>\n",
    "    PREFIX c:  <http://iec.ch/TC57/CIM100#>\n",
    "    SELECT ?name ?bus1 ?bus2 ?id ?tname1 ?term1 ?tname2 ?term2 ?node1 ?node2 ?tpnode1 ?tpnode2 (group_concat(distinct ?phs;separator=\"\") as ?phases) WHERE {\n",
    "    SELECT ?name ?bus1 ?bus2 ?phs ?id ?tname1 ?term1 ?tname2 ?term2 ?node1 ?node2 ?tpnode1 ?tpnode2 WHERE {\n",
    "    VALUES ?fdrid {\"%s\"}  \n",
    "    ?fdr c:IdentifiedObject.mRID ?fdrid.\n",
    "    ?s r:type c:ACLineSegment.\n",
    "    ?s c:Equipment.EquipmentContainer ?fdr.\n",
    "    ?s c:IdentifiedObject.name ?name.\n",
    "    ?s c:IdentifiedObject.mRID ?id.\n",
    "    ?t1 c:Terminal.ConductingEquipment ?s.\n",
    "    ?t1 c:ACDCTerminal.sequenceNumber \"1\".\n",
    "    ?t1 c:Terminal.ConnectivityNode ?cn1. \n",
    "    ?t1 c:IdentifiedObject.name ?tname1.\n",
    "    ?cn1 c:IdentifiedObject.name ?bus1.\n",
    "    ?cn1 c:ConnectivityNode.TopologicalNode ?tp1.\n",
    "    ?t2 c:Terminal.ConductingEquipment ?s.\n",
    "    ?t2 c:ACDCTerminal.sequenceNumber \"2\".\n",
    "    ?t2 c:Terminal.ConnectivityNode ?cn2. \n",
    "    ?t2 c:IdentifiedObject.name ?tname2.\n",
    "    ?cn2 c:ConnectivityNode.TopologicalNode ?tp2.\n",
    "    ?cn2 c:IdentifiedObject.name ?bus2.\n",
    "\n",
    "    bind(strafter(str(?t),\"#\") as ?tid).\n",
    "        bind(strafter(str(?t1), \"#\") as ?term1) \n",
    "        bind(strafter(str(?t2), \"#\") as ?term2)\n",
    "        bind(strafter(str(?cn1), \"#\") as ?node1)\n",
    "        bind(strafter(str(?cn2), \"#\") as ?node2)\n",
    "        bind(strafter(str(?tp1), \"#\") as ?tpnode1)\n",
    "        bind(strafter(str(?tp2), \"#\") as ?tpnode2)\n",
    "            OPTIONAL {?acp c:ACLineSegmentPhase.ACLineSegment ?s.\n",
    "            ?acp c:ACLineSegmentPhase.phase ?phsraw.\n",
    "            bind(strafter(str(?phsraw),\"SinglePhaseKind.\") as ?phs) }\n",
    "    \n",
    "    } ORDER BY ?name ?phs\n",
    "    }\n",
    "    GROUP BY ?name ?bus1 ?bus2 ?id ?tname1 ?term1 ?tname2 ?term2 ?node1 ?node2 ?tpnode1 ?tpnode2\n",
    "    ORDER BY ?name\n",
    "    \"\"\"%model_mrid"
   ]
  },
  {
   "cell_type": "code",
   "execution_count": 5,
   "id": "d67dc0b6",
   "metadata": {},
   "outputs": [],
   "source": [
    "results = gapps.query_data(query = QueryLines, timeout = 60)\n",
    "Line_query = results['data']['results']['bindings']"
   ]
  },
  {
   "cell_type": "markdown",
   "id": "afac62f8",
   "metadata": {},
   "source": [
    "### Query for TransformerEnd"
   ]
  },
  {
   "cell_type": "code",
   "execution_count": 6,
   "id": "f508c802",
   "metadata": {},
   "outputs": [],
   "source": [
    "QueryXfmrs=\"\"\"\n",
    "# list all the terminals connected to a TransformerEnd for CIMWriter\n",
    "PREFIX r:  <http://www.w3.org/1999/02/22-rdf-syntax-ns#>\n",
    "PREFIX c:  <http://iec.ch/TC57/CIM100#>\n",
    "SELECT ?endclass ?eqid ?endid ?tname ?tid ?bus ?cnid ?tpid ?seq ?phs ?ratedu WHERE {\n",
    " VALUES ?fdrid {\"%s\"} \n",
    " ?fdr c:IdentifiedObject.mRID ?fdrid.\n",
    " {?pxf c:Equipment.EquipmentContainer ?fdr.\n",
    "  ?end c:PowerTransformerEnd.PowerTransformer ?pxf.\n",
    "  ?end c:PowerTransformerEnd.ratedU ?ratedu.\n",
    "  ?pxf c:IdentifiedObject.mRID ?eqid.\n",
    "}\n",
    "  UNION\n",
    " {?tank c:Equipment.EquipmentContainer ?fdr.\n",
    "  ?end c:TransformerTankEnd.TransformerTank ?tank.\n",
    "  ?tank c:IdentifiedObject.mRID ?eqid.\n",
    "  ?end c:TransformerTankEnd.phases ?ph.\n",
    " }\n",
    " ?end c:TransformerEnd.Terminal ?t.\n",
    "\n",
    " ?t c:Terminal.ConnectivityNode ?cn. \n",
    " ?t c:IdentifiedObject.name ?tname.\n",
    "  \n",
    " ?cn c:ConnectivityNode.TopologicalNode ?tp.\n",
    " ?cn c:IdentifiedObject.name ?bus.\n",
    " ?t c:ACDCTerminal.sequenceNumber ?seq.\n",
    " bind(strafter(str(?end),\"#\") as ?endid).\n",
    " bind(strafter(str(?t),\"#\") as ?tid).\n",
    " bind(strafter(str(?cn),\"#\") as ?cnid).\n",
    " bind(strafter(str(?tp),\"#\") as ?tpid).\n",
    " bind(strafter(str(?ph),\"e.\") as ?phs).\n",
    " ?end a ?classraw.\n",
    " bind(strafter(str(?classraw),\"CIM100#\") as ?endclass)\n",
    "}\n",
    "ORDER by ?endclass ?eqid ?tname ?endid ?bus ?cnid ?tpid ?seq ?phs ?ratedu\n",
    "\"\"\"%model_mrid"
   ]
  },
  {
   "cell_type": "code",
   "execution_count": 7,
   "id": "86cc920c",
   "metadata": {},
   "outputs": [],
   "source": [
    "results = gapps.query_data(query = QueryXfmrs, timeout = 60)\n",
    "Xfmr_query = results['data']['results']['bindings']"
   ]
  },
  {
   "cell_type": "markdown",
   "id": "1d2b7283",
   "metadata": {},
   "source": [
    "### Query for Switches, Breakers, Reclosers, Fuses, Sectionalisers"
   ]
  },
  {
   "cell_type": "code",
   "execution_count": 8,
   "id": "2d500a5c",
   "metadata": {},
   "outputs": [],
   "source": [
    "QuerySwitches=\"\"\"\n",
    "# list nodes for Breakers, Reclosers, LoadBreakSwitches, Fuses, Sectionalisers in a selected feeder\n",
    "PREFIX r:  <http://www.w3.org/1999/02/22-rdf-syntax-ns#>\n",
    "PREFIX c:  <http://iec.ch/TC57/CIM100#>\n",
    "SELECT ?cimtype ?name ?id ?bus1 ?bus2 ?term1 ?term2 ?node1 ?node2 ?tpnode1 ?tpnode2 ?open (group_concat(distinct ?phs;separator=\"\") as ?phases) WHERE {\n",
    "  SELECT ?cimtype ?name ?id ?bus1 ?bus2 ?term1 ?term2 ?node1 ?node2 ?tpnode1 ?tpnode2 ?phs ?open WHERE {\n",
    " VALUES ?fdrid {\"%s\"}  # 13 bus\n",
    " VALUES ?cimraw {c:LoadBreakSwitch c:Recloser c:Breaker c:Fuse c:Sectionaliser}\n",
    " ?fdr c:IdentifiedObject.mRID ?fdrid.\n",
    " ?s r:type ?cimraw.\n",
    "  bind(strafter(str(?cimraw),\"#\") as ?cimtype)\n",
    " ?s c:Equipment.EquipmentContainer ?fdr.\n",
    " ?s c:IdentifiedObject.name ?name.\n",
    " ?s c:IdentifiedObject.mRID ?id.\n",
    " ?s c:Switch.normalOpen ?open.\n",
    " ?t1 c:Terminal.ConductingEquipment ?s.\n",
    " ?t1 c:ACDCTerminal.sequenceNumber \"1\".\n",
    " ?t1 c:Terminal.ConnectivityNode ?cn1. \n",
    " ?cn1 c:ConnectivityNode.TopologicalNode ?tp1.\n",
    " ?cn1 c:IdentifiedObject.name ?bus1.\n",
    " ?t2 c:Terminal.ConductingEquipment ?s.\n",
    " ?t2 c:ACDCTerminal.sequenceNumber \"2\".\n",
    " ?t2 c:Terminal.ConnectivityNode ?cn2. \n",
    " ?cn2 c:ConnectivityNode.TopologicalNode ?tp2.\n",
    " ?cn2 c:IdentifiedObject.name ?bus2\n",
    "    OPTIONAL {?swp c:SwitchPhase.Switch ?s.\n",
    "    ?swp c:SwitchPhase.phaseSide1 ?phsraw.\n",
    "    bind(strafter(str(?phsraw),\"SinglePhaseKind.\") as ?phs) }\n",
    "    bind(strafter(str(?t1), \"#\") as ?term1) \n",
    "    bind(strafter(str(?t2), \"#\") as ?term2)\n",
    "    bind(strafter(str(?cn1), \"#\") as ?node1)\n",
    "    bind(strafter(str(?cn2), \"#\") as ?node2)\n",
    "    bind(strafter(str(?tp1), \"#\") as ?tpnode1)\n",
    "    bind(strafter(str(?tp2), \"#\") as ?tpnode2)\n",
    " } ORDER BY ?name ?phs\n",
    "}\n",
    "GROUP BY ?cimtype ?name ?id ?bus1 ?bus2 ?term1 ?term2 ?node1 ?node2 ?tpnode1 ?tpnode2 ?open\n",
    "ORDER BY ?cimtype ?name\n",
    "\"\"\"%model_mrid"
   ]
  },
  {
   "cell_type": "code",
   "execution_count": 9,
   "id": "a9bc889c",
   "metadata": {},
   "outputs": [],
   "source": [
    "results = gapps.query_data(query = QuerySwitches, timeout = 60)\n",
    "Switch_query = results['data']['results']['bindings']"
   ]
  },
  {
   "cell_type": "markdown",
   "id": "acbf05af",
   "metadata": {},
   "source": [
    "### Query for SynchronousMachine"
   ]
  },
  {
   "cell_type": "code",
   "execution_count": 10,
   "id": "80a508b0",
   "metadata": {},
   "outputs": [],
   "source": [
    "QueryDGs=\"\"\"\n",
    "# SynchronousMachine - DistSyncMachine\n",
    "# SynchronousMachine - DistSyncMachine\n",
    "PREFIX r:  <http://www.w3.org/1999/02/22-rdf-syntax-ns#>\n",
    "PREFIX c:  <http://iec.ch/TC57/CIM100#>\n",
    "SELECT ?name ?eqid ?term ?bus ?node ?tpid WHERE {\n",
    "   VALUES ?fdrid {\"%s\"}  # 123 bus with PV\n",
    " ?s r:type c:SynchronousMachine.\n",
    " ?s c:IdentifiedObject.name ?name.\n",
    " ?s c:Equipment.EquipmentContainer ?fdr.\n",
    " ?fdr c:IdentifiedObject.mRID ?fdrid. \n",
    " bind(strafter(str(?s),\"#_\") as ?eqid).\n",
    " OPTIONAL {?smp c:SynchronousMachinePhase.SynchronousMachine ?s.\n",
    " ?smp c:SynchronousMachinePhase.phase ?phsraw.\n",
    "   bind(strafter(str(?phsraw),\"SinglePhaseKind.\") as ?phs) }\n",
    " ?t c:Terminal.ConductingEquipment ?s.\n",
    " ?t c:Terminal.ConnectivityNode ?cn. \n",
    " ?cn c:ConnectivityNode.TopologicalNode ?tp.\n",
    " ?cn c:IdentifiedObject.name ?bus\n",
    " bind(strafter(str(?cn),\"#\") as ?node).\n",
    " bind(strafter(str(?s),\"#\") as ?term).\n",
    " bind(strafter(str(?tp),\"#\") as ?tpid)\n",
    "}\n",
    "GROUP by ?name ?eqid ?term ?bus ?node ?tpid\n",
    "ORDER by ?name\n",
    "\"\"\"%model_mrid"
   ]
  },
  {
   "cell_type": "code",
   "execution_count": 11,
   "id": "a1697291",
   "metadata": {},
   "outputs": [],
   "source": [
    "results = gapps.query_data(query = QueryDGs, timeout = 60)\n",
    "DG_query = results['data']['results']['bindings']"
   ]
  },
  {
   "cell_type": "markdown",
   "id": "2037f7cb",
   "metadata": {},
   "source": [
    "### Query for TopologicalNode"
   ]
  },
  {
   "cell_type": "code",
   "execution_count": 12,
   "id": "4c3433a5",
   "metadata": {},
   "outputs": [],
   "source": [
    "QueryNodes=\"\"\"\n",
    "# list all the connectivity node, topology node, base voltages\n",
    "PREFIX r:  <http://www.w3.org/1999/02/22-rdf-syntax-ns#>\n",
    "PREFIX c:  <http://iec.ch/TC57/CIM100#>\n",
    "SELECT DISTINCT ?busname ?cnid ?tpnid ?nomv WHERE {\n",
    "VALUES ?fdrid {\"%s\"}  # 13 bus\n",
    " ?fdr c:IdentifiedObject.mRID ?fdrid.\n",
    " ?bus c:ConnectivityNode.ConnectivityNodeContainer ?fdr.\n",
    " ?bus c:ConnectivityNode.TopologicalNode ?tp.\n",
    " ?bus r:type c:ConnectivityNode.\n",
    " ?bus c:IdentifiedObject.name ?busname.\n",
    " ?bus c:IdentifiedObject.mRID ?cnid.\n",
    " ?fdr c:IdentifiedObject.name ?feeder.\n",
    " ?trm c:Terminal.ConnectivityNode ?bus.\n",
    " ?trm c:Terminal.ConductingEquipment ?ce.\n",
    " ?ce  c:ConductingEquipment.BaseVoltage ?bv.\n",
    " ?bv  c:BaseVoltage.nominalVoltage ?nomv.\n",
    " bind(strafter(str(?tp), str(\"http://localhost:8889/bigdata/namespace/kb/sparql#\")) as ?tpnid)\n",
    "}\n",
    "ORDER by ?busname ?tpnid ?nomv\n",
    "\"\"\"%model_mrid"
   ]
  },
  {
   "cell_type": "code",
   "execution_count": 13,
   "id": "8bdf112e",
   "metadata": {},
   "outputs": [],
   "source": [
    "results = gapps.query_data(query = QueryNodes, timeout = 60)\n",
    "Node_query = results['data']['results']['bindings']"
   ]
  },
  {
   "cell_type": "markdown",
   "id": "4e149fcd",
   "metadata": {},
   "source": [
    "## Build Linknet Lists - convert to linknet.py"
   ]
  },
  {
   "cell_type": "markdown",
   "id": "6af0f034",
   "metadata": {},
   "source": [
    "### Build list of ACLineSegment"
   ]
  },
  {
   "cell_type": "code",
   "execution_count": 14,
   "id": "8139ce48",
   "metadata": {},
   "outputs": [
    {
     "name": "stdout",
     "output_type": "stream",
     "text": [
      "Processed  3908 line objects in  0.025511381000000055 seconds\n"
     ]
    }
   ],
   "source": [
    "index=0\n",
    "ConnNodeDict = {}\n",
    "TerminalsDict = {}\n",
    "NodeList = []\n",
    "TermList = []\n",
    "StartTime = time.process_time()\n",
    "\n",
    "for i1 in range(len(Line_query)):\n",
    "    name=Line_query[i1]['name']['value']\n",
    "    bus1=Line_query[i1]['bus1']['value']\n",
    "    bus2=Line_query[i1]['bus2']['value']\n",
    "    id_line=Line_query[i1]['id']['value']\n",
    "    tname1=Line_query[i1]['tname1']['value']\n",
    "    tname2=Line_query[i1]['tname2']['value']\n",
    "    term1=Line_query[i1]['term1']['value']\n",
    "    term2=Line_query[i1]['term2']['value']\n",
    "    node1=Line_query[i1]['node1']['value']\n",
    "    node2=Line_query[i1]['node2']['value']\n",
    "    phases=Line_query[i1]['phases']['value']\n",
    "    tpnode1=Line_query[i1]['tpnode1']['value']\n",
    "    tpnode2=Line_query[i1]['tpnode2']['value']\n",
    "    \n",
    "    # Create keys for new terminals\n",
    "    TerminalsDict[term1] = {}\n",
    "    TerminalsDict[term2] = {}\n",
    "    TerminalsDict[term1]['term'] = 2*i1+1\n",
    "    TerminalsDict[term2]['term'] = 2*i1+2\n",
    "    TermList.append(term1)\n",
    "    TermList.append(term2)\n",
    "    #TerminalsDict[term1]['phases'] = phases\n",
    "    #TerminalsDict[term2]['phases'] = phases\n",
    "    \n",
    "    # If node1 or node2 not in dict, create new keys\n",
    "    if not node1 in ConnNodeDict.keys():\n",
    "        ConnNodeDict[node1] = {}\n",
    "        ConnNodeDict[node1]['name'] = bus1\n",
    "        ConnNodeDict[node1]['node'] = index+1\n",
    "        ConnNodeDict[node1]['list'] = 0\n",
    "        ConnNodeDict[node1]['tpid'] = tpnode1\n",
    "        index = index+1\n",
    "        NodeList.append(node1)\n",
    "\n",
    "    if not node2 in ConnNodeDict.keys(): \n",
    "        ConnNodeDict[node2] = {}\n",
    "        ConnNodeDict[node2]['name'] = bus2\n",
    "        ConnNodeDict[node2]['node'] = index+1\n",
    "        ConnNodeDict[node2]['list'] = 0\n",
    "        ConnNodeDict[node2]['tpid'] = tpnode2\n",
    "        index = index+1\n",
    "        NodeList.append(node2)\n",
    "    \n",
    "    # 1. Move node list variables to terinal next    \n",
    "    TerminalsDict[term1]['name'] = tname1\n",
    "    TerminalsDict[term2]['name'] = tname2\n",
    "    TerminalsDict[term1]['bus'] = bus1\n",
    "    TerminalsDict[term2]['bus'] = bus2\n",
    "    TerminalsDict[term1]['next'] = ConnNodeDict[node1]['list']\n",
    "    TerminalsDict[term2]['next'] = ConnNodeDict[node2]['list']\n",
    "\n",
    "    # 2. Populate Terminal list far field with nodes\n",
    "    TerminalsDict[term1]['far'] = ConnNodeDict[node2]['node']\n",
    "    TerminalsDict[term2]['far'] = ConnNodeDict[node1]['node']\n",
    "    \n",
    "    # 3. Populate Connectivity nodes list with terminals\n",
    "    ConnNodeDict[node1]['list'] = TerminalsDict[term1]['term']\n",
    "    ConnNodeDict[node2]['list'] = TerminalsDict[term2]['term']\n",
    "    \n",
    "print(\"Processed \", i1, \"line objects in \", time.process_time() - StartTime, \"seconds\")"
   ]
  },
  {
   "cell_type": "markdown",
   "id": "c2b341b1",
   "metadata": {},
   "source": [
    "### Build list of Transformers"
   ]
  },
  {
   "cell_type": "code",
   "execution_count": 15,
   "id": "b2d52e9c",
   "metadata": {},
   "outputs": [
    {
     "name": "stdout",
     "output_type": "stream",
     "text": [
      "Processed  3882 transformer objects in  0.019856249000000048 seconds\n"
     ]
    }
   ],
   "source": [
    "Xfmr_dict={}\n",
    "XfmrKeys=[]\n",
    "i1=i1+1\n",
    "\n",
    "StartTime = time.process_time()\n",
    "\n",
    "# Build dictionary of FROM-TO nodes for all transformers\n",
    "for i2 in range(len(Xfmr_query)):\n",
    "    eqid=Xfmr_query[i2]['eqid']['value']\n",
    "    \n",
    "    seq=Xfmr_query[i2]['seq']['value']\n",
    "    if eqid not in Xfmr_dict:\n",
    "        Xfmr_dict[eqid]={}\n",
    "        XfmrKeys.append(eqid)\n",
    "    Xfmr_dict[eqid]['bus']=Xfmr_query[i2]['bus']['value']\n",
    "    \n",
    "    # Identify terminal sequence and create keys for new terminals\n",
    "    if seq == '1' or seq == 1:\n",
    "        # Primary winding\n",
    "        Xfmr_dict[eqid]['bus1']=Xfmr_query[i2]['bus']['value']\n",
    "        Xfmr_dict[eqid]['term1']=Xfmr_query[i2]['tid']['value']\n",
    "        Xfmr_dict[eqid]['node1']=Xfmr_query[i2]['cnid']['value']\n",
    "        Xfmr_dict[eqid]['tpnode1']=Xfmr_query[i2]['tpid']['value']\n",
    "        Xfmr_dict[eqid]['tname1']=Xfmr_query[i2]['tname']['value']\n",
    "        if 'ratedu' in Xfmr_query[i2]: Xfmr_dict[eqid]['volt1']=int(float(Xfmr_query[i2]['ratedu']['value']))\n",
    "        else: Xfmr_dict[eqid]['volt1']=0\n",
    "        if 'phs' in Xfmr_query[i2]: Xfmr_dict[eqid]['phase1']=Xfmr_query[i2]['phs']['value'] \n",
    "        else: Xfmr_dict[eqid]['phase1']={}\n",
    "            \n",
    "    elif seq == '2' or seq == 2:\n",
    "        Xfmr_dict[eqid]['bus2']=Xfmr_query[i2]['bus']['value']\n",
    "        Xfmr_dict[eqid]['term2']=Xfmr_query[i2]['tid']['value']\n",
    "        Xfmr_dict[eqid]['node2']=Xfmr_query[i2]['cnid']['value']\n",
    "        Xfmr_dict[eqid]['tpnode2']=Xfmr_query[i2]['tpid']['value']\n",
    "        Xfmr_dict[eqid]['tname2']=Xfmr_query[i2]['tname']['value']\n",
    "        if 'ratedu' in Xfmr_query[i2]: Xfmr_dict[eqid]['volt2']=int(float(Xfmr_query[i2]['ratedu']['value']))\n",
    "        else: Xfmr_dict[eqid]['volt2']=0\n",
    "        if 'phs' in Xfmr_query[i2]: Xfmr_dict[eqid]['phase2']=Xfmr_query[i2]['phs']['value'] \n",
    "        else: Xfmr_dict[eqid]['phase2']={}\n",
    "        \n",
    "    elif seq == '3' or seq == 3:\n",
    "        Xfmr_dict[eqid]['bus3']=Xfmr_query[i2]['bus']['value']\n",
    "        Xfmr_dict[eqid]['term3']=Xfmr_query[i2]['tid']['value']\n",
    "        Xfmr_dict[eqid]['node3']=Xfmr_query[i2]['cnid']['value']\n",
    "        Xfmr_dict[eqid]['tpnode3']=Xfmr_query[i2]['tpid']['value']\n",
    "        Xfmr_dict[eqid]['tname3']=Xfmr_query[i2]['tname']['value']\n",
    "        if 'ratedu' in Xfmr_query[i2]: Xfmr_dict[eqid]['volt3']=int(float(Xfmr_query[i2]['ratedu']['value']))\n",
    "        else: Xfmr_dict[eqid]['volt3']=0\n",
    "        if 'phs' in Xfmr_query[i2]: Xfmr_dict[eqid]['phase3']=Xfmr_query[i2]['phs']['value'] \n",
    "        else: Xfmr_dict[eqid]['phase3']={}\n",
    "    else:\n",
    "        raise ValueError('Unsupported transformer sequence value ', seq)\n",
    "   \n",
    "\n",
    "for i3 in range(len(XfmrKeys)):\n",
    "    \n",
    "    bus1=Xfmr_dict[XfmrKeys[i3]]['bus1']\n",
    "    bus2=Xfmr_dict[XfmrKeys[i3]]['bus2']\n",
    "    term1=Xfmr_dict[XfmrKeys[i3]]['term1']\n",
    "    term2=Xfmr_dict[XfmrKeys[i3]]['term2']\n",
    "    tname1=Xfmr_dict[XfmrKeys[i3]]['tname1']\n",
    "    tname2=Xfmr_dict[XfmrKeys[i3]]['tname2']\n",
    "    node1=Xfmr_dict[XfmrKeys[i3]]['node1']\n",
    "    node2=Xfmr_dict[XfmrKeys[i3]]['node2']\n",
    "    tpnode1=Xfmr_dict[XfmrKeys[i3]]['tpnode1']\n",
    "    tpnode2=Xfmr_dict[XfmrKeys[i3]]['tpnode2']\n",
    "    \n",
    "    # THIS CODE IS EXACT SAME AS ABOVE FOR LINES, COULD PUT INTO FUNCTION OR CLASS THAT CAN BE CALLED\n",
    "    \n",
    "    # Create keys for new terminals\n",
    "    TerminalsDict[term1] = {}\n",
    "    TerminalsDict[term2] = {}\n",
    "    TerminalsDict[term1]['term'] = 2*(i3+i1)+1 #updated index, need to add to end of dict\n",
    "    TerminalsDict[term2]['term'] = 2*(i3+i1)+2\n",
    "    TermList.append(term1)\n",
    "    TermList.append(term2)\n",
    "    #TerminalsDict[term1]['phases'] = phases\n",
    "    #TerminalsDict[term2]['phases'] = phases\n",
    "    \n",
    "    # If node1 or node2 not in dict, create new keys\n",
    "    if not node1 in ConnNodeDict.keys():\n",
    "        ConnNodeDict[node1] = {}\n",
    "        ConnNodeDict[node1]['name'] = bus1\n",
    "        ConnNodeDict[node1]['node'] = index+1\n",
    "        ConnNodeDict[node1]['list'] = 0\n",
    "        ConnNodeDict[node1]['tpid'] = tpnode1\n",
    "        index = index+1\n",
    "        NodeList.append(node1)\n",
    "\n",
    "    if not node2 in ConnNodeDict.keys(): \n",
    "        ConnNodeDict[node2] = {}\n",
    "        ConnNodeDict[node2]['name'] = bus2\n",
    "        ConnNodeDict[node2]['node'] = index+1\n",
    "        ConnNodeDict[node2]['list'] = 0\n",
    "        ConnNodeDict[node2]['tpid'] = tpnode2\n",
    "        index = index+1\n",
    "        NodeList.append(node2)\n",
    "    \n",
    "    # 1. Move node list variables to terinal next    \n",
    "    TerminalsDict[term1]['name'] = tname1\n",
    "    TerminalsDict[term2]['name'] = tname2\n",
    "    TerminalsDict[term1]['bus'] = bus1\n",
    "    TerminalsDict[term2]['bus'] = bus2\n",
    "    TerminalsDict[term1]['next'] = ConnNodeDict[node1]['list']\n",
    "    TerminalsDict[term2]['next'] = ConnNodeDict[node2]['list']\n",
    "\n",
    "    # 2. Populate Terminal list far field with nodes\n",
    "    TerminalsDict[term1]['far'] = ConnNodeDict[node2]['node']\n",
    "    TerminalsDict[term2]['far'] = ConnNodeDict[node1]['node']\n",
    "    \n",
    "    # 3. Populate Connectivity nodes list with terminals\n",
    "    ConnNodeDict[node1]['list'] = TerminalsDict[term1]['term']\n",
    "    ConnNodeDict[node2]['list'] = TerminalsDict[term2]['term']\n",
    "    \n",
    "    #NEED TO INSERT LOGIC TO HANDLE THREE-WINDING SUBSTATION XFMR\n",
    "    \n",
    "print(\"Processed \", i2, \"transformer objects in \", time.process_time() - StartTime, \"seconds\")\n",
    "\n",
    "\n",
    "    "
   ]
  },
  {
   "cell_type": "markdown",
   "id": "519da311",
   "metadata": {},
   "source": [
    "## Add DG source nodes to list"
   ]
  },
  {
   "cell_type": "code",
   "execution_count": 16,
   "id": "4e8f82e0",
   "metadata": {},
   "outputs": [],
   "source": [
    "for i4 in range(len(DG_query)):\n",
    "    node=DG_query[i4]['node']['value']\n",
    "    term=DG_query[i4]['term']['value']\n",
    "    \n",
    "\n",
    "\n",
    "    if node not in ConnNodeDict.keys():\n",
    "        \n",
    "        TerminalsDict[term] = {}\n",
    "        TerminalsDict[term]['term'] = i4+2*(i3+i1+1)+1 #updated index, need to add to end of dict\n",
    "        TerminalsDict[term]['next'] = 0\n",
    "        TerminalsDict[term]['far'] = index+1\n",
    "        TerminalsDict[term]['name'] = DG_query[i4]['bus']['value']\n",
    "        TermList.append(term)\n",
    "        \n",
    "        ConnNodeDict[node] = {}\n",
    "        ConnNodeDict[node]['name'] = DG_query[i4]['bus']['value']\n",
    "        ConnNodeDict[node]['node'] = index+1\n",
    "        ConnNodeDict[node]['list'] = TerminalsDict[term]['term']\n",
    "        ConnNodeDict[node]['tpid'] = DG_query[i4]['tpid']['value']\n",
    "        index = index+1\n",
    "        NodeList.append(node)"
   ]
  },
  {
   "cell_type": "markdown",
   "id": "4d44ca7a",
   "metadata": {},
   "source": [
    "## Add missing nodes to dictionary"
   ]
  },
  {
   "cell_type": "code",
   "execution_count": 17,
   "id": "29d3499a",
   "metadata": {},
   "outputs": [
    {
     "name": "stdout",
     "output_type": "stream",
     "text": [
      "Processed  4 missing nodes in  0.003965447000000011 seconds\n"
     ]
    }
   ],
   "source": [
    "StartTime = time.process_time()\n",
    "old_index = index\n",
    "for i4 in range(len(Node_query)):\n",
    "    node=Node_query[i4]['cnid']['value']\n",
    "\n",
    "    if node not in ConnNodeDict.keys():\n",
    "        ConnNodeDict[node] = {}\n",
    "        ConnNodeDict[node]['name'] = Node_query[i4]['busname']['value']\n",
    "        ConnNodeDict[node]['node'] = index+1\n",
    "        ConnNodeDict[node]['list'] = 0\n",
    "        ConnNodeDict[node]['tpid'] = Node_query[i4]['tpnid']['value']\n",
    "        index = index+1\n",
    "        NodeList.append(node1)\n",
    "        \n",
    "print(\"Processed \", index-old_index, \"missing nodes in \", time.process_time() - StartTime, \"seconds\")\n"
   ]
  },
  {
   "cell_type": "code",
   "execution_count": 18,
   "id": "6d194229",
   "metadata": {},
   "outputs": [],
   "source": [
    "# Stash a copy of base dictionary\n",
    "BaseConnDict = json.dumps(ConnNodeDict)\n",
    "BaseTermDict = json.dumps(TerminalsDict)"
   ]
  },
  {
   "cell_type": "markdown",
   "id": "4eb4e1c9",
   "metadata": {},
   "source": [
    "# Process Switch Topology - run at each switch change\n"
   ]
  },
  {
   "cell_type": "markdown",
   "id": "f05a3714",
   "metadata": {},
   "source": [
    "## Merge Topology Nodes"
   ]
  },
  {
   "cell_type": "code",
   "execution_count": 19,
   "id": "a8181c3e",
   "metadata": {},
   "outputs": [
    {
     "name": "stdout",
     "output_type": "stream",
     "text": [
      "Processed  106 switch objects in  0.0006970139999999958 seconds\n"
     ]
    }
   ],
   "source": [
    "# Pull base topology Dictionary\n",
    "ConnNodeDict = json.loads(BaseConnDict)\n",
    "TerminalsDict = json.loads(BaseTermDict)\n",
    "\n",
    "StartTime = time.process_time()\n",
    "\n",
    "for i5 in range(len(Switch_query)):\n",
    "    #bus1=Switch_query[i5]['bus1']['value']\n",
    "    #bus2=Switch_query[i5]['bus2']['value']\n",
    "    #term1=Switch_query[i5]['term1']['value']\n",
    "    #term2=Switch_query[i5]['term2']['value']\n",
    "    node1=Switch_query[i5]['node1']['value']\n",
    "    node2=Switch_query[i5]['node2']['value']\n",
    "    #tpnode1=Switch_query[i5]['tpnode1']['value']\n",
    "    #tpnode2=Switch_query[i5]['tpnode2']['value']\n",
    "    \n",
    "    # If switch closed, merge nodes\n",
    "    if Switch_query[i5]['open']['value'] == 'false':\n",
    "        \n",
    "        # Merge topology Nodes\n",
    "        #ConnNodeDict[node1]['tpid'] = tpnode1\n",
    "        ConnNodeDict[node2]['tpid'] = ConnNodeDict[node1]['tpid'] #tpnode1\n",
    "        #TopoNodeDict[tpnode1] = [node1, node2] # not implemented\n",
    "        #TopoNodeDict[tpnode2] = [node2, node1]\n",
    "        \n",
    "        # Update Linked Lists\n",
    "        if ConnNodeDict[node2]['list'] > ConnNodeDict[node1]['list']:\n",
    "            term2 = TermList[ConnNodeDict[node2]['list']-1]\n",
    "            next2 = TerminalsDict[term2]['next']\n",
    "            while next2 != 0:\n",
    "                term2 = TermList[next2-1]\n",
    "                next2 = TerminalsDict[term2]['next']\n",
    "            TerminalsDict[term2]['next'] = ConnNodeDict[node1]['list']\n",
    "            ConnNodeDict[node1]['list'] = ConnNodeDict[node2]['list']\n",
    "        else:\n",
    "            term1 = TermList[ConnNodeDict[node1]['list']-1]\n",
    "            next1 = TerminalsDict[term1]['next']\n",
    "            while next1 != 0:\n",
    "                term1 = TermList[next1-1]\n",
    "                next1 = TerminalsDict[term1]['next']\n",
    "            TerminalsDict[term1]['next'] = ConnNodeDict[node2]['list']\n",
    "            ConnNodeDict[node2]['list'] = ConnNodeDict[node1]['list']\n",
    "            \n",
    "print(\"Processed \", i5, \"switch objects in \", time.process_time() - StartTime, \"seconds\")"
   ]
  },
  {
   "cell_type": "markdown",
   "id": "c64f84cc",
   "metadata": {},
   "source": [
    "## Build Spanning Tree from Xfmrs"
   ]
  },
  {
   "cell_type": "code",
   "execution_count": 20,
   "id": "7e62d0b6",
   "metadata": {},
   "outputs": [
    {
     "name": "stdout",
     "output_type": "stream",
     "text": [
      "Processed topology from substation transformer  hvmv69_11sub3_T1  with  2264  buses\n",
      "Processed topology from substation transformer  hvmv69_11sub1_T1  with  1151  buses\n",
      "Processed topology from substation transformer  hvmv69_11sub2_T1  with  1859  buses\n",
      "Processed  3 topology trees containing  5274  buses in  0.17506474999999988 seconds\n"
     ]
    }
   ],
   "source": [
    "Tree={}\n",
    "TotalNodes=0\n",
    "StartTime = time.process_time()\n",
    "\n",
    "# Iterate through all substation transformers\n",
    "for i6 in range(len(XfmrKeys)):\n",
    "    \n",
    "    # Identify if distribution substation transformer\n",
    "    if (int(Xfmr_dict[XfmrKeys[i6]]['volt1']) >= 34000 and 34000 >= int(Xfmr_dict[XfmrKeys[i6]]['volt2']) > 1000) or (int(Xfmr_dict[XfmrKeys[i6]]['volt2']) >= 34000 and 34000 >= int(Xfmr_dict[XfmrKeys[i6]]['volt1']) > 1000):\n",
    "        # Create Tree starting from this transformer\n",
    "        FirstNode = 1 \n",
    "        LastNode = 2\n",
    "        # Set as rootnode \n",
    "        # assuming node1 is high and node2 is low - need to verify will work otherwise\n",
    "        Tree[XfmrKeys[i6]]=[Xfmr_dict[XfmrKeys[i6]]['node1'], Xfmr_dict[XfmrKeys[i6]]['node2']]\n",
    "\n",
    "        while LastNode != FirstNode:\n",
    "            NextTerm = ConnNodeDict[Tree[XfmrKeys[i6]][FirstNode]]['list']\n",
    "            FirstNode = FirstNode + 1\n",
    "            while NextTerm != 0:\n",
    "                # Get next node and terminal for current node\n",
    "                NextNode = TerminalsDict[TermList[NextTerm-1]]['far']\n",
    "                NextTerm = TerminalsDict[TermList[NextTerm-1]]['next']\n",
    "                # Add to tree if not there already\n",
    "                if NodeList[NextNode-1] not in Tree[XfmrKeys[i6]]:\n",
    "                    Tree[XfmrKeys[i6]].append(NodeList[NextNode-1])\n",
    "                    LastNode = LastNode + 1\n",
    "                    \n",
    "        NodesInTree=len(Tree[XfmrKeys[i6]])\n",
    "        print(\"Processed topology from substation transformer \", Xfmr_dict[XfmrKeys[i6]]['tname1'], \" with \", NodesInTree, \" buses\")\n",
    "        TotalNodes=TotalNodes+NodesInTree\n",
    "            \n",
    "print(\"Processed \", len(Tree.keys()), \"topology trees containing \", TotalNodes, \" buses in \", time.process_time() - StartTime, \"seconds\")"
   ]
  },
  {
   "cell_type": "markdown",
   "id": "f827c0ae",
   "metadata": {},
   "source": [
    "## Build Spanning Tree from DGs"
   ]
  },
  {
   "cell_type": "code",
   "execution_count": 22,
   "id": "f6253d3d",
   "metadata": {},
   "outputs": [
    {
     "name": "stdout",
     "output_type": "stream",
     "text": [
      "Processed  0  more islands containing  0  buses in  0.0019790779999999675 seconds\n"
     ]
    }
   ],
   "source": [
    "Subs=list(Tree.keys())\n",
    "TotalNodes = 0\n",
    "StartTime = time.process_time()\n",
    "\n",
    "\n",
    "# Iterate through all SynchronousMachine\n",
    "for i7 in range(len(DG_query)):\n",
    "    node=DG_query[i7]['node']['value']\n",
    "    term=DG_query[i7]['term']['value']\n",
    "    islanded = True\n",
    "    \n",
    "    # Identify if DER is really islanded\n",
    "    for i8 in range(len(Subs)):\n",
    "        if node in Tree[Subs[i8]]:\n",
    "            islanded = False\n",
    "        \n",
    "    if islanded == True:\n",
    "        # Create Tree starting from this transformer\n",
    "        FirstNode = 0 \n",
    "        LastNode = 1\n",
    "        # Set as rootnode \n",
    "        # assuming node1 is high and node2 is low - need to verify will work otherwise\n",
    "        Tree[node]=[node]\n",
    "\n",
    "        while LastNode != FirstNode:\n",
    "            NextTerm = ConnNodeDict[Tree[node][FirstNode]]['list']\n",
    "            FirstNode = FirstNode + 1\n",
    "            while NextTerm != 0:\n",
    "                # Get next node and terminal for current node\n",
    "                NextNode = TerminalsDict[TermList[NextTerm-1]]['far']\n",
    "                NextTerm = TerminalsDict[TermList[NextTerm-1]]['next']\n",
    "                # Add to tree if not there already\n",
    "                if NodeList[NextNode-1] not in Tree[node]:\n",
    "                    Tree[node].append(NodeList[NextNode-1])\n",
    "                    LastNode = LastNode + 1\n",
    "                    \n",
    "        NodesInTree=len(Tree[node])\n",
    "        TotalNodes=TotalNodes+NodesInTree\n",
    "            \n",
    "print(\"Processed \", len(Tree.keys())-len(Subs), \" more islands containing \", TotalNodes, \" buses in \", time.process_time() - StartTime, \"seconds\")"
   ]
  },
  {
   "cell_type": "code",
   "execution_count": null,
   "id": "4d709e96",
   "metadata": {},
   "outputs": [],
   "source": []
  }
 ],
 "metadata": {
  "kernelspec": {
   "display_name": "Python 3 (ipykernel)",
   "language": "python",
   "name": "python3"
  },
  "language_info": {
   "codemirror_mode": {
    "name": "ipython",
    "version": 3
   },
   "file_extension": ".py",
   "mimetype": "text/x-python",
   "name": "python",
   "nbconvert_exporter": "python",
   "pygments_lexer": "ipython3",
   "version": "3.8.5"
  }
 },
 "nbformat": 4,
 "nbformat_minor": 5
}
