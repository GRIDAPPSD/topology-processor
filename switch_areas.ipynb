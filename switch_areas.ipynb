{
 "cells": [
  {
   "cell_type": "code",
   "execution_count": 1,
   "id": "cb2ce27a",
   "metadata": {},
   "outputs": [],
   "source": [
    "import argparse\n",
    "from datetime import datetime\n",
    "import json\n",
    "import logging\n",
    "import os\n",
    "import math\n",
    "import sys\n",
    "import time\n",
    "import topologyqueries,linkedlist,update_topology,spanning_tree\n",
    "import topo_meas_queries, process_network, linknet, update_topology\n",
    "\n",
    "from gridappsd import GridAPPSD, DifferenceBuilder, utils, topics as t\n",
    "from gridappsd.topics import simulation_input_topic, simulation_log_topic, simulation_output_topic\n",
    "\n",
    "\n",
    "#model_mrid = sim_request[\"power_system_config\"][\"Line_name\"]\n",
    "#model_mrid = \"_C125761E-9C21-4CA9-9271-B168150DE276\" #ieee13training\n",
    "#model_mrid = \"_EE71F6C9-56F0-4167-A14E-7F4C71F10EAA\" #final9500node\n",
    "#model_mrid = \"_AAE94E4A-2465-6F5E-37B1-3E72183A4E44\" #test9500\n",
    "model_mrid = \"_49AD8E07-3BF9-A4E2-CB8F-C3722F837B62\"  # 13 bus\n",
    "#model_mrid = \"_5B816B93-7A5F-B64C-8460-47C17D6E4B0F\" #ieee13assets\n",
    "#model_mrid=\"_C1C3E687-6FFD-C753-582B-632A27E28507\" # IEEE 123\n",
    "#model_mrid=\"_49AD8E07-3BF9-A4E2-CB8F-C3722F837B62\"\n",
    "\n",
    "requestedTime=1570041125\n",
    "\n",
    "\n",
    "\n",
    "global BaseConnDict,BaseTermDict,TermList, NodeList\n",
    "global XfmrKeys,XfmrDict,SwitchKeys,SwitchDict,DG_query\n",
    "\n",
    "os.environ['GRIDAPPSD_USER'] = 'app_user'\n",
    "os.environ['GRIDAPPSD_PASSWORD'] = '1234App'\n",
    "\n",
    "gapps = GridAPPSD()\n",
    "assert gapps.connected"
   ]
  },
  {
   "cell_type": "code",
   "execution_count": 2,
   "id": "aaae3d82",
   "metadata": {
    "scrolled": true
   },
   "outputs": [
    {
     "name": "stdout",
     "output_type": "stream",
     "text": [
      "Processed  22 ConnectivyNode objects in  0.0024041800000000335 seconds\n",
      "Processed  183 Measurement objects in  0.005794752000000014 seconds\n",
      "Processed  11 ACLineSegment objects in  0.001635031000000009 seconds\n",
      "Processed  14 Transformer objects in  0.0016641479999999764 seconds\n",
      "Processed  5 Switch objects in  0.0014263529999999913 seconds\n",
      "Processed  0 House objects in  0.001209479999999985 seconds\n",
      "Processed  3 RatioTapChanger objects in  0.0012802339999999912 seconds\n"
     ]
    }
   ],
   "source": [
    "[ConnNodeDict, EquipDict] = process_network.build_equip_dicts(gapps, model_mrid)\n"
   ]
  },
  {
   "cell_type": "code",
   "execution_count": 3,
   "id": "982c51d5",
   "metadata": {},
   "outputs": [],
   "source": [
    "BaseConnDict = json.dumps(ConnNodeDict)\n",
    "MVConnNodeDict = json.loads(BaseConnDict)"
   ]
  },
  {
   "cell_type": "code",
   "execution_count": 4,
   "id": "b1fcf83e",
   "metadata": {},
   "outputs": [],
   "source": [
    "#[MVConnNodeDict, EquipDict] = process_network.build_equip_dicts(gapps, model_mrid)\n"
   ]
  },
  {
   "cell_type": "code",
   "execution_count": 5,
   "id": "41ed0463",
   "metadata": {
    "scrolled": true
   },
   "outputs": [
    {
     "name": "stdout",
     "output_type": "stream",
     "text": [
      "Processed  11 ACLineSegment objects in  4.6608000000003535e-05 seconds\n",
      "Processed  2 PowerTransformer objects in  2.2931999999975528e-05 seconds\n",
      "Processed  4 TransformerTank objects in  2.562999999999871e-05 seconds\n",
      "Processed  0 SynchronousMachine objects in  1.0039000000017229e-05 seconds\n",
      "Processed  1 missing nodes in  2.104900000005072e-05 seconds\n"
     ]
    }
   ],
   "source": [
    "EqTypes = ['ACLineSegment', 'PowerTransformer', 'TransformerTank', 'SynchronousMachine']\n",
    "[ConnNodeDict, TerminalsDict, NodeList, TermList] = linknet.build_linknet_lists(ConnNodeDict, EquipDict, EqTypes)"
   ]
  },
  {
   "cell_type": "code",
   "execution_count": 6,
   "id": "36abdd08",
   "metadata": {},
   "outputs": [
    {
     "name": "stdout",
     "output_type": "stream",
     "text": [
      "Processed  11 ACLineSegment objects in  3.805600000000853e-05 seconds\n",
      "Processed  1 RatioTapChanger objects in  1.677399999999718e-05 seconds\n",
      "Processed  0 SynchronousMachine objects in  1.1774999999991653e-05 seconds\n",
      "Processed  6 missing nodes in  2.3657000000010253e-05 seconds\n"
     ]
    }
   ],
   "source": [
    "EqTypes = ['ACLineSegment', 'RatioTapChanger', 'SynchronousMachine']\n",
    "[MVConnNodeDict, MVTerminalsDict, MVNodeList, MVTermList] = linknet.build_linknet_lists(MVConnNodeDict, EquipDict, EqTypes)"
   ]
  },
  {
   "cell_type": "code",
   "execution_count": 7,
   "id": "013c4d0b",
   "metadata": {},
   "outputs": [],
   "source": [
    "SwitchDict = {}\n",
    "SwitchDict.update(EquipDict['Breaker'])\n",
    "SwitchDict.update(EquipDict['Fuse'])\n",
    "SwitchDict.update(EquipDict['LoadBreakSwitch'])\n",
    "SwitchDict.update(EquipDict['Recloser'])\n",
    "SwitchKeys = list(SwitchDict.keys())"
   ]
  },
  {
   "cell_type": "code",
   "execution_count": 8,
   "id": "38519eb7",
   "metadata": {
    "scrolled": false
   },
   "outputs": [
    {
     "name": "stdout",
     "output_type": "stream",
     "text": [
      "Processed topology from   _52DE9189-20DC-4C73-BDEE-E960FE1F9493  with  1  buses\n",
      "Processed  1 topology trees containing  1  buses in  0.0006250709999999771 seconds\n",
      "Processed topology from   _43EF8365-F932-409B-A51E-FBED3F6DFFAA  with  6  buses\n",
      "Processed  1 topology trees containing  6  buses in  0.00016876799999998582 seconds\n",
      "Processed topology from   _2858B6C2-0886-4269-884C-06FA8B887319  with  6  buses\n",
      "Processed topology from   _517413CB-6977-46FA-8911-C82332E42884  with  2  buses\n",
      "Processed  2 topology trees containing  8  buses in  0.0030798149999999858 seconds\n",
      "Processed topology from   _CE5D0651-676B-4AF3-8D67-41BF1B33E30C  with  6  buses\n",
      "Processed  1 topology trees containing  6  buses in  0.00020410399999998274 seconds\n"
     ]
    }
   ],
   "source": [
    "MVTrees = {}\n",
    "[MVTrees, MVConnNodeDict] = spanning_tree.local_spanning_tree(MVConnNodeDict, MVTerminalsDict, MVNodeList, MVTermList, EquipDict, 'Breaker', list(EquipDict['Breaker'].keys()), MVTrees, 'all')\n",
    "[MVTrees, MVConnNodeDict] = spanning_tree.local_spanning_tree(MVConnNodeDict, MVTerminalsDict, MVNodeList, MVTermList, EquipDict, 'Fuse', list(EquipDict['Fuse'].keys()), MVTrees, 'single')\n",
    "[MVTrees, MVConnNodeDict] = spanning_tree.local_spanning_tree(MVConnNodeDict, MVTerminalsDict, MVNodeList, MVTermList, EquipDict, 'LoadBreakSwitch', list(EquipDict['LoadBreakSwitch'].keys()), MVTrees, 'all')\n",
    "[MVTrees, MVConnNodeDict] = spanning_tree.local_spanning_tree(MVConnNodeDict, MVTerminalsDict, MVNodeList, MVTermList, EquipDict, 'Recloser', list(EquipDict['Recloser'].keys()), MVTrees, 'single')\n"
   ]
  },
  {
   "cell_type": "code",
   "execution_count": 61,
   "id": "486ceb85",
   "metadata": {},
   "outputs": [],
   "source": [
    "DistAppStruct = {}\n",
    "DistAppStruct['feeders'] = {}\n",
    "DistAppStruct['feeders'][model_mrid] = {}\n",
    "DistAppStruct['feeders'][model_mrid]['addressable_equipment'] = []\n",
    "DistAppStruct['feeders'][model_mrid]['unaddressable_equipment'] = []\n",
    "DistAppStruct['feeders'][model_mrid]['switch_areas'] = []\n",
    "ProcessedNodes = []\n",
    "XfmrDict = EquipDict['PowerTransformer']\n",
    "XfmrDict.update(EquipDict['TransformerTank'])"
   ]
  },
  {
   "cell_type": "code",
   "execution_count": 62,
   "id": "bf6f57b6",
   "metadata": {},
   "outputs": [
    {
     "name": "stdout",
     "output_type": "stream",
     "text": [
      "mv node 650 _7BEDDADD-0A14-429F-8601-9EA8B892CA6E\n",
      "mv node 633 _C6256170-E6ED-4F91-8EBD-748090C3FDD5\n",
      "mv node 632 _6CB5E5CE-2CD0-40CC-A979-B4F9ED05E49B\n",
      "mv node rg60 _673E896A-DCBF-4E43-9924-BEB31C5B6005\n",
      "Processed  0 topology trees containing  0  buses in  1.0372999999841426e-05 seconds\n",
      "Processed  0 topology trees containing  0  buses in  1.2976999999914085e-05 seconds\n",
      "Processed  0 topology trees containing  0  buses in  1.1797999999618725e-05 seconds\n",
      "mv node 645 _0124E881-B82D-4206-BBDF-37D585159872\n",
      "mv node brkr _94F822E0-7130-4205-8597-B47110BBEF4B\n",
      "Processed  0 topology trees containing  0  buses in  5.15199999995275e-06 seconds\n",
      "Processed  0 topology trees containing  0  buses in  9.425000000007344e-06 seconds\n",
      "Processed  0 topology trees containing  0  buses in  9.155999999954645e-06 seconds\n",
      "mv node 646 _8C58660F-C62C-4903-BE72-22F1255B1E62\n",
      "mv node 684 _8E99F99D-FE8F-420B-AC49-0B52DF5362AB\n",
      "mv node 671 _30BE5988-DE57-4E0C-AB08-50D5A13D2C1B\n",
      "mv node 652 _0F1E28C3-6C44-4F88-B79C-2FDBCA4487B2\n",
      "mv node 670 _DC889FA5-7B28-4273-A1D7-205BE3E0BFED\n",
      "Processed topology from   _17A934C7-1510-481F-BAD7-189058957FF1  with  2  buses\n",
      "Processed  0 topology trees containing  2  buses in  0.0018881140000002183 seconds\n",
      "lvnode  house _0A98A62D-7642-4F03-8317-A8605CBDBA37\n",
      "mv node 680 _76D6D03C-967C-4E12-836D-A98DF3552BC7\n",
      "mv node mid _421E99BE-A834-4809-B924-84D88F634A45\n",
      "mv node 692 _E5B2888B-B60D-4DA6-A4F7-17EB849D28B2\n",
      "mv node 675 _63DFBEA0-CD06-4D2E-B956-DF9517BE057B\n",
      "mv node 632 _6CB5E5CE-2CD0-40CC-A979-B4F9ED05E49B\n",
      "mv node 633 _C6256170-E6ED-4F91-8EBD-748090C3FDD5\n",
      "mv node rg60 _673E896A-DCBF-4E43-9924-BEB31C5B6005\n",
      "Processed  0 topology trees containing  0  buses in  5.035000000042089e-06 seconds\n",
      "Processed  0 topology trees containing  0  buses in  1.0715000000161012e-05 seconds\n",
      "Processed  0 topology trees containing  0  buses in  9.511000000017589e-06 seconds\n",
      "mv node 645 _0124E881-B82D-4206-BBDF-37D585159872\n",
      "mv node brkr _94F822E0-7130-4205-8597-B47110BBEF4B\n",
      "Processed  0 topology trees containing  0  buses in  3.121999999855518e-06 seconds\n",
      "Processed  0 topology trees containing  0  buses in  9.246999999934502e-06 seconds\n",
      "Processed  0 topology trees containing  0  buses in  9.309999999818075e-06 seconds\n",
      "mv node 646 _8C58660F-C62C-4903-BE72-22F1255B1E62\n"
     ]
    }
   ],
   "source": [
    "for i1 in range(len(SwitchKeys)):\n",
    "    SwitchArea = {}\n",
    "    SwitchArea['boundary_switches'] = []\n",
    "    SwitchArea['addressable_equipment'] = []\n",
    "    SwitchArea['unaddressable_equipment'] = []\n",
    "    SwitchArea['connectivity_node'] = []\n",
    "    SwitchArea['secondary_areas'] = []\n",
    "    #print(EquipDict['LoadBreakSwitch'][SwitchKeys[i1]]['name'])\n",
    "    for i2 in range(len(MVTrees[SwitchKeys[i1]])):\n",
    "        node = MVTrees[SwitchKeys[i1]][i2]\n",
    "        print('mv node', ConnNodeDict[node]['name'], node)\n",
    "        ProcessedNodes.append(node)\n",
    "        SwitchArea['boundary_switches'].extend(ConnNodeDict[node]['Breaker'])\n",
    "        SwitchArea['boundary_switches'].extend(ConnNodeDict[node]['Fuse'])\n",
    "        SwitchArea['boundary_switches'].extend(ConnNodeDict[node]['LoadBreakSwitch'])\n",
    "        SwitchArea['boundary_switches'].extend(ConnNodeDict[node]['Recloser'])\n",
    "        #SwitchArea['addressable_equipment'].extend(ConnNodeDict[node]['SynchronousMachine'])\n",
    "        #SwitchArea['addressable_equipment'].extend(ConnNodeDict[node]['PowerElectronicsConnection'])\n",
    "        #SwitchArea['addressable_equipment'].extend(ConnNodeDict[node]['LinearShuntCompensator'])\n",
    "        #SwitchArea['addressable_equipment'].extend(ConnNodeDict[node]['RatioTapChanger'])\n",
    "        #SwitchArea['unaddressable_equipment'].extend(ConnNodeDict[node]['ACLineSegment'])\n",
    "        #SwitchArea['unaddressable_equipment'].extend(ConnNodeDict[node]['PowerTransformer'])\n",
    "        #SwitchArea['unaddressable_equipment'].extend(ConnNodeDict[node]['TransformerTank'])\n",
    "        #SwitchArea['unaddressable_equipment'].extend(ConnNodeDict[node]['Measurement'])\n",
    "        SwitchArea['connectivity_node'].append(ConnNodeDict[node]['name'])\n",
    "        DistXfmrs = ConnNodeDict[node]['TransformerTank'] #+ ConnNodeDict[node]['PowerTransformer']\n",
    "        if DistXfmrs:\n",
    "            SwitchArea['unaddressable_equipment'].extend(DistXfmrs)\n",
    "            for i3 in range(len(DistXfmrs)):\n",
    "                xfmr = DistXfmrs[i3]\n",
    "                [LVTree, LVConnNodeDict] = spanning_tree.local_spanning_tree(ConnNodeDict, TerminalsDict, NodeList, TermList, EquipDict, 'TransformerTank', [xfmr],  MVTrees, 'all')\n",
    "                LVTreeKeys = LVTree[xfmr]\n",
    "                if LVTreeKeys: \n",
    "                    LVTreeKeys.pop(0)\n",
    "                    DistArea = {}\n",
    "                    DistArea['distribution_transformer'] = [xfmr]\n",
    "                    DistArea['addressable_equipment'] = []\n",
    "                    DistArea['unaddressable_equipment'] = []\n",
    "                    DistArea['connectivity_node'] = []\n",
    "                    for i4 in range(len(LVTreeKeys)):\n",
    "                        lvnode = LVTreeKeys[i4]\n",
    "                        ProcessedNodes.append(lvnode)\n",
    "                        print('lvnode ', ConnNodeDict[lvnode]['name'], lvnode)\n",
    "                        #DistArea['addressable_equipment'].extend(ConnNodeDict[lvnode]['SynchronousMachine'])\n",
    "                       # DistArea['addressable_equipment'].extend(ConnNodeDict[lvnode]['PowerElectronicsConnection'])\n",
    "                        #DistArea['addressable_equipment'].extend(ConnNodeDict[lvnode]['EnergyConsumer'])\n",
    "                       # DistArea['addressable_equipment'].extend(ConnNodeDict[lvnode]['House'])\n",
    "                        \n",
    "                        #DistArea['unaddressable_equipment'].extend(ConnNodeDict[lvnode]['ACLineSegment'])\n",
    "                        #DistArea['unaddressable_equipment'].extend(ConnNodeDict[lvnode]['Measurement'])\n",
    "                       # DistArea['connectivity_node'].append(lvnode)\n",
    "                        DistArea['connectivity_node'].append(ConnNodeDict[lvnode]['name'])\n",
    "                        #SwitchArea['unaddressable_equipment'].extend(ConnNodeDict[lvnode]['ACLineSegment'])\n",
    "                        #SwitchArea['unaddressable_equipment'].extend(ConnNodeDict[lvnode]['Measurement'])\n",
    "                    \n",
    "            SwitchArea['secondary_areas'].append((DistArea.copy()))\n",
    "            DistArea = {}\n",
    "    DistAppStruct['feeders'][model_mrid]['switch_areas'].append(dict(SwitchArea))\n",
    "    SwitchArea = {}\n",
    "        #DistAppStruct['feeders'][model_mrid]['unaddressable_equipment'].extend(SwitchArea['unaddressable_equipment'])\n",
    "        \n",
    "AllNodes = list(ConnNodeDict.keys())\n",
    "MissingNodes = list(set(AllNodes).difference(ProcessedNodes))\n",
    "for i5 in range(len(MissingNodes)):\n",
    "    node = MissingNodes[i5]\n",
    "    DistAppStruct['feeders'][model_mrid]['addressable_equipment'].extend(ConnNodeDict[node]['SynchronousMachine'])\n",
    "    DistAppStruct['feeders'][model_mrid]['addressable_equipment'].extend(ConnNodeDict[node]['PowerElectronicsConnection'])\n",
    "    DistAppStruct['feeders'][model_mrid]['addressable_equipment'].extend(ConnNodeDict[node]['LinearShuntCompensator'])\n",
    "    DistAppStruct['feeders'][model_mrid]['addressable_equipment'].extend(ConnNodeDict[node]['RatioTapChanger'])\n",
    "    DistAppStruct['feeders'][model_mrid]['unaddressable_equipment'].extend(ConnNodeDict[node]['ACLineSegment'])\n",
    "    DistAppStruct['feeders'][model_mrid]['unaddressable_equipment'].extend(ConnNodeDict[node]['PowerTransformer'])\n",
    "    DistAppStruct['feeders'][model_mrid]['unaddressable_equipment'].extend(ConnNodeDict[node]['TransformerTank'])\n",
    "    DistAppStruct['feeders'][model_mrid]['unaddressable_equipment'].extend(ConnNodeDict[node]['Measurement'])"
   ]
  },
  {
   "cell_type": "code",
   "execution_count": 38,
   "id": "63af0311",
   "metadata": {
    "scrolled": true
   },
   "outputs": [
    {
     "data": {
      "text/plain": [
       "{'data': [], 'responseComplete': True, 'id': '1606464209'}"
      ]
     },
     "execution_count": 38,
     "metadata": {},
     "output_type": "execute_result"
    }
   ],
   "source": [
    "from gridappsd import topics as t\n",
    "topic = t.REQUEST_POWERGRID_DATA\n",
    "\n",
    "object_mrid = \"_2858B6C2-0886-4269-884C-06FA8B887319\"\n",
    "\n",
    "message = {\n",
    "    \"requestType\": \"QUERY_OBJECT_DICT\",\n",
    "    \"resultFormat\": \"JSON\",\n",
    "    \"modelId\": '_49AD8E07-3BF9-A4E2-CB8F-C3722F837B62',\n",
    "    \"objectId\": '_e92f7019-68ec-4ee5-8fc6-e66580f24794'\n",
    "}\n",
    "\n",
    "gapps.get_response(topic, message)"
   ]
  },
  {
   "cell_type": "code",
   "execution_count": 12,
   "id": "417cb16c",
   "metadata": {},
   "outputs": [
    {
     "name": "stdout",
     "output_type": "stream",
     "text": [
      "brkr1\n",
      "650\n"
     ]
    },
    {
     "ename": "KeyError",
     "evalue": "'name'",
     "output_type": "error",
     "traceback": [
      "\u001b[0;31m---------------------------------------------------------------------------\u001b[0m",
      "\u001b[0;31mKeyError\u001b[0m                                  Traceback (most recent call last)",
      "\u001b[0;32m/tmp/ipykernel_9792/2416733076.py\u001b[0m in \u001b[0;36m<module>\u001b[0;34m\u001b[0m\n\u001b[1;32m      1\u001b[0m \u001b[0;32mfor\u001b[0m \u001b[0mi0\u001b[0m \u001b[0;32min\u001b[0m \u001b[0mrange\u001b[0m\u001b[0;34m(\u001b[0m\u001b[0mlen\u001b[0m\u001b[0;34m(\u001b[0m\u001b[0mSwitchKeys\u001b[0m\u001b[0;34m)\u001b[0m\u001b[0;34m)\u001b[0m\u001b[0;34m:\u001b[0m\u001b[0;34m\u001b[0m\u001b[0;34m\u001b[0m\u001b[0m\n\u001b[0;32m----> 2\u001b[0;31m     \u001b[0mprint\u001b[0m\u001b[0;34m(\u001b[0m\u001b[0mSwitchDict\u001b[0m\u001b[0;34m[\u001b[0m\u001b[0mSwitchKeys\u001b[0m\u001b[0;34m[\u001b[0m\u001b[0mi0\u001b[0m\u001b[0;34m]\u001b[0m\u001b[0;34m]\u001b[0m\u001b[0;34m[\u001b[0m\u001b[0;34m'name'\u001b[0m\u001b[0;34m]\u001b[0m\u001b[0;34m)\u001b[0m\u001b[0;34m\u001b[0m\u001b[0;34m\u001b[0m\u001b[0m\n\u001b[0m\u001b[1;32m      3\u001b[0m     \u001b[0;32mfor\u001b[0m \u001b[0mi8\u001b[0m \u001b[0;32min\u001b[0m \u001b[0mrange\u001b[0m\u001b[0;34m(\u001b[0m\u001b[0mlen\u001b[0m\u001b[0;34m(\u001b[0m\u001b[0mMVTrees\u001b[0m\u001b[0;34m[\u001b[0m\u001b[0mSwitchKeys\u001b[0m\u001b[0;34m[\u001b[0m\u001b[0mi0\u001b[0m\u001b[0;34m]\u001b[0m\u001b[0;34m]\u001b[0m\u001b[0;34m)\u001b[0m\u001b[0;34m)\u001b[0m\u001b[0;34m:\u001b[0m\u001b[0;34m\u001b[0m\u001b[0;34m\u001b[0m\u001b[0m\n\u001b[1;32m      4\u001b[0m \u001b[0;34m\u001b[0m\u001b[0m\n\u001b[1;32m      5\u001b[0m         \u001b[0mprint\u001b[0m\u001b[0;34m(\u001b[0m\u001b[0mConnNodeDict\u001b[0m\u001b[0;34m[\u001b[0m\u001b[0mMVTrees\u001b[0m\u001b[0;34m[\u001b[0m\u001b[0mSwitchKeys\u001b[0m\u001b[0;34m[\u001b[0m\u001b[0mi0\u001b[0m\u001b[0;34m]\u001b[0m\u001b[0;34m]\u001b[0m\u001b[0;34m[\u001b[0m\u001b[0mi8\u001b[0m\u001b[0;34m]\u001b[0m\u001b[0;34m]\u001b[0m\u001b[0;34m[\u001b[0m\u001b[0;34m'name'\u001b[0m\u001b[0;34m]\u001b[0m\u001b[0;34m)\u001b[0m\u001b[0;34m\u001b[0m\u001b[0;34m\u001b[0m\u001b[0m\n",
      "\u001b[0;31mKeyError\u001b[0m: 'name'"
     ]
    }
   ],
   "source": [
    "for i0 in range(len(SwitchKeys)):\n",
    "    print(SwitchDict[SwitchKeys[i0]]['name'])\n",
    "    for i8 in range(len(MVTrees[SwitchKeys[i0]])):\n",
    "        \n",
    "        print(ConnNodeDict[MVTrees[SwitchKeys[i0]][i8]]['name'])"
   ]
  },
  {
   "cell_type": "code",
   "execution_count": 21,
   "id": "9dd5a8d6",
   "metadata": {},
   "outputs": [
    {
     "data": {
      "text/plain": [
       "232"
      ]
     },
     "execution_count": 21,
     "metadata": {},
     "output_type": "execute_result"
    }
   ],
   "source": [
    "import sys\n",
    "sys.getsizeof(DistAppStruct)"
   ]
  },
  {
   "cell_type": "code",
   "execution_count": 63,
   "id": "9126d5dd",
   "metadata": {},
   "outputs": [
    {
     "data": {
      "text/plain": [
       "{'feeders': {'_49AD8E07-3BF9-A4E2-CB8F-C3722F837B62': {'addressable_equipment': ['_9D725810-BFD6-44C6-961A-2BC027F6FC95',\n",
       "    '_D2E930A7-B136-4ACA-A996-8DB5C60AADF3',\n",
       "    '_7B671984-4C56-4FF1-9733-B4B6FCA5F2AA'],\n",
       "   'unaddressable_equipment': ['_259E820F-B4AF-4E1A-8271-687534EDAECC',\n",
       "    '_c5545620-2c8c-42ff-b59d-33cd7e02b8e5',\n",
       "    '_dda6be90-3cd1-4a27-a691-3f95aa4e4e13',\n",
       "    '_f3cc955e-8013-447a-848e-4c7af516cb34',\n",
       "    '_7bbbda89-9830-472c-82bc-4e4f599369bb',\n",
       "    '_a870a258-34be-46b8-a4de-faee32275a9a',\n",
       "    '_bc0d2bad-2c6b-4266-8c47-b32a536288f0',\n",
       "    '_8E180773-2A9B-4136-BC9A-132A52C8E276',\n",
       "    '_fad827c5-f344-498e-ab39-29883d4c6bb6',\n",
       "    '_7a84c113-d427-4802-a769-b6edc48451c7',\n",
       "    '_162b4555-f748-4829-8e71-bbbecf4e4bcb',\n",
       "    '_eb606875-f620-4c4e-b559-cd587ba0ecf8',\n",
       "    '_6c08f0e8-eb6f-4261-a3f6-3aa9d1e99c75',\n",
       "    '_1E6B5C97-C4E8-4CED-B9A5-6E69F389DA93',\n",
       "    '_5ae00771-adeb-4ee2-92a3-7c991c579ce1',\n",
       "    '_77cf5e05-b332-4203-937a-53f58b4f4585',\n",
       "    '_247f50ee-6bc5-4588-bdf1-9b480e09840e',\n",
       "    '_5842f2db-ad93-494a-a372-c8e83e637147',\n",
       "    '_87c273f2-8e55-4169-adeb-2df020776c06',\n",
       "    '_919d79f9-9719-492b-bf8b-46cffc7579ad',\n",
       "    '_9d580686-9c5d-42a6-9e0b-ef08c7d80256',\n",
       "    '_ab19de32-3fad-4654-b546-6b785b2d65e3',\n",
       "    '_51037d29-941b-4e9f-ae86-99dd37bb2c9d',\n",
       "    '_54e2019e-e234-4dbb-85d6-227b245040ae',\n",
       "    '_48720b2c-7908-4f18-a80d-f7f7f4099753',\n",
       "    '_683bbf2f-7ea6-45c6-805e-5e4b7f5000a2',\n",
       "    '_0ab88ca4-fb60-4a67-8f77-5f15af245b64',\n",
       "    '_25938754-4fe8-4621-9414-7d519bc9fde3',\n",
       "    '_78116a30-9d83-4715-a9d2-dda61687a0b9',\n",
       "    '_7cc37959-2a82-4911-8a23-8ad09378c85c',\n",
       "    '_cd76b30b-8e1c-45fb-b03a-79847254ead8',\n",
       "    '_d057e1e2-71ad-4293-b89e-e9e9e84a2522',\n",
       "    '_f0af2090-d2aa-40fb-8878-45d75c4ae59f',\n",
       "    '_07b694ae-bde0-431c-a740-362a9f476949',\n",
       "    '_c3a9b1e7-7a52-4fa5-a199-1fd6035abc21',\n",
       "    '_d2d52e14-2111-486e-a59a-d8c5b5f7bf92',\n",
       "    '_8E180773-2A9B-4136-BC9A-132A52C8E276',\n",
       "    '_0fe87976-0177-42f3-817b-b468225220b2',\n",
       "    '_2d31c620-a2f9-4f84-9102-9a8fe574ab6b',\n",
       "    '_259E820F-B4AF-4E1A-8271-687534EDAECC',\n",
       "    '_40f101aa-e9f1-45ee-ba01-f743fc956e64',\n",
       "    '_6aba464f-3217-4e5f-b725-6b1a37aa225f',\n",
       "    '_daaf1a85-7aad-4cb6-8fd3-13390711fdfb',\n",
       "    '_416e0482-8b0b-4255-baf0-830e9910d377',\n",
       "    '_7d30fc85-4e4f-40f7-82e1-04313602ddbd',\n",
       "    '_f2560013-e260-44af-80f9-3cc218d9ef19',\n",
       "    '_1E6B5C97-C4E8-4CED-B9A5-6E69F389DA93',\n",
       "    '_5500424b-9931-4f09-a22b-d24a47517920',\n",
       "    '_bd95505f-3f55-43d2-b8b2-2c97b2c86603',\n",
       "    '_f3001cb9-4c00-45ab-a73f-537be73f583c',\n",
       "    '_37fc9b9a-0bc9-4417-8214-52afc237735f',\n",
       "    '_697532b4-9520-4de4-80e9-2b6a77c8a089',\n",
       "    '_d9e22ddd-f4f2-426c-911d-cf08ff5cc9a0'],\n",
       "   'switch_areas': [{'boundary_switches': ['_52DE9189-20DC-4C73-BDEE-E960FE1F9493'],\n",
       "     'addressable_equipment': [],\n",
       "     'unaddressable_equipment': [],\n",
       "     'connectivity_node': ['650'],\n",
       "     'secondary_areas': []},\n",
       "    {'boundary_switches': ['_CE5D0651-676B-4AF3-8D67-41BF1B33E30C',\n",
       "      '_52DE9189-20DC-4C73-BDEE-E960FE1F9493'],\n",
       "     'addressable_equipment': [],\n",
       "     'unaddressable_equipment': ['_44FC5A86-A099-45B8-B847-F685C5027AFB',\n",
       "      '_B6363F07-B1BC-420B-AA4C-A34BB8F05827',\n",
       "      '_E2E0FC64-8D45-4C55-BDB9-EAB827A46FBC',\n",
       "      '_44FC5A86-A099-45B8-B847-F685C5027AFB',\n",
       "      '_B6363F07-B1BC-420B-AA4C-A34BB8F05827',\n",
       "      '_E2E0FC64-8D45-4C55-BDB9-EAB827A46FBC'],\n",
       "     'connectivity_node': ['633', '632', 'rg60', '645', 'brkr', '646'],\n",
       "     'secondary_areas': [{}, {}]},\n",
       "    {'boundary_switches': ['_2858B6C2-0886-4269-884C-06FA8B887319',\n",
       "      '_517413CB-6977-46FA-8911-C82332E42884',\n",
       "      '_CE5D0651-676B-4AF3-8D67-41BF1B33E30C'],\n",
       "     'addressable_equipment': [],\n",
       "     'unaddressable_equipment': ['_17A934C7-1510-481F-BAD7-189058957FF1'],\n",
       "     'connectivity_node': ['684', '671', '652', '670', '680', 'mid'],\n",
       "     'secondary_areas': [{'distribution_transformer': ['_17A934C7-1510-481F-BAD7-189058957FF1'],\n",
       "       'addressable_equipment': [],\n",
       "       'unaddressable_equipment': [],\n",
       "       'connectivity_node': ['house']}]},\n",
       "    {'boundary_switches': ['_517413CB-6977-46FA-8911-C82332E42884'],\n",
       "     'addressable_equipment': [],\n",
       "     'unaddressable_equipment': [],\n",
       "     'connectivity_node': ['692', '675'],\n",
       "     'secondary_areas': []},\n",
       "    {'boundary_switches': ['_CE5D0651-676B-4AF3-8D67-41BF1B33E30C',\n",
       "      '_52DE9189-20DC-4C73-BDEE-E960FE1F9493'],\n",
       "     'addressable_equipment': [],\n",
       "     'unaddressable_equipment': ['_44FC5A86-A099-45B8-B847-F685C5027AFB',\n",
       "      '_B6363F07-B1BC-420B-AA4C-A34BB8F05827',\n",
       "      '_E2E0FC64-8D45-4C55-BDB9-EAB827A46FBC',\n",
       "      '_44FC5A86-A099-45B8-B847-F685C5027AFB',\n",
       "      '_B6363F07-B1BC-420B-AA4C-A34BB8F05827',\n",
       "      '_E2E0FC64-8D45-4C55-BDB9-EAB827A46FBC'],\n",
       "     'connectivity_node': ['632', '633', 'rg60', '645', 'brkr', '646'],\n",
       "     'secondary_areas': [{}, {}]}]}}}"
      ]
     },
     "execution_count": 63,
     "metadata": {},
     "output_type": "execute_result"
    }
   ],
   "source": [
    "DistAppStruct"
   ]
  },
  {
   "cell_type": "code",
   "execution_count": 26,
   "id": "e16bef81",
   "metadata": {},
   "outputs": [],
   "source": [
    "\n",
    "with open('output_message.json', 'w') as f:\n",
    "    json.dump(DistAppStruct, f)"
   ]
  }
 ],
 "metadata": {
  "kernelspec": {
   "display_name": "Python 3 (ipykernel)",
   "language": "python",
   "name": "python3"
  },
  "language_info": {
   "codemirror_mode": {
    "name": "ipython",
    "version": 3
   },
   "file_extension": ".py",
   "mimetype": "text/x-python",
   "name": "python",
   "nbconvert_exporter": "python",
   "pygments_lexer": "ipython3",
   "version": "3.8.5"
  }
 },
 "nbformat": 4,
 "nbformat_minor": 5
}
