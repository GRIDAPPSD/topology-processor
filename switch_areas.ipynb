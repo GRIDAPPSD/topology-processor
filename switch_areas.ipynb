{
 "cells": [
  {
   "cell_type": "code",
   "execution_count": null,
   "id": "3532feaa",
   "metadata": {},
   "outputs": [],
   "source": []
  },
  {
   "cell_type": "code",
   "execution_count": 1,
   "id": "cb2ce27a",
   "metadata": {},
   "outputs": [],
   "source": [
    "import argparse\n",
    "from datetime import datetime\n",
    "import json\n",
    "import logging\n",
    "import os\n",
    "import math\n",
    "import sys\n",
    "import time\n",
    "import topologyqueries,linkedlist,update_topology,spanning_tree\n",
    "\n",
    "from gridappsd import GridAPPSD, DifferenceBuilder, utils, topics as t\n",
    "from gridappsd.topics import simulation_input_topic, simulation_log_topic, simulation_output_topic\n",
    "\n",
    "\n",
    "#model_mrid = sim_request[\"power_system_config\"][\"Line_name\"]\n",
    "#model_mrid = \"_C125761E-9C21-4CA9-9271-B168150DE276\" #ieee13training\n",
    "model_mrid = \"_EE71F6C9-56F0-4167-A14E-7F4C71F10EAA\" #final9500node\n",
    "#model_mrid = \"_AAE94E4A-2465-6F5E-37B1-3E72183A4E44\" #test9500\n",
    "#model_mrid = \"_5B816B93-7A5F-B64C-8460-47C17D6E4B0F\" #ieee13assets\n",
    "#model_mrid=\"_C1C3E687-6FFD-C753-582B-632A27E28507\" # IEEE 123\n",
    "\n",
    "requestedTime=1570041125\n",
    "\n",
    "\n",
    "\n",
    "global BaseConnDict,BaseTermDict,TermList, NodeList\n",
    "global XfmrKeys,XfmrDict,SwitchKeys,SwitchDict,DG_query\n",
    "\n",
    "os.environ['GRIDAPPSD_USER'] = 'app_user'\n",
    "os.environ['GRIDAPPSD_PASSWORD'] = '1234App'\n",
    "\n",
    "gapps = GridAPPSD()\n",
    "assert gapps.connected"
   ]
  },
  {
   "cell_type": "code",
   "execution_count": 2,
   "id": "52ed00fb",
   "metadata": {},
   "outputs": [
    {
     "ename": "AttributeError",
     "evalue": "module 'topologyqueries' has no attribute 'Cap_query'",
     "output_type": "error",
     "traceback": [
      "\u001b[0;31m---------------------------------------------------------------------------\u001b[0m",
      "\u001b[0;31mAttributeError\u001b[0m                            Traceback (most recent call last)",
      "\u001b[0;32m/tmp/ipykernel_25987/3733316565.py\u001b[0m in \u001b[0;36m<module>\u001b[0;34m\u001b[0m\n\u001b[1;32m      7\u001b[0m \u001b[0mSwitchKeys\u001b[0m\u001b[0;34m=\u001b[0m\u001b[0mtopologyqueries\u001b[0m\u001b[0;34m.\u001b[0m\u001b[0mSwitchKeys\u001b[0m\u001b[0;34m\u001b[0m\u001b[0;34m\u001b[0m\u001b[0m\n\u001b[1;32m      8\u001b[0m \u001b[0mDG_query\u001b[0m\u001b[0;34m=\u001b[0m\u001b[0mtopologyqueries\u001b[0m\u001b[0;34m.\u001b[0m\u001b[0mDG_query\u001b[0m\u001b[0;34m\u001b[0m\u001b[0;34m\u001b[0m\u001b[0m\n\u001b[0;32m----> 9\u001b[0;31m \u001b[0mCap_query\u001b[0m\u001b[0;34m=\u001b[0m\u001b[0mtopologyqueries\u001b[0m\u001b[0;34m.\u001b[0m\u001b[0mCap_query\u001b[0m\u001b[0;34m\u001b[0m\u001b[0;34m\u001b[0m\u001b[0m\n\u001b[0m\u001b[1;32m     10\u001b[0m \u001b[0mNode_query\u001b[0m\u001b[0;34m=\u001b[0m\u001b[0mtopologyqueries\u001b[0m\u001b[0;34m.\u001b[0m\u001b[0mNode_query\u001b[0m\u001b[0;34m\u001b[0m\u001b[0;34m\u001b[0m\u001b[0m\n",
      "\u001b[0;31mAttributeError\u001b[0m: module 'topologyqueries' has no attribute 'Cap_query'"
     ]
    }
   ],
   "source": [
    "# Query for ACLineSegment, Transformerend, Switches, Breakers, Reclosers, Fuses, Sectionalisers,SynchronousMachine,TopologicalNode\n",
    "topologyqueries.getallqueries(gapps,model_mrid)\n",
    "Line_query=topologyqueries.Line_query\n",
    "XfmrDict=topologyqueries.XfmrDict\n",
    "XfmrKeys=topologyqueries.XfmrKeys\n",
    "SwitchDict=topologyqueries.SwitchDict\n",
    "SwitchKeys=topologyqueries.SwitchKeys\n",
    "DG_query=topologyqueries.DG_query\n",
    "Cap_query=topologyqueries.Cap_query\n",
    "Node_query=topologyqueries.Node_query"
   ]
  },
  {
   "cell_type": "code",
   "execution_count": null,
   "id": "d0896070",
   "metadata": {},
   "outputs": [],
   "source": [
    "# Build Linknet Lists from ACLineSegment,Transformers,DGs and Nodes\n",
    "[ConnNodeDict,TerminalsDict,TermList,NodeList]=linkedlist.build_linked_list(Line_query,XfmrDict,XfmrKeys,DG_query,Node_query)\n",
    "\n",
    "# Stash a copy of base dictionary\n",
    "BaseConnDict = json.dumps(ConnNodeDict)\n",
    "BaseTermDict = json.dumps(TerminalsDict)"
   ]
  },
  {
   "cell_type": "code",
   "execution_count": null,
   "id": "c1d350ca",
   "metadata": {},
   "outputs": [],
   "source": [
    "Tree={}\n",
    "#ProcessedNodes=[]\n",
    "TotalNodes=0\n",
    "StartTime = time.process_time()\n",
    "\n",
    "# Iterate through all substation transformers\n",
    "for i6 in range(len(SwitchKeys)):\n",
    "\n",
    "    FirstNode = 1 \n",
    "    LastNode = 2\n",
    "    # Set as rootnode \n",
    "    # assuming node1 is high and node2 is low - need to verify will work otherwise\n",
    "    Tree[SwitchKeys[i6]]=[SwitchDict[SwitchKeys[i6]]['node1'], SwitchDict[SwitchKeys[i6]]['node2']]\n",
    "\n",
    "    while LastNode != FirstNode:\n",
    "        NextTerm = ConnNodeDict[Tree[SwitchKeys[i6]][FirstNode]]['list']\n",
    "        FirstNode = FirstNode + 1\n",
    "        while NextTerm != 0:\n",
    "            # Get next node and terminal for current node\n",
    "            NextNode = TerminalsDict[TermList[NextTerm-1]]['far']\n",
    "            NextTerm = TerminalsDict[TermList[NextTerm-1]]['next']\n",
    "            # Add to tree if not there already\n",
    "            not_in_tree = True\n",
    "\n",
    "            for i7 in range(len(Tree.keys())):\n",
    "                if NodeList[NextNode-1] in Tree[SwitchKeys[i7]]:\n",
    "                    not_in_tree = False\n",
    "                    break\n",
    "\n",
    "\n",
    "            if not_in_tree:       \n",
    "                if 'nomv' in ConnNodeDict[NodeList[NextNode-1]]:\n",
    "                    if int(ConnNodeDict[NodeList[NextNode-1]]['nomv']) < 34000:\n",
    "                        Tree[SwitchKeys[i6]].append(NodeList[NextNode-1])\n",
    "                        LastNode = LastNode + 1\n",
    "                else:\n",
    "                    Tree[SwitchKeys[i6]].append(NodeList[NextNode-1])\n",
    "                    LastNode = LastNode + 1\n",
    "\n",
    "    NodesInTree=len(Tree[SwitchKeys[i6]])\n",
    "    print(\"Processed topology from  \", SwitchDict[SwitchKeys[i6]]['name'], \" with id \", SwitchKeys[i6], ' with ', NodesInTree, \" buses\")\n",
    "    TotalNodes=TotalNodes+NodesInTree\n",
    "\n",
    "print(\"Processed \", len(Tree.keys()), \"topology trees containing \", TotalNodes, \" buses in \", time.process_time() - StartTime, \"seconds\")\n",
    "\n",
    "\n",
    "# ## Build Spanning Tree from DGs\n",
    "\n",
    "\n",
    "\n",
    "Subs_old=list(Tree.keys())\n",
    "TotalNodes = 0\n",
    "StartTime = time.process_time()\n",
    "\n"
   ]
  },
  {
   "cell_type": "code",
   "execution_count": null,
   "id": "50200e3b",
   "metadata": {},
   "outputs": [],
   "source": [
    "switch = '_1962A006-8FA7-403E-A06F-DCBFE991E771'\n",
    "for i8 in range(len(Tree[switch])):\n",
    "    print(ConnNodeDict[Tree[switch][i8]]['name'])"
   ]
  }
 ],
 "metadata": {
  "kernelspec": {
   "display_name": "Python 3 (ipykernel)",
   "language": "python",
   "name": "python3"
  },
  "language_info": {
   "codemirror_mode": {
    "name": "ipython",
    "version": 3
   },
   "file_extension": ".py",
   "mimetype": "text/x-python",
   "name": "python",
   "nbconvert_exporter": "python",
   "pygments_lexer": "ipython3",
   "version": "3.8.5"
  }
 },
 "nbformat": 4,
 "nbformat_minor": 5
}
