{
 "cells": [
  {
   "cell_type": "code",
   "execution_count": null,
   "id": "cb2ce27a",
   "metadata": {},
   "outputs": [],
   "source": [
    "import argparse\n",
    "from datetime import datetime\n",
    "import json\n",
    "import logging\n",
    "import os\n",
    "import math\n",
    "import sys\n",
    "import time\n",
    "import topologyqueries,update_topology,spanning_tree\n",
    "import topo_meas_queries, process_network, linknet, update_topology\n",
    "\n",
    "from gridappsd import GridAPPSD, DifferenceBuilder, utils, topics as t\n",
    "from gridappsd.topics import simulation_input_topic, simulation_log_topic, simulation_output_topic, platform_log_topic\n",
    "\n",
    "\n",
    "#model_mrid = sim_request[\"power_system_config\"][\"Line_name\"]\n",
    "#model_mrid = \"_C125761E-9C21-4CA9-9271-B168150DE276\" #ieee13training\n",
    "#model_mrid = \"_EE71F6C9-56F0-4167-A14E-7F4C71F10EAA\" #final9500node\n",
    "#model_mrid = \"_AAE94E4A-2465-6F5E-37B1-3E72183A4E44\" #test9500\n",
    "model_mrid = \"_49AD8E07-3BF9-A4E2-CB8F-C3722F837B62\"  # 13 bus\n",
    "#model_mrid = \"_5B816B93-7A5F-B64C-8460-47C17D6E4B0F\" #ieee13assets\n",
    "#model_mrid=\"_C1C3E687-6FFD-C753-582B-632A27E28507\" # IEEE 123\n",
    "#model_mrid=\"_49AD8E07-3BF9-A4E2-CB8F-C3722F837B62\"\n",
    "\n",
    "requestedTime=1570041125\n",
    "\n",
    "\n",
    "\n",
    "global BaseConnDict,BaseTermDict,TermList, NodeList\n",
    "global XfmrKeys,XfmrDict,SwitchKeys,SwitchDict,DG_query\n",
    "\n",
    "os.environ['GRIDAPPSD_APPLICATION_ID'] = 'gridappsd-topology-processor'\n",
    "os.environ['GRIDAPPSD_APPLICATION_STATUS'] = 'STARTED'\n",
    "#os.environ['GRIDAPPSD_SIMULATION_ID'] = opts.simulation_id\n",
    "os.environ['GRIDAPPSD_USER'] = 'app_user'\n",
    "os.environ['GRIDAPPSD_PASSWORD'] = '1234App'\n",
    "\n",
    "\n",
    "gapps = GridAPPSD()\n",
    "assert gapps.connected"
   ]
  },
  {
   "cell_type": "code",
   "execution_count": null,
   "id": "5bbd9a9f",
   "metadata": {},
   "outputs": [],
   "source": [
    "import switch_areas"
   ]
  },
  {
   "cell_type": "code",
   "execution_count": null,
   "id": "632e9238",
   "metadata": {},
   "outputs": [],
   "source": [
    "message = switch_areas.create_switch_areas(gapps, model_mrid)"
   ]
  },
  {
   "cell_type": "code",
   "execution_count": null,
   "id": "363af372",
   "metadata": {},
   "outputs": [],
   "source": [
    "message = json.loads(message)"
   ]
  },
  {
   "cell_type": "code",
   "execution_count": null,
   "id": "aebbb706",
   "metadata": {},
   "outputs": [],
   "source": [
    "message"
   ]
  },
  {
   "cell_type": "code",
   "execution_count": null,
   "id": "a10999ff",
   "metadata": {},
   "outputs": [],
   "source": [
    "with open('output_message.json', 'w') as f:\n",
    "    json.dump(message, f)"
   ]
  },
  {
   "cell_type": "code",
   "execution_count": null,
   "id": "aaae3d82",
   "metadata": {
    "scrolled": true
   },
   "outputs": [],
   "source": [
    "[ConnNodeDict, EquipDict] = process_network.build_equip_dicts(gapps, model_mrid)\n"
   ]
  },
  {
   "cell_type": "code",
   "execution_count": null,
   "id": "982c51d5",
   "metadata": {},
   "outputs": [],
   "source": [
    "BaseConnDict = json.dumps(ConnNodeDict)\n",
    "MVConnNodeDict = json.loads(BaseConnDict)"
   ]
  },
  {
   "cell_type": "code",
   "execution_count": null,
   "id": "b1fcf83e",
   "metadata": {},
   "outputs": [],
   "source": [
    "#[MVConnNodeDict, EquipDict] = process_network.build_equip_dicts(gapps, model_mrid)\n"
   ]
  },
  {
   "cell_type": "code",
   "execution_count": null,
   "id": "41ed0463",
   "metadata": {
    "scrolled": true
   },
   "outputs": [],
   "source": [
    "EqTypes = ['ACLineSegment', 'PowerTransformer', 'TransformerTank', 'SynchronousMachine']\n",
    "[ConnNodeDict, TerminalsDict, NodeList, TermList] = linknet.build_linknet_lists(ConnNodeDict, EquipDict, EqTypes)"
   ]
  },
  {
   "cell_type": "code",
   "execution_count": null,
   "id": "36abdd08",
   "metadata": {},
   "outputs": [],
   "source": [
    "EqTypes = ['ACLineSegment', 'RatioTapChanger', 'SynchronousMachine']\n",
    "[MVConnNodeDict, MVTerminalsDict, MVNodeList, MVTermList] = linknet.build_linknet_lists(MVConnNodeDict, EquipDict, EqTypes)"
   ]
  },
  {
   "cell_type": "code",
   "execution_count": null,
   "id": "013c4d0b",
   "metadata": {},
   "outputs": [],
   "source": [
    "SwitchDict = {}\n",
    "SwitchDict.update(EquipDict['Breaker'])\n",
    "SwitchDict.update(EquipDict['Fuse'])\n",
    "SwitchDict.update(EquipDict['LoadBreakSwitch'])\n",
    "SwitchDict.update(EquipDict['Recloser'])\n",
    "SwitchKeys = list(SwitchDict.keys())"
   ]
  },
  {
   "cell_type": "code",
   "execution_count": null,
   "id": "38519eb7",
   "metadata": {
    "scrolled": false
   },
   "outputs": [],
   "source": [
    "MVTrees = {}\n",
    "[MVTrees, MVConnNodeDict] = spanning_tree.local_spanning_tree(MVConnNodeDict, MVTerminalsDict, MVNodeList, MVTermList, EquipDict, 'Breaker', list(EquipDict['Breaker'].keys()), MVTrees, 'all')\n",
    "[MVTrees, MVConnNodeDict] = spanning_tree.local_spanning_tree(MVConnNodeDict, MVTerminalsDict, MVNodeList, MVTermList, EquipDict, 'Fuse', list(EquipDict['Fuse'].keys()), MVTrees, 'all')\n",
    "[MVTrees, MVConnNodeDict] = spanning_tree.local_spanning_tree(MVConnNodeDict, MVTerminalsDict, MVNodeList, MVTermList, EquipDict, 'LoadBreakSwitch', list(EquipDict['LoadBreakSwitch'].keys()), MVTrees, 'all')\n",
    "[MVTrees, MVConnNodeDict] = spanning_tree.local_spanning_tree(MVConnNodeDict, MVTerminalsDict, MVNodeList, MVTermList, EquipDict, 'Recloser', list(EquipDict['Recloser'].keys()), MVTrees, 'all')\n",
    "\n",
    "MVBase = json.dumps(MVTrees)\n",
    "MVBaseTree = json.loads(MVBase)"
   ]
  },
  {
   "cell_type": "code",
   "execution_count": null,
   "id": "486ceb85",
   "metadata": {},
   "outputs": [],
   "source": [
    "DistAppStruct = {}\n",
    "DistAppStruct['feeders'] = {}\n",
    "DistAppStruct['feeders'][model_mrid] = {}\n",
    "DistAppStruct['feeders'][model_mrid]['addressable_equipment'] = []\n",
    "DistAppStruct['feeders'][model_mrid]['unaddressable_equipment'] = []\n",
    "DistAppStruct['feeders'][model_mrid]['connectivity_node'] = []\n",
    "\n",
    "DistAppStruct['feeders'][model_mrid]['switch_areas'] = []\n",
    "ProcessedNodes = []\n",
    "XfmrDict = EquipDict['PowerTransformer']\n",
    "XfmrDict.update(EquipDict['TransformerTank'])\n",
    "\n",
    "SwitchKeys = list(MVTrees.keys())\n",
    "\n",
    "for i1 in range(len(SwitchKeys)):\n",
    "    SwitchArea = {}\n",
    "    SwitchArea['boundary_switches'] = []\n",
    "    SwitchArea['addressable_equipment'] = []\n",
    "    SwitchArea['unaddressable_equipment'] = []\n",
    "    SwitchArea['connectivity_node'] = []\n",
    "    SwitchArea['secondary_areas'] = []\n",
    "    DistArea = {}\n",
    "    DistArea['distribution_transformer'] = []\n",
    "    DistArea['addressable_equipment'] = []\n",
    "    DistArea['unaddressable_equipment'] = []\n",
    "    DistArea['connectivity_node'] = []\n",
    "    DistAreaFlag1 = True\n",
    "    #print(EquipDict['LoadBreakSwitch'][SwitchKeys[i1]]['name'])\n",
    "    for i2 in range(len(MVTrees[SwitchKeys[i1]])):\n",
    "        node = MVTrees[SwitchKeys[i1]][i2]\n",
    "        \n",
    "        print('mv node', ConnNodeDict[node]['name'], node)\n",
    "        ProcessedNodes.append(node)\n",
    "        SwitchArea['boundary_switches'].extend(ConnNodeDict[node]['Breaker'])\n",
    "        SwitchArea['boundary_switches'].extend(ConnNodeDict[node]['Fuse'])\n",
    "        SwitchArea['boundary_switches'].extend(ConnNodeDict[node]['LoadBreakSwitch'])\n",
    "        SwitchArea['boundary_switches'].extend(ConnNodeDict[node]['Recloser'])\n",
    "#        SwitchArea['addressable_equipment'].extend(ConnNodeDict[node]['SynchronousMachine'])\n",
    " #       SwitchArea['addressable_equipment'].extend(ConnNodeDict[node]['PowerElectronicsConnection'])\n",
    "  #      SwitchArea['addressable_equipment'].extend(ConnNodeDict[node]['LinearShuntCompensator'])\n",
    "   #     SwitchArea['addressable_equipment'].extend(ConnNodeDict[node]['RatioTapChanger'])\n",
    "    #    SwitchArea['unaddressable_equipment'].extend(ConnNodeDict[node]['ACLineSegment'])\n",
    "     #   SwitchArea['unaddressable_equipment'].extend(ConnNodeDict[node]['PowerTransformer'])\n",
    "      #  SwitchArea['unaddressable_equipment'].extend(ConnNodeDict[node]['TransformerTank'])\n",
    "       # SwitchArea['unaddressable_equipment'].extend(ConnNodeDict[node]['Measurement'])\n",
    "        SwitchArea['connectivity_node'].append(ConnNodeDict[node]['name'])\n",
    "        DistArea = {}\n",
    "        DistArea['distribution_transformer'] = []\n",
    "        DistArea['addressable_equipment'] = []\n",
    "        DistArea['unaddressable_equipment'] = []\n",
    "        DistArea['connectivity_node'] = []\n",
    "        DistXfmrs = ConnNodeDict[node]['TransformerTank'] #+ ConnNodeDict[node]['PowerTransformer']\n",
    "        if DistXfmrs:\n",
    "            DistAreaFlag1 = False\n",
    "            DistAreaFlag2 = False\n",
    "            SwitchArea['unaddressable_equipment'].extend(DistXfmrs)\n",
    "            for i3 in range(len(DistXfmrs)):\n",
    "                xfmr = DistXfmrs[i3]\n",
    "                [LVTree, LVConnNodeDict] = spanning_tree.local_spanning_tree(ConnNodeDict, TerminalsDict, NodeList, TermList, EquipDict, 'TransformerTank', [xfmr],  MVBaseTree, 'all')\n",
    "                LVTreeKeys = LVTree[xfmr]\n",
    "                if LVTreeKeys: \n",
    "                    LVTreeKeys.pop(0)\n",
    "                    for i4 in range(len(LVTreeKeys)):\n",
    "                        lvnode = LVTreeKeys[i4]\n",
    "                        DistAreaFlag2 = True\n",
    "                        ProcessedNodes.append(lvnode)\n",
    "                        \n",
    "                        print('lvnode ', ConnNodeDict[lvnode]['name'], lvnode)\n",
    "                        DistArea['distribution_transformer'] = [xfmr]\n",
    " #                       DistArea['addressable_equipment'].extend(ConnNodeDict[lvnode]['SynchronousMachine'])\n",
    "  #                      DistArea['addressable_equipment'].extend(ConnNodeDict[lvnode]['PowerElectronicsConnection'])\n",
    "   #                     DistArea['addressable_equipment'].extend(ConnNodeDict[lvnode]['EnergyConsumer'])\n",
    "    #                    DistArea['addressable_equipment'].extend(ConnNodeDict[lvnode]['House'])\n",
    "     #                   \n",
    "      #                  DistArea['unaddressable_equipment'].extend(ConnNodeDict[lvnode]['ACLineSegment'])\n",
    "       #                 DistArea['unaddressable_equipment'].extend(ConnNodeDict[lvnode]['Measurement'])\n",
    "        #                DistArea['connectivity_node'].append(lvnode)\n",
    "                        DistArea['connectivity_node'].append(ConnNodeDict[lvnode]['name'])\n",
    "         #               SwitchArea['unaddressable_equipment'].extend(ConnNodeDict[lvnode]['ACLineSegment'])\n",
    "          #              SwitchArea['unaddressable_equipment'].extend(ConnNodeDict[lvnode]['Measurement'])\n",
    "                    \n",
    "                #if DistArea['connectivity_node']: SwitchArea['secondary_areas'].append((DistArea.copy()))\n",
    "    \n",
    "            if DistAreaFlag2: \n",
    "                print('dist area', DistArea['connectivity_node'] )\n",
    "                SwitchArea['secondary_areas'].append((DistArea.copy()))\n",
    "\n",
    "    if DistAreaFlag1: \n",
    "        print('dist area', DistArea['connectivity_node'] )\n",
    "        SwitchArea['secondary_areas'].append((DistArea.copy()))\n",
    "        \n",
    "    if SwitchArea['boundary_switches']: DistAppStruct['feeders'][model_mrid]['switch_areas'].append(dict(SwitchArea))\n",
    "\n",
    "        #DistAppStruct['feeders'][model_mrid]['unaddressable_equipment'].extend(SwitchArea['unaddressable_equipment'])\n",
    "        \n",
    "AllNodes = list(ConnNodeDict.keys())\n",
    "MissingNodes = list(set(AllNodes).difference(ProcessedNodes))\n",
    "for i5 in range(len(MissingNodes)):\n",
    "    node = MissingNodes[i5]\n",
    "    #DistAppStruct['feeders'][model_mrid]['addressable_equipment'].extend(ConnNodeDict[node]['SynchronousMachine'])\n",
    "    #DistAppStruct['feeders'][model_mrid]['addressable_equipment'].extend(ConnNodeDict[node]['PowerElectronicsConnection'])\n",
    "    #DistAppStruct['feeders'][model_mrid]['addressable_equipment'].extend(ConnNodeDict[node]['LinearShuntCompensator'])\n",
    "    #DistAppStruct['feeders'][model_mrid]['addressable_equipment'].extend(ConnNodeDict[node]['RatioTapChanger'])\n",
    "    #DistAppStruct['feeders'][model_mrid]['unaddressable_equipment'].extend(ConnNodeDict[node]['ACLineSegment'])\n",
    "    #DistAppStruct['feeders'][model_mrid]['unaddressable_equipment'].extend(ConnNodeDict[node]['PowerTransformer'])\n",
    "    #DistAppStruct['feeders'][model_mrid]['unaddressable_equipment'].extend(ConnNodeDict[node]['TransformerTank'])\n",
    "    #DistAppStruct['feeders'][model_mrid]['unaddressable_equipment'].extend(ConnNodeDict[node]['Measurement'])\n",
    "    DistAppStruct['feeders'][model_mrid]['connectivity_node'].append(ConnNodeDict[node]['name'])\n",
    "    "
   ]
  },
  {
   "cell_type": "code",
   "execution_count": null,
   "id": "960f1acd",
   "metadata": {},
   "outputs": [],
   "source": [
    "DistAppStruct"
   ]
  },
  {
   "cell_type": "code",
   "execution_count": null,
   "id": "1d173bcc",
   "metadata": {},
   "outputs": [],
   "source": [
    "EquipDict['LoadBreakSwitch']"
   ]
  },
  {
   "cell_type": "code",
   "execution_count": null,
   "id": "e4b18ed4",
   "metadata": {},
   "outputs": [],
   "source": [
    "MVConnNodeDict"
   ]
  },
  {
   "cell_type": "code",
   "execution_count": null,
   "id": "a3c2d3fd",
   "metadata": {},
   "outputs": [],
   "source": [
    "MVTerminalsDict[MVTermList[6]]"
   ]
  },
  {
   "cell_type": "code",
   "execution_count": null,
   "id": "2d85fe9e",
   "metadata": {},
   "outputs": [],
   "source": [
    "MVConnNodeDict[MVNodeList[5]]"
   ]
  },
  {
   "cell_type": "code",
   "execution_count": null,
   "id": "63af0311",
   "metadata": {
    "scrolled": true
   },
   "outputs": [],
   "source": [
    "from gridappsd import topics as t\n",
    "topic = t.REQUEST_POWERGRID_DATA\n",
    "\n",
    "object_mrid = \"_2858B6C2-0886-4269-884C-06FA8B887319\"\n",
    "\n",
    "message = {\n",
    "    \"requestType\": \"QUERY_OBJECT_DICT\",\n",
    "    \"resultFormat\": \"JSON\",\n",
    "    \"modelId\": '_49AD8E07-3BF9-A4E2-CB8F-C3722F837B62',\n",
    "    \"objectId\": '_DBFA8EFA-B397-40DA-9642-60E8DE4B3471'\n",
    "}\n",
    "\n",
    "data = gapps.get_response(topic, message)"
   ]
  },
  {
   "cell_type": "code",
   "execution_count": null,
   "id": "2373d82a",
   "metadata": {},
   "outputs": [],
   "source": [
    "data['data']"
   ]
  },
  {
   "cell_type": "code",
   "execution_count": null,
   "id": "417cb16c",
   "metadata": {},
   "outputs": [],
   "source": [
    "for i0 in range(len(SwitchKeys)):\n",
    "    print(SwitchDict[SwitchKeys[i0]]['name'])\n",
    "    for i8 in range(len(MVTrees[SwitchKeys[i0]])):\n",
    "        \n",
    "        print(ConnNodeDict[MVTrees[SwitchKeys[i0]][i8]]['name'])"
   ]
  },
  {
   "cell_type": "code",
   "execution_count": null,
   "id": "9dd5a8d6",
   "metadata": {},
   "outputs": [],
   "source": [
    "import sys\n",
    "sys.getsizeof(DistAppStruct)"
   ]
  },
  {
   "cell_type": "code",
   "execution_count": null,
   "id": "9126d5dd",
   "metadata": {},
   "outputs": [],
   "source": [
    "DistAppStruct"
   ]
  },
  {
   "cell_type": "code",
   "execution_count": null,
   "id": "e16bef81",
   "metadata": {},
   "outputs": [],
   "source": [
    "\n"
   ]
  },
  {
   "cell_type": "code",
   "execution_count": null,
   "id": "95b9f98f",
   "metadata": {},
   "outputs": [],
   "source": [
    "DistArea\n"
   ]
  },
  {
   "cell_type": "code",
   "execution_count": null,
   "id": "10cbaa0b",
   "metadata": {},
   "outputs": [],
   "source": [
    "TreeKeys = list(MVTrees.keys())\n",
    "for i10 in range(len(TreeKeys)):\n",
    "    message = {\n",
    "        \"requestType\": \"QUERY_OBJECT_DICT\",\n",
    "        \"resultFormat\": \"JSON\",\n",
    "        \"modelId\": '_49AD8E07-3BF9-A4E2-CB8F-C3722F837B62',\n",
    "        \"objectId\": TreeKeys[i10]\n",
    "    }\n",
    "\n",
    "    data=gapps.get_response(topic, message)\n",
    "    print()\n",
    "    print(data['data'][0]['IdentifiedObject.name'])\n",
    "    for i11 in range(len(MVTrees[TreeKeys[i10]])):\n",
    "        print(ConnNodeDict[MVTrees[TreeKeys[i10]][i11]]['name'])"
   ]
  },
  {
   "cell_type": "code",
   "execution_count": null,
   "id": "95099849",
   "metadata": {},
   "outputs": [],
   "source": [
    "TreeKeys = list(MVTrees.keys())\n",
    "for i10 in range(len(TreeKeys)):\n",
    "    \n",
    "    for i11 in range(len(MVTrees[TreeKeys[i10]])):\n",
    "        print(ConnNodeDict[MVTrees[TreeKeys[i10]][i11]]['name'])"
   ]
  },
  {
   "cell_type": "code",
   "execution_count": null,
   "id": "824b6f21",
   "metadata": {},
   "outputs": [],
   "source": [
    "\n"
   ]
  },
  {
   "cell_type": "code",
   "execution_count": null,
   "id": "b2e5f229",
   "metadata": {},
   "outputs": [],
   "source": []
  },
  {
   "cell_type": "code",
   "execution_count": null,
   "id": "a6a7e63c",
   "metadata": {},
   "outputs": [],
   "source": []
  }
 ],
 "metadata": {
  "kernelspec": {
   "display_name": "Python 3 (ipykernel)",
   "language": "python",
   "name": "python3"
  },
  "language_info": {
   "codemirror_mode": {
    "name": "ipython",
    "version": 3
   },
   "file_extension": ".py",
   "mimetype": "text/x-python",
   "name": "python",
   "nbconvert_exporter": "python",
   "pygments_lexer": "ipython3",
   "version": "3.8.5"
  }
 },
 "nbformat": 4,
 "nbformat_minor": 5
}
